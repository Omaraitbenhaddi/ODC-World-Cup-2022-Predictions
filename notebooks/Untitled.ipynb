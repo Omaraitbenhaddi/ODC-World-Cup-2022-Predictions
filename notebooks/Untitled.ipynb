{
 "cells": [
  {
   "cell_type": "code",
   "execution_count": 2,
   "id": "33ea6260",
   "metadata": {},
   "outputs": [],
   "source": [
    "import joblib"
   ]
  },
  {
   "cell_type": "code",
   "execution_count": 3,
   "id": "9027581f",
   "metadata": {},
   "outputs": [],
   "source": [
    "model = joblib.load('FIFA2022_predictors.mdl')"
   ]
  },
  {
   "cell_type": "code",
   "execution_count": 4,
   "id": "43b53128",
   "metadata": {},
   "outputs": [
    {
     "data": {
      "text/plain": [
       "<bound method XGBModel.get_params of XGBClassifier(base_score=0.5, booster='gbtree', colsample_bylevel=1,\n",
       "              colsample_bynode=1, colsample_bytree=1, enable_categorical=False,\n",
       "              gamma=0, gpu_id=-1, importance_type=None,\n",
       "              interaction_constraints='', learning_rate=0.300000012,\n",
       "              max_delta_step=0, max_depth=6, min_child_weight=1, missing=nan,\n",
       "              monotone_constraints='()', n_estimators=6, n_jobs=4,\n",
       "              num_parallel_tree=1, objective='multi:softprob', predictor='auto',\n",
       "              random_state=0, reg_alpha=0, reg_lambda=1, scale_pos_weight=None,\n",
       "              subsample=0.3, tree_method='exact', validate_parameters=1,\n",
       "              verbosity=None)>"
      ]
     },
     "execution_count": 4,
     "metadata": {},
     "output_type": "execute_result"
    }
   ],
   "source": [
    "model.get_params"
   ]
  },
  {
   "cell_type": "code",
   "execution_count": 17,
   "id": "a72b9615",
   "metadata": {},
   "outputs": [],
   "source": [
    "meta = joblib.load('MetaModelFifa_predictors.mdl')"
   ]
  },
  {
   "cell_type": "code",
   "execution_count": 18,
   "id": "301d5e4e",
   "metadata": {},
   "outputs": [
    {
     "data": {
      "text/plain": [
       "{'name': 'Machine Learning model to predict FIFA World Cup 2022',\n",
       " 'authors': 'Team ODC Sep 2022 : @Karim @Salh @OMAR ...',\n",
       " 'date': '23/09/2022',\n",
       " 'model': XGBClassifier(base_score=0.5, booster='gbtree', colsample_bylevel=1,\n",
       "               colsample_bynode=1, colsample_bytree=1, enable_categorical=False,\n",
       "               gamma=0, gpu_id=-1, importance_type=None,\n",
       "               interaction_constraints='', learning_rate=0.300000012,\n",
       "               max_delta_step=0, max_depth=6, min_child_weight=1, missing=nan,\n",
       "               monotone_constraints='()', n_estimators=6, n_jobs=4,\n",
       "               num_parallel_tree=1, objective='multi:softprob', predictor='auto',\n",
       "               random_state=0, reg_alpha=0, reg_lambda=1, scale_pos_weight=None,\n",
       "               subsample=0.3, tree_method='exact', validate_parameters=1,\n",
       "               verbosity=None),\n",
       " 'predictors': ['home_team',\n",
       "  'away_team',\n",
       "  'neutral',\n",
       "  'confederation',\n",
       "  'confederation__away',\n",
       "  'home_tier',\n",
       "  'away_tier',\n",
       "  'marginal_effect',\n",
       "  'effect_tier',\n",
       "  'match_importance'],\n",
       " 'xcols': Index(['neutral', 'marginal_effect', 'match_importance',\n",
       "        'home_team_Afghanistan', 'home_team_Albania', 'home_team_Algeria',\n",
       "        'home_team_American Samoa', 'home_team_Andorra', 'home_team_Angola',\n",
       "        'home_team_Anguilla',\n",
       "        ...\n",
       "        'home_tier_gold', 'home_tier_silver', 'away_tier_bronze',\n",
       "        'away_tier_diamond', 'away_tier_gold', 'away_tier_silver',\n",
       "        'effect_tier_high', 'effect_tier_low', 'effect_tier_medium',\n",
       "        'effect_tier_very_high'],\n",
       "       dtype='object', length=411)}"
      ]
     },
     "execution_count": 18,
     "metadata": {},
     "output_type": "execute_result"
    }
   ],
   "source": [
    "meta"
   ]
  },
  {
   "cell_type": "code",
   "execution_count": 19,
   "id": "3e6fd340",
   "metadata": {},
   "outputs": [
    {
     "data": {
      "text/plain": [
       "411"
      ]
     },
     "execution_count": 19,
     "metadata": {},
     "output_type": "execute_result"
    }
   ],
   "source": [
    "len(meta['xcols'])"
   ]
  }
 ],
 "metadata": {
  "kernelspec": {
   "display_name": "Python 3 (ipykernel)",
   "language": "python",
   "name": "python3"
  },
  "vscode": {
   "interpreter": {
    "hash": "33c99ce92ae57a37c90157b7c35934b668ba43f0729fdf7df53b30c6721ba8f2"
   }
  }
 },
 "nbformat": 4,
 "nbformat_minor": 5
}
