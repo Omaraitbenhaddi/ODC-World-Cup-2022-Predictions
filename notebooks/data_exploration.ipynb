{
 "cells": [
  {
   "cell_type": "code",
   "execution_count": 133,
   "id": "c2efb439",
   "metadata": {},
   "outputs": [],
   "source": [
    "import numpy as np\n",
    "import pandas as pd\n",
    "\n",
    "import warnings\n",
    "warnings.filterwarnings('ignore')"
   ]
  },
  {
   "cell_type": "code",
   "execution_count": 2,
   "id": "b2334506",
   "metadata": {},
   "outputs": [],
   "source": [
    "df = pd.read_csv('../data/results.csv')"
   ]
  },
  {
   "cell_type": "code",
   "execution_count": 5,
   "id": "9061e4c1",
   "metadata": {},
   "outputs": [
    {
     "data": {
      "text/html": [
       "<div>\n",
       "<style scoped>\n",
       "    .dataframe tbody tr th:only-of-type {\n",
       "        vertical-align: middle;\n",
       "    }\n",
       "\n",
       "    .dataframe tbody tr th {\n",
       "        vertical-align: top;\n",
       "    }\n",
       "\n",
       "    .dataframe thead th {\n",
       "        text-align: right;\n",
       "    }\n",
       "</style>\n",
       "<table border=\"1\" class=\"dataframe\">\n",
       "  <thead>\n",
       "    <tr style=\"text-align: right;\">\n",
       "      <th></th>\n",
       "      <th>date</th>\n",
       "      <th>home_team</th>\n",
       "      <th>away_team</th>\n",
       "      <th>home_score</th>\n",
       "      <th>away_score</th>\n",
       "      <th>tournament</th>\n",
       "      <th>city</th>\n",
       "      <th>country</th>\n",
       "      <th>neutral</th>\n",
       "    </tr>\n",
       "  </thead>\n",
       "  <tbody>\n",
       "    <tr>\n",
       "      <th>43749</th>\n",
       "      <td>2022-06-14</td>\n",
       "      <td>Chile</td>\n",
       "      <td>Ghana</td>\n",
       "      <td>0</td>\n",
       "      <td>0</td>\n",
       "      <td>Kirin Cup</td>\n",
       "      <td>Suita</td>\n",
       "      <td>Japan</td>\n",
       "      <td>True</td>\n",
       "    </tr>\n",
       "    <tr>\n",
       "      <th>43750</th>\n",
       "      <td>2022-06-14</td>\n",
       "      <td>Japan</td>\n",
       "      <td>Tunisia</td>\n",
       "      <td>0</td>\n",
       "      <td>3</td>\n",
       "      <td>Kirin Cup</td>\n",
       "      <td>Suita</td>\n",
       "      <td>Japan</td>\n",
       "      <td>False</td>\n",
       "    </tr>\n",
       "    <tr>\n",
       "      <th>43751</th>\n",
       "      <td>2022-06-14</td>\n",
       "      <td>South Korea</td>\n",
       "      <td>Egypt</td>\n",
       "      <td>4</td>\n",
       "      <td>1</td>\n",
       "      <td>Friendly</td>\n",
       "      <td>Seoul</td>\n",
       "      <td>South Korea</td>\n",
       "      <td>False</td>\n",
       "    </tr>\n",
       "  </tbody>\n",
       "</table>\n",
       "</div>"
      ],
      "text/plain": [
       "             date    home_team away_team  home_score  away_score tournament  \\\n",
       "43749  2022-06-14        Chile     Ghana           0           0  Kirin Cup   \n",
       "43750  2022-06-14        Japan   Tunisia           0           3  Kirin Cup   \n",
       "43751  2022-06-14  South Korea     Egypt           4           1   Friendly   \n",
       "\n",
       "        city      country  neutral  \n",
       "43749  Suita        Japan     True  \n",
       "43750  Suita        Japan    False  \n",
       "43751  Seoul  South Korea    False  "
      ]
     },
     "execution_count": 5,
     "metadata": {},
     "output_type": "execute_result"
    }
   ],
   "source": [
    "df.tail(3)"
   ]
  },
  {
   "cell_type": "code",
   "execution_count": 8,
   "id": "8214c0d5",
   "metadata": {},
   "outputs": [
    {
     "name": "stdout",
     "output_type": "stream",
     "text": [
      "<class 'pandas.core.frame.DataFrame'>\n",
      "RangeIndex: 43752 entries, 0 to 43751\n",
      "Data columns (total 9 columns):\n",
      " #   Column      Non-Null Count  Dtype \n",
      "---  ------      --------------  ----- \n",
      " 0   date        43752 non-null  object\n",
      " 1   home_team   43752 non-null  object\n",
      " 2   away_team   43752 non-null  object\n",
      " 3   home_score  43752 non-null  int64 \n",
      " 4   away_score  43752 non-null  int64 \n",
      " 5   tournament  43752 non-null  object\n",
      " 6   city        43752 non-null  object\n",
      " 7   country     43752 non-null  object\n",
      " 8   neutral     43752 non-null  bool  \n",
      "dtypes: bool(1), int64(2), object(6)\n",
      "memory usage: 2.7+ MB\n"
     ]
    }
   ],
   "source": [
    "df.info()"
   ]
  },
  {
   "cell_type": "code",
   "execution_count": 9,
   "id": "7d345dc6",
   "metadata": {},
   "outputs": [
    {
     "data": {
      "text/plain": [
       "'1872-11-30'"
      ]
     },
     "execution_count": 9,
     "metadata": {},
     "output_type": "execute_result"
    }
   ],
   "source": [
    "df.date.min()"
   ]
  },
  {
   "cell_type": "code",
   "execution_count": 10,
   "id": "506ac207",
   "metadata": {},
   "outputs": [
    {
     "data": {
      "text/plain": [
       "'2022-06-14'"
      ]
     },
     "execution_count": 10,
     "metadata": {},
     "output_type": "execute_result"
    }
   ],
   "source": [
    "df.date.max()"
   ]
  },
  {
   "cell_type": "code",
   "execution_count": 11,
   "id": "816a7e48",
   "metadata": {},
   "outputs": [
    {
     "data": {
      "text/plain": [
       "array(['Scotland', 'England', 'Wales', 'Northern Ireland',\n",
       "       'United States', 'Uruguay', 'Austria', 'Hungary', 'Argentina',\n",
       "       'Belgium', 'France', 'Netherlands', 'Czechoslovakia',\n",
       "       'Switzerland', 'Sweden', 'Germany', 'Italy', 'Chile', 'Norway',\n",
       "       'Finland', 'Luxembourg', 'Russia', 'Denmark', 'Catalonia',\n",
       "       'Basque Country', 'Brazil', 'Japan', 'Paraguay', 'Canada',\n",
       "       'Estonia', 'Costa Rica', 'Guatemala', 'Spain', 'Brittany',\n",
       "       'Poland', 'Yugoslavia', 'New Zealand', 'Romania', 'Latvia',\n",
       "       'Galicia', 'Portugal', 'Andalusia', 'China PR', 'Australia',\n",
       "       'Lithuania', 'Turkey', 'Central Spain', 'Mexico', 'Aruba', 'Egypt',\n",
       "       'Haiti', 'Philippines', 'Bulgaria', 'Jamaica', 'Kenya', 'Bolivia',\n",
       "       'Peru', 'Honduras', 'Guyana', 'Uganda', 'Belarus', 'El Salvador',\n",
       "       'Barbados', 'Republic of Ireland', 'Trinidad and Tobago', 'Greece',\n",
       "       'Curaçao', 'Dominica', 'Silesia', 'Guadeloupe', 'Israel',\n",
       "       'Suriname', 'French Guiana', 'Cuba', 'Colombia', 'Ecuador',\n",
       "       'Saint Kitts and Nevis', 'Panama', 'Slovakia', 'Manchukuo',\n",
       "       'Croatia', 'Nicaragua', 'Afghanistan', 'India', 'Martinique',\n",
       "       'Zimbabwe', 'Iceland', 'Albania', 'Venezuela', 'Madagascar',\n",
       "       'Zambia', 'Mauritius', 'Tanzania', 'Iran', 'Djibouti', 'DR Congo',\n",
       "       'Vietnam', 'Macau', 'Ethiopia', 'Puerto Rico', 'Réunion',\n",
       "       'Sierra Leone', 'Zanzibar', 'South Korea', 'Ghana', 'South Africa',\n",
       "       'New Caledonia', 'Fiji', 'Nigeria', 'Myanmar', 'Sri Lanka',\n",
       "       'Tahiti', 'Gambia', 'Hong Kong', 'Singapore', 'Malaysia',\n",
       "       'Indonesia', 'Guinea-Bissau', 'German DR', 'Vanuatu', 'Kernow',\n",
       "       'Saarland', 'Cambodia', 'Lebanon', 'Pakistan', 'Vietnam Republic',\n",
       "       'North Korea', 'Togo', 'Sudan', 'Malta', 'Syria', 'Tunisia',\n",
       "       'Malawi', 'Morocco', 'Benin', 'Cameroon',\n",
       "       'Central African Republic', 'Gabon', 'Ivory Coast', 'Congo',\n",
       "       'Mali', 'North Vietnam', 'Mongolia', 'Taiwan', 'Cyprus', 'Iraq',\n",
       "       'Saint Lucia', 'Grenada', 'Thailand', 'Senegal', 'Libya', 'Guinea',\n",
       "       'Algeria', 'Kuwait', 'Jordan', 'Solomon Islands', 'Liberia',\n",
       "       'Laos', 'Saint Vincent and the Grenadines', 'Bermuda', 'Niger',\n",
       "       'Montenegro', 'Palestine', 'Bahrain', 'Papua New Guinea',\n",
       "       'Burkina Faso', 'Mauritania', 'Saudi Arabia', 'Eswatini',\n",
       "       'Western Australia', 'Somalia', 'Lesotho', 'Cook Islands', 'Qatar',\n",
       "       'Antigua and Barbuda', 'Faroe Islands', 'Bangladesh', 'Yemen',\n",
       "       'Oman', 'Yemen DPR', 'Burundi', 'Mozambique', 'Guam', 'Chad',\n",
       "       'Angola', 'Dominican Republic', 'Seychelles', 'Rwanda',\n",
       "       'São Tomé and Príncipe', 'Botswana', 'Northern Cyprus',\n",
       "       'Cape Verde', 'Kyrgyzstan', 'Georgia', 'Azerbaijan', 'Kiribati',\n",
       "       'Tonga', 'Wallis Islands and Futuna', 'United Arab Emirates',\n",
       "       'Brunei', 'Equatorial Guinea', 'Liechtenstein', 'Nepal',\n",
       "       'Greenland', 'Niue', 'Samoa', 'American Samoa', 'Belize',\n",
       "       'Anguilla', 'Cayman Islands', 'Palau', 'Sint Maarten', 'Namibia',\n",
       "       'Åland Islands', 'Ynys Môn', 'Saint Martin', 'San Marino',\n",
       "       'Slovenia', 'Jersey', 'Shetland', 'Isle of Wight', 'Moldova',\n",
       "       'Ukraine', 'Kazakhstan', 'Tajikistan', 'Uzbekistan',\n",
       "       'Turkmenistan', 'Armenia', 'Czech Republic', 'Guernsey',\n",
       "       'Gibraltar', 'Isle of Man', 'North Macedonia', 'Montserrat',\n",
       "       'Serbia', 'Canary Islands', 'Bosnia and Herzegovina', 'Maldives',\n",
       "       'Andorra', 'British Virgin Islands', 'Frøya', 'Hitra',\n",
       "       'United States Virgin Islands', 'Corsica', 'Eritrea', 'Bahamas',\n",
       "       'Gotland', 'Saare County', 'Rhodes', 'Micronesia', 'Bhutan',\n",
       "       'Orkney', 'Monaco', 'Tuvalu', 'Sark', 'Alderney', 'Mayotte',\n",
       "       'Turks and Caicos Islands', 'Timor-Leste', 'Western Isles',\n",
       "       'Falkland Islands', 'Kosovo', 'Republic of St. Pauli', 'Găgăuzia',\n",
       "       'Tibet', 'Occitania', 'Sápmi', 'Northern Mariana Islands',\n",
       "       'Menorca', 'Comoros', 'Provence', 'Arameans Suryoye', 'Padania',\n",
       "       'Iraqi Kurdistan', 'Gozo', 'Bonaire', 'Western Sahara', 'Raetia',\n",
       "       'Darfur', 'Tamil Eelam', 'South Sudan', 'Abkhazia',\n",
       "       'Saint Pierre and Miquelon', 'Artsakh', 'Madrid', 'Vatican City',\n",
       "       'Ellan Vannin', 'South Ossetia', 'County of Nice', 'Székely Land',\n",
       "       'Romani people', 'Felvidék', 'Chagos Islands',\n",
       "       'United Koreans in Japan', 'Somaliland', 'Western Armenia',\n",
       "       'Barawa', 'Kárpátalja', 'Yorkshire', 'Panjab', 'Matabeleland',\n",
       "       'Cascadia', 'Kabylia', 'Parishes of Jersey', 'Chameria',\n",
       "       'Saint Helena'], dtype=object)"
      ]
     },
     "execution_count": 11,
     "metadata": {},
     "output_type": "execute_result"
    }
   ],
   "source": [
    "df.home_team.unique()"
   ]
  },
  {
   "cell_type": "code",
   "execution_count": 12,
   "id": "bdb4a291",
   "metadata": {},
   "outputs": [
    {
     "data": {
      "text/plain": [
       "306"
      ]
     },
     "execution_count": 12,
     "metadata": {},
     "output_type": "execute_result"
    }
   ],
   "source": [
    "len(df.home_team.unique())"
   ]
  },
  {
   "cell_type": "code",
   "execution_count": 15,
   "id": "78c634a7",
   "metadata": {},
   "outputs": [
    {
     "data": {
      "text/html": [
       "<div>\n",
       "<style scoped>\n",
       "    .dataframe tbody tr th:only-of-type {\n",
       "        vertical-align: middle;\n",
       "    }\n",
       "\n",
       "    .dataframe tbody tr th {\n",
       "        vertical-align: top;\n",
       "    }\n",
       "\n",
       "    .dataframe thead th {\n",
       "        text-align: right;\n",
       "    }\n",
       "</style>\n",
       "<table border=\"1\" class=\"dataframe\">\n",
       "  <thead>\n",
       "    <tr style=\"text-align: right;\">\n",
       "      <th></th>\n",
       "      <th>date</th>\n",
       "      <th>home_team</th>\n",
       "      <th>away_team</th>\n",
       "      <th>home_score</th>\n",
       "      <th>away_score</th>\n",
       "      <th>tournament</th>\n",
       "      <th>city</th>\n",
       "      <th>country</th>\n",
       "      <th>neutral</th>\n",
       "    </tr>\n",
       "  </thead>\n",
       "  <tbody>\n",
       "    <tr>\n",
       "      <th>4851</th>\n",
       "      <td>1960-11-13</td>\n",
       "      <td>Tunisia</td>\n",
       "      <td>Morocco</td>\n",
       "      <td>2</td>\n",
       "      <td>1</td>\n",
       "      <td>FIFA World Cup qualification</td>\n",
       "      <td>Tunis</td>\n",
       "      <td>Tunisia</td>\n",
       "      <td>False</td>\n",
       "    </tr>\n",
       "    <tr>\n",
       "      <th>4905</th>\n",
       "      <td>1961-04-02</td>\n",
       "      <td>Ghana</td>\n",
       "      <td>Morocco</td>\n",
       "      <td>0</td>\n",
       "      <td>0</td>\n",
       "      <td>FIFA World Cup qualification</td>\n",
       "      <td>Accra</td>\n",
       "      <td>Ghana</td>\n",
       "      <td>False</td>\n",
       "    </tr>\n",
       "    <tr>\n",
       "      <th>4962</th>\n",
       "      <td>1961-06-18</td>\n",
       "      <td>Yugoslavia</td>\n",
       "      <td>Morocco</td>\n",
       "      <td>3</td>\n",
       "      <td>2</td>\n",
       "      <td>Friendly</td>\n",
       "      <td>Belgrade</td>\n",
       "      <td>Yugoslavia</td>\n",
       "      <td>False</td>\n",
       "    </tr>\n",
       "    <tr>\n",
       "      <th>4964</th>\n",
       "      <td>1961-06-21</td>\n",
       "      <td>German DR</td>\n",
       "      <td>Morocco</td>\n",
       "      <td>1</td>\n",
       "      <td>2</td>\n",
       "      <td>Friendly</td>\n",
       "      <td>Erfurt</td>\n",
       "      <td>German DR</td>\n",
       "      <td>False</td>\n",
       "    </tr>\n",
       "    <tr>\n",
       "      <th>5053</th>\n",
       "      <td>1961-11-23</td>\n",
       "      <td>Spain</td>\n",
       "      <td>Morocco</td>\n",
       "      <td>3</td>\n",
       "      <td>2</td>\n",
       "      <td>FIFA World Cup qualification</td>\n",
       "      <td>Madrid</td>\n",
       "      <td>Spain</td>\n",
       "      <td>False</td>\n",
       "    </tr>\n",
       "    <tr>\n",
       "      <th>...</th>\n",
       "      <td>...</td>\n",
       "      <td>...</td>\n",
       "      <td>...</td>\n",
       "      <td>...</td>\n",
       "      <td>...</td>\n",
       "      <td>...</td>\n",
       "      <td>...</td>\n",
       "      <td>...</td>\n",
       "      <td>...</td>\n",
       "    </tr>\n",
       "    <tr>\n",
       "      <th>43132</th>\n",
       "      <td>2021-12-04</td>\n",
       "      <td>Jordan</td>\n",
       "      <td>Morocco</td>\n",
       "      <td>0</td>\n",
       "      <td>4</td>\n",
       "      <td>Arab Cup</td>\n",
       "      <td>Al Rayyan</td>\n",
       "      <td>Qatar</td>\n",
       "      <td>True</td>\n",
       "    </tr>\n",
       "    <tr>\n",
       "      <th>43198</th>\n",
       "      <td>2022-01-18</td>\n",
       "      <td>Gabon</td>\n",
       "      <td>Morocco</td>\n",
       "      <td>2</td>\n",
       "      <td>2</td>\n",
       "      <td>African Cup of Nations</td>\n",
       "      <td>Yaoundé</td>\n",
       "      <td>Cameroon</td>\n",
       "      <td>True</td>\n",
       "    </tr>\n",
       "    <tr>\n",
       "      <th>43244</th>\n",
       "      <td>2022-01-30</td>\n",
       "      <td>Egypt</td>\n",
       "      <td>Morocco</td>\n",
       "      <td>2</td>\n",
       "      <td>1</td>\n",
       "      <td>African Cup of Nations</td>\n",
       "      <td>Yaoundé</td>\n",
       "      <td>Cameroon</td>\n",
       "      <td>True</td>\n",
       "    </tr>\n",
       "    <tr>\n",
       "      <th>43327</th>\n",
       "      <td>2022-03-25</td>\n",
       "      <td>DR Congo</td>\n",
       "      <td>Morocco</td>\n",
       "      <td>1</td>\n",
       "      <td>1</td>\n",
       "      <td>FIFA World Cup qualification</td>\n",
       "      <td>Kinshasa</td>\n",
       "      <td>DR Congo</td>\n",
       "      <td>False</td>\n",
       "    </tr>\n",
       "    <tr>\n",
       "      <th>43475</th>\n",
       "      <td>2022-06-01</td>\n",
       "      <td>United States</td>\n",
       "      <td>Morocco</td>\n",
       "      <td>3</td>\n",
       "      <td>0</td>\n",
       "      <td>Friendly</td>\n",
       "      <td>Cincinnati</td>\n",
       "      <td>United States</td>\n",
       "      <td>False</td>\n",
       "    </tr>\n",
       "  </tbody>\n",
       "</table>\n",
       "<p>256 rows × 9 columns</p>\n",
       "</div>"
      ],
      "text/plain": [
       "             date      home_team away_team  home_score  away_score  \\\n",
       "4851   1960-11-13        Tunisia   Morocco           2           1   \n",
       "4905   1961-04-02          Ghana   Morocco           0           0   \n",
       "4962   1961-06-18     Yugoslavia   Morocco           3           2   \n",
       "4964   1961-06-21      German DR   Morocco           1           2   \n",
       "5053   1961-11-23          Spain   Morocco           3           2   \n",
       "...           ...            ...       ...         ...         ...   \n",
       "43132  2021-12-04         Jordan   Morocco           0           4   \n",
       "43198  2022-01-18          Gabon   Morocco           2           2   \n",
       "43244  2022-01-30          Egypt   Morocco           2           1   \n",
       "43327  2022-03-25       DR Congo   Morocco           1           1   \n",
       "43475  2022-06-01  United States   Morocco           3           0   \n",
       "\n",
       "                         tournament        city        country  neutral  \n",
       "4851   FIFA World Cup qualification       Tunis        Tunisia    False  \n",
       "4905   FIFA World Cup qualification       Accra          Ghana    False  \n",
       "4962                       Friendly    Belgrade     Yugoslavia    False  \n",
       "4964                       Friendly      Erfurt      German DR    False  \n",
       "5053   FIFA World Cup qualification      Madrid          Spain    False  \n",
       "...                             ...         ...            ...      ...  \n",
       "43132                      Arab Cup   Al Rayyan          Qatar     True  \n",
       "43198        African Cup of Nations     Yaoundé       Cameroon     True  \n",
       "43244        African Cup of Nations     Yaoundé       Cameroon     True  \n",
       "43327  FIFA World Cup qualification    Kinshasa       DR Congo    False  \n",
       "43475                      Friendly  Cincinnati  United States    False  \n",
       "\n",
       "[256 rows x 9 columns]"
      ]
     },
     "execution_count": 15,
     "metadata": {},
     "output_type": "execute_result"
    }
   ],
   "source": [
    "df.query('away_team==\"Morocco\"')"
   ]
  },
  {
   "cell_type": "code",
   "execution_count": 17,
   "id": "6c1d9bfd",
   "metadata": {},
   "outputs": [
    {
     "data": {
      "text/html": [
       "<div>\n",
       "<style scoped>\n",
       "    .dataframe tbody tr th:only-of-type {\n",
       "        vertical-align: middle;\n",
       "    }\n",
       "\n",
       "    .dataframe tbody tr th {\n",
       "        vertical-align: top;\n",
       "    }\n",
       "\n",
       "    .dataframe thead th {\n",
       "        text-align: right;\n",
       "    }\n",
       "</style>\n",
       "<table border=\"1\" class=\"dataframe\">\n",
       "  <thead>\n",
       "    <tr style=\"text-align: right;\">\n",
       "      <th></th>\n",
       "      <th>home_team</th>\n",
       "      <th>date</th>\n",
       "    </tr>\n",
       "  </thead>\n",
       "  <tbody>\n",
       "    <tr>\n",
       "      <th>35</th>\n",
       "      <td>Brazil</td>\n",
       "      <td>589</td>\n",
       "    </tr>\n",
       "    <tr>\n",
       "      <th>12</th>\n",
       "      <td>Argentina</td>\n",
       "      <td>564</td>\n",
       "    </tr>\n",
       "    <tr>\n",
       "      <th>168</th>\n",
       "      <td>Mexico</td>\n",
       "      <td>543</td>\n",
       "    </tr>\n",
       "    <tr>\n",
       "      <th>99</th>\n",
       "      <td>Germany</td>\n",
       "      <td>524</td>\n",
       "    </tr>\n",
       "    <tr>\n",
       "      <th>80</th>\n",
       "      <td>England</td>\n",
       "      <td>520</td>\n",
       "    </tr>\n",
       "    <tr>\n",
       "      <th>...</th>\n",
       "      <td>...</td>\n",
       "      <td>...</td>\n",
       "    </tr>\n",
       "    <tr>\n",
       "      <th>51</th>\n",
       "      <td>Central Spain</td>\n",
       "      <td>1</td>\n",
       "    </tr>\n",
       "    <tr>\n",
       "      <th>217</th>\n",
       "      <td>Romani people</td>\n",
       "      <td>1</td>\n",
       "    </tr>\n",
       "    <tr>\n",
       "      <th>232</th>\n",
       "      <td>Sark</td>\n",
       "      <td>1</td>\n",
       "    </tr>\n",
       "    <tr>\n",
       "      <th>54</th>\n",
       "      <td>Chameria</td>\n",
       "      <td>1</td>\n",
       "    </tr>\n",
       "    <tr>\n",
       "      <th>228</th>\n",
       "      <td>Saint Pierre and Miquelon</td>\n",
       "      <td>1</td>\n",
       "    </tr>\n",
       "  </tbody>\n",
       "</table>\n",
       "<p>306 rows × 2 columns</p>\n",
       "</div>"
      ],
      "text/plain": [
       "                     home_team  date\n",
       "35                      Brazil   589\n",
       "12                   Argentina   564\n",
       "168                     Mexico   543\n",
       "99                     Germany   524\n",
       "80                     England   520\n",
       "..                         ...   ...\n",
       "51               Central Spain     1\n",
       "217              Romani people     1\n",
       "232                       Sark     1\n",
       "54                    Chameria     1\n",
       "228  Saint Pierre and Miquelon     1\n",
       "\n",
       "[306 rows x 2 columns]"
      ]
     },
     "execution_count": 17,
     "metadata": {},
     "output_type": "execute_result"
    }
   ],
   "source": [
    "df.groupby(['home_team']).agg({'date':'count'}).reset_index().sort_values(by='date', ascending=False)"
   ]
  },
  {
   "cell_type": "code",
   "execution_count": 18,
   "id": "52c6d235",
   "metadata": {},
   "outputs": [
    {
     "data": {
      "text/html": [
       "<div>\n",
       "<style scoped>\n",
       "    .dataframe tbody tr th:only-of-type {\n",
       "        vertical-align: middle;\n",
       "    }\n",
       "\n",
       "    .dataframe tbody tr th {\n",
       "        vertical-align: top;\n",
       "    }\n",
       "\n",
       "    .dataframe thead th {\n",
       "        text-align: right;\n",
       "    }\n",
       "</style>\n",
       "<table border=\"1\" class=\"dataframe\">\n",
       "  <thead>\n",
       "    <tr style=\"text-align: right;\">\n",
       "      <th></th>\n",
       "      <th>away_team</th>\n",
       "      <th>date</th>\n",
       "    </tr>\n",
       "  </thead>\n",
       "  <tbody>\n",
       "    <tr>\n",
       "      <th>281</th>\n",
       "      <td>Uruguay</td>\n",
       "      <td>556</td>\n",
       "    </tr>\n",
       "    <tr>\n",
       "      <th>252</th>\n",
       "      <td>Sweden</td>\n",
       "      <td>545</td>\n",
       "    </tr>\n",
       "    <tr>\n",
       "      <th>81</th>\n",
       "      <td>England</td>\n",
       "      <td>522</td>\n",
       "    </tr>\n",
       "    <tr>\n",
       "      <th>119</th>\n",
       "      <td>Hungary</td>\n",
       "      <td>489</td>\n",
       "    </tr>\n",
       "    <tr>\n",
       "      <th>201</th>\n",
       "      <td>Paraguay</td>\n",
       "      <td>471</td>\n",
       "    </tr>\n",
       "    <tr>\n",
       "      <th>100</th>\n",
       "      <td>Germany</td>\n",
       "      <td>456</td>\n",
       "    </tr>\n",
       "    <tr>\n",
       "      <th>12</th>\n",
       "      <td>Argentina</td>\n",
       "      <td>447</td>\n",
       "    </tr>\n",
       "    <tr>\n",
       "      <th>205</th>\n",
       "      <td>Poland</td>\n",
       "      <td>445</td>\n",
       "    </tr>\n",
       "    <tr>\n",
       "      <th>299</th>\n",
       "      <td>Zambia</td>\n",
       "      <td>435</td>\n",
       "    </tr>\n",
       "    <tr>\n",
       "      <th>91</th>\n",
       "      <td>Finland</td>\n",
       "      <td>430</td>\n",
       "    </tr>\n",
       "    <tr>\n",
       "      <th>36</th>\n",
       "      <td>Brazil</td>\n",
       "      <td>425</td>\n",
       "    </tr>\n",
       "    <tr>\n",
       "      <th>191</th>\n",
       "      <td>Norway</td>\n",
       "      <td>417</td>\n",
       "    </tr>\n",
       "    <tr>\n",
       "      <th>230</th>\n",
       "      <td>Scotland</td>\n",
       "      <td>416</td>\n",
       "    </tr>\n",
       "    <tr>\n",
       "      <th>253</th>\n",
       "      <td>Switzerland</td>\n",
       "      <td>408</td>\n",
       "    </tr>\n",
       "    <tr>\n",
       "      <th>73</th>\n",
       "      <td>Denmark</td>\n",
       "      <td>406</td>\n",
       "    </tr>\n",
       "    <tr>\n",
       "      <th>215</th>\n",
       "      <td>Russia</td>\n",
       "      <td>405</td>\n",
       "    </tr>\n",
       "    <tr>\n",
       "      <th>244</th>\n",
       "      <td>South Korea</td>\n",
       "      <td>404</td>\n",
       "    </tr>\n",
       "    <tr>\n",
       "      <th>40</th>\n",
       "      <td>Bulgaria</td>\n",
       "      <td>387</td>\n",
       "    </tr>\n",
       "    <tr>\n",
       "      <th>55</th>\n",
       "      <td>Chile</td>\n",
       "      <td>386</td>\n",
       "    </tr>\n",
       "    <tr>\n",
       "      <th>18</th>\n",
       "      <td>Austria</td>\n",
       "      <td>380</td>\n",
       "    </tr>\n",
       "  </tbody>\n",
       "</table>\n",
       "</div>"
      ],
      "text/plain": [
       "       away_team  date\n",
       "281      Uruguay   556\n",
       "252       Sweden   545\n",
       "81       England   522\n",
       "119      Hungary   489\n",
       "201     Paraguay   471\n",
       "100      Germany   456\n",
       "12     Argentina   447\n",
       "205       Poland   445\n",
       "299       Zambia   435\n",
       "91       Finland   430\n",
       "36        Brazil   425\n",
       "191       Norway   417\n",
       "230     Scotland   416\n",
       "253  Switzerland   408\n",
       "73       Denmark   406\n",
       "215       Russia   405\n",
       "244  South Korea   404\n",
       "40      Bulgaria   387\n",
       "55         Chile   386\n",
       "18       Austria   380"
      ]
     },
     "execution_count": 18,
     "metadata": {},
     "output_type": "execute_result"
    }
   ],
   "source": [
    "df.groupby(['away_team']).agg({'date':'count'}).reset_index().sort_values(by='date', ascending=False).head(20)"
   ]
  },
  {
   "cell_type": "code",
   "execution_count": 19,
   "id": "60e60f9b",
   "metadata": {},
   "outputs": [
    {
     "data": {
      "text/plain": [
       "Index(['date', 'home_team', 'away_team', 'home_score', 'away_score',\n",
       "       'tournament', 'city', 'country', 'neutral'],\n",
       "      dtype='object')"
      ]
     },
     "execution_count": 19,
     "metadata": {},
     "output_type": "execute_result"
    }
   ],
   "source": [
    "df.columns"
   ]
  },
  {
   "cell_type": "code",
   "execution_count": 3,
   "id": "65e2413b",
   "metadata": {},
   "outputs": [],
   "source": [
    "import matplotlib.pyplot as plt\n",
    "import seaborn as sns"
   ]
  },
  {
   "cell_type": "code",
   "execution_count": 25,
   "id": "40fcb288",
   "metadata": {},
   "outputs": [
    {
     "data": {
      "text/plain": [
       "<AxesSubplot:xlabel='home_score', ylabel='Count'>"
      ]
     },
     "execution_count": 25,
     "metadata": {},
     "output_type": "execute_result"
    },
    {
     "data": {
      "image/png": "[encoded data removed]",
      "text/plain": [
       "<Figure size 432x288 with 1 Axes>"
      ]
     },
     "metadata": {
      "needs_background": "light"
     },
     "output_type": "display_data"
    }
   ],
   "source": [
    "sns.histplot(x='home_score', data=df, bins=20)"
   ]
  },
  {
   "cell_type": "code",
   "execution_count": 26,
   "id": "fae71b3a",
   "metadata": {},
   "outputs": [
    {
     "data": {
      "text/plain": [
       "<AxesSubplot:xlabel='away_score', ylabel='Count'>"
      ]
     },
     "execution_count": 26,
     "metadata": {},
     "output_type": "execute_result"
    },
    {
     "data": {
      "image/png": "[encoded data removed]",
      "text/plain": [
       "<Figure size 432x288 with 1 Axes>"
      ]
     },
     "metadata": {
      "needs_background": "light"
     },
     "output_type": "display_data"
    }
   ],
   "source": [
    "sns.histplot(x='away_score', data=df, bins=20)"
   ]
  },
  {
   "cell_type": "code",
   "execution_count": 28,
   "id": "ac27a7fb",
   "metadata": {},
   "outputs": [
    {
     "data": {
      "text/html": [
       "<div>\n",
       "<style scoped>\n",
       "    .dataframe tbody tr th:only-of-type {\n",
       "        vertical-align: middle;\n",
       "    }\n",
       "\n",
       "    .dataframe tbody tr th {\n",
       "        vertical-align: top;\n",
       "    }\n",
       "\n",
       "    .dataframe thead th {\n",
       "        text-align: right;\n",
       "    }\n",
       "</style>\n",
       "<table border=\"1\" class=\"dataframe\">\n",
       "  <thead>\n",
       "    <tr style=\"text-align: right;\">\n",
       "      <th></th>\n",
       "      <th>date</th>\n",
       "      <th>home_team</th>\n",
       "      <th>away_team</th>\n",
       "      <th>home_score</th>\n",
       "      <th>away_score</th>\n",
       "      <th>tournament</th>\n",
       "      <th>city</th>\n",
       "      <th>country</th>\n",
       "      <th>neutral</th>\n",
       "    </tr>\n",
       "  </thead>\n",
       "  <tbody>\n",
       "    <tr>\n",
       "      <th>23969</th>\n",
       "      <td>2001-04-11</td>\n",
       "      <td>Australia</td>\n",
       "      <td>American Samoa</td>\n",
       "      <td>31</td>\n",
       "      <td>0</td>\n",
       "      <td>FIFA World Cup qualification</td>\n",
       "      <td>Coffs Harbour</td>\n",
       "      <td>Australia</td>\n",
       "      <td>False</td>\n",
       "    </tr>\n",
       "    <tr>\n",
       "      <th>8010</th>\n",
       "      <td>1971-09-13</td>\n",
       "      <td>Tahiti</td>\n",
       "      <td>Cook Islands</td>\n",
       "      <td>30</td>\n",
       "      <td>0</td>\n",
       "      <td>South Pacific Games</td>\n",
       "      <td>Papeete</td>\n",
       "      <td>French Polynesia</td>\n",
       "      <td>False</td>\n",
       "    </tr>\n",
       "    <tr>\n",
       "      <th>11111</th>\n",
       "      <td>1979-08-30</td>\n",
       "      <td>Fiji</td>\n",
       "      <td>Kiribati</td>\n",
       "      <td>24</td>\n",
       "      <td>0</td>\n",
       "      <td>South Pacific Games</td>\n",
       "      <td>Nausori</td>\n",
       "      <td>Fiji</td>\n",
       "      <td>False</td>\n",
       "    </tr>\n",
       "    <tr>\n",
       "      <th>23966</th>\n",
       "      <td>2001-04-09</td>\n",
       "      <td>Australia</td>\n",
       "      <td>Tonga</td>\n",
       "      <td>22</td>\n",
       "      <td>0</td>\n",
       "      <td>FIFA World Cup qualification</td>\n",
       "      <td>Coffs Harbour</td>\n",
       "      <td>Australia</td>\n",
       "      <td>False</td>\n",
       "    </tr>\n",
       "    <tr>\n",
       "      <th>29005</th>\n",
       "      <td>2006-11-24</td>\n",
       "      <td>Sápmi</td>\n",
       "      <td>Monaco</td>\n",
       "      <td>21</td>\n",
       "      <td>1</td>\n",
       "      <td>Viva World Cup</td>\n",
       "      <td>Hyères</td>\n",
       "      <td>France</td>\n",
       "      <td>True</td>\n",
       "    </tr>\n",
       "    <tr>\n",
       "      <th>6140</th>\n",
       "      <td>1966-04-03</td>\n",
       "      <td>Libya</td>\n",
       "      <td>Oman</td>\n",
       "      <td>21</td>\n",
       "      <td>0</td>\n",
       "      <td>Arab Cup</td>\n",
       "      <td>Baghdad</td>\n",
       "      <td>Iraq</td>\n",
       "      <td>True</td>\n",
       "    </tr>\n",
       "    <tr>\n",
       "      <th>22740</th>\n",
       "      <td>2000-02-14</td>\n",
       "      <td>Kuwait</td>\n",
       "      <td>Bhutan</td>\n",
       "      <td>20</td>\n",
       "      <td>0</td>\n",
       "      <td>AFC Asian Cup qualification</td>\n",
       "      <td>Kuwait City</td>\n",
       "      <td>Kuwait</td>\n",
       "      <td>False</td>\n",
       "    </tr>\n",
       "    <tr>\n",
       "      <th>23628</th>\n",
       "      <td>2000-11-24</td>\n",
       "      <td>Iran</td>\n",
       "      <td>Guam</td>\n",
       "      <td>19</td>\n",
       "      <td>0</td>\n",
       "      <td>FIFA World Cup qualification</td>\n",
       "      <td>Tabriz</td>\n",
       "      <td>Iran</td>\n",
       "      <td>False</td>\n",
       "    </tr>\n",
       "    <tr>\n",
       "      <th>25862</th>\n",
       "      <td>2003-06-29</td>\n",
       "      <td>Gibraltar</td>\n",
       "      <td>Sark</td>\n",
       "      <td>19</td>\n",
       "      <td>0</td>\n",
       "      <td>Island Games</td>\n",
       "      <td>St. Martin</td>\n",
       "      <td>Guernsey</td>\n",
       "      <td>True</td>\n",
       "    </tr>\n",
       "    <tr>\n",
       "      <th>22653</th>\n",
       "      <td>2000-01-26</td>\n",
       "      <td>China PR</td>\n",
       "      <td>Guam</td>\n",
       "      <td>19</td>\n",
       "      <td>0</td>\n",
       "      <td>AFC Asian Cup qualification</td>\n",
       "      <td>Hanoi</td>\n",
       "      <td>Vietnam</td>\n",
       "      <td>True</td>\n",
       "    </tr>\n",
       "    <tr>\n",
       "      <th>11114</th>\n",
       "      <td>1979-08-30</td>\n",
       "      <td>Tahiti</td>\n",
       "      <td>Tuvalu</td>\n",
       "      <td>18</td>\n",
       "      <td>0</td>\n",
       "      <td>South Pacific Games</td>\n",
       "      <td>Suva</td>\n",
       "      <td>Fiji</td>\n",
       "      <td>True</td>\n",
       "    </tr>\n",
       "    <tr>\n",
       "      <th>32713</th>\n",
       "      <td>2010-10-14</td>\n",
       "      <td>Dominican Republic</td>\n",
       "      <td>British Virgin Islands</td>\n",
       "      <td>17</td>\n",
       "      <td>0</td>\n",
       "      <td>CFU Caribbean Cup qualification</td>\n",
       "      <td>San Cristóbal</td>\n",
       "      <td>Dominican Republic</td>\n",
       "      <td>False</td>\n",
       "    </tr>\n",
       "    <tr>\n",
       "      <th>23207</th>\n",
       "      <td>2000-06-19</td>\n",
       "      <td>Australia</td>\n",
       "      <td>Cook Islands</td>\n",
       "      <td>17</td>\n",
       "      <td>0</td>\n",
       "      <td>Oceania Nations Cup</td>\n",
       "      <td>Papeete</td>\n",
       "      <td>French Polynesia</td>\n",
       "      <td>True</td>\n",
       "    </tr>\n",
       "    <tr>\n",
       "      <th>25866</th>\n",
       "      <td>2003-06-30</td>\n",
       "      <td>Tahiti</td>\n",
       "      <td>Micronesia</td>\n",
       "      <td>17</td>\n",
       "      <td>0</td>\n",
       "      <td>South Pacific Games</td>\n",
       "      <td>Suva</td>\n",
       "      <td>Fiji</td>\n",
       "      <td>True</td>\n",
       "    </tr>\n",
       "    <tr>\n",
       "      <th>34517</th>\n",
       "      <td>2012-09-05</td>\n",
       "      <td>Martinique</td>\n",
       "      <td>British Virgin Islands</td>\n",
       "      <td>16</td>\n",
       "      <td>0</td>\n",
       "      <td>CFU Caribbean Cup qualification</td>\n",
       "      <td>Le Lamentin</td>\n",
       "      <td>Martinique</td>\n",
       "      <td>False</td>\n",
       "    </tr>\n",
       "    <tr>\n",
       "      <th>21738</th>\n",
       "      <td>1998-09-28</td>\n",
       "      <td>Australia</td>\n",
       "      <td>Cook Islands</td>\n",
       "      <td>16</td>\n",
       "      <td>0</td>\n",
       "      <td>Oceania Nations Cup</td>\n",
       "      <td>Brisbane</td>\n",
       "      <td>Australia</td>\n",
       "      <td>False</td>\n",
       "    </tr>\n",
       "    <tr>\n",
       "      <th>29657</th>\n",
       "      <td>2007-08-25</td>\n",
       "      <td>Fiji</td>\n",
       "      <td>Tuvalu</td>\n",
       "      <td>16</td>\n",
       "      <td>0</td>\n",
       "      <td>South Pacific Games</td>\n",
       "      <td>Apia</td>\n",
       "      <td>Samoa</td>\n",
       "      <td>True</td>\n",
       "    </tr>\n",
       "    <tr>\n",
       "      <th>25883</th>\n",
       "      <td>2003-07-01</td>\n",
       "      <td>Greenland</td>\n",
       "      <td>Sark</td>\n",
       "      <td>16</td>\n",
       "      <td>0</td>\n",
       "      <td>Island Games</td>\n",
       "      <td>St. Martin</td>\n",
       "      <td>Guernsey</td>\n",
       "      <td>True</td>\n",
       "    </tr>\n",
       "    <tr>\n",
       "      <th>26105</th>\n",
       "      <td>2003-09-29</td>\n",
       "      <td>South Korea</td>\n",
       "      <td>Nepal</td>\n",
       "      <td>16</td>\n",
       "      <td>0</td>\n",
       "      <td>AFC Asian Cup qualification</td>\n",
       "      <td>Incheon</td>\n",
       "      <td>South Korea</td>\n",
       "      <td>False</td>\n",
       "    </tr>\n",
       "    <tr>\n",
       "      <th>23631</th>\n",
       "      <td>2000-11-26</td>\n",
       "      <td>Tajikistan</td>\n",
       "      <td>Guam</td>\n",
       "      <td>16</td>\n",
       "      <td>0</td>\n",
       "      <td>FIFA World Cup qualification</td>\n",
       "      <td>Tabriz</td>\n",
       "      <td>Iran</td>\n",
       "      <td>True</td>\n",
       "    </tr>\n",
       "  </tbody>\n",
       "</table>\n",
       "</div>"
      ],
      "text/plain": [
       "             date           home_team               away_team  home_score  \\\n",
       "23969  2001-04-11           Australia          American Samoa          31   \n",
       "8010   1971-09-13              Tahiti            Cook Islands          30   \n",
       "11111  1979-08-30                Fiji                Kiribati          24   \n",
       "23966  2001-04-09           Australia                   Tonga          22   \n",
       "29005  2006-11-24               Sápmi                  Monaco          21   \n",
       "6140   1966-04-03               Libya                    Oman          21   \n",
       "22740  2000-02-14              Kuwait                  Bhutan          20   \n",
       "23628  2000-11-24                Iran                    Guam          19   \n",
       "25862  2003-06-29           Gibraltar                    Sark          19   \n",
       "22653  2000-01-26            China PR                    Guam          19   \n",
       "11114  1979-08-30              Tahiti                  Tuvalu          18   \n",
       "32713  2010-10-14  Dominican Republic  British Virgin Islands          17   \n",
       "23207  2000-06-19           Australia            Cook Islands          17   \n",
       "25866  2003-06-30              Tahiti              Micronesia          17   \n",
       "34517  2012-09-05          Martinique  British Virgin Islands          16   \n",
       "21738  1998-09-28           Australia            Cook Islands          16   \n",
       "29657  2007-08-25                Fiji                  Tuvalu          16   \n",
       "25883  2003-07-01           Greenland                    Sark          16   \n",
       "26105  2003-09-29         South Korea                   Nepal          16   \n",
       "23631  2000-11-26          Tajikistan                    Guam          16   \n",
       "\n",
       "       away_score                       tournament           city  \\\n",
       "23969           0     FIFA World Cup qualification  Coffs Harbour   \n",
       "8010            0              South Pacific Games        Papeete   \n",
       "11111           0              South Pacific Games        Nausori   \n",
       "23966           0     FIFA World Cup qualification  Coffs Harbour   \n",
       "29005           1                   Viva World Cup         Hyères   \n",
       "6140            0                         Arab Cup        Baghdad   \n",
       "22740           0      AFC Asian Cup qualification    Kuwait City   \n",
       "23628           0     FIFA World Cup qualification         Tabriz   \n",
       "25862           0                     Island Games     St. Martin   \n",
       "22653           0      AFC Asian Cup qualification          Hanoi   \n",
       "11114           0              South Pacific Games           Suva   \n",
       "32713           0  CFU Caribbean Cup qualification  San Cristóbal   \n",
       "23207           0              Oceania Nations Cup        Papeete   \n",
       "25866           0              South Pacific Games           Suva   \n",
       "34517           0  CFU Caribbean Cup qualification    Le Lamentin   \n",
       "21738           0              Oceania Nations Cup       Brisbane   \n",
       "29657           0              South Pacific Games           Apia   \n",
       "25883           0                     Island Games     St. Martin   \n",
       "26105           0      AFC Asian Cup qualification        Incheon   \n",
       "23631           0     FIFA World Cup qualification         Tabriz   \n",
       "\n",
       "                  country  neutral  \n",
       "23969           Australia    False  \n",
       "8010     French Polynesia    False  \n",
       "11111                Fiji    False  \n",
       "23966           Australia    False  \n",
       "29005              France     True  \n",
       "6140                 Iraq     True  \n",
       "22740              Kuwait    False  \n",
       "23628                Iran    False  \n",
       "25862            Guernsey     True  \n",
       "22653             Vietnam     True  \n",
       "11114                Fiji     True  \n",
       "32713  Dominican Republic    False  \n",
       "23207    French Polynesia     True  \n",
       "25866                Fiji     True  \n",
       "34517          Martinique    False  \n",
       "21738           Australia    False  \n",
       "29657               Samoa     True  \n",
       "25883            Guernsey     True  \n",
       "26105         South Korea    False  \n",
       "23631                Iran     True  "
      ]
     },
     "execution_count": 28,
     "metadata": {},
     "output_type": "execute_result"
    }
   ],
   "source": [
    "df.sort_values(by='home_score', ascending=False).head(20)"
   ]
  },
  {
   "cell_type": "code",
   "execution_count": 30,
   "id": "dbfeac6f",
   "metadata": {},
   "outputs": [
    {
     "name": "stderr",
     "output_type": "stream",
     "text": [
      "C:\\Users\\063255\\Projects\\volumes_prediction\\env\\lib\\site-packages\\seaborn\\distributions.py:2551: FutureWarning: `distplot` is a deprecated function and will be removed in a future version. Please adapt your code to use either `displot` (a figure-level function with similar flexibility) or `histplot` (an axes-level function for histograms).\n",
      "  warnings.warn(msg, FutureWarning)\n"
     ]
    },
    {
     "data": {
      "text/plain": [
       "<AxesSubplot:ylabel='Density'>"
      ]
     },
     "execution_count": 30,
     "metadata": {},
     "output_type": "execute_result"
    },
    {
     "data": {
      "image/png": "[encoded data removed]",
      "text/plain": [
       "<Figure size 432x288 with 1 Axes>"
      ]
     },
     "metadata": {
      "needs_background": "light"
     },
     "output_type": "display_data"
    }
   ],
   "source": [
    "sns.distplot(x=df['home_score'])"
   ]
  },
  {
   "cell_type": "code",
   "execution_count": 31,
   "id": "7b6241b9",
   "metadata": {},
   "outputs": [
    {
     "data": {
      "text/plain": [
       "<AxesSubplot:xlabel='home_score', ylabel='Density'>"
      ]
     },
     "execution_count": 31,
     "metadata": {},
     "output_type": "execute_result"
    },
    {
     "data": {
      "image/png": "[encoded data removed]",
      "text/plain": [
       "<Figure size 432x288 with 1 Axes>"
      ]
     },
     "metadata": {
      "needs_background": "light"
     },
     "output_type": "display_data"
    }
   ],
   "source": [
    "sns.kdeplot(x='home_score', data=df)"
   ]
  },
  {
   "cell_type": "code",
   "execution_count": 34,
   "id": "5ced3f26",
   "metadata": {},
   "outputs": [
    {
     "data": {
      "text/plain": [
       "<AxesSubplot:xlabel='home_score', ylabel='count'>"
      ]
     },
     "execution_count": 34,
     "metadata": {},
     "output_type": "execute_result"
    },
    {
     "data": {
      "image/png": "[encoded data removed]",
      "text/plain": [
       "<Figure size 432x288 with 1 Axes>"
      ]
     },
     "metadata": {
      "needs_background": "light"
     },
     "output_type": "display_data"
    }
   ],
   "source": [
    "sns.countplot(x='home_score', data=df)"
   ]
  },
  {
   "cell_type": "code",
   "execution_count": 35,
   "id": "559fb6b3",
   "metadata": {},
   "outputs": [],
   "source": [
    "from scipy.stats import poisson"
   ]
  },
  {
   "cell_type": "code",
   "execution_count": 36,
   "id": "2ee9ce61",
   "metadata": {},
   "outputs": [
    {
     "data": {
      "text/plain": [
       "0.07384190206702398"
      ]
     },
     "execution_count": 36,
     "metadata": {},
     "output_type": "execute_result"
    }
   ],
   "source": [
    "poisson.pmf(3, 1.1)"
   ]
  },
  {
   "cell_type": "code",
   "execution_count": 4,
   "id": "7584e7fc",
   "metadata": {},
   "outputs": [],
   "source": [
    "def winner(home_score, away_score):\n",
    "    if home_score > away_score:\n",
    "        return 'home_win'\n",
    "    elif home_score < away_score:\n",
    "        return 'home_lose'        \n",
    "    else:\n",
    "        return 'draw'\n",
    "    \n",
    "df['winner'] = df.apply(lambda x: winner(x.home_score, x.away_score), axis=1)"
   ]
  },
  {
   "cell_type": "code",
   "execution_count": 42,
   "id": "930fd105",
   "metadata": {},
   "outputs": [
    {
     "data": {
      "text/html": [
       "<div>\n",
       "<style scoped>\n",
       "    .dataframe tbody tr th:only-of-type {\n",
       "        vertical-align: middle;\n",
       "    }\n",
       "\n",
       "    .dataframe tbody tr th {\n",
       "        vertical-align: top;\n",
       "    }\n",
       "\n",
       "    .dataframe thead th {\n",
       "        text-align: right;\n",
       "    }\n",
       "</style>\n",
       "<table border=\"1\" class=\"dataframe\">\n",
       "  <thead>\n",
       "    <tr style=\"text-align: right;\">\n",
       "      <th></th>\n",
       "      <th>date</th>\n",
       "    </tr>\n",
       "    <tr>\n",
       "      <th>winner</th>\n",
       "      <th></th>\n",
       "    </tr>\n",
       "  </thead>\n",
       "  <tbody>\n",
       "    <tr>\n",
       "      <th>draw</th>\n",
       "      <td>10084</td>\n",
       "    </tr>\n",
       "    <tr>\n",
       "      <th>home_lose</th>\n",
       "      <td>12376</td>\n",
       "    </tr>\n",
       "    <tr>\n",
       "      <th>home_win</th>\n",
       "      <td>21292</td>\n",
       "    </tr>\n",
       "  </tbody>\n",
       "</table>\n",
       "</div>"
      ],
      "text/plain": [
       "            date\n",
       "winner          \n",
       "draw       10084\n",
       "home_lose  12376\n",
       "home_win   21292"
      ]
     },
     "execution_count": 42,
     "metadata": {},
     "output_type": "execute_result"
    }
   ],
   "source": [
    "df.groupby(['winner']).agg({'date':'count'})"
   ]
  },
  {
   "cell_type": "code",
   "execution_count": 5,
   "id": "c0bb6857",
   "metadata": {},
   "outputs": [],
   "source": [
    "predictors = ['home_team', 'away_team']\n",
    "\n",
    "X = pd.get_dummies(df[predictors])\n",
    "y = df['winner']"
   ]
  },
  {
   "cell_type": "code",
   "execution_count": 6,
   "id": "f2a5cd5f",
   "metadata": {},
   "outputs": [
    {
     "data": {
      "text/plain": [
       "RandomForestClassifier(max_depth=7)"
      ]
     },
     "execution_count": 6,
     "metadata": {},
     "output_type": "execute_result"
    }
   ],
   "source": [
    "from sklearn.ensemble import RandomForestClassifier\n",
    "\n",
    "model = RandomForestClassifier(n_estimators=100, max_depth=7)\n",
    "\n",
    "model.fit(X, y)"
   ]
  },
  {
   "cell_type": "code",
   "execution_count": 7,
   "id": "1d71159f",
   "metadata": {},
   "outputs": [
    {
     "name": "stderr",
     "output_type": "stream",
     "text": [
      "C:\\Users\\063255\\Projects\\volumes_prediction\\env\\lib\\site-packages\\sklearn\\metrics\\_classification.py:1245: UndefinedMetricWarning: Precision and F-score are ill-defined and being set to 0.0 in labels with no predicted samples. Use `zero_division` parameter to control this behavior.\n",
      "  _warn_prf(average, modifier, msg_start, len(result))\n"
     ]
    },
    {
     "name": "stdout",
     "output_type": "stream",
     "text": [
      "              precision    recall  f1-score   support\n",
      "\n",
      "        draw       0.00      0.00      0.00     10084\n",
      "   home_lose       0.82      0.02      0.04     12376\n",
      "    home_win       0.49      1.00      0.66     21292\n",
      "\n",
      "    accuracy                           0.49     43752\n",
      "   macro avg       0.44      0.34      0.23     43752\n",
      "weighted avg       0.47      0.49      0.33     43752\n",
      "\n"
     ]
    },
    {
     "name": "stderr",
     "output_type": "stream",
     "text": [
      "C:\\Users\\063255\\Projects\\volumes_prediction\\env\\lib\\site-packages\\sklearn\\metrics\\_classification.py:1245: UndefinedMetricWarning: Precision and F-score are ill-defined and being set to 0.0 in labels with no predicted samples. Use `zero_division` parameter to control this behavior.\n",
      "  _warn_prf(average, modifier, msg_start, len(result))\n",
      "C:\\Users\\063255\\Projects\\volumes_prediction\\env\\lib\\site-packages\\sklearn\\metrics\\_classification.py:1245: UndefinedMetricWarning: Precision and F-score are ill-defined and being set to 0.0 in labels with no predicted samples. Use `zero_division` parameter to control this behavior.\n",
      "  _warn_prf(average, modifier, msg_start, len(result))\n"
     ]
    }
   ],
   "source": [
    "from sklearn.metrics import classification_report\n",
    "\n",
    "print(classification_report(y, model.predict(X)))"
   ]
  },
  {
   "cell_type": "code",
   "execution_count": 48,
   "id": "b1d000c2",
   "metadata": {},
   "outputs": [],
   "source": [
    "precision = .81\n",
    "recall = .02"
   ]
  },
  {
   "cell_type": "code",
   "execution_count": 51,
   "id": "f24e9d2b",
   "metadata": {},
   "outputs": [
    {
     "data": {
      "text/plain": [
       "0.03903614457831325"
      ]
     },
     "execution_count": 51,
     "metadata": {},
     "output_type": "execute_result"
    }
   ],
   "source": [
    "1 / (((1/precision) + (1/recall))/2)"
   ]
  },
  {
   "cell_type": "code",
   "execution_count": 52,
   "id": "6526f6c4",
   "metadata": {},
   "outputs": [
    {
     "data": {
      "text/plain": [
       "0.03903614457831325"
      ]
     },
     "execution_count": 52,
     "metadata": {},
     "output_type": "execute_result"
    }
   ],
   "source": [
    "2 / (1/precision + 1/recall)"
   ]
  },
  {
   "cell_type": "code",
   "execution_count": 54,
   "id": "6dbf17d9",
   "metadata": {},
   "outputs": [
    {
     "data": {
      "text/html": [
       "<div>\n",
       "<style scoped>\n",
       "    .dataframe tbody tr th:only-of-type {\n",
       "        vertical-align: middle;\n",
       "    }\n",
       "\n",
       "    .dataframe tbody tr th {\n",
       "        vertical-align: top;\n",
       "    }\n",
       "\n",
       "    .dataframe thead th {\n",
       "        text-align: right;\n",
       "    }\n",
       "</style>\n",
       "<table border=\"1\" class=\"dataframe\">\n",
       "  <thead>\n",
       "    <tr style=\"text-align: right;\">\n",
       "      <th></th>\n",
       "      <th>home_team_Abkhazia</th>\n",
       "      <th>home_team_Afghanistan</th>\n",
       "      <th>home_team_Albania</th>\n",
       "      <th>home_team_Alderney</th>\n",
       "      <th>home_team_Algeria</th>\n",
       "      <th>home_team_American Samoa</th>\n",
       "      <th>home_team_Andalusia</th>\n",
       "      <th>home_team_Andorra</th>\n",
       "      <th>home_team_Angola</th>\n",
       "      <th>home_team_Anguilla</th>\n",
       "      <th>...</th>\n",
       "      <th>away_team_Western Sahara</th>\n",
       "      <th>away_team_Yemen</th>\n",
       "      <th>away_team_Yemen DPR</th>\n",
       "      <th>away_team_Ynys Môn</th>\n",
       "      <th>away_team_Yorkshire</th>\n",
       "      <th>away_team_Yugoslavia</th>\n",
       "      <th>away_team_Zambia</th>\n",
       "      <th>away_team_Zanzibar</th>\n",
       "      <th>away_team_Zimbabwe</th>\n",
       "      <th>away_team_Åland Islands</th>\n",
       "    </tr>\n",
       "  </thead>\n",
       "  <tbody>\n",
       "    <tr>\n",
       "      <th>21435</th>\n",
       "      <td>0</td>\n",
       "      <td>0</td>\n",
       "      <td>0</td>\n",
       "      <td>0</td>\n",
       "      <td>0</td>\n",
       "      <td>0</td>\n",
       "      <td>0</td>\n",
       "      <td>0</td>\n",
       "      <td>0</td>\n",
       "      <td>0</td>\n",
       "      <td>...</td>\n",
       "      <td>0</td>\n",
       "      <td>0</td>\n",
       "      <td>0</td>\n",
       "      <td>0</td>\n",
       "      <td>0</td>\n",
       "      <td>0</td>\n",
       "      <td>0</td>\n",
       "      <td>0</td>\n",
       "      <td>0</td>\n",
       "      <td>0</td>\n",
       "    </tr>\n",
       "  </tbody>\n",
       "</table>\n",
       "<p>1 rows × 609 columns</p>\n",
       "</div>"
      ],
      "text/plain": [
       "       home_team_Abkhazia  home_team_Afghanistan  home_team_Albania  \\\n",
       "21435                   0                      0                  0   \n",
       "\n",
       "       home_team_Alderney  home_team_Algeria  home_team_American Samoa  \\\n",
       "21435                   0                  0                         0   \n",
       "\n",
       "       home_team_Andalusia  home_team_Andorra  home_team_Angola  \\\n",
       "21435                    0                  0                 0   \n",
       "\n",
       "       home_team_Anguilla  ...  away_team_Western Sahara  away_team_Yemen  \\\n",
       "21435                   0  ...                         0                0   \n",
       "\n",
       "       away_team_Yemen DPR  away_team_Ynys Môn  away_team_Yorkshire  \\\n",
       "21435                    0                   0                    0   \n",
       "\n",
       "       away_team_Yugoslavia  away_team_Zambia  away_team_Zanzibar  \\\n",
       "21435                     0                 0                   0   \n",
       "\n",
       "       away_team_Zimbabwe  away_team_Åland Islands  \n",
       "21435                   0                        0  \n",
       "\n",
       "[1 rows x 609 columns]"
      ]
     },
     "execution_count": 54,
     "metadata": {},
     "output_type": "execute_result"
    }
   ],
   "source": [
    "X.query('home_team_Morocco==1 and away_team_England==1')"
   ]
  },
  {
   "cell_type": "code",
   "execution_count": 58,
   "id": "d189bebb",
   "metadata": {},
   "outputs": [
    {
     "data": {
      "text/plain": [
       "array([[0.23673151, 0.31244029, 0.4508282 ]])"
      ]
     },
     "execution_count": 58,
     "metadata": {},
     "output_type": "execute_result"
    }
   ],
   "source": [
    "model.predict_proba(X.iloc[[21435]])"
   ]
  },
  {
   "cell_type": "code",
   "execution_count": 59,
   "id": "3832efb5",
   "metadata": {},
   "outputs": [
    {
     "data": {
      "text/html": [
       "<div>\n",
       "<style scoped>\n",
       "    .dataframe tbody tr th:only-of-type {\n",
       "        vertical-align: middle;\n",
       "    }\n",
       "\n",
       "    .dataframe tbody tr th {\n",
       "        vertical-align: top;\n",
       "    }\n",
       "\n",
       "    .dataframe thead th {\n",
       "        text-align: right;\n",
       "    }\n",
       "</style>\n",
       "<table border=\"1\" class=\"dataframe\">\n",
       "  <thead>\n",
       "    <tr style=\"text-align: right;\">\n",
       "      <th></th>\n",
       "      <th>home_team_Abkhazia</th>\n",
       "      <th>home_team_Afghanistan</th>\n",
       "      <th>home_team_Albania</th>\n",
       "      <th>home_team_Alderney</th>\n",
       "      <th>home_team_Algeria</th>\n",
       "      <th>home_team_American Samoa</th>\n",
       "      <th>home_team_Andalusia</th>\n",
       "      <th>home_team_Andorra</th>\n",
       "      <th>home_team_Angola</th>\n",
       "      <th>home_team_Anguilla</th>\n",
       "      <th>...</th>\n",
       "      <th>away_team_Western Sahara</th>\n",
       "      <th>away_team_Yemen</th>\n",
       "      <th>away_team_Yemen DPR</th>\n",
       "      <th>away_team_Ynys Môn</th>\n",
       "      <th>away_team_Yorkshire</th>\n",
       "      <th>away_team_Yugoslavia</th>\n",
       "      <th>away_team_Zambia</th>\n",
       "      <th>away_team_Zanzibar</th>\n",
       "      <th>away_team_Zimbabwe</th>\n",
       "      <th>away_team_Åland Islands</th>\n",
       "    </tr>\n",
       "  </thead>\n",
       "  <tbody>\n",
       "    <tr>\n",
       "      <th>14385</th>\n",
       "      <td>0</td>\n",
       "      <td>0</td>\n",
       "      <td>0</td>\n",
       "      <td>0</td>\n",
       "      <td>0</td>\n",
       "      <td>0</td>\n",
       "      <td>0</td>\n",
       "      <td>0</td>\n",
       "      <td>0</td>\n",
       "      <td>0</td>\n",
       "      <td>...</td>\n",
       "      <td>0</td>\n",
       "      <td>0</td>\n",
       "      <td>0</td>\n",
       "      <td>0</td>\n",
       "      <td>0</td>\n",
       "      <td>0</td>\n",
       "      <td>0</td>\n",
       "      <td>0</td>\n",
       "      <td>0</td>\n",
       "      <td>0</td>\n",
       "    </tr>\n",
       "  </tbody>\n",
       "</table>\n",
       "<p>1 rows × 609 columns</p>\n",
       "</div>"
      ],
      "text/plain": [
       "       home_team_Abkhazia  home_team_Afghanistan  home_team_Albania  \\\n",
       "14385                   0                      0                  0   \n",
       "\n",
       "       home_team_Alderney  home_team_Algeria  home_team_American Samoa  \\\n",
       "14385                   0                  0                         0   \n",
       "\n",
       "       home_team_Andalusia  home_team_Andorra  home_team_Angola  \\\n",
       "14385                    0                  0                 0   \n",
       "\n",
       "       home_team_Anguilla  ...  away_team_Western Sahara  away_team_Yemen  \\\n",
       "14385                   0  ...                         0                0   \n",
       "\n",
       "       away_team_Yemen DPR  away_team_Ynys Môn  away_team_Yorkshire  \\\n",
       "14385                    0                   0                    0   \n",
       "\n",
       "       away_team_Yugoslavia  away_team_Zambia  away_team_Zanzibar  \\\n",
       "14385                     0                 0                   0   \n",
       "\n",
       "       away_team_Zimbabwe  away_team_Åland Islands  \n",
       "14385                   0                        0  \n",
       "\n",
       "[1 rows x 609 columns]"
      ]
     },
     "execution_count": 59,
     "metadata": {},
     "output_type": "execute_result"
    }
   ],
   "source": [
    "X.query('away_team_Morocco==1 and home_team_England==1')"
   ]
  },
  {
   "cell_type": "code",
   "execution_count": 61,
   "id": "9e63f3d0",
   "metadata": {},
   "outputs": [
    {
     "data": {
      "text/plain": [
       "array([[0.22924677, 0.26839501, 0.50235822]])"
      ]
     },
     "execution_count": 61,
     "metadata": {},
     "output_type": "execute_result"
    }
   ],
   "source": [
    "model.predict_proba(X.iloc[[14385]])"
   ]
  },
  {
   "cell_type": "code",
   "execution_count": 64,
   "id": "36a65a59",
   "metadata": {},
   "outputs": [],
   "source": [
    "x_pred = pd.get_dummies(pd.DataFrame({'home_team':['Morocco'], 'away_team':['England']}))"
   ]
  },
  {
   "cell_type": "code",
   "execution_count": 69,
   "id": "6b2e07dc",
   "metadata": {},
   "outputs": [
    {
     "data": {
      "text/plain": [
       "array([[0.23673151, 0.31244029, 0.4508282 ]])"
      ]
     },
     "execution_count": 69,
     "metadata": {},
     "output_type": "execute_result"
    }
   ],
   "source": [
    "model.predict_proba(x_pred[X.columns])"
   ]
  },
  {
   "cell_type": "code",
   "execution_count": 70,
   "id": "00f33568",
   "metadata": {},
   "outputs": [],
   "source": [
    "import warnings\n",
    "warnings.filterwarnings('ignore')\n",
    "\n",
    "for col in X.columns:\n",
    "    if col not in x_pred.columns:\n",
    "        x_pred[col] = 0"
   ]
  },
  {
   "cell_type": "code",
   "execution_count": 8,
   "id": "2d8ca54d",
   "metadata": {},
   "outputs": [],
   "source": [
    "fr = pd.read_csv('../data/fifa_ranking.csv')"
   ]
  },
  {
   "cell_type": "code",
   "execution_count": 74,
   "id": "f213f16a",
   "metadata": {},
   "outputs": [
    {
     "data": {
      "text/plain": [
       "'2018-06-07'"
      ]
     },
     "execution_count": 74,
     "metadata": {},
     "output_type": "execute_result"
    }
   ],
   "source": [
    "fr.rank_date.max()"
   ]
  },
  {
   "cell_type": "code",
   "execution_count": 75,
   "id": "92a0e78f",
   "metadata": {},
   "outputs": [
    {
     "data": {
      "text/html": [
       "<div>\n",
       "<style scoped>\n",
       "    .dataframe tbody tr th:only-of-type {\n",
       "        vertical-align: middle;\n",
       "    }\n",
       "\n",
       "    .dataframe tbody tr th {\n",
       "        vertical-align: top;\n",
       "    }\n",
       "\n",
       "    .dataframe thead th {\n",
       "        text-align: right;\n",
       "    }\n",
       "</style>\n",
       "<table border=\"1\" class=\"dataframe\">\n",
       "  <thead>\n",
       "    <tr style=\"text-align: right;\">\n",
       "      <th></th>\n",
       "      <th>date</th>\n",
       "      <th>home_team</th>\n",
       "      <th>away_team</th>\n",
       "      <th>home_score</th>\n",
       "      <th>away_score</th>\n",
       "      <th>tournament</th>\n",
       "      <th>city</th>\n",
       "      <th>country</th>\n",
       "      <th>neutral</th>\n",
       "      <th>winner</th>\n",
       "    </tr>\n",
       "  </thead>\n",
       "  <tbody>\n",
       "    <tr>\n",
       "      <th>0</th>\n",
       "      <td>1872-11-30</td>\n",
       "      <td>Scotland</td>\n",
       "      <td>England</td>\n",
       "      <td>0</td>\n",
       "      <td>0</td>\n",
       "      <td>Friendly</td>\n",
       "      <td>Glasgow</td>\n",
       "      <td>Scotland</td>\n",
       "      <td>False</td>\n",
       "      <td>draw</td>\n",
       "    </tr>\n",
       "    <tr>\n",
       "      <th>1</th>\n",
       "      <td>1873-03-08</td>\n",
       "      <td>England</td>\n",
       "      <td>Scotland</td>\n",
       "      <td>4</td>\n",
       "      <td>2</td>\n",
       "      <td>Friendly</td>\n",
       "      <td>London</td>\n",
       "      <td>England</td>\n",
       "      <td>False</td>\n",
       "      <td>home_win</td>\n",
       "    </tr>\n",
       "  </tbody>\n",
       "</table>\n",
       "</div>"
      ],
      "text/plain": [
       "         date home_team away_team  home_score  away_score tournament     city  \\\n",
       "0  1872-11-30  Scotland   England           0           0   Friendly  Glasgow   \n",
       "1  1873-03-08   England  Scotland           4           2   Friendly   London   \n",
       "\n",
       "    country  neutral    winner  \n",
       "0  Scotland    False      draw  \n",
       "1   England    False  home_win  "
      ]
     },
     "execution_count": 75,
     "metadata": {},
     "output_type": "execute_result"
    }
   ],
   "source": [
    "df.head(2)"
   ]
  },
  {
   "cell_type": "code",
   "execution_count": 9,
   "id": "566bdf9a",
   "metadata": {},
   "outputs": [],
   "source": [
    "df['year'] = df.apply(lambda x: x.date[:4], axis=1)\n",
    "df['month'] = df.apply(lambda x: x.date[5:7], axis=1)"
   ]
  },
  {
   "cell_type": "code",
   "execution_count": 10,
   "id": "7e86fb22",
   "metadata": {},
   "outputs": [],
   "source": [
    "fr['year'] = fr.apply(lambda x: x.rank_date[:4], axis=1)\n",
    "fr['month'] = fr.apply(lambda x: x.rank_date[5:7], axis=1)"
   ]
  },
  {
   "cell_type": "code",
   "execution_count": 87,
   "id": "df5ea816",
   "metadata": {},
   "outputs": [
    {
     "data": {
      "text/html": [
       "<div>\n",
       "<style scoped>\n",
       "    .dataframe tbody tr th:only-of-type {\n",
       "        vertical-align: middle;\n",
       "    }\n",
       "\n",
       "    .dataframe tbody tr th {\n",
       "        vertical-align: top;\n",
       "    }\n",
       "\n",
       "    .dataframe thead tr th {\n",
       "        text-align: left;\n",
       "    }\n",
       "\n",
       "    .dataframe thead tr:last-of-type th {\n",
       "        text-align: right;\n",
       "    }\n",
       "</style>\n",
       "<table border=\"1\" class=\"dataframe\">\n",
       "  <thead>\n",
       "    <tr>\n",
       "      <th></th>\n",
       "      <th colspan=\"2\" halign=\"left\">date</th>\n",
       "    </tr>\n",
       "    <tr>\n",
       "      <th></th>\n",
       "      <th>min</th>\n",
       "      <th>max</th>\n",
       "    </tr>\n",
       "    <tr>\n",
       "      <th>month</th>\n",
       "      <th></th>\n",
       "      <th></th>\n",
       "    </tr>\n",
       "  </thead>\n",
       "  <tbody>\n",
       "    <tr>\n",
       "      <th>01</th>\n",
       "      <td>1879-01-18</td>\n",
       "      <td>2022-01-30</td>\n",
       "    </tr>\n",
       "    <tr>\n",
       "      <th>02</th>\n",
       "      <td>1881-02-26</td>\n",
       "      <td>2022-02-06</td>\n",
       "    </tr>\n",
       "    <tr>\n",
       "      <th>03</th>\n",
       "      <td>1873-03-08</td>\n",
       "      <td>2022-03-30</td>\n",
       "    </tr>\n",
       "    <tr>\n",
       "      <th>04</th>\n",
       "      <td>1879-04-05</td>\n",
       "      <td>2022-04-27</td>\n",
       "    </tr>\n",
       "    <tr>\n",
       "      <th>05</th>\n",
       "      <td>1902-05-03</td>\n",
       "      <td>2022-05-31</td>\n",
       "    </tr>\n",
       "    <tr>\n",
       "      <th>06</th>\n",
       "      <td>1903-06-11</td>\n",
       "      <td>2022-06-14</td>\n",
       "    </tr>\n",
       "    <tr>\n",
       "      <th>07</th>\n",
       "      <td>1902-07-20</td>\n",
       "      <td>2021-07-29</td>\n",
       "    </tr>\n",
       "    <tr>\n",
       "      <th>08</th>\n",
       "      <td>1905-08-15</td>\n",
       "      <td>2021-08-29</td>\n",
       "    </tr>\n",
       "    <tr>\n",
       "      <th>09</th>\n",
       "      <td>1888-09-19</td>\n",
       "      <td>2021-09-30</td>\n",
       "    </tr>\n",
       "    <tr>\n",
       "      <th>10</th>\n",
       "      <td>1902-10-12</td>\n",
       "      <td>2021-10-27</td>\n",
       "    </tr>\n",
       "    <tr>\n",
       "      <th>11</th>\n",
       "      <td>1872-11-30</td>\n",
       "      <td>2021-11-30</td>\n",
       "    </tr>\n",
       "    <tr>\n",
       "      <th>12</th>\n",
       "      <td>1911-12-17</td>\n",
       "      <td>2021-12-31</td>\n",
       "    </tr>\n",
       "  </tbody>\n",
       "</table>\n",
       "</div>"
      ],
      "text/plain": [
       "             date            \n",
       "              min         max\n",
       "month                        \n",
       "01     1879-01-18  2022-01-30\n",
       "02     1881-02-26  2022-02-06\n",
       "03     1873-03-08  2022-03-30\n",
       "04     1879-04-05  2022-04-27\n",
       "05     1902-05-03  2022-05-31\n",
       "06     1903-06-11  2022-06-14\n",
       "07     1902-07-20  2021-07-29\n",
       "08     1905-08-15  2021-08-29\n",
       "09     1888-09-19  2021-09-30\n",
       "10     1902-10-12  2021-10-27\n",
       "11     1872-11-30  2021-11-30\n",
       "12     1911-12-17  2021-12-31"
      ]
     },
     "execution_count": 87,
     "metadata": {},
     "output_type": "execute_result"
    }
   ],
   "source": [
    "df.groupby('month').agg({'date':['min', 'max']})"
   ]
  },
  {
   "cell_type": "code",
   "execution_count": 90,
   "id": "0f20a389",
   "metadata": {},
   "outputs": [
    {
     "data": {
      "text/plain": [
       "<AxesSubplot:xlabel='rank_date', ylabel='rank'>"
      ]
     },
     "execution_count": 90,
     "metadata": {},
     "output_type": "execute_result"
    },
    {
     "data": {
      "image/png": "[encoded data removed]",
      "text/plain": [
       "<Figure size 432x288 with 1 Axes>"
      ]
     },
     "metadata": {
      "needs_background": "light"
     },
     "output_type": "display_data"
    }
   ],
   "source": [
    "sns.lineplot(x='rank_date', y='rank', data=fr.query('country_full==\"Morocco\"'))\n"
   ]
  },
  {
   "cell_type": "code",
   "execution_count": 95,
   "id": "4ffb09e5",
   "metadata": {},
   "outputs": [
    {
     "data": {
      "image/png": "[encoded data removed]",
      "text/plain": [
       "<Figure size 432x360 with 1 Axes>"
      ]
     },
     "metadata": {
      "needs_background": "light"
     },
     "output_type": "display_data"
    }
   ],
   "source": [
    "plt.figure(figsize=(6, 5))\n",
    "sns.lineplot(x='year', y='rank', data=fr.query('country_full==\"Morocco\"'))\n",
    "plt.xticks(rotation=90)\n",
    "plt.show()"
   ]
  },
  {
   "cell_type": "code",
   "execution_count": 98,
   "id": "2741d81f",
   "metadata": {},
   "outputs": [
    {
     "data": {
      "text/plain": [
       "209"
      ]
     },
     "execution_count": 98,
     "metadata": {},
     "output_type": "execute_result"
    }
   ],
   "source": [
    "fr['rank'].max()"
   ]
  },
  {
   "cell_type": "code",
   "execution_count": 99,
   "id": "d167ab6f",
   "metadata": {},
   "outputs": [
    {
     "data": {
      "text/plain": [
       "Index(['rank', 'country_full', 'country_abrv', 'total_points',\n",
       "       'previous_points', 'rank_change', 'cur_year_avg',\n",
       "       'cur_year_avg_weighted', 'last_year_avg', 'last_year_avg_weighted',\n",
       "       'two_year_ago_avg', 'two_year_ago_weighted', 'three_year_ago_avg',\n",
       "       'three_year_ago_weighted', 'confederation', 'rank_date', 'year',\n",
       "       'month'],\n",
       "      dtype='object')"
      ]
     },
     "execution_count": 99,
     "metadata": {},
     "output_type": "execute_result"
    }
   ],
   "source": [
    "fr.columns"
   ]
  },
  {
   "cell_type": "code",
   "execution_count": 103,
   "id": "e1ff8a30",
   "metadata": {},
   "outputs": [
    {
     "data": {
      "text/html": [
       "<div>\n",
       "<style scoped>\n",
       "    .dataframe tbody tr th:only-of-type {\n",
       "        vertical-align: middle;\n",
       "    }\n",
       "\n",
       "    .dataframe tbody tr th {\n",
       "        vertical-align: top;\n",
       "    }\n",
       "\n",
       "    .dataframe thead th {\n",
       "        text-align: right;\n",
       "    }\n",
       "</style>\n",
       "<table border=\"1\" class=\"dataframe\">\n",
       "  <thead>\n",
       "    <tr style=\"text-align: right;\">\n",
       "      <th></th>\n",
       "      <th>rank</th>\n",
       "      <th>country_full</th>\n",
       "      <th>country_abrv</th>\n",
       "      <th>total_points</th>\n",
       "      <th>previous_points</th>\n",
       "      <th>rank_change</th>\n",
       "      <th>cur_year_avg</th>\n",
       "      <th>cur_year_avg_weighted</th>\n",
       "      <th>last_year_avg</th>\n",
       "      <th>last_year_avg_weighted</th>\n",
       "      <th>two_year_ago_avg</th>\n",
       "      <th>two_year_ago_weighted</th>\n",
       "      <th>three_year_ago_avg</th>\n",
       "      <th>three_year_ago_weighted</th>\n",
       "      <th>confederation</th>\n",
       "      <th>rank_date</th>\n",
       "      <th>year</th>\n",
       "      <th>month</th>\n",
       "    </tr>\n",
       "  </thead>\n",
       "  <tbody>\n",
       "    <tr>\n",
       "      <th>40379</th>\n",
       "      <td>1</td>\n",
       "      <td>Netherlands</td>\n",
       "      <td>NED</td>\n",
       "      <td>1596.13</td>\n",
       "      <td>1542</td>\n",
       "      <td>1</td>\n",
       "      <td>748.05</td>\n",
       "      <td>748.05</td>\n",
       "      <td>976.46</td>\n",
       "      <td>488.23</td>\n",
       "      <td>740.63</td>\n",
       "      <td>222.19</td>\n",
       "      <td>688.31</td>\n",
       "      <td>137.66</td>\n",
       "      <td>UEFA</td>\n",
       "      <td>2011-08-24</td>\n",
       "      <td>2011</td>\n",
       "      <td>08</td>\n",
       "    </tr>\n",
       "    <tr>\n",
       "      <th>40380</th>\n",
       "      <td>2</td>\n",
       "      <td>Spain</td>\n",
       "      <td>ESP</td>\n",
       "      <td>1563.45</td>\n",
       "      <td>1588</td>\n",
       "      <td>-1</td>\n",
       "      <td>589.59</td>\n",
       "      <td>589.59</td>\n",
       "      <td>1074.04</td>\n",
       "      <td>537.02</td>\n",
       "      <td>796.81</td>\n",
       "      <td>239.04</td>\n",
       "      <td>989.00</td>\n",
       "      <td>197.80</td>\n",
       "      <td>UEFA</td>\n",
       "      <td>2011-08-24</td>\n",
       "      <td>2011</td>\n",
       "      <td>08</td>\n",
       "    </tr>\n",
       "    <tr>\n",
       "      <th>40381</th>\n",
       "      <td>3</td>\n",
       "      <td>Germany</td>\n",
       "      <td>GER</td>\n",
       "      <td>1329.86</td>\n",
       "      <td>1305</td>\n",
       "      <td>0</td>\n",
       "      <td>617.83</td>\n",
       "      <td>617.83</td>\n",
       "      <td>860.14</td>\n",
       "      <td>430.07</td>\n",
       "      <td>504.02</td>\n",
       "      <td>151.21</td>\n",
       "      <td>653.74</td>\n",
       "      <td>130.75</td>\n",
       "      <td>UEFA</td>\n",
       "      <td>2011-08-24</td>\n",
       "      <td>2011</td>\n",
       "      <td>08</td>\n",
       "    </tr>\n",
       "    <tr>\n",
       "      <th>40382</th>\n",
       "      <td>4</td>\n",
       "      <td>England</td>\n",
       "      <td>ENG</td>\n",
       "      <td>1176.88</td>\n",
       "      <td>1146</td>\n",
       "      <td>2</td>\n",
       "      <td>588.08</td>\n",
       "      <td>588.08</td>\n",
       "      <td>620.77</td>\n",
       "      <td>310.38</td>\n",
       "      <td>629.50</td>\n",
       "      <td>188.85</td>\n",
       "      <td>447.85</td>\n",
       "      <td>89.57</td>\n",
       "      <td>UEFA</td>\n",
       "      <td>2011-08-24</td>\n",
       "      <td>2011</td>\n",
       "      <td>08</td>\n",
       "    </tr>\n",
       "    <tr>\n",
       "      <th>40383</th>\n",
       "      <td>5</td>\n",
       "      <td>Uruguay</td>\n",
       "      <td>URU</td>\n",
       "      <td>1174.34</td>\n",
       "      <td>1156</td>\n",
       "      <td>0</td>\n",
       "      <td>599.26</td>\n",
       "      <td>599.26</td>\n",
       "      <td>756.29</td>\n",
       "      <td>378.15</td>\n",
       "      <td>415.70</td>\n",
       "      <td>124.71</td>\n",
       "      <td>361.09</td>\n",
       "      <td>72.22</td>\n",
       "      <td>CONMEBOL</td>\n",
       "      <td>2011-08-24</td>\n",
       "      <td>2011</td>\n",
       "      <td>08</td>\n",
       "    </tr>\n",
       "    <tr>\n",
       "      <th>...</th>\n",
       "      <td>...</td>\n",
       "      <td>...</td>\n",
       "      <td>...</td>\n",
       "      <td>...</td>\n",
       "      <td>...</td>\n",
       "      <td>...</td>\n",
       "      <td>...</td>\n",
       "      <td>...</td>\n",
       "      <td>...</td>\n",
       "      <td>...</td>\n",
       "      <td>...</td>\n",
       "      <td>...</td>\n",
       "      <td>...</td>\n",
       "      <td>...</td>\n",
       "      <td>...</td>\n",
       "      <td>...</td>\n",
       "      <td>...</td>\n",
       "      <td>...</td>\n",
       "    </tr>\n",
       "    <tr>\n",
       "      <th>57782</th>\n",
       "      <td>201</td>\n",
       "      <td>Pakistan</td>\n",
       "      <td>PAK</td>\n",
       "      <td>10.17</td>\n",
       "      <td>10</td>\n",
       "      <td>2</td>\n",
       "      <td>0.00</td>\n",
       "      <td>0.00</td>\n",
       "      <td>0.00</td>\n",
       "      <td>0.00</td>\n",
       "      <td>0.00</td>\n",
       "      <td>0.00</td>\n",
       "      <td>50.83</td>\n",
       "      <td>10.17</td>\n",
       "      <td>AFC</td>\n",
       "      <td>2018-06-07</td>\n",
       "      <td>2018</td>\n",
       "      <td>06</td>\n",
       "    </tr>\n",
       "    <tr>\n",
       "      <th>57783</th>\n",
       "      <td>202</td>\n",
       "      <td>Cayman Islands</td>\n",
       "      <td>CAY</td>\n",
       "      <td>8.50</td>\n",
       "      <td>9</td>\n",
       "      <td>2</td>\n",
       "      <td>0.00</td>\n",
       "      <td>0.00</td>\n",
       "      <td>0.00</td>\n",
       "      <td>0.00</td>\n",
       "      <td>0.00</td>\n",
       "      <td>0.00</td>\n",
       "      <td>42.50</td>\n",
       "      <td>8.50</td>\n",
       "      <td>CONCACAF</td>\n",
       "      <td>2018-06-07</td>\n",
       "      <td>2018</td>\n",
       "      <td>06</td>\n",
       "    </tr>\n",
       "    <tr>\n",
       "      <th>57784</th>\n",
       "      <td>203</td>\n",
       "      <td>San Marino</td>\n",
       "      <td>SMR</td>\n",
       "      <td>7.92</td>\n",
       "      <td>8</td>\n",
       "      <td>2</td>\n",
       "      <td>0.00</td>\n",
       "      <td>0.00</td>\n",
       "      <td>0.00</td>\n",
       "      <td>0.00</td>\n",
       "      <td>0.00</td>\n",
       "      <td>0.00</td>\n",
       "      <td>39.60</td>\n",
       "      <td>7.92</td>\n",
       "      <td>UEFA</td>\n",
       "      <td>2018-06-07</td>\n",
       "      <td>2018</td>\n",
       "      <td>06</td>\n",
       "    </tr>\n",
       "    <tr>\n",
       "      <th>57785</th>\n",
       "      <td>204</td>\n",
       "      <td>British Virgin Islands</td>\n",
       "      <td>VGB</td>\n",
       "      <td>4.25</td>\n",
       "      <td>4</td>\n",
       "      <td>2</td>\n",
       "      <td>0.00</td>\n",
       "      <td>0.00</td>\n",
       "      <td>0.00</td>\n",
       "      <td>0.00</td>\n",
       "      <td>0.00</td>\n",
       "      <td>0.00</td>\n",
       "      <td>21.25</td>\n",
       "      <td>4.25</td>\n",
       "      <td>CONCACAF</td>\n",
       "      <td>2018-06-07</td>\n",
       "      <td>2018</td>\n",
       "      <td>06</td>\n",
       "    </tr>\n",
       "    <tr>\n",
       "      <th>57786</th>\n",
       "      <td>204</td>\n",
       "      <td>Montserrat</td>\n",
       "      <td>MSR</td>\n",
       "      <td>4.25</td>\n",
       "      <td>17</td>\n",
       "      <td>-4</td>\n",
       "      <td>0.00</td>\n",
       "      <td>0.00</td>\n",
       "      <td>0.00</td>\n",
       "      <td>0.00</td>\n",
       "      <td>0.00</td>\n",
       "      <td>0.00</td>\n",
       "      <td>21.25</td>\n",
       "      <td>4.25</td>\n",
       "      <td>CONCACAF</td>\n",
       "      <td>2018-06-07</td>\n",
       "      <td>2018</td>\n",
       "      <td>06</td>\n",
       "    </tr>\n",
       "  </tbody>\n",
       "</table>\n",
       "<p>17081 rows × 18 columns</p>\n",
       "</div>"
      ],
      "text/plain": [
       "       rank            country_full country_abrv  total_points  \\\n",
       "40379     1             Netherlands          NED       1596.13   \n",
       "40380     2                   Spain          ESP       1563.45   \n",
       "40381     3                 Germany          GER       1329.86   \n",
       "40382     4                 England          ENG       1176.88   \n",
       "40383     5                 Uruguay          URU       1174.34   \n",
       "...     ...                     ...          ...           ...   \n",
       "57782   201                Pakistan          PAK         10.17   \n",
       "57783   202          Cayman Islands          CAY          8.50   \n",
       "57784   203              San Marino          SMR          7.92   \n",
       "57785   204  British Virgin Islands          VGB          4.25   \n",
       "57786   204              Montserrat          MSR          4.25   \n",
       "\n",
       "       previous_points  rank_change  cur_year_avg  cur_year_avg_weighted  \\\n",
       "40379             1542            1        748.05                 748.05   \n",
       "40380             1588           -1        589.59                 589.59   \n",
       "40381             1305            0        617.83                 617.83   \n",
       "40382             1146            2        588.08                 588.08   \n",
       "40383             1156            0        599.26                 599.26   \n",
       "...                ...          ...           ...                    ...   \n",
       "57782               10            2          0.00                   0.00   \n",
       "57783                9            2          0.00                   0.00   \n",
       "57784                8            2          0.00                   0.00   \n",
       "57785                4            2          0.00                   0.00   \n",
       "57786               17           -4          0.00                   0.00   \n",
       "\n",
       "       last_year_avg  last_year_avg_weighted  two_year_ago_avg  \\\n",
       "40379         976.46                  488.23            740.63   \n",
       "40380        1074.04                  537.02            796.81   \n",
       "40381         860.14                  430.07            504.02   \n",
       "40382         620.77                  310.38            629.50   \n",
       "40383         756.29                  378.15            415.70   \n",
       "...              ...                     ...               ...   \n",
       "57782           0.00                    0.00              0.00   \n",
       "57783           0.00                    0.00              0.00   \n",
       "57784           0.00                    0.00              0.00   \n",
       "57785           0.00                    0.00              0.00   \n",
       "57786           0.00                    0.00              0.00   \n",
       "\n",
       "       two_year_ago_weighted  three_year_ago_avg  three_year_ago_weighted  \\\n",
       "40379                 222.19              688.31                   137.66   \n",
       "40380                 239.04              989.00                   197.80   \n",
       "40381                 151.21              653.74                   130.75   \n",
       "40382                 188.85              447.85                    89.57   \n",
       "40383                 124.71              361.09                    72.22   \n",
       "...                      ...                 ...                      ...   \n",
       "57782                   0.00               50.83                    10.17   \n",
       "57783                   0.00               42.50                     8.50   \n",
       "57784                   0.00               39.60                     7.92   \n",
       "57785                   0.00               21.25                     4.25   \n",
       "57786                   0.00               21.25                     4.25   \n",
       "\n",
       "      confederation   rank_date  year month  \n",
       "40379          UEFA  2011-08-24  2011    08  \n",
       "40380          UEFA  2011-08-24  2011    08  \n",
       "40381          UEFA  2011-08-24  2011    08  \n",
       "40382          UEFA  2011-08-24  2011    08  \n",
       "40383      CONMEBOL  2011-08-24  2011    08  \n",
       "...             ...         ...   ...   ...  \n",
       "57782           AFC  2018-06-07  2018    06  \n",
       "57783      CONCACAF  2018-06-07  2018    06  \n",
       "57784          UEFA  2018-06-07  2018    06  \n",
       "57785      CONCACAF  2018-06-07  2018    06  \n",
       "57786      CONCACAF  2018-06-07  2018    06  \n",
       "\n",
       "[17081 rows x 18 columns]"
      ]
     },
     "execution_count": 103,
     "metadata": {},
     "output_type": "execute_result"
    }
   ],
   "source": [
    "fr.query('total_points>0')"
   ]
  },
  {
   "cell_type": "code",
   "execution_count": 105,
   "id": "e129cd86",
   "metadata": {},
   "outputs": [
    {
     "data": {
      "text/plain": [
       "Index(['rank', 'country_full', 'country_abrv', 'total_points',\n",
       "       'previous_points', 'rank_change', 'cur_year_avg',\n",
       "       'cur_year_avg_weighted', 'last_year_avg', 'last_year_avg_weighted',\n",
       "       'two_year_ago_avg', 'two_year_ago_weighted', 'three_year_ago_avg',\n",
       "       'three_year_ago_weighted', 'confederation', 'rank_date', 'year',\n",
       "       'month'],\n",
       "      dtype='object')"
      ]
     },
     "execution_count": 105,
     "metadata": {},
     "output_type": "execute_result"
    }
   ],
   "source": [
    "fr.columns"
   ]
  },
  {
   "cell_type": "code",
   "execution_count": 333,
   "id": "fab79b33",
   "metadata": {},
   "outputs": [
    {
     "name": "stdout",
     "output_type": "stream",
     "text": [
      "Cabo Verde\n",
      "Congo DR\n",
      "Kyrgyz Republic\n",
      "Côte d'Ivoire\n",
      "IR Iran\n",
      "USA\n",
      "Türkiye\n",
      "Korea Republic\n",
      "St. Vincent and the Grenadines\n",
      "St. Lucia\n",
      "US Virgin Islands\n",
      "Brunei Darussalam\n",
      "Chinese Taipei\n",
      "Korea DPR\n",
      "St. Kitts and Nevis\n"
     ]
    }
   ],
   "source": [
    "#for col in df.home_team.unique():\n",
    "#    if col not in fr.country_full.unique():\n",
    "#        print(col)\n",
    "for col in fr.country_full.unique():\n",
    "    if col not in df.home_team.unique():\n",
    "        print(col)"
   ]
  },
  {
   "cell_type": "code",
   "execution_count": 338,
   "id": "0689fe21",
   "metadata": {},
   "outputs": [
    {
     "data": {
      "text/plain": [
       "Index(['date', 'home_team', 'away_team', 'home_score', 'away_score',\n",
       "       'tournament', 'city', 'country', 'neutral', 'winner', 'year', 'month',\n",
       "       'rank', 'country_full', 'country_abrv', 'total_points',\n",
       "       'previous_points', 'rank_change', 'confederation', 'rank_date',\n",
       "       'rank__away', 'country_full__away', 'country_abrv__away',\n",
       "       'total_points__away', 'previous_points__away', 'rank_change__away',\n",
       "       'confederation__away', 'rank_date__away', 'home_tier', 'away_tier',\n",
       "       'home_win', 'marginal_effect', 'effect_tier', 'match_importance',\n",
       "       'year_int'],\n",
       "      dtype='object')"
      ]
     },
     "execution_count": 338,
     "metadata": {},
     "output_type": "execute_result"
    }
   ],
   "source": [
    "data.columns"
   ]
  },
  {
   "cell_type": "code",
   "execution_count": 335,
   "id": "1bb9c8ae",
   "metadata": {},
   "outputs": [],
   "source": [
    "data_dup = data.copy()"
   ]
  },
  {
   "cell_type": "code",
   "execution_count": 340,
   "id": "7334ee98",
   "metadata": {},
   "outputs": [],
   "source": [
    "data_dup['home_team'] = data['away_team']\n",
    "data_dup['away_team'] = data['home_team']\n",
    "data_dup['winner'] = data_dup['winner'].replace({'home_win':'home_lose', 'home_lose':'home_win'})\n",
    "data_dup['rank'] = data['rank__away']\n",
    "data_dup['country_full'] = data['country_full__away']\n",
    "data_dup['total_points'] = data['total_points__away']\n",
    "data_dup['confederation'] = data['confederation__away']\n",
    "data_dup['rank__away'] = data['rank']\n",
    "data_dup['country_full__away'] = data['country_full']\n",
    "data_dup['total_points__away'] = data['total_points']\n",
    "data_dup['confederation__away'] = data['confederation']"
   ]
  },
  {
   "cell_type": "code",
   "execution_count": 343,
   "id": "9edb9ee4",
   "metadata": {},
   "outputs": [
    {
     "data": {
      "text/html": [
       "<div>\n",
       "<style scoped>\n",
       "    .dataframe tbody tr th:only-of-type {\n",
       "        vertical-align: middle;\n",
       "    }\n",
       "\n",
       "    .dataframe tbody tr th {\n",
       "        vertical-align: top;\n",
       "    }\n",
       "\n",
       "    .dataframe thead th {\n",
       "        text-align: right;\n",
       "    }\n",
       "</style>\n",
       "<table border=\"1\" class=\"dataframe\">\n",
       "  <thead>\n",
       "    <tr style=\"text-align: right;\">\n",
       "      <th></th>\n",
       "      <th>date</th>\n",
       "      <th>home_team</th>\n",
       "      <th>away_team</th>\n",
       "      <th>home_score</th>\n",
       "      <th>away_score</th>\n",
       "      <th>tournament</th>\n",
       "      <th>city</th>\n",
       "      <th>country</th>\n",
       "      <th>neutral</th>\n",
       "      <th>winner</th>\n",
       "      <th>year</th>\n",
       "      <th>month</th>\n",
       "      <th>rank</th>\n",
       "      <th>country_full</th>\n",
       "      <th>country_abrv</th>\n",
       "      <th>total_points</th>\n",
       "      <th>previous_points</th>\n",
       "      <th>rank_change</th>\n",
       "      <th>confederation</th>\n",
       "      <th>rank_date</th>\n",
       "      <th>rank__away</th>\n",
       "      <th>country_full__away</th>\n",
       "      <th>country_abrv__away</th>\n",
       "      <th>total_points__away</th>\n",
       "      <th>previous_points__away</th>\n",
       "      <th>rank_change__away</th>\n",
       "      <th>confederation__away</th>\n",
       "      <th>rank_date__away</th>\n",
       "      <th>home_tier</th>\n",
       "      <th>away_tier</th>\n",
       "      <th>home_win</th>\n",
       "      <th>marginal_effect</th>\n",
       "      <th>effect_tier</th>\n",
       "      <th>match_importance</th>\n",
       "      <th>year_int</th>\n",
       "    </tr>\n",
       "  </thead>\n",
       "  <tbody>\n",
       "    <tr>\n",
       "      <th>0</th>\n",
       "      <td>1992-12-01</td>\n",
       "      <td>Saudi Arabia</td>\n",
       "      <td>United Arab Emirates</td>\n",
       "      <td>0</td>\n",
       "      <td>1</td>\n",
       "      <td>Gulf Cup</td>\n",
       "      <td>Doha</td>\n",
       "      <td>Qatar</td>\n",
       "      <td>True</td>\n",
       "      <td>home_lose</td>\n",
       "      <td>1992</td>\n",
       "      <td>12</td>\n",
       "      <td>53</td>\n",
       "      <td>Saudi Arabia</td>\n",
       "      <td>KSA</td>\n",
       "      <td>1435.74</td>\n",
       "      <td>1435.74</td>\n",
       "      <td>0</td>\n",
       "      <td>AFC</td>\n",
       "      <td>1992-12-31</td>\n",
       "      <td>69</td>\n",
       "      <td>United Arab Emirates</td>\n",
       "      <td>UAE</td>\n",
       "      <td>1346.09</td>\n",
       "      <td>1346.09</td>\n",
       "      <td>0</td>\n",
       "      <td>AFC</td>\n",
       "      <td>1992-12-31</td>\n",
       "      <td>bronze</td>\n",
       "      <td>bronze</td>\n",
       "      <td>0</td>\n",
       "      <td>0.066600</td>\n",
       "      <td>high</td>\n",
       "      <td>0.023518</td>\n",
       "      <td>1992</td>\n",
       "    </tr>\n",
       "    <tr>\n",
       "      <th>1</th>\n",
       "      <td>1992-12-06</td>\n",
       "      <td>Qatar</td>\n",
       "      <td>United Arab Emirates</td>\n",
       "      <td>1</td>\n",
       "      <td>0</td>\n",
       "      <td>Gulf Cup</td>\n",
       "      <td>Doha</td>\n",
       "      <td>Qatar</td>\n",
       "      <td>False</td>\n",
       "      <td>home_win</td>\n",
       "      <td>1992</td>\n",
       "      <td>12</td>\n",
       "      <td>48</td>\n",
       "      <td>Qatar</td>\n",
       "      <td>QAT</td>\n",
       "      <td>1441.97</td>\n",
       "      <td>1441.41</td>\n",
       "      <td>-1</td>\n",
       "      <td>AFC</td>\n",
       "      <td>1992-12-31</td>\n",
       "      <td>69</td>\n",
       "      <td>United Arab Emirates</td>\n",
       "      <td>UAE</td>\n",
       "      <td>1346.09</td>\n",
       "      <td>1346.09</td>\n",
       "      <td>0</td>\n",
       "      <td>AFC</td>\n",
       "      <td>1992-12-31</td>\n",
       "      <td>bronze</td>\n",
       "      <td>bronze</td>\n",
       "      <td>1</td>\n",
       "      <td>0.071229</td>\n",
       "      <td>high</td>\n",
       "      <td>0.023518</td>\n",
       "      <td>1992</td>\n",
       "    </tr>\n",
       "  </tbody>\n",
       "</table>\n",
       "</div>"
      ],
      "text/plain": [
       "         date     home_team             away_team  home_score  away_score  \\\n",
       "0  1992-12-01  Saudi Arabia  United Arab Emirates           0           1   \n",
       "1  1992-12-06         Qatar  United Arab Emirates           1           0   \n",
       "\n",
       "  tournament  city country  neutral     winner  year month  rank  \\\n",
       "0   Gulf Cup  Doha   Qatar     True  home_lose  1992    12    53   \n",
       "1   Gulf Cup  Doha   Qatar    False   home_win  1992    12    48   \n",
       "\n",
       "   country_full country_abrv  total_points  previous_points  rank_change  \\\n",
       "0  Saudi Arabia          KSA       1435.74          1435.74            0   \n",
       "1         Qatar          QAT       1441.97          1441.41           -1   \n",
       "\n",
       "  confederation   rank_date  rank__away    country_full__away  \\\n",
       "0           AFC  1992-12-31          69  United Arab Emirates   \n",
       "1           AFC  1992-12-31          69  United Arab Emirates   \n",
       "\n",
       "  country_abrv__away  total_points__away  previous_points__away  \\\n",
       "0                UAE             1346.09                1346.09   \n",
       "1                UAE             1346.09                1346.09   \n",
       "\n",
       "   rank_change__away confederation__away rank_date__away home_tier away_tier  \\\n",
       "0                  0                 AFC      1992-12-31    bronze    bronze   \n",
       "1                  0                 AFC      1992-12-31    bronze    bronze   \n",
       "\n",
       "   home_win  marginal_effect effect_tier  match_importance  year_int  \n",
       "0         0         0.066600        high          0.023518      1992  \n",
       "1         1         0.071229        high          0.023518      1992  "
      ]
     },
     "execution_count": 343,
     "metadata": {},
     "output_type": "execute_result"
    }
   ],
   "source": [
    "data.head(2)"
   ]
  },
  {
   "cell_type": "code",
   "execution_count": 342,
   "id": "c409776f",
   "metadata": {},
   "outputs": [
    {
     "data": {
      "text/html": [
       "<div>\n",
       "<style scoped>\n",
       "    .dataframe tbody tr th:only-of-type {\n",
       "        vertical-align: middle;\n",
       "    }\n",
       "\n",
       "    .dataframe tbody tr th {\n",
       "        vertical-align: top;\n",
       "    }\n",
       "\n",
       "    .dataframe thead th {\n",
       "        text-align: right;\n",
       "    }\n",
       "</style>\n",
       "<table border=\"1\" class=\"dataframe\">\n",
       "  <thead>\n",
       "    <tr style=\"text-align: right;\">\n",
       "      <th></th>\n",
       "      <th>date</th>\n",
       "      <th>home_team</th>\n",
       "      <th>away_team</th>\n",
       "      <th>home_score</th>\n",
       "      <th>away_score</th>\n",
       "      <th>tournament</th>\n",
       "      <th>city</th>\n",
       "      <th>country</th>\n",
       "      <th>neutral</th>\n",
       "      <th>winner</th>\n",
       "      <th>year</th>\n",
       "      <th>month</th>\n",
       "      <th>rank</th>\n",
       "      <th>country_full</th>\n",
       "      <th>country_abrv</th>\n",
       "      <th>total_points</th>\n",
       "      <th>previous_points</th>\n",
       "      <th>rank_change</th>\n",
       "      <th>confederation</th>\n",
       "      <th>rank_date</th>\n",
       "      <th>rank__away</th>\n",
       "      <th>country_full__away</th>\n",
       "      <th>country_abrv__away</th>\n",
       "      <th>total_points__away</th>\n",
       "      <th>previous_points__away</th>\n",
       "      <th>rank_change__away</th>\n",
       "      <th>confederation__away</th>\n",
       "      <th>rank_date__away</th>\n",
       "      <th>home_tier</th>\n",
       "      <th>away_tier</th>\n",
       "      <th>home_win</th>\n",
       "      <th>marginal_effect</th>\n",
       "      <th>effect_tier</th>\n",
       "      <th>match_importance</th>\n",
       "      <th>year_int</th>\n",
       "    </tr>\n",
       "  </thead>\n",
       "  <tbody>\n",
       "    <tr>\n",
       "      <th>0</th>\n",
       "      <td>1992-12-01</td>\n",
       "      <td>United Arab Emirates</td>\n",
       "      <td>Saudi Arabia</td>\n",
       "      <td>0</td>\n",
       "      <td>1</td>\n",
       "      <td>Gulf Cup</td>\n",
       "      <td>Doha</td>\n",
       "      <td>Qatar</td>\n",
       "      <td>True</td>\n",
       "      <td>home_win</td>\n",
       "      <td>1992</td>\n",
       "      <td>12</td>\n",
       "      <td>69</td>\n",
       "      <td>United Arab Emirates</td>\n",
       "      <td>KSA</td>\n",
       "      <td>1346.09</td>\n",
       "      <td>1435.74</td>\n",
       "      <td>0</td>\n",
       "      <td>AFC</td>\n",
       "      <td>1992-12-31</td>\n",
       "      <td>53</td>\n",
       "      <td>Saudi Arabia</td>\n",
       "      <td>UAE</td>\n",
       "      <td>1435.74</td>\n",
       "      <td>1346.09</td>\n",
       "      <td>0</td>\n",
       "      <td>AFC</td>\n",
       "      <td>1992-12-31</td>\n",
       "      <td>bronze</td>\n",
       "      <td>bronze</td>\n",
       "      <td>0</td>\n",
       "      <td>0.066600</td>\n",
       "      <td>high</td>\n",
       "      <td>0.023518</td>\n",
       "      <td>1992</td>\n",
       "    </tr>\n",
       "    <tr>\n",
       "      <th>1</th>\n",
       "      <td>1992-12-06</td>\n",
       "      <td>United Arab Emirates</td>\n",
       "      <td>Qatar</td>\n",
       "      <td>1</td>\n",
       "      <td>0</td>\n",
       "      <td>Gulf Cup</td>\n",
       "      <td>Doha</td>\n",
       "      <td>Qatar</td>\n",
       "      <td>False</td>\n",
       "      <td>home_lose</td>\n",
       "      <td>1992</td>\n",
       "      <td>12</td>\n",
       "      <td>69</td>\n",
       "      <td>United Arab Emirates</td>\n",
       "      <td>QAT</td>\n",
       "      <td>1346.09</td>\n",
       "      <td>1441.41</td>\n",
       "      <td>-1</td>\n",
       "      <td>AFC</td>\n",
       "      <td>1992-12-31</td>\n",
       "      <td>48</td>\n",
       "      <td>Qatar</td>\n",
       "      <td>UAE</td>\n",
       "      <td>1441.97</td>\n",
       "      <td>1346.09</td>\n",
       "      <td>0</td>\n",
       "      <td>AFC</td>\n",
       "      <td>1992-12-31</td>\n",
       "      <td>bronze</td>\n",
       "      <td>bronze</td>\n",
       "      <td>1</td>\n",
       "      <td>0.071229</td>\n",
       "      <td>high</td>\n",
       "      <td>0.023518</td>\n",
       "      <td>1992</td>\n",
       "    </tr>\n",
       "  </tbody>\n",
       "</table>\n",
       "</div>"
      ],
      "text/plain": [
       "         date             home_team     away_team  home_score  away_score  \\\n",
       "0  1992-12-01  United Arab Emirates  Saudi Arabia           0           1   \n",
       "1  1992-12-06  United Arab Emirates         Qatar           1           0   \n",
       "\n",
       "  tournament  city country  neutral     winner  year month  rank  \\\n",
       "0   Gulf Cup  Doha   Qatar     True   home_win  1992    12    69   \n",
       "1   Gulf Cup  Doha   Qatar    False  home_lose  1992    12    69   \n",
       "\n",
       "           country_full country_abrv  total_points  previous_points  \\\n",
       "0  United Arab Emirates          KSA       1346.09          1435.74   \n",
       "1  United Arab Emirates          QAT       1346.09          1441.41   \n",
       "\n",
       "   rank_change confederation   rank_date  rank__away country_full__away  \\\n",
       "0            0           AFC  1992-12-31          53       Saudi Arabia   \n",
       "1           -1           AFC  1992-12-31          48              Qatar   \n",
       "\n",
       "  country_abrv__away  total_points__away  previous_points__away  \\\n",
       "0                UAE             1435.74                1346.09   \n",
       "1                UAE             1441.97                1346.09   \n",
       "\n",
       "   rank_change__away confederation__away rank_date__away home_tier away_tier  \\\n",
       "0                  0                 AFC      1992-12-31    bronze    bronze   \n",
       "1                  0                 AFC      1992-12-31    bronze    bronze   \n",
       "\n",
       "   home_win  marginal_effect effect_tier  match_importance  year_int  \n",
       "0         0         0.066600        high          0.023518      1992  \n",
       "1         1         0.071229        high          0.023518      1992  "
      ]
     },
     "execution_count": 342,
     "metadata": {},
     "output_type": "execute_result"
    }
   ],
   "source": [
    "data_dup.head(2)"
   ]
  },
  {
   "cell_type": "code",
   "execution_count": 344,
   "id": "2978e4ff",
   "metadata": {},
   "outputs": [],
   "source": [
    "#data\n",
    "#data_dup\n",
    "\n",
    "dt = pd.concat([data, data_dup])"
   ]
  },
  {
   "cell_type": "code",
   "execution_count": 11,
   "id": "d8482ef5",
   "metadata": {},
   "outputs": [],
   "source": [
    "data = df.merge(fr, left_on=['home_team', 'year', 'month'], \n",
    "                right_on=['country_full', 'year', 'month'], \n",
    "               suffixes=('', '__home'))"
   ]
  },
  {
   "cell_type": "code",
   "execution_count": 12,
   "id": "0f5f0fc2",
   "metadata": {},
   "outputs": [],
   "source": [
    "\n",
    "pd.set_option(\"display.max_columns\", None)"
   ]
  },
  {
   "cell_type": "code",
   "execution_count": 122,
   "id": "28f15598",
   "metadata": {},
   "outputs": [
    {
     "data": {
      "text/html": [
       "<div>\n",
       "<style scoped>\n",
       "    .dataframe tbody tr th:only-of-type {\n",
       "        vertical-align: middle;\n",
       "    }\n",
       "\n",
       "    .dataframe tbody tr th {\n",
       "        vertical-align: top;\n",
       "    }\n",
       "\n",
       "    .dataframe thead th {\n",
       "        text-align: right;\n",
       "    }\n",
       "</style>\n",
       "<table border=\"1\" class=\"dataframe\">\n",
       "  <thead>\n",
       "    <tr style=\"text-align: right;\">\n",
       "      <th></th>\n",
       "      <th>date</th>\n",
       "      <th>home_team</th>\n",
       "      <th>away_team</th>\n",
       "      <th>home_score</th>\n",
       "      <th>away_score</th>\n",
       "      <th>tournament</th>\n",
       "      <th>city</th>\n",
       "      <th>country</th>\n",
       "      <th>neutral</th>\n",
       "      <th>winner</th>\n",
       "      <th>year</th>\n",
       "      <th>month</th>\n",
       "      <th>rank</th>\n",
       "      <th>country_full</th>\n",
       "      <th>country_abrv</th>\n",
       "      <th>total_points</th>\n",
       "      <th>previous_points</th>\n",
       "      <th>rank_change</th>\n",
       "      <th>confederation</th>\n",
       "      <th>rank_date</th>\n",
       "    </tr>\n",
       "  </thead>\n",
       "  <tbody>\n",
       "    <tr>\n",
       "      <th>497</th>\n",
       "      <td>1994-09-16</td>\n",
       "      <td>Qatar</td>\n",
       "      <td>Yemen</td>\n",
       "      <td>2</td>\n",
       "      <td>0</td>\n",
       "      <td>Friendly</td>\n",
       "      <td>Doha</td>\n",
       "      <td>Qatar</td>\n",
       "      <td>False</td>\n",
       "      <td>home_win</td>\n",
       "      <td>1994</td>\n",
       "      <td>09</td>\n",
       "      <td>48</td>\n",
       "      <td>Qatar</td>\n",
       "      <td>QAT</td>\n",
       "      <td>1441.97</td>\n",
       "      <td>1441.41</td>\n",
       "      <td>-1</td>\n",
       "      <td>AFC</td>\n",
       "      <td>1994-09-13</td>\n",
       "    </tr>\n",
       "    <tr>\n",
       "      <th>498</th>\n",
       "      <td>1994-09-12</td>\n",
       "      <td>Bangladesh</td>\n",
       "      <td>India</td>\n",
       "      <td>2</td>\n",
       "      <td>4</td>\n",
       "      <td>Friendly</td>\n",
       "      <td>Doha</td>\n",
       "      <td>Qatar</td>\n",
       "      <td>True</td>\n",
       "      <td>home_lose</td>\n",
       "      <td>1994</td>\n",
       "      <td>09</td>\n",
       "      <td>192</td>\n",
       "      <td>Bangladesh</td>\n",
       "      <td>BAN</td>\n",
       "      <td>883.18</td>\n",
       "      <td>883.18</td>\n",
       "      <td>0</td>\n",
       "      <td>AFC</td>\n",
       "      <td>1994-09-13</td>\n",
       "    </tr>\n",
       "    <tr>\n",
       "      <th>499</th>\n",
       "      <td>1994-09-14</td>\n",
       "      <td>India</td>\n",
       "      <td>Yemen</td>\n",
       "      <td>0</td>\n",
       "      <td>1</td>\n",
       "      <td>Friendly</td>\n",
       "      <td>Doha</td>\n",
       "      <td>Qatar</td>\n",
       "      <td>True</td>\n",
       "      <td>home_lose</td>\n",
       "      <td>1994</td>\n",
       "      <td>09</td>\n",
       "      <td>104</td>\n",
       "      <td>India</td>\n",
       "      <td>IND</td>\n",
       "      <td>1198.65</td>\n",
       "      <td>1198.65</td>\n",
       "      <td>0</td>\n",
       "      <td>AFC</td>\n",
       "      <td>1994-09-13</td>\n",
       "    </tr>\n",
       "  </tbody>\n",
       "</table>\n",
       "</div>"
      ],
      "text/plain": [
       "           date   home_team away_team  home_score  away_score tournament  \\\n",
       "497  1994-09-16       Qatar     Yemen           2           0   Friendly   \n",
       "498  1994-09-12  Bangladesh     India           2           4   Friendly   \n",
       "499  1994-09-14       India     Yemen           0           1   Friendly   \n",
       "\n",
       "     city country  neutral     winner  year month  rank country_full  \\\n",
       "497  Doha   Qatar    False   home_win  1994    09    48        Qatar   \n",
       "498  Doha   Qatar     True  home_lose  1994    09   192   Bangladesh   \n",
       "499  Doha   Qatar     True  home_lose  1994    09   104        India   \n",
       "\n",
       "    country_abrv  total_points  previous_points  rank_change confederation  \\\n",
       "497          QAT       1441.97          1441.41           -1           AFC   \n",
       "498          BAN        883.18           883.18            0           AFC   \n",
       "499          IND       1198.65          1198.65            0           AFC   \n",
       "\n",
       "      rank_date  \n",
       "497  1994-09-13  \n",
       "498  1994-09-13  \n",
       "499  1994-09-13  "
      ]
     },
     "execution_count": 122,
     "metadata": {},
     "output_type": "execute_result"
    }
   ],
   "source": [
    "data.head(500).tail(3)"
   ]
  },
  {
   "cell_type": "code",
   "execution_count": 13,
   "id": "f3ae22a7",
   "metadata": {},
   "outputs": [],
   "source": [
    "data = data.merge(fr, left_on=['away_team', 'year', 'month'], \n",
    "                right_on=['country_full', 'year', 'month'], \n",
    "               suffixes=('', '__away'))"
   ]
  },
  {
   "cell_type": "code",
   "execution_count": 124,
   "id": "595af483",
   "metadata": {},
   "outputs": [
    {
     "data": {
      "text/html": [
       "<div>\n",
       "<style scoped>\n",
       "    .dataframe tbody tr th:only-of-type {\n",
       "        vertical-align: middle;\n",
       "    }\n",
       "\n",
       "    .dataframe tbody tr th {\n",
       "        vertical-align: top;\n",
       "    }\n",
       "\n",
       "    .dataframe thead th {\n",
       "        text-align: right;\n",
       "    }\n",
       "</style>\n",
       "<table border=\"1\" class=\"dataframe\">\n",
       "  <thead>\n",
       "    <tr style=\"text-align: right;\">\n",
       "      <th></th>\n",
       "      <th>date</th>\n",
       "      <th>home_team</th>\n",
       "      <th>away_team</th>\n",
       "      <th>home_score</th>\n",
       "      <th>away_score</th>\n",
       "      <th>tournament</th>\n",
       "      <th>city</th>\n",
       "      <th>country</th>\n",
       "      <th>neutral</th>\n",
       "      <th>winner</th>\n",
       "      <th>year</th>\n",
       "      <th>month</th>\n",
       "      <th>rank</th>\n",
       "      <th>country_full</th>\n",
       "      <th>country_abrv</th>\n",
       "      <th>total_points</th>\n",
       "      <th>previous_points</th>\n",
       "      <th>rank_change</th>\n",
       "      <th>confederation</th>\n",
       "      <th>rank_date</th>\n",
       "      <th>rank__away</th>\n",
       "      <th>country_full__away</th>\n",
       "      <th>country_abrv__away</th>\n",
       "      <th>total_points__away</th>\n",
       "      <th>previous_points__away</th>\n",
       "      <th>rank_change__away</th>\n",
       "      <th>confederation__away</th>\n",
       "      <th>rank_date__away</th>\n",
       "    </tr>\n",
       "  </thead>\n",
       "  <tbody>\n",
       "    <tr>\n",
       "      <th>497</th>\n",
       "      <td>1994-10-12</td>\n",
       "      <td>Malta</td>\n",
       "      <td>Czech Republic</td>\n",
       "      <td>0</td>\n",
       "      <td>0</td>\n",
       "      <td>UEFA Euro qualification</td>\n",
       "      <td>Attard</td>\n",
       "      <td>Malta</td>\n",
       "      <td>False</td>\n",
       "      <td>draw</td>\n",
       "      <td>1994</td>\n",
       "      <td>10</td>\n",
       "      <td>169</td>\n",
       "      <td>Malta</td>\n",
       "      <td>MLT</td>\n",
       "      <td>974.68</td>\n",
       "      <td>974.68</td>\n",
       "      <td>1</td>\n",
       "      <td>UEFA</td>\n",
       "      <td>1994-10-25</td>\n",
       "      <td>32</td>\n",
       "      <td>Czech Republic</td>\n",
       "      <td>CZE</td>\n",
       "      <td>1502.90</td>\n",
       "      <td>1502.90</td>\n",
       "      <td>0</td>\n",
       "      <td>UEFA</td>\n",
       "      <td>1994-10-25</td>\n",
       "    </tr>\n",
       "    <tr>\n",
       "      <th>498</th>\n",
       "      <td>1994-10-12</td>\n",
       "      <td>Moldova</td>\n",
       "      <td>Wales</td>\n",
       "      <td>3</td>\n",
       "      <td>2</td>\n",
       "      <td>UEFA Euro qualification</td>\n",
       "      <td>Chișinău</td>\n",
       "      <td>Moldova</td>\n",
       "      <td>False</td>\n",
       "      <td>home_win</td>\n",
       "      <td>1994</td>\n",
       "      <td>10</td>\n",
       "      <td>177</td>\n",
       "      <td>Moldova</td>\n",
       "      <td>MDA</td>\n",
       "      <td>944.96</td>\n",
       "      <td>944.96</td>\n",
       "      <td>-1</td>\n",
       "      <td>UEFA</td>\n",
       "      <td>1994-10-25</td>\n",
       "      <td>19</td>\n",
       "      <td>Wales</td>\n",
       "      <td>WAL</td>\n",
       "      <td>1582.13</td>\n",
       "      <td>1582.13</td>\n",
       "      <td>0</td>\n",
       "      <td>UEFA</td>\n",
       "      <td>1994-10-25</td>\n",
       "    </tr>\n",
       "    <tr>\n",
       "      <th>499</th>\n",
       "      <td>1994-10-12</td>\n",
       "      <td>Norway</td>\n",
       "      <td>Netherlands</td>\n",
       "      <td>1</td>\n",
       "      <td>1</td>\n",
       "      <td>UEFA Euro qualification</td>\n",
       "      <td>Oslo</td>\n",
       "      <td>Norway</td>\n",
       "      <td>False</td>\n",
       "      <td>draw</td>\n",
       "      <td>1994</td>\n",
       "      <td>10</td>\n",
       "      <td>36</td>\n",
       "      <td>Norway</td>\n",
       "      <td>NOR</td>\n",
       "      <td>1488.57</td>\n",
       "      <td>1488.57</td>\n",
       "      <td>0</td>\n",
       "      <td>UEFA</td>\n",
       "      <td>1994-10-25</td>\n",
       "      <td>8</td>\n",
       "      <td>Netherlands</td>\n",
       "      <td>NED</td>\n",
       "      <td>1679.41</td>\n",
       "      <td>1679.41</td>\n",
       "      <td>0</td>\n",
       "      <td>UEFA</td>\n",
       "      <td>1994-10-25</td>\n",
       "    </tr>\n",
       "  </tbody>\n",
       "</table>\n",
       "</div>"
      ],
      "text/plain": [
       "           date home_team       away_team  home_score  away_score  \\\n",
       "497  1994-10-12     Malta  Czech Republic           0           0   \n",
       "498  1994-10-12   Moldova           Wales           3           2   \n",
       "499  1994-10-12    Norway     Netherlands           1           1   \n",
       "\n",
       "                  tournament      city  country  neutral    winner  year  \\\n",
       "497  UEFA Euro qualification    Attard    Malta    False      draw  1994   \n",
       "498  UEFA Euro qualification  Chișinău  Moldova    False  home_win  1994   \n",
       "499  UEFA Euro qualification      Oslo   Norway    False      draw  1994   \n",
       "\n",
       "    month  rank country_full country_abrv  total_points  previous_points  \\\n",
       "497    10   169        Malta          MLT        974.68           974.68   \n",
       "498    10   177      Moldova          MDA        944.96           944.96   \n",
       "499    10    36       Norway          NOR       1488.57          1488.57   \n",
       "\n",
       "     rank_change confederation   rank_date  rank__away country_full__away  \\\n",
       "497            1          UEFA  1994-10-25          32     Czech Republic   \n",
       "498           -1          UEFA  1994-10-25          19              Wales   \n",
       "499            0          UEFA  1994-10-25           8        Netherlands   \n",
       "\n",
       "    country_abrv__away  total_points__away  previous_points__away  \\\n",
       "497                CZE             1502.90                1502.90   \n",
       "498                WAL             1582.13                1582.13   \n",
       "499                NED             1679.41                1679.41   \n",
       "\n",
       "     rank_change__away confederation__away rank_date__away  \n",
       "497                  0                UEFA      1994-10-25  \n",
       "498                  0                UEFA      1994-10-25  \n",
       "499                  0                UEFA      1994-10-25  "
      ]
     },
     "execution_count": 124,
     "metadata": {},
     "output_type": "execute_result"
    }
   ],
   "source": [
    "data.head(500).tail(3)"
   ]
  },
  {
   "cell_type": "code",
   "execution_count": 128,
   "id": "16f7a287",
   "metadata": {},
   "outputs": [
    {
     "data": {
      "text/html": [
       "<div>\n",
       "<style scoped>\n",
       "    .dataframe tbody tr th:only-of-type {\n",
       "        vertical-align: middle;\n",
       "    }\n",
       "\n",
       "    .dataframe tbody tr th {\n",
       "        vertical-align: top;\n",
       "    }\n",
       "\n",
       "    .dataframe thead th {\n",
       "        text-align: right;\n",
       "    }\n",
       "</style>\n",
       "<table border=\"1\" class=\"dataframe\">\n",
       "  <thead>\n",
       "    <tr style=\"text-align: right;\">\n",
       "      <th></th>\n",
       "      <th>rank</th>\n",
       "      <th>country_full</th>\n",
       "      <th>country_abrv</th>\n",
       "      <th>total_points</th>\n",
       "      <th>previous_points</th>\n",
       "      <th>rank_change</th>\n",
       "      <th>confederation</th>\n",
       "      <th>rank_date</th>\n",
       "      <th>year</th>\n",
       "      <th>month</th>\n",
       "    </tr>\n",
       "  </thead>\n",
       "  <tbody>\n",
       "    <tr>\n",
       "      <th>67520</th>\n",
       "      <td>1</td>\n",
       "      <td>Brazil</td>\n",
       "      <td>BRA</td>\n",
       "      <td>1837.56</td>\n",
       "      <td>1837.56</td>\n",
       "      <td>0</td>\n",
       "      <td>CONMEBOL</td>\n",
       "      <td>2022-08-25</td>\n",
       "      <td>2022</td>\n",
       "      <td>08</td>\n",
       "    </tr>\n",
       "    <tr>\n",
       "      <th>67703</th>\n",
       "      <td>2</td>\n",
       "      <td>Belgium</td>\n",
       "      <td>BEL</td>\n",
       "      <td>1821.92</td>\n",
       "      <td>1821.92</td>\n",
       "      <td>0</td>\n",
       "      <td>UEFA</td>\n",
       "      <td>2022-08-25</td>\n",
       "      <td>2022</td>\n",
       "      <td>08</td>\n",
       "    </tr>\n",
       "    <tr>\n",
       "      <th>67652</th>\n",
       "      <td>3</td>\n",
       "      <td>Argentina</td>\n",
       "      <td>ARG</td>\n",
       "      <td>1770.65</td>\n",
       "      <td>1770.65</td>\n",
       "      <td>0</td>\n",
       "      <td>CONMEBOL</td>\n",
       "      <td>2022-08-25</td>\n",
       "      <td>2022</td>\n",
       "      <td>08</td>\n",
       "    </tr>\n",
       "    <tr>\n",
       "      <th>67653</th>\n",
       "      <td>4</td>\n",
       "      <td>France</td>\n",
       "      <td>FRA</td>\n",
       "      <td>1764.85</td>\n",
       "      <td>1764.85</td>\n",
       "      <td>0</td>\n",
       "      <td>UEFA</td>\n",
       "      <td>2022-08-25</td>\n",
       "      <td>2022</td>\n",
       "      <td>08</td>\n",
       "    </tr>\n",
       "    <tr>\n",
       "      <th>67654</th>\n",
       "      <td>5</td>\n",
       "      <td>England</td>\n",
       "      <td>ENG</td>\n",
       "      <td>1737.46</td>\n",
       "      <td>1737.46</td>\n",
       "      <td>0</td>\n",
       "      <td>UEFA</td>\n",
       "      <td>2022-08-25</td>\n",
       "      <td>2022</td>\n",
       "      <td>08</td>\n",
       "    </tr>\n",
       "    <tr>\n",
       "      <th>...</th>\n",
       "      <td>...</td>\n",
       "      <td>...</td>\n",
       "      <td>...</td>\n",
       "      <td>...</td>\n",
       "      <td>...</td>\n",
       "      <td>...</td>\n",
       "      <td>...</td>\n",
       "      <td>...</td>\n",
       "      <td>...</td>\n",
       "      <td>...</td>\n",
       "    </tr>\n",
       "    <tr>\n",
       "      <th>67591</th>\n",
       "      <td>207</td>\n",
       "      <td>Sri Lanka</td>\n",
       "      <td>SRI</td>\n",
       "      <td>825.25</td>\n",
       "      <td>825.25</td>\n",
       "      <td>0</td>\n",
       "      <td>AFC</td>\n",
       "      <td>2022-08-25</td>\n",
       "      <td>2022</td>\n",
       "      <td>08</td>\n",
       "    </tr>\n",
       "    <tr>\n",
       "      <th>67592</th>\n",
       "      <td>208</td>\n",
       "      <td>US Virgin Islands</td>\n",
       "      <td>VIR</td>\n",
       "      <td>823.97</td>\n",
       "      <td>823.97</td>\n",
       "      <td>0</td>\n",
       "      <td>CONCACAF</td>\n",
       "      <td>2022-08-25</td>\n",
       "      <td>2022</td>\n",
       "      <td>08</td>\n",
       "    </tr>\n",
       "    <tr>\n",
       "      <th>67593</th>\n",
       "      <td>209</td>\n",
       "      <td>British Virgin Islands</td>\n",
       "      <td>VGB</td>\n",
       "      <td>809.32</td>\n",
       "      <td>809.32</td>\n",
       "      <td>0</td>\n",
       "      <td>CONCACAF</td>\n",
       "      <td>2022-08-25</td>\n",
       "      <td>2022</td>\n",
       "      <td>08</td>\n",
       "    </tr>\n",
       "    <tr>\n",
       "      <th>67594</th>\n",
       "      <td>210</td>\n",
       "      <td>Anguilla</td>\n",
       "      <td>AIA</td>\n",
       "      <td>790.74</td>\n",
       "      <td>790.74</td>\n",
       "      <td>0</td>\n",
       "      <td>CONCACAF</td>\n",
       "      <td>2022-08-25</td>\n",
       "      <td>2022</td>\n",
       "      <td>08</td>\n",
       "    </tr>\n",
       "    <tr>\n",
       "      <th>67730</th>\n",
       "      <td>211</td>\n",
       "      <td>San Marino</td>\n",
       "      <td>SMR</td>\n",
       "      <td>763.82</td>\n",
       "      <td>763.82</td>\n",
       "      <td>0</td>\n",
       "      <td>UEFA</td>\n",
       "      <td>2022-08-25</td>\n",
       "      <td>2022</td>\n",
       "      <td>08</td>\n",
       "    </tr>\n",
       "  </tbody>\n",
       "</table>\n",
       "<p>211 rows × 10 columns</p>\n",
       "</div>"
      ],
      "text/plain": [
       "       rank            country_full country_abrv  total_points  \\\n",
       "67520     1                  Brazil          BRA       1837.56   \n",
       "67703     2                 Belgium          BEL       1821.92   \n",
       "67652     3               Argentina          ARG       1770.65   \n",
       "67653     4                  France          FRA       1764.85   \n",
       "67654     5                 England          ENG       1737.46   \n",
       "...     ...                     ...          ...           ...   \n",
       "67591   207               Sri Lanka          SRI        825.25   \n",
       "67592   208       US Virgin Islands          VIR        823.97   \n",
       "67593   209  British Virgin Islands          VGB        809.32   \n",
       "67594   210                Anguilla          AIA        790.74   \n",
       "67730   211              San Marino          SMR        763.82   \n",
       "\n",
       "       previous_points  rank_change confederation   rank_date  year month  \n",
       "67520          1837.56            0      CONMEBOL  2022-08-25  2022    08  \n",
       "67703          1821.92            0          UEFA  2022-08-25  2022    08  \n",
       "67652          1770.65            0      CONMEBOL  2022-08-25  2022    08  \n",
       "67653          1764.85            0          UEFA  2022-08-25  2022    08  \n",
       "67654          1737.46            0          UEFA  2022-08-25  2022    08  \n",
       "...                ...          ...           ...         ...   ...   ...  \n",
       "67591           825.25            0           AFC  2022-08-25  2022    08  \n",
       "67592           823.97            0      CONCACAF  2022-08-25  2022    08  \n",
       "67593           809.32            0      CONCACAF  2022-08-25  2022    08  \n",
       "67594           790.74            0      CONCACAF  2022-08-25  2022    08  \n",
       "67730           763.82            0          UEFA  2022-08-25  2022    08  \n",
       "\n",
       "[211 rows x 10 columns]"
      ]
     },
     "execution_count": 128,
     "metadata": {},
     "output_type": "execute_result"
    }
   ],
   "source": [
    "fr.query('year==\"2022\" and month==\"08\"').sort_values(by='rank', ascending=True)"
   ]
  },
  {
   "cell_type": "code",
   "execution_count": 129,
   "id": "e297692a",
   "metadata": {},
   "outputs": [
    {
     "data": {
      "text/plain": [
       "<AxesSubplot:xlabel='rank'>"
      ]
     },
     "execution_count": 129,
     "metadata": {},
     "output_type": "execute_result"
    },
    {
     "data": {
      "image/png": "[encoded data removed]",
      "text/plain": [
       "<Figure size 432x288 with 1 Axes>"
      ]
     },
     "metadata": {
      "needs_background": "light"
     },
     "output_type": "display_data"
    }
   ],
   "source": [
    "sns.boxplot(x='rank', data=fr.query('year==\"2022\" and month==\"08\"').sort_values(by='rank', ascending=True))"
   ]
  },
  {
   "cell_type": "code",
   "execution_count": 134,
   "id": "aad57767",
   "metadata": {},
   "outputs": [
    {
     "data": {
      "text/plain": [
       "<AxesSubplot:xlabel='total_points', ylabel='Count'>"
      ]
     },
     "execution_count": 134,
     "metadata": {},
     "output_type": "execute_result"
    },
    {
     "data": {
      "image/png": "[encoded data removed]",
      "text/plain": [
       "<Figure size 432x288 with 1 Axes>"
      ]
     },
     "metadata": {
      "needs_background": "light"
     },
     "output_type": "display_data"
    }
   ],
   "source": [
    "sns.histplot(x='total_points', data=fr.query('year==\"2022\" and month==\"08\"').sort_values(by='rank', ascending=True), bins=20)"
   ]
  },
  {
   "cell_type": "code",
   "execution_count": 14,
   "id": "8b018285",
   "metadata": {},
   "outputs": [],
   "source": [
    "data['home_tier'] = ''\n",
    "data.loc[data['rank'] > 32, 'home_tier'] = 'bronze'\n",
    "data.loc[data['rank'] <= 32, 'home_tier'] = 'silver'\n",
    "data.loc[data['rank'] <= 16, 'home_tier'] = 'gold'\n",
    "data.loc[data['rank'] <= 8, 'home_tier'] = 'diamond'"
   ]
  },
  {
   "cell_type": "code",
   "execution_count": 15,
   "id": "1416c4f0",
   "metadata": {},
   "outputs": [],
   "source": [
    "data['away_tier'] = ''\n",
    "data.loc[data['rank__away'] > 32, 'away_tier'] = 'bronze'\n",
    "data.loc[data['rank__away'] <= 32, 'away_tier'] = 'silver'\n",
    "data.loc[data['rank__away'] <= 16, 'away_tier'] = 'gold'\n",
    "data.loc[data['rank__away'] <= 8, 'away_tier'] = 'diamond'"
   ]
  },
  {
   "cell_type": "code",
   "execution_count": 140,
   "id": "7eb8de10",
   "metadata": {},
   "outputs": [
    {
     "data": {
      "text/plain": [
       "Index(['date', 'home_team', 'away_team', 'home_score', 'away_score',\n",
       "       'tournament', 'city', 'country', 'neutral', 'winner', 'year', 'month',\n",
       "       'rank', 'country_full', 'country_abrv', 'total_points',\n",
       "       'previous_points', 'rank_change', 'confederation', 'rank_date',\n",
       "       'rank__away', 'country_full__away', 'country_abrv__away',\n",
       "       'total_points__away', 'previous_points__away', 'rank_change__away',\n",
       "       'confederation__away', 'rank_date__away', 'home_tier', 'away_tier'],\n",
       "      dtype='object')"
      ]
     },
     "execution_count": 140,
     "metadata": {},
     "output_type": "execute_result"
    }
   ],
   "source": [
    "data.columns"
   ]
  },
  {
   "cell_type": "code",
   "execution_count": 16,
   "id": "0a2533ba",
   "metadata": {},
   "outputs": [
    {
     "data": {
      "text/html": [
       "<div>\n",
       "<style scoped>\n",
       "    .dataframe tbody tr th:only-of-type {\n",
       "        vertical-align: middle;\n",
       "    }\n",
       "\n",
       "    .dataframe tbody tr th {\n",
       "        vertical-align: top;\n",
       "    }\n",
       "\n",
       "    .dataframe thead th {\n",
       "        text-align: right;\n",
       "    }\n",
       "</style>\n",
       "<table border=\"1\" class=\"dataframe\">\n",
       "  <thead>\n",
       "    <tr style=\"text-align: right;\">\n",
       "      <th></th>\n",
       "      <th></th>\n",
       "      <th>date</th>\n",
       "    </tr>\n",
       "    <tr>\n",
       "      <th>home_tier</th>\n",
       "      <th>winner</th>\n",
       "      <th></th>\n",
       "    </tr>\n",
       "  </thead>\n",
       "  <tbody>\n",
       "    <tr>\n",
       "      <th rowspan=\"3\" valign=\"top\">bronze</th>\n",
       "      <th>draw</th>\n",
       "      <td>3723</td>\n",
       "    </tr>\n",
       "    <tr>\n",
       "      <th>home_lose</th>\n",
       "      <td>4743</td>\n",
       "    </tr>\n",
       "    <tr>\n",
       "      <th>home_win</th>\n",
       "      <td>6821</td>\n",
       "    </tr>\n",
       "    <tr>\n",
       "      <th rowspan=\"3\" valign=\"top\">diamond</th>\n",
       "      <th>draw</th>\n",
       "      <td>278</td>\n",
       "    </tr>\n",
       "    <tr>\n",
       "      <th>home_lose</th>\n",
       "      <td>188</td>\n",
       "    </tr>\n",
       "    <tr>\n",
       "      <th>home_win</th>\n",
       "      <td>889</td>\n",
       "    </tr>\n",
       "    <tr>\n",
       "      <th rowspan=\"3\" valign=\"top\">gold</th>\n",
       "      <th>draw</th>\n",
       "      <td>262</td>\n",
       "    </tr>\n",
       "    <tr>\n",
       "      <th>home_lose</th>\n",
       "      <td>207</td>\n",
       "    </tr>\n",
       "    <tr>\n",
       "      <th>home_win</th>\n",
       "      <td>698</td>\n",
       "    </tr>\n",
       "    <tr>\n",
       "      <th rowspan=\"3\" valign=\"top\">silver</th>\n",
       "      <th>draw</th>\n",
       "      <td>471</td>\n",
       "    </tr>\n",
       "    <tr>\n",
       "      <th>home_lose</th>\n",
       "      <td>405</td>\n",
       "    </tr>\n",
       "    <tr>\n",
       "      <th>home_win</th>\n",
       "      <td>1180</td>\n",
       "    </tr>\n",
       "  </tbody>\n",
       "</table>\n",
       "</div>"
      ],
      "text/plain": [
       "                     date\n",
       "home_tier winner         \n",
       "bronze    draw       3723\n",
       "          home_lose  4743\n",
       "          home_win   6821\n",
       "diamond   draw        278\n",
       "          home_lose   188\n",
       "          home_win    889\n",
       "gold      draw        262\n",
       "          home_lose   207\n",
       "          home_win    698\n",
       "silver    draw        471\n",
       "          home_lose   405\n",
       "          home_win   1180"
      ]
     },
     "execution_count": 16,
     "metadata": {},
     "output_type": "execute_result"
    }
   ],
   "source": [
    "data.groupby(['home_tier', 'winner']).agg({'date':'count'})"
   ]
  },
  {
   "cell_type": "raw",
   "id": "7e08259b",
   "metadata": {},
   "source": [
    "data['home_win'] = (data['winner'] == 'home_win').astype(int)"
   ]
  },
  {
   "cell_type": "code",
   "execution_count": 19,
   "id": "d6411c99",
   "metadata": {},
   "outputs": [
    {
     "data": {
      "text/plain": [
       "<AxesSubplot:xlabel='home_tier', ylabel='home_win'>"
      ]
     },
     "execution_count": 19,
     "metadata": {},
     "output_type": "execute_result"
    },
    {
     "data": {
      "image/png": "[encoded data removed]",
      "text/plain": [
       "<Figure size 432x288 with 1 Axes>"
      ]
     },
     "metadata": {
      "needs_background": "light"
     },
     "output_type": "display_data"
    }
   ],
   "source": [
    "sns.barplot(x='home_tier', y='home_win', data=data)"
   ]
  },
  {
   "cell_type": "code",
   "execution_count": 31,
   "id": "3ccab270",
   "metadata": {},
   "outputs": [],
   "source": [
    "#df.tournament.unique()\n",
    "\n",
    "tournaments = ['Copa América', 'FIFA World Cup', 'FIFA World Cup qualification', 'International Cup'\n",
    "              , 'AFC Asian Cup qualification', 'AFC Asian Cup', 'African Cup of Nations'\n",
    "              , 'UEFA Euro qualification', 'UEFA Euro', 'African Cup of Nations qualification'\n",
    "              , 'CONCACAF Championship', 'CONCACAF Championship qualification' \n",
    "              , 'CONMEBOL–UEFA Cup of Champions', 'Confederations Cup'\n",
    "              , 'Oceania Nations Cup qualification','Copa América qualification'\n",
    "              , 'UEFA Nations League', 'CONCACAF Nations League qualification'\n",
    "              , 'CONCACAF Nations League','AFF Championship qualification']"
   ]
  },
  {
   "cell_type": "code",
   "execution_count": 34,
   "id": "01f5d758",
   "metadata": {},
   "outputs": [
    {
     "data": {
      "text/html": [
       "<div>\n",
       "<style scoped>\n",
       "    .dataframe tbody tr th:only-of-type {\n",
       "        vertical-align: middle;\n",
       "    }\n",
       "\n",
       "    .dataframe tbody tr th {\n",
       "        vertical-align: top;\n",
       "    }\n",
       "\n",
       "    .dataframe thead th {\n",
       "        text-align: right;\n",
       "    }\n",
       "</style>\n",
       "<table border=\"1\" class=\"dataframe\">\n",
       "  <thead>\n",
       "    <tr style=\"text-align: right;\">\n",
       "      <th></th>\n",
       "      <th>date</th>\n",
       "    </tr>\n",
       "    <tr>\n",
       "      <th>neutral</th>\n",
       "      <th></th>\n",
       "    </tr>\n",
       "  </thead>\n",
       "  <tbody>\n",
       "    <tr>\n",
       "      <th>False</th>\n",
       "      <td>13654</td>\n",
       "    </tr>\n",
       "    <tr>\n",
       "      <th>True</th>\n",
       "      <td>3761</td>\n",
       "    </tr>\n",
       "  </tbody>\n",
       "</table>\n",
       "</div>"
      ],
      "text/plain": [
       "          date\n",
       "neutral       \n",
       "False    13654\n",
       "True      3761"
      ]
     },
     "execution_count": 34,
     "metadata": {},
     "output_type": "execute_result"
    }
   ],
   "source": [
    "df.loc[df.tournament.isin(tournaments), ].groupby('neutral').agg({'date':'count'})"
   ]
  },
  {
   "cell_type": "code",
   "execution_count": 27,
   "id": "7bc8160d",
   "metadata": {},
   "outputs": [
    {
     "data": {
      "text/html": [
       "<div>\n",
       "<style scoped>\n",
       "    .dataframe tbody tr th:only-of-type {\n",
       "        vertical-align: middle;\n",
       "    }\n",
       "\n",
       "    .dataframe tbody tr th {\n",
       "        vertical-align: top;\n",
       "    }\n",
       "\n",
       "    .dataframe thead tr th {\n",
       "        text-align: left;\n",
       "    }\n",
       "\n",
       "    .dataframe thead tr:last-of-type th {\n",
       "        text-align: right;\n",
       "    }\n",
       "</style>\n",
       "<table border=\"1\" class=\"dataframe\">\n",
       "  <thead>\n",
       "    <tr>\n",
       "      <th></th>\n",
       "      <th></th>\n",
       "      <th colspan=\"2\" halign=\"left\">home_win</th>\n",
       "    </tr>\n",
       "    <tr>\n",
       "      <th></th>\n",
       "      <th></th>\n",
       "      <th>count</th>\n",
       "      <th>mean</th>\n",
       "    </tr>\n",
       "    <tr>\n",
       "      <th>home_tier</th>\n",
       "      <th>away_tier</th>\n",
       "      <th></th>\n",
       "      <th></th>\n",
       "    </tr>\n",
       "  </thead>\n",
       "  <tbody>\n",
       "    <tr>\n",
       "      <th rowspan=\"4\" valign=\"top\">bronze</th>\n",
       "      <th>bronze</th>\n",
       "      <td>2435</td>\n",
       "      <td>0.552772</td>\n",
       "    </tr>\n",
       "    <tr>\n",
       "      <th>diamond</th>\n",
       "      <td>49</td>\n",
       "      <td>0.102041</td>\n",
       "    </tr>\n",
       "    <tr>\n",
       "      <th>gold</th>\n",
       "      <td>68</td>\n",
       "      <td>0.132353</td>\n",
       "    </tr>\n",
       "    <tr>\n",
       "      <th>silver</th>\n",
       "      <td>220</td>\n",
       "      <td>0.268182</td>\n",
       "    </tr>\n",
       "    <tr>\n",
       "      <th rowspan=\"4\" valign=\"top\">diamond</th>\n",
       "      <th>bronze</th>\n",
       "      <td>98</td>\n",
       "      <td>0.836735</td>\n",
       "    </tr>\n",
       "    <tr>\n",
       "      <th>diamond</th>\n",
       "      <td>49</td>\n",
       "      <td>0.530612</td>\n",
       "    </tr>\n",
       "    <tr>\n",
       "      <th>gold</th>\n",
       "      <td>43</td>\n",
       "      <td>0.720930</td>\n",
       "    </tr>\n",
       "    <tr>\n",
       "      <th>silver</th>\n",
       "      <td>53</td>\n",
       "      <td>0.811321</td>\n",
       "    </tr>\n",
       "    <tr>\n",
       "      <th rowspan=\"4\" valign=\"top\">gold</th>\n",
       "      <th>bronze</th>\n",
       "      <td>126</td>\n",
       "      <td>0.849206</td>\n",
       "    </tr>\n",
       "    <tr>\n",
       "      <th>diamond</th>\n",
       "      <td>37</td>\n",
       "      <td>0.351351</td>\n",
       "    </tr>\n",
       "    <tr>\n",
       "      <th>gold</th>\n",
       "      <td>28</td>\n",
       "      <td>0.464286</td>\n",
       "    </tr>\n",
       "    <tr>\n",
       "      <th>silver</th>\n",
       "      <td>39</td>\n",
       "      <td>0.487179</td>\n",
       "    </tr>\n",
       "    <tr>\n",
       "      <th rowspan=\"4\" valign=\"top\">silver</th>\n",
       "      <th>bronze</th>\n",
       "      <td>205</td>\n",
       "      <td>0.809756</td>\n",
       "    </tr>\n",
       "    <tr>\n",
       "      <th>diamond</th>\n",
       "      <td>27</td>\n",
       "      <td>0.111111</td>\n",
       "    </tr>\n",
       "    <tr>\n",
       "      <th>gold</th>\n",
       "      <td>31</td>\n",
       "      <td>0.322581</td>\n",
       "    </tr>\n",
       "    <tr>\n",
       "      <th>silver</th>\n",
       "      <td>54</td>\n",
       "      <td>0.462963</td>\n",
       "    </tr>\n",
       "  </tbody>\n",
       "</table>\n",
       "</div>"
      ],
      "text/plain": [
       "                    home_win          \n",
       "                       count      mean\n",
       "home_tier away_tier                   \n",
       "bronze    bronze        2435  0.552772\n",
       "          diamond         49  0.102041\n",
       "          gold            68  0.132353\n",
       "          silver         220  0.268182\n",
       "diamond   bronze          98  0.836735\n",
       "          diamond         49  0.530612\n",
       "          gold            43  0.720930\n",
       "          silver          53  0.811321\n",
       "gold      bronze         126  0.849206\n",
       "          diamond         37  0.351351\n",
       "          gold            28  0.464286\n",
       "          silver          39  0.487179\n",
       "silver    bronze         205  0.809756\n",
       "          diamond         27  0.111111\n",
       "          gold            31  0.322581\n",
       "          silver          54  0.462963"
      ]
     },
     "execution_count": 27,
     "metadata": {},
     "output_type": "execute_result"
    }
   ],
   "source": [
    "data.query('winner!=\"draw\" and neutral==True').groupby(['home_tier', 'away_tier']).agg({'home_win':['count', 'mean']})"
   ]
  },
  {
   "cell_type": "code",
   "execution_count": 36,
   "id": "dfefe442",
   "metadata": {},
   "outputs": [],
   "source": [
    "data['marginal_effect'] = (data['total_points'] - data['total_points__away']) / data['total_points__away']"
   ]
  },
  {
   "cell_type": "code",
   "execution_count": 37,
   "id": "7afdc584",
   "metadata": {},
   "outputs": [
    {
     "data": {
      "text/plain": [
       "<AxesSubplot:xlabel='marginal_effect'>"
      ]
     },
     "execution_count": 37,
     "metadata": {},
     "output_type": "execute_result"
    },
    {
     "data": {
      "image/png": "[encoded data removed]",
      "text/plain": [
       "<Figure size 432x288 with 1 Axes>"
      ]
     },
     "metadata": {
      "needs_background": "light"
     },
     "output_type": "display_data"
    }
   ],
   "source": [
    "sns.boxplot(x='marginal_effect', data=data)"
   ]
  },
  {
   "cell_type": "code",
   "execution_count": 38,
   "id": "632e8881",
   "metadata": {},
   "outputs": [
    {
     "data": {
      "text/plain": [
       "<AxesSubplot:xlabel='winner', ylabel='marginal_effect'>"
      ]
     },
     "execution_count": 38,
     "metadata": {},
     "output_type": "execute_result"
    },
    {
     "data": {
      "image/png": "[encoded data removed]",
      "text/plain": [
       "<Figure size 432x288 with 1 Axes>"
      ]
     },
     "metadata": {
      "needs_background": "light"
     },
     "output_type": "display_data"
    }
   ],
   "source": [
    "sns.boxplot(x='winner', y='marginal_effect', data=data)"
   ]
  },
  {
   "cell_type": "code",
   "execution_count": 40,
   "id": "89f675b8",
   "metadata": {},
   "outputs": [
    {
     "data": {
      "text/plain": [
       "<AxesSubplot:xlabel='marginal_effect', ylabel='Density'>"
      ]
     },
     "execution_count": 40,
     "metadata": {},
     "output_type": "execute_result"
    },
    {
     "data": {
      "image/png": "[encoded data removed]",
      "text/plain": [
       "<Figure size 432x288 with 1 Axes>"
      ]
     },
     "metadata": {
      "needs_background": "light"
     },
     "output_type": "display_data"
    }
   ],
   "source": [
    "sns.kdeplot(x='marginal_effect', hue='winner', data=data)"
   ]
  },
  {
   "cell_type": "code",
   "execution_count": 41,
   "id": "83e427e2",
   "metadata": {},
   "outputs": [],
   "source": [
    "data['effect_tier'] = ''\n",
    "data.loc[data.marginal_effect < -.37, 'effect_tier'] = 'low'\n",
    "data.loc[data.marginal_effect >= -.37, 'effect_tier'] = 'medium'\n",
    "data.loc[data.marginal_effect >= -.20, 'effect_tier'] = 'high'\n",
    "data.loc[data.marginal_effect >= .25, 'effect_tier'] = 'very_high'"
   ]
  },
  {
   "cell_type": "code",
   "execution_count": 42,
   "id": "44fe9a5d",
   "metadata": {},
   "outputs": [
    {
     "data": {
      "text/html": [
       "<div>\n",
       "<style scoped>\n",
       "    .dataframe tbody tr th:only-of-type {\n",
       "        vertical-align: middle;\n",
       "    }\n",
       "\n",
       "    .dataframe tbody tr th {\n",
       "        vertical-align: top;\n",
       "    }\n",
       "\n",
       "    .dataframe thead th {\n",
       "        text-align: right;\n",
       "    }\n",
       "</style>\n",
       "<table border=\"1\" class=\"dataframe\">\n",
       "  <thead>\n",
       "    <tr style=\"text-align: right;\">\n",
       "      <th></th>\n",
       "      <th>date</th>\n",
       "      <th>home_team</th>\n",
       "      <th>away_team</th>\n",
       "      <th>home_score</th>\n",
       "      <th>away_score</th>\n",
       "      <th>tournament</th>\n",
       "      <th>city</th>\n",
       "      <th>country</th>\n",
       "      <th>neutral</th>\n",
       "      <th>winner</th>\n",
       "      <th>year</th>\n",
       "      <th>month</th>\n",
       "      <th>rank</th>\n",
       "      <th>country_full</th>\n",
       "      <th>country_abrv</th>\n",
       "      <th>total_points</th>\n",
       "      <th>previous_points</th>\n",
       "      <th>rank_change</th>\n",
       "      <th>confederation</th>\n",
       "      <th>rank_date</th>\n",
       "      <th>rank__away</th>\n",
       "      <th>country_full__away</th>\n",
       "      <th>country_abrv__away</th>\n",
       "      <th>total_points__away</th>\n",
       "      <th>previous_points__away</th>\n",
       "      <th>rank_change__away</th>\n",
       "      <th>confederation__away</th>\n",
       "      <th>rank_date__away</th>\n",
       "      <th>home_tier</th>\n",
       "      <th>away_tier</th>\n",
       "      <th>home_win</th>\n",
       "      <th>marginal_effect</th>\n",
       "      <th>effect_tier</th>\n",
       "    </tr>\n",
       "  </thead>\n",
       "  <tbody>\n",
       "    <tr>\n",
       "      <th>0</th>\n",
       "      <td>1992-12-01</td>\n",
       "      <td>Saudi Arabia</td>\n",
       "      <td>United Arab Emirates</td>\n",
       "      <td>0</td>\n",
       "      <td>1</td>\n",
       "      <td>Gulf Cup</td>\n",
       "      <td>Doha</td>\n",
       "      <td>Qatar</td>\n",
       "      <td>True</td>\n",
       "      <td>home_lose</td>\n",
       "      <td>1992</td>\n",
       "      <td>12</td>\n",
       "      <td>53</td>\n",
       "      <td>Saudi Arabia</td>\n",
       "      <td>KSA</td>\n",
       "      <td>1435.74</td>\n",
       "      <td>1435.74</td>\n",
       "      <td>0</td>\n",
       "      <td>AFC</td>\n",
       "      <td>1992-12-31</td>\n",
       "      <td>69</td>\n",
       "      <td>United Arab Emirates</td>\n",
       "      <td>UAE</td>\n",
       "      <td>1346.09</td>\n",
       "      <td>1346.09</td>\n",
       "      <td>0</td>\n",
       "      <td>AFC</td>\n",
       "      <td>1992-12-31</td>\n",
       "      <td>bronze</td>\n",
       "      <td>bronze</td>\n",
       "      <td>0</td>\n",
       "      <td>0.066600</td>\n",
       "      <td>high</td>\n",
       "    </tr>\n",
       "    <tr>\n",
       "      <th>1</th>\n",
       "      <td>1992-12-06</td>\n",
       "      <td>Qatar</td>\n",
       "      <td>United Arab Emirates</td>\n",
       "      <td>1</td>\n",
       "      <td>0</td>\n",
       "      <td>Gulf Cup</td>\n",
       "      <td>Doha</td>\n",
       "      <td>Qatar</td>\n",
       "      <td>False</td>\n",
       "      <td>home_win</td>\n",
       "      <td>1992</td>\n",
       "      <td>12</td>\n",
       "      <td>48</td>\n",
       "      <td>Qatar</td>\n",
       "      <td>QAT</td>\n",
       "      <td>1441.97</td>\n",
       "      <td>1441.41</td>\n",
       "      <td>-1</td>\n",
       "      <td>AFC</td>\n",
       "      <td>1992-12-31</td>\n",
       "      <td>69</td>\n",
       "      <td>United Arab Emirates</td>\n",
       "      <td>UAE</td>\n",
       "      <td>1346.09</td>\n",
       "      <td>1346.09</td>\n",
       "      <td>0</td>\n",
       "      <td>AFC</td>\n",
       "      <td>1992-12-31</td>\n",
       "      <td>bronze</td>\n",
       "      <td>bronze</td>\n",
       "      <td>1</td>\n",
       "      <td>0.071229</td>\n",
       "      <td>high</td>\n",
       "    </tr>\n",
       "    <tr>\n",
       "      <th>2</th>\n",
       "      <td>1992-12-04</td>\n",
       "      <td>Bahrain</td>\n",
       "      <td>United Arab Emirates</td>\n",
       "      <td>0</td>\n",
       "      <td>2</td>\n",
       "      <td>Gulf Cup</td>\n",
       "      <td>Doha</td>\n",
       "      <td>Qatar</td>\n",
       "      <td>True</td>\n",
       "      <td>home_lose</td>\n",
       "      <td>1992</td>\n",
       "      <td>12</td>\n",
       "      <td>85</td>\n",
       "      <td>Bahrain</td>\n",
       "      <td>BHR</td>\n",
       "      <td>1289.25</td>\n",
       "      <td>1289.25</td>\n",
       "      <td>0</td>\n",
       "      <td>AFC</td>\n",
       "      <td>1992-12-31</td>\n",
       "      <td>69</td>\n",
       "      <td>United Arab Emirates</td>\n",
       "      <td>UAE</td>\n",
       "      <td>1346.09</td>\n",
       "      <td>1346.09</td>\n",
       "      <td>0</td>\n",
       "      <td>AFC</td>\n",
       "      <td>1992-12-31</td>\n",
       "      <td>bronze</td>\n",
       "      <td>bronze</td>\n",
       "      <td>0</td>\n",
       "      <td>-0.042226</td>\n",
       "      <td>high</td>\n",
       "    </tr>\n",
       "    <tr>\n",
       "      <th>3</th>\n",
       "      <td>1992-12-09</td>\n",
       "      <td>Oman</td>\n",
       "      <td>United Arab Emirates</td>\n",
       "      <td>0</td>\n",
       "      <td>1</td>\n",
       "      <td>Gulf Cup</td>\n",
       "      <td>Doha</td>\n",
       "      <td>Qatar</td>\n",
       "      <td>True</td>\n",
       "      <td>home_lose</td>\n",
       "      <td>1992</td>\n",
       "      <td>12</td>\n",
       "      <td>75</td>\n",
       "      <td>Oman</td>\n",
       "      <td>OMA</td>\n",
       "      <td>1323.03</td>\n",
       "      <td>1323.03</td>\n",
       "      <td>0</td>\n",
       "      <td>AFC</td>\n",
       "      <td>1992-12-31</td>\n",
       "      <td>69</td>\n",
       "      <td>United Arab Emirates</td>\n",
       "      <td>UAE</td>\n",
       "      <td>1346.09</td>\n",
       "      <td>1346.09</td>\n",
       "      <td>0</td>\n",
       "      <td>AFC</td>\n",
       "      <td>1992-12-31</td>\n",
       "      <td>bronze</td>\n",
       "      <td>bronze</td>\n",
       "      <td>0</td>\n",
       "      <td>-0.017131</td>\n",
       "      <td>high</td>\n",
       "    </tr>\n",
       "    <tr>\n",
       "      <th>4</th>\n",
       "      <td>1992-12-01</td>\n",
       "      <td>Qatar</td>\n",
       "      <td>Bahrain</td>\n",
       "      <td>1</td>\n",
       "      <td>0</td>\n",
       "      <td>Gulf Cup</td>\n",
       "      <td>Doha</td>\n",
       "      <td>Qatar</td>\n",
       "      <td>False</td>\n",
       "      <td>home_win</td>\n",
       "      <td>1992</td>\n",
       "      <td>12</td>\n",
       "      <td>48</td>\n",
       "      <td>Qatar</td>\n",
       "      <td>QAT</td>\n",
       "      <td>1441.97</td>\n",
       "      <td>1441.41</td>\n",
       "      <td>-1</td>\n",
       "      <td>AFC</td>\n",
       "      <td>1992-12-31</td>\n",
       "      <td>85</td>\n",
       "      <td>Bahrain</td>\n",
       "      <td>BHR</td>\n",
       "      <td>1289.25</td>\n",
       "      <td>1289.25</td>\n",
       "      <td>0</td>\n",
       "      <td>AFC</td>\n",
       "      <td>1992-12-31</td>\n",
       "      <td>bronze</td>\n",
       "      <td>bronze</td>\n",
       "      <td>1</td>\n",
       "      <td>0.118456</td>\n",
       "      <td>high</td>\n",
       "    </tr>\n",
       "  </tbody>\n",
       "</table>\n",
       "</div>"
      ],
      "text/plain": [
       "         date     home_team             away_team  home_score  away_score  \\\n",
       "0  1992-12-01  Saudi Arabia  United Arab Emirates           0           1   \n",
       "1  1992-12-06         Qatar  United Arab Emirates           1           0   \n",
       "2  1992-12-04       Bahrain  United Arab Emirates           0           2   \n",
       "3  1992-12-09          Oman  United Arab Emirates           0           1   \n",
       "4  1992-12-01         Qatar               Bahrain           1           0   \n",
       "\n",
       "  tournament  city country  neutral     winner  year month  rank  \\\n",
       "0   Gulf Cup  Doha   Qatar     True  home_lose  1992    12    53   \n",
       "1   Gulf Cup  Doha   Qatar    False   home_win  1992    12    48   \n",
       "2   Gulf Cup  Doha   Qatar     True  home_lose  1992    12    85   \n",
       "3   Gulf Cup  Doha   Qatar     True  home_lose  1992    12    75   \n",
       "4   Gulf Cup  Doha   Qatar    False   home_win  1992    12    48   \n",
       "\n",
       "   country_full country_abrv  total_points  previous_points  rank_change  \\\n",
       "0  Saudi Arabia          KSA       1435.74          1435.74            0   \n",
       "1         Qatar          QAT       1441.97          1441.41           -1   \n",
       "2       Bahrain          BHR       1289.25          1289.25            0   \n",
       "3          Oman          OMA       1323.03          1323.03            0   \n",
       "4         Qatar          QAT       1441.97          1441.41           -1   \n",
       "\n",
       "  confederation   rank_date  rank__away    country_full__away  \\\n",
       "0           AFC  1992-12-31          69  United Arab Emirates   \n",
       "1           AFC  1992-12-31          69  United Arab Emirates   \n",
       "2           AFC  1992-12-31          69  United Arab Emirates   \n",
       "3           AFC  1992-12-31          69  United Arab Emirates   \n",
       "4           AFC  1992-12-31          85               Bahrain   \n",
       "\n",
       "  country_abrv__away  total_points__away  previous_points__away  \\\n",
       "0                UAE             1346.09                1346.09   \n",
       "1                UAE             1346.09                1346.09   \n",
       "2                UAE             1346.09                1346.09   \n",
       "3                UAE             1346.09                1346.09   \n",
       "4                BHR             1289.25                1289.25   \n",
       "\n",
       "   rank_change__away confederation__away rank_date__away home_tier away_tier  \\\n",
       "0                  0                 AFC      1992-12-31    bronze    bronze   \n",
       "1                  0                 AFC      1992-12-31    bronze    bronze   \n",
       "2                  0                 AFC      1992-12-31    bronze    bronze   \n",
       "3                  0                 AFC      1992-12-31    bronze    bronze   \n",
       "4                  0                 AFC      1992-12-31    bronze    bronze   \n",
       "\n",
       "   home_win  marginal_effect effect_tier  \n",
       "0         0         0.066600        high  \n",
       "1         1         0.071229        high  \n",
       "2         0        -0.042226        high  \n",
       "3         0        -0.017131        high  \n",
       "4         1         0.118456        high  "
      ]
     },
     "execution_count": 42,
     "metadata": {},
     "output_type": "execute_result"
    }
   ],
   "source": [
    "data.head()"
   ]
  },
  {
   "cell_type": "code",
   "execution_count": 47,
   "id": "c38a851d",
   "metadata": {},
   "outputs": [],
   "source": [
    "data['match_importance'] = np.exp((data['year'].astype(int) - 2022)/8)"
   ]
  },
  {
   "cell_type": "code",
   "execution_count": 48,
   "id": "e5beee96",
   "metadata": {},
   "outputs": [
    {
     "data": {
      "text/plain": [
       "<AxesSubplot:xlabel='match_importance'>"
      ]
     },
     "execution_count": 48,
     "metadata": {},
     "output_type": "execute_result"
    },
    {
     "data": {
      "image/png": "[encoded data removed]",
      "text/plain": [
       "<Figure size 432x288 with 1 Axes>"
      ]
     },
     "metadata": {
      "needs_background": "light"
     },
     "output_type": "display_data"
    }
   ],
   "source": [
    "sns.boxplot(x='match_importance', data=data)"
   ]
  },
  {
   "cell_type": "code",
   "execution_count": 49,
   "id": "0f2476c5",
   "metadata": {},
   "outputs": [
    {
     "data": {
      "text/html": [
       "<div>\n",
       "<style scoped>\n",
       "    .dataframe tbody tr th:only-of-type {\n",
       "        vertical-align: middle;\n",
       "    }\n",
       "\n",
       "    .dataframe tbody tr th {\n",
       "        vertical-align: top;\n",
       "    }\n",
       "\n",
       "    .dataframe thead th {\n",
       "        text-align: right;\n",
       "    }\n",
       "</style>\n",
       "<table border=\"1\" class=\"dataframe\">\n",
       "  <thead>\n",
       "    <tr style=\"text-align: right;\">\n",
       "      <th></th>\n",
       "      <th>date</th>\n",
       "      <th>home_team</th>\n",
       "      <th>away_team</th>\n",
       "      <th>home_score</th>\n",
       "      <th>away_score</th>\n",
       "      <th>tournament</th>\n",
       "      <th>city</th>\n",
       "      <th>country</th>\n",
       "      <th>neutral</th>\n",
       "      <th>winner</th>\n",
       "      <th>year</th>\n",
       "      <th>month</th>\n",
       "      <th>rank</th>\n",
       "      <th>country_full</th>\n",
       "      <th>country_abrv</th>\n",
       "      <th>total_points</th>\n",
       "      <th>previous_points</th>\n",
       "      <th>rank_change</th>\n",
       "      <th>confederation</th>\n",
       "      <th>rank_date</th>\n",
       "      <th>rank__away</th>\n",
       "      <th>country_full__away</th>\n",
       "      <th>country_abrv__away</th>\n",
       "      <th>total_points__away</th>\n",
       "      <th>previous_points__away</th>\n",
       "      <th>rank_change__away</th>\n",
       "      <th>confederation__away</th>\n",
       "      <th>rank_date__away</th>\n",
       "      <th>home_tier</th>\n",
       "      <th>away_tier</th>\n",
       "      <th>home_win</th>\n",
       "      <th>marginal_effect</th>\n",
       "      <th>effect_tier</th>\n",
       "      <th>match_importance</th>\n",
       "    </tr>\n",
       "  </thead>\n",
       "  <tbody>\n",
       "    <tr>\n",
       "      <th>19864</th>\n",
       "      <td>2022-06-13</td>\n",
       "      <td>Sierra Leone</td>\n",
       "      <td>Guinea-Bissau</td>\n",
       "      <td>2</td>\n",
       "      <td>2</td>\n",
       "      <td>African Cup of Nations qualification</td>\n",
       "      <td>Conakry</td>\n",
       "      <td>Guinea</td>\n",
       "      <td>True</td>\n",
       "      <td>draw</td>\n",
       "      <td>2022</td>\n",
       "      <td>06</td>\n",
       "      <td>113</td>\n",
       "      <td>Sierra Leone</td>\n",
       "      <td>SLE</td>\n",
       "      <td>1169.71</td>\n",
       "      <td>1168.21</td>\n",
       "      <td>0</td>\n",
       "      <td>CAF</td>\n",
       "      <td>2022-06-23</td>\n",
       "      <td>115</td>\n",
       "      <td>Guinea-Bissau</td>\n",
       "      <td>GNB</td>\n",
       "      <td>1165.53</td>\n",
       "      <td>1165.78</td>\n",
       "      <td>0</td>\n",
       "      <td>CAF</td>\n",
       "      <td>2022-06-23</td>\n",
       "      <td>bronze</td>\n",
       "      <td>bronze</td>\n",
       "      <td>0</td>\n",
       "      <td>0.003586</td>\n",
       "      <td>high</td>\n",
       "      <td>1.000000</td>\n",
       "    </tr>\n",
       "    <tr>\n",
       "      <th>19596</th>\n",
       "      <td>2022-03-29</td>\n",
       "      <td>Netherlands</td>\n",
       "      <td>Germany</td>\n",
       "      <td>1</td>\n",
       "      <td>1</td>\n",
       "      <td>Friendly</td>\n",
       "      <td>Amsterdam</td>\n",
       "      <td>Netherlands</td>\n",
       "      <td>False</td>\n",
       "      <td>draw</td>\n",
       "      <td>2022</td>\n",
       "      <td>03</td>\n",
       "      <td>8</td>\n",
       "      <td>Netherlands</td>\n",
       "      <td>NED</td>\n",
       "      <td>1679.41</td>\n",
       "      <td>1679.41</td>\n",
       "      <td>0</td>\n",
       "      <td>UEFA</td>\n",
       "      <td>2022-03-31</td>\n",
       "      <td>11</td>\n",
       "      <td>Germany</td>\n",
       "      <td>GER</td>\n",
       "      <td>1658.96</td>\n",
       "      <td>1658.96</td>\n",
       "      <td>0</td>\n",
       "      <td>UEFA</td>\n",
       "      <td>2022-03-31</td>\n",
       "      <td>diamond</td>\n",
       "      <td>gold</td>\n",
       "      <td>0</td>\n",
       "      <td>0.012327</td>\n",
       "      <td>high</td>\n",
       "      <td>1.000000</td>\n",
       "    </tr>\n",
       "    <tr>\n",
       "      <th>19586</th>\n",
       "      <td>2022-03-29</td>\n",
       "      <td>Qatar</td>\n",
       "      <td>Slovenia</td>\n",
       "      <td>0</td>\n",
       "      <td>0</td>\n",
       "      <td>Friendly</td>\n",
       "      <td>Al Rayyan</td>\n",
       "      <td>Qatar</td>\n",
       "      <td>False</td>\n",
       "      <td>draw</td>\n",
       "      <td>2022</td>\n",
       "      <td>03</td>\n",
       "      <td>48</td>\n",
       "      <td>Qatar</td>\n",
       "      <td>QAT</td>\n",
       "      <td>1441.97</td>\n",
       "      <td>1441.41</td>\n",
       "      <td>-1</td>\n",
       "      <td>AFC</td>\n",
       "      <td>2022-03-31</td>\n",
       "      <td>65</td>\n",
       "      <td>Slovenia</td>\n",
       "      <td>SVN</td>\n",
       "      <td>1372.48</td>\n",
       "      <td>1372.48</td>\n",
       "      <td>0</td>\n",
       "      <td>UEFA</td>\n",
       "      <td>2022-03-31</td>\n",
       "      <td>bronze</td>\n",
       "      <td>bronze</td>\n",
       "      <td>0</td>\n",
       "      <td>0.050631</td>\n",
       "      <td>high</td>\n",
       "      <td>1.000000</td>\n",
       "    </tr>\n",
       "    <tr>\n",
       "      <th>19587</th>\n",
       "      <td>2022-03-29</td>\n",
       "      <td>Croatia</td>\n",
       "      <td>Bulgaria</td>\n",
       "      <td>2</td>\n",
       "      <td>1</td>\n",
       "      <td>Friendly</td>\n",
       "      <td>Al Rayyan</td>\n",
       "      <td>Qatar</td>\n",
       "      <td>True</td>\n",
       "      <td>home_win</td>\n",
       "      <td>2022</td>\n",
       "      <td>03</td>\n",
       "      <td>15</td>\n",
       "      <td>Croatia</td>\n",
       "      <td>CRO</td>\n",
       "      <td>1632.15</td>\n",
       "      <td>1632.15</td>\n",
       "      <td>0</td>\n",
       "      <td>UEFA</td>\n",
       "      <td>2022-03-31</td>\n",
       "      <td>74</td>\n",
       "      <td>Bulgaria</td>\n",
       "      <td>BUL</td>\n",
       "      <td>1325.16</td>\n",
       "      <td>1325.16</td>\n",
       "      <td>0</td>\n",
       "      <td>UEFA</td>\n",
       "      <td>2022-03-31</td>\n",
       "      <td>gold</td>\n",
       "      <td>bronze</td>\n",
       "      <td>1</td>\n",
       "      <td>0.231663</td>\n",
       "      <td>high</td>\n",
       "      <td>1.000000</td>\n",
       "    </tr>\n",
       "    <tr>\n",
       "      <th>19588</th>\n",
       "      <td>2022-03-26</td>\n",
       "      <td>Qatar</td>\n",
       "      <td>Bulgaria</td>\n",
       "      <td>2</td>\n",
       "      <td>1</td>\n",
       "      <td>Friendly</td>\n",
       "      <td>Al Rayyan</td>\n",
       "      <td>Qatar</td>\n",
       "      <td>False</td>\n",
       "      <td>home_win</td>\n",
       "      <td>2022</td>\n",
       "      <td>03</td>\n",
       "      <td>48</td>\n",
       "      <td>Qatar</td>\n",
       "      <td>QAT</td>\n",
       "      <td>1441.97</td>\n",
       "      <td>1441.41</td>\n",
       "      <td>-1</td>\n",
       "      <td>AFC</td>\n",
       "      <td>2022-03-31</td>\n",
       "      <td>74</td>\n",
       "      <td>Bulgaria</td>\n",
       "      <td>BUL</td>\n",
       "      <td>1325.16</td>\n",
       "      <td>1325.16</td>\n",
       "      <td>0</td>\n",
       "      <td>UEFA</td>\n",
       "      <td>2022-03-31</td>\n",
       "      <td>bronze</td>\n",
       "      <td>bronze</td>\n",
       "      <td>1</td>\n",
       "      <td>0.088148</td>\n",
       "      <td>high</td>\n",
       "      <td>1.000000</td>\n",
       "    </tr>\n",
       "    <tr>\n",
       "      <th>...</th>\n",
       "      <td>...</td>\n",
       "      <td>...</td>\n",
       "      <td>...</td>\n",
       "      <td>...</td>\n",
       "      <td>...</td>\n",
       "      <td>...</td>\n",
       "      <td>...</td>\n",
       "      <td>...</td>\n",
       "      <td>...</td>\n",
       "      <td>...</td>\n",
       "      <td>...</td>\n",
       "      <td>...</td>\n",
       "      <td>...</td>\n",
       "      <td>...</td>\n",
       "      <td>...</td>\n",
       "      <td>...</td>\n",
       "      <td>...</td>\n",
       "      <td>...</td>\n",
       "      <td>...</td>\n",
       "      <td>...</td>\n",
       "      <td>...</td>\n",
       "      <td>...</td>\n",
       "      <td>...</td>\n",
       "      <td>...</td>\n",
       "      <td>...</td>\n",
       "      <td>...</td>\n",
       "      <td>...</td>\n",
       "      <td>...</td>\n",
       "      <td>...</td>\n",
       "      <td>...</td>\n",
       "      <td>...</td>\n",
       "      <td>...</td>\n",
       "      <td>...</td>\n",
       "      <td>...</td>\n",
       "    </tr>\n",
       "    <tr>\n",
       "      <th>25</th>\n",
       "      <td>1992-12-19</td>\n",
       "      <td>Malta</td>\n",
       "      <td>Italy</td>\n",
       "      <td>1</td>\n",
       "      <td>2</td>\n",
       "      <td>FIFA World Cup qualification</td>\n",
       "      <td>Attard</td>\n",
       "      <td>Malta</td>\n",
       "      <td>False</td>\n",
       "      <td>home_lose</td>\n",
       "      <td>1992</td>\n",
       "      <td>12</td>\n",
       "      <td>169</td>\n",
       "      <td>Malta</td>\n",
       "      <td>MLT</td>\n",
       "      <td>974.68</td>\n",
       "      <td>974.68</td>\n",
       "      <td>1</td>\n",
       "      <td>UEFA</td>\n",
       "      <td>1992-12-31</td>\n",
       "      <td>7</td>\n",
       "      <td>Italy</td>\n",
       "      <td>ITA</td>\n",
       "      <td>1713.86</td>\n",
       "      <td>1713.86</td>\n",
       "      <td>0</td>\n",
       "      <td>UEFA</td>\n",
       "      <td>1992-12-31</td>\n",
       "      <td>bronze</td>\n",
       "      <td>diamond</td>\n",
       "      <td>0</td>\n",
       "      <td>-0.431295</td>\n",
       "      <td>low</td>\n",
       "      <td>0.023518</td>\n",
       "    </tr>\n",
       "    <tr>\n",
       "      <th>24</th>\n",
       "      <td>1992-12-16</td>\n",
       "      <td>Spain</td>\n",
       "      <td>Latvia</td>\n",
       "      <td>5</td>\n",
       "      <td>0</td>\n",
       "      <td>FIFA World Cup qualification</td>\n",
       "      <td>Seville</td>\n",
       "      <td>Spain</td>\n",
       "      <td>False</td>\n",
       "      <td>home_win</td>\n",
       "      <td>1992</td>\n",
       "      <td>12</td>\n",
       "      <td>6</td>\n",
       "      <td>Spain</td>\n",
       "      <td>ESP</td>\n",
       "      <td>1716.93</td>\n",
       "      <td>1716.93</td>\n",
       "      <td>0</td>\n",
       "      <td>UEFA</td>\n",
       "      <td>1992-12-31</td>\n",
       "      <td>129</td>\n",
       "      <td>Latvia</td>\n",
       "      <td>LVA</td>\n",
       "      <td>1125.36</td>\n",
       "      <td>1125.36</td>\n",
       "      <td>0</td>\n",
       "      <td>UEFA</td>\n",
       "      <td>1992-12-31</td>\n",
       "      <td>diamond</td>\n",
       "      <td>bronze</td>\n",
       "      <td>1</td>\n",
       "      <td>0.525672</td>\n",
       "      <td>very_high</td>\n",
       "      <td>0.023518</td>\n",
       "    </tr>\n",
       "    <tr>\n",
       "      <th>23</th>\n",
       "      <td>1992-12-20</td>\n",
       "      <td>Guinea</td>\n",
       "      <td>Kenya</td>\n",
       "      <td>4</td>\n",
       "      <td>0</td>\n",
       "      <td>FIFA World Cup qualification</td>\n",
       "      <td>Conakry</td>\n",
       "      <td>Guinea</td>\n",
       "      <td>False</td>\n",
       "      <td>home_win</td>\n",
       "      <td>1992</td>\n",
       "      <td>12</td>\n",
       "      <td>83</td>\n",
       "      <td>Guinea</td>\n",
       "      <td>GUI</td>\n",
       "      <td>1294.89</td>\n",
       "      <td>1294.89</td>\n",
       "      <td>0</td>\n",
       "      <td>CAF</td>\n",
       "      <td>1992-12-31</td>\n",
       "      <td>102</td>\n",
       "      <td>Kenya</td>\n",
       "      <td>KEN</td>\n",
       "      <td>1202.26</td>\n",
       "      <td>1202.26</td>\n",
       "      <td>0</td>\n",
       "      <td>CAF</td>\n",
       "      <td>1992-12-31</td>\n",
       "      <td>bronze</td>\n",
       "      <td>bronze</td>\n",
       "      <td>1</td>\n",
       "      <td>0.077047</td>\n",
       "      <td>high</td>\n",
       "      <td>0.023518</td>\n",
       "    </tr>\n",
       "    <tr>\n",
       "      <th>22</th>\n",
       "      <td>1992-12-16</td>\n",
       "      <td>Guinea</td>\n",
       "      <td>Sierra Leone</td>\n",
       "      <td>0</td>\n",
       "      <td>0</td>\n",
       "      <td>Friendly</td>\n",
       "      <td>Conakry</td>\n",
       "      <td>Guinea</td>\n",
       "      <td>False</td>\n",
       "      <td>draw</td>\n",
       "      <td>1992</td>\n",
       "      <td>12</td>\n",
       "      <td>83</td>\n",
       "      <td>Guinea</td>\n",
       "      <td>GUI</td>\n",
       "      <td>1294.89</td>\n",
       "      <td>1294.89</td>\n",
       "      <td>0</td>\n",
       "      <td>CAF</td>\n",
       "      <td>1992-12-31</td>\n",
       "      <td>113</td>\n",
       "      <td>Sierra Leone</td>\n",
       "      <td>SLE</td>\n",
       "      <td>1169.71</td>\n",
       "      <td>1168.21</td>\n",
       "      <td>0</td>\n",
       "      <td>CAF</td>\n",
       "      <td>1992-12-31</td>\n",
       "      <td>bronze</td>\n",
       "      <td>bronze</td>\n",
       "      <td>0</td>\n",
       "      <td>0.107018</td>\n",
       "      <td>high</td>\n",
       "      <td>0.023518</td>\n",
       "    </tr>\n",
       "    <tr>\n",
       "      <th>0</th>\n",
       "      <td>1992-12-01</td>\n",
       "      <td>Saudi Arabia</td>\n",
       "      <td>United Arab Emirates</td>\n",
       "      <td>0</td>\n",
       "      <td>1</td>\n",
       "      <td>Gulf Cup</td>\n",
       "      <td>Doha</td>\n",
       "      <td>Qatar</td>\n",
       "      <td>True</td>\n",
       "      <td>home_lose</td>\n",
       "      <td>1992</td>\n",
       "      <td>12</td>\n",
       "      <td>53</td>\n",
       "      <td>Saudi Arabia</td>\n",
       "      <td>KSA</td>\n",
       "      <td>1435.74</td>\n",
       "      <td>1435.74</td>\n",
       "      <td>0</td>\n",
       "      <td>AFC</td>\n",
       "      <td>1992-12-31</td>\n",
       "      <td>69</td>\n",
       "      <td>United Arab Emirates</td>\n",
       "      <td>UAE</td>\n",
       "      <td>1346.09</td>\n",
       "      <td>1346.09</td>\n",
       "      <td>0</td>\n",
       "      <td>AFC</td>\n",
       "      <td>1992-12-31</td>\n",
       "      <td>bronze</td>\n",
       "      <td>bronze</td>\n",
       "      <td>0</td>\n",
       "      <td>0.066600</td>\n",
       "      <td>high</td>\n",
       "      <td>0.023518</td>\n",
       "    </tr>\n",
       "  </tbody>\n",
       "</table>\n",
       "<p>19865 rows × 34 columns</p>\n",
       "</div>"
      ],
      "text/plain": [
       "             date     home_team             away_team  home_score  away_score  \\\n",
       "19864  2022-06-13  Sierra Leone         Guinea-Bissau           2           2   \n",
       "19596  2022-03-29   Netherlands               Germany           1           1   \n",
       "19586  2022-03-29         Qatar              Slovenia           0           0   \n",
       "19587  2022-03-29       Croatia              Bulgaria           2           1   \n",
       "19588  2022-03-26         Qatar              Bulgaria           2           1   \n",
       "...           ...           ...                   ...         ...         ...   \n",
       "25     1992-12-19         Malta                 Italy           1           2   \n",
       "24     1992-12-16         Spain                Latvia           5           0   \n",
       "23     1992-12-20        Guinea                 Kenya           4           0   \n",
       "22     1992-12-16        Guinea          Sierra Leone           0           0   \n",
       "0      1992-12-01  Saudi Arabia  United Arab Emirates           0           1   \n",
       "\n",
       "                                 tournament       city      country  neutral  \\\n",
       "19864  African Cup of Nations qualification    Conakry       Guinea     True   \n",
       "19596                              Friendly  Amsterdam  Netherlands    False   \n",
       "19586                              Friendly  Al Rayyan        Qatar    False   \n",
       "19587                              Friendly  Al Rayyan        Qatar     True   \n",
       "19588                              Friendly  Al Rayyan        Qatar    False   \n",
       "...                                     ...        ...          ...      ...   \n",
       "25             FIFA World Cup qualification     Attard        Malta    False   \n",
       "24             FIFA World Cup qualification    Seville        Spain    False   \n",
       "23             FIFA World Cup qualification    Conakry       Guinea    False   \n",
       "22                                 Friendly    Conakry       Guinea    False   \n",
       "0                                  Gulf Cup       Doha        Qatar     True   \n",
       "\n",
       "          winner  year month  rank  country_full country_abrv  total_points  \\\n",
       "19864       draw  2022    06   113  Sierra Leone          SLE       1169.71   \n",
       "19596       draw  2022    03     8   Netherlands          NED       1679.41   \n",
       "19586       draw  2022    03    48         Qatar          QAT       1441.97   \n",
       "19587   home_win  2022    03    15       Croatia          CRO       1632.15   \n",
       "19588   home_win  2022    03    48         Qatar          QAT       1441.97   \n",
       "...          ...   ...   ...   ...           ...          ...           ...   \n",
       "25     home_lose  1992    12   169         Malta          MLT        974.68   \n",
       "24      home_win  1992    12     6         Spain          ESP       1716.93   \n",
       "23      home_win  1992    12    83        Guinea          GUI       1294.89   \n",
       "22          draw  1992    12    83        Guinea          GUI       1294.89   \n",
       "0      home_lose  1992    12    53  Saudi Arabia          KSA       1435.74   \n",
       "\n",
       "       previous_points  rank_change confederation   rank_date  rank__away  \\\n",
       "19864          1168.21            0           CAF  2022-06-23         115   \n",
       "19596          1679.41            0          UEFA  2022-03-31          11   \n",
       "19586          1441.41           -1           AFC  2022-03-31          65   \n",
       "19587          1632.15            0          UEFA  2022-03-31          74   \n",
       "19588          1441.41           -1           AFC  2022-03-31          74   \n",
       "...                ...          ...           ...         ...         ...   \n",
       "25              974.68            1          UEFA  1992-12-31           7   \n",
       "24             1716.93            0          UEFA  1992-12-31         129   \n",
       "23             1294.89            0           CAF  1992-12-31         102   \n",
       "22             1294.89            0           CAF  1992-12-31         113   \n",
       "0              1435.74            0           AFC  1992-12-31          69   \n",
       "\n",
       "         country_full__away country_abrv__away  total_points__away  \\\n",
       "19864         Guinea-Bissau                GNB             1165.53   \n",
       "19596               Germany                GER             1658.96   \n",
       "19586              Slovenia                SVN             1372.48   \n",
       "19587              Bulgaria                BUL             1325.16   \n",
       "19588              Bulgaria                BUL             1325.16   \n",
       "...                     ...                ...                 ...   \n",
       "25                    Italy                ITA             1713.86   \n",
       "24                   Latvia                LVA             1125.36   \n",
       "23                    Kenya                KEN             1202.26   \n",
       "22             Sierra Leone                SLE             1169.71   \n",
       "0      United Arab Emirates                UAE             1346.09   \n",
       "\n",
       "       previous_points__away  rank_change__away confederation__away  \\\n",
       "19864                1165.78                  0                 CAF   \n",
       "19596                1658.96                  0                UEFA   \n",
       "19586                1372.48                  0                UEFA   \n",
       "19587                1325.16                  0                UEFA   \n",
       "19588                1325.16                  0                UEFA   \n",
       "...                      ...                ...                 ...   \n",
       "25                   1713.86                  0                UEFA   \n",
       "24                   1125.36                  0                UEFA   \n",
       "23                   1202.26                  0                 CAF   \n",
       "22                   1168.21                  0                 CAF   \n",
       "0                    1346.09                  0                 AFC   \n",
       "\n",
       "      rank_date__away home_tier away_tier  home_win  marginal_effect  \\\n",
       "19864      2022-06-23    bronze    bronze         0         0.003586   \n",
       "19596      2022-03-31   diamond      gold         0         0.012327   \n",
       "19586      2022-03-31    bronze    bronze         0         0.050631   \n",
       "19587      2022-03-31      gold    bronze         1         0.231663   \n",
       "19588      2022-03-31    bronze    bronze         1         0.088148   \n",
       "...               ...       ...       ...       ...              ...   \n",
       "25         1992-12-31    bronze   diamond         0        -0.431295   \n",
       "24         1992-12-31   diamond    bronze         1         0.525672   \n",
       "23         1992-12-31    bronze    bronze         1         0.077047   \n",
       "22         1992-12-31    bronze    bronze         0         0.107018   \n",
       "0          1992-12-31    bronze    bronze         0         0.066600   \n",
       "\n",
       "      effect_tier  match_importance  \n",
       "19864        high          1.000000  \n",
       "19596        high          1.000000  \n",
       "19586        high          1.000000  \n",
       "19587        high          1.000000  \n",
       "19588        high          1.000000  \n",
       "...           ...               ...  \n",
       "25            low          0.023518  \n",
       "24      very_high          0.023518  \n",
       "23           high          0.023518  \n",
       "22           high          0.023518  \n",
       "0            high          0.023518  \n",
       "\n",
       "[19865 rows x 34 columns]"
      ]
     },
     "execution_count": 49,
     "metadata": {},
     "output_type": "execute_result"
    }
   ],
   "source": [
    "data.sort_values(by='match_importance', ascending=False)"
   ]
  },
  {
   "cell_type": "code",
   "execution_count": 51,
   "id": "23062ea7",
   "metadata": {},
   "outputs": [
    {
     "data": {
      "text/plain": [
       "<AxesSubplot:xlabel='month', ylabel='home_win'>"
      ]
     },
     "execution_count": 51,
     "metadata": {},
     "output_type": "execute_result"
    },
    {
     "data": {
      "image/png": "[encoded data removed]",
      "text/plain": [
       "<Figure size 432x288 with 1 Axes>"
      ]
     },
     "metadata": {
      "needs_background": "light"
     },
     "output_type": "display_data"
    }
   ],
   "source": [
    "sns.barplot(x='month', y='home_win', data=data)"
   ]
  },
  {
   "cell_type": "code",
   "execution_count": 50,
   "id": "cd9b367f",
   "metadata": {},
   "outputs": [
    {
     "data": {
      "text/html": [
       "<div>\n",
       "<style scoped>\n",
       "    .dataframe tbody tr th:only-of-type {\n",
       "        vertical-align: middle;\n",
       "    }\n",
       "\n",
       "    .dataframe tbody tr th {\n",
       "        vertical-align: top;\n",
       "    }\n",
       "\n",
       "    .dataframe thead th {\n",
       "        text-align: right;\n",
       "    }\n",
       "</style>\n",
       "<table border=\"1\" class=\"dataframe\">\n",
       "  <thead>\n",
       "    <tr style=\"text-align: right;\">\n",
       "      <th></th>\n",
       "      <th>date</th>\n",
       "      <th>home_team</th>\n",
       "      <th>away_team</th>\n",
       "      <th>home_score</th>\n",
       "      <th>away_score</th>\n",
       "      <th>tournament</th>\n",
       "      <th>city</th>\n",
       "      <th>country</th>\n",
       "      <th>neutral</th>\n",
       "      <th>winner</th>\n",
       "      <th>year</th>\n",
       "      <th>month</th>\n",
       "      <th>rank</th>\n",
       "      <th>country_full</th>\n",
       "      <th>country_abrv</th>\n",
       "      <th>total_points</th>\n",
       "      <th>previous_points</th>\n",
       "      <th>rank_change</th>\n",
       "      <th>confederation</th>\n",
       "      <th>rank_date</th>\n",
       "      <th>rank__away</th>\n",
       "      <th>country_full__away</th>\n",
       "      <th>country_abrv__away</th>\n",
       "      <th>total_points__away</th>\n",
       "      <th>previous_points__away</th>\n",
       "      <th>rank_change__away</th>\n",
       "      <th>confederation__away</th>\n",
       "      <th>rank_date__away</th>\n",
       "      <th>home_tier</th>\n",
       "      <th>away_tier</th>\n",
       "      <th>home_win</th>\n",
       "      <th>marginal_effect</th>\n",
       "      <th>effect_tier</th>\n",
       "      <th>match_importance</th>\n",
       "    </tr>\n",
       "  </thead>\n",
       "  <tbody>\n",
       "    <tr>\n",
       "      <th>0</th>\n",
       "      <td>1992-12-01</td>\n",
       "      <td>Saudi Arabia</td>\n",
       "      <td>United Arab Emirates</td>\n",
       "      <td>0</td>\n",
       "      <td>1</td>\n",
       "      <td>Gulf Cup</td>\n",
       "      <td>Doha</td>\n",
       "      <td>Qatar</td>\n",
       "      <td>True</td>\n",
       "      <td>home_lose</td>\n",
       "      <td>1992</td>\n",
       "      <td>12</td>\n",
       "      <td>53</td>\n",
       "      <td>Saudi Arabia</td>\n",
       "      <td>KSA</td>\n",
       "      <td>1435.74</td>\n",
       "      <td>1435.74</td>\n",
       "      <td>0</td>\n",
       "      <td>AFC</td>\n",
       "      <td>1992-12-31</td>\n",
       "      <td>69</td>\n",
       "      <td>United Arab Emirates</td>\n",
       "      <td>UAE</td>\n",
       "      <td>1346.09</td>\n",
       "      <td>1346.09</td>\n",
       "      <td>0</td>\n",
       "      <td>AFC</td>\n",
       "      <td>1992-12-31</td>\n",
       "      <td>bronze</td>\n",
       "      <td>bronze</td>\n",
       "      <td>0</td>\n",
       "      <td>0.066600</td>\n",
       "      <td>high</td>\n",
       "      <td>0.023518</td>\n",
       "    </tr>\n",
       "    <tr>\n",
       "      <th>1</th>\n",
       "      <td>1992-12-06</td>\n",
       "      <td>Qatar</td>\n",
       "      <td>United Arab Emirates</td>\n",
       "      <td>1</td>\n",
       "      <td>0</td>\n",
       "      <td>Gulf Cup</td>\n",
       "      <td>Doha</td>\n",
       "      <td>Qatar</td>\n",
       "      <td>False</td>\n",
       "      <td>home_win</td>\n",
       "      <td>1992</td>\n",
       "      <td>12</td>\n",
       "      <td>48</td>\n",
       "      <td>Qatar</td>\n",
       "      <td>QAT</td>\n",
       "      <td>1441.97</td>\n",
       "      <td>1441.41</td>\n",
       "      <td>-1</td>\n",
       "      <td>AFC</td>\n",
       "      <td>1992-12-31</td>\n",
       "      <td>69</td>\n",
       "      <td>United Arab Emirates</td>\n",
       "      <td>UAE</td>\n",
       "      <td>1346.09</td>\n",
       "      <td>1346.09</td>\n",
       "      <td>0</td>\n",
       "      <td>AFC</td>\n",
       "      <td>1992-12-31</td>\n",
       "      <td>bronze</td>\n",
       "      <td>bronze</td>\n",
       "      <td>1</td>\n",
       "      <td>0.071229</td>\n",
       "      <td>high</td>\n",
       "      <td>0.023518</td>\n",
       "    </tr>\n",
       "    <tr>\n",
       "      <th>2</th>\n",
       "      <td>1992-12-04</td>\n",
       "      <td>Bahrain</td>\n",
       "      <td>United Arab Emirates</td>\n",
       "      <td>0</td>\n",
       "      <td>2</td>\n",
       "      <td>Gulf Cup</td>\n",
       "      <td>Doha</td>\n",
       "      <td>Qatar</td>\n",
       "      <td>True</td>\n",
       "      <td>home_lose</td>\n",
       "      <td>1992</td>\n",
       "      <td>12</td>\n",
       "      <td>85</td>\n",
       "      <td>Bahrain</td>\n",
       "      <td>BHR</td>\n",
       "      <td>1289.25</td>\n",
       "      <td>1289.25</td>\n",
       "      <td>0</td>\n",
       "      <td>AFC</td>\n",
       "      <td>1992-12-31</td>\n",
       "      <td>69</td>\n",
       "      <td>United Arab Emirates</td>\n",
       "      <td>UAE</td>\n",
       "      <td>1346.09</td>\n",
       "      <td>1346.09</td>\n",
       "      <td>0</td>\n",
       "      <td>AFC</td>\n",
       "      <td>1992-12-31</td>\n",
       "      <td>bronze</td>\n",
       "      <td>bronze</td>\n",
       "      <td>0</td>\n",
       "      <td>-0.042226</td>\n",
       "      <td>high</td>\n",
       "      <td>0.023518</td>\n",
       "    </tr>\n",
       "  </tbody>\n",
       "</table>\n",
       "</div>"
      ],
      "text/plain": [
       "         date     home_team             away_team  home_score  away_score  \\\n",
       "0  1992-12-01  Saudi Arabia  United Arab Emirates           0           1   \n",
       "1  1992-12-06         Qatar  United Arab Emirates           1           0   \n",
       "2  1992-12-04       Bahrain  United Arab Emirates           0           2   \n",
       "\n",
       "  tournament  city country  neutral     winner  year month  rank  \\\n",
       "0   Gulf Cup  Doha   Qatar     True  home_lose  1992    12    53   \n",
       "1   Gulf Cup  Doha   Qatar    False   home_win  1992    12    48   \n",
       "2   Gulf Cup  Doha   Qatar     True  home_lose  1992    12    85   \n",
       "\n",
       "   country_full country_abrv  total_points  previous_points  rank_change  \\\n",
       "0  Saudi Arabia          KSA       1435.74          1435.74            0   \n",
       "1         Qatar          QAT       1441.97          1441.41           -1   \n",
       "2       Bahrain          BHR       1289.25          1289.25            0   \n",
       "\n",
       "  confederation   rank_date  rank__away    country_full__away  \\\n",
       "0           AFC  1992-12-31          69  United Arab Emirates   \n",
       "1           AFC  1992-12-31          69  United Arab Emirates   \n",
       "2           AFC  1992-12-31          69  United Arab Emirates   \n",
       "\n",
       "  country_abrv__away  total_points__away  previous_points__away  \\\n",
       "0                UAE             1346.09                1346.09   \n",
       "1                UAE             1346.09                1346.09   \n",
       "2                UAE             1346.09                1346.09   \n",
       "\n",
       "   rank_change__away confederation__away rank_date__away home_tier away_tier  \\\n",
       "0                  0                 AFC      1992-12-31    bronze    bronze   \n",
       "1                  0                 AFC      1992-12-31    bronze    bronze   \n",
       "2                  0                 AFC      1992-12-31    bronze    bronze   \n",
       "\n",
       "   home_win  marginal_effect effect_tier  match_importance  \n",
       "0         0         0.066600        high          0.023518  \n",
       "1         1         0.071229        high          0.023518  \n",
       "2         0        -0.042226        high          0.023518  "
      ]
     },
     "execution_count": 50,
     "metadata": {},
     "output_type": "execute_result"
    }
   ],
   "source": [
    "data.head(3)"
   ]
  },
  {
   "cell_type": "code",
   "execution_count": 52,
   "id": "d7980e3f",
   "metadata": {},
   "outputs": [],
   "source": [
    "predictors = ['home_team', 'away_team', 'neutral', 'confederation', 'confederation__away'\n",
    "              , 'home_tier', 'away_tier', 'marginal_effect', 'effect_tier', 'match_importance']\n",
    "\n"
   ]
  },
  {
   "cell_type": "code",
   "execution_count": 60,
   "id": "69b4d8f4",
   "metadata": {},
   "outputs": [],
   "source": [
    "data['year_int'] = data['year'].astype(int)"
   ]
  },
  {
   "cell_type": "code",
   "execution_count": 61,
   "id": "22cd737c",
   "metadata": {},
   "outputs": [],
   "source": [
    "data_train = data.loc[data.tournament.isin(tournaments) & (data.year_int < 2016), ] \n",
    "data_test = data.loc[data.tournament.isin(tournaments) & (data.year_int >= 2016), ]"
   ]
  },
  {
   "cell_type": "code",
   "execution_count": 66,
   "id": "d506b5a6",
   "metadata": {},
   "outputs": [],
   "source": [
    "X = pd.get_dummies(data_train[predictors])\n",
    "y = data_train['winner']"
   ]
  },
  {
   "cell_type": "code",
   "execution_count": 68,
   "id": "e59a1e07",
   "metadata": {},
   "outputs": [
    {
     "name": "stderr",
     "output_type": "stream",
     "text": [
      "C:\\Users\\063255\\Projects\\volumes_prediction\\env\\lib\\site-packages\\xgboost\\compat.py:93: FutureWarning: pandas.Int64Index is deprecated and will be removed from pandas in a future version. Use pandas.Index with the appropriate dtype instead.\n",
      "  from pandas import MultiIndex, Int64Index\n"
     ]
    }
   ],
   "source": [
    "import xgboost as xgb"
   ]
  },
  {
   "cell_type": "code",
   "execution_count": 69,
   "id": "c31aa062",
   "metadata": {},
   "outputs": [],
   "source": [
    "model = xgb.XGBClassifier()"
   ]
  },
  {
   "cell_type": "code",
   "execution_count": 70,
   "id": "7e8294e5",
   "metadata": {},
   "outputs": [
    {
     "name": "stdout",
     "output_type": "stream",
     "text": [
      "              precision    recall  f1-score   support\n",
      "\n",
      "        draw       0.79      0.27      0.40      1471\n",
      "   home_lose       0.72      0.76      0.74      2028\n",
      "    home_win       0.74      0.92      0.82      3573\n",
      "\n",
      "    accuracy                           0.74      7072\n",
      "   macro avg       0.75      0.65      0.65      7072\n",
      "weighted avg       0.74      0.74      0.71      7072\n",
      "\n"
     ]
    }
   ],
   "source": [
    "model.fit(X, y)\n",
    "\n",
    "print(classification_report(y, model.predict(X)))"
   ]
  },
  {
   "cell_type": "code",
   "execution_count": 71,
   "id": "7b98a600",
   "metadata": {},
   "outputs": [
    {
     "name": "stdout",
     "output_type": "stream",
     "text": [
      "[12:36:04] WARNING: C:\\Users\\Administrator\\workspace\\xgboost-win64_release_1.1.0\\src\\learner.cc:480: \n",
      "Parameters: { colsampl_bytree } might not be used.\n",
      "\n",
      "  This may not be accurate due to some parameters are only used in language bindings but\n",
      "  passed down to XGBoost core.  Or some parameters are not used but slip through this\n",
      "  verification. Please open an issue if you find above cases.\n",
      "\n",
      "\n",
      "              precision    recall  f1-score   support\n",
      "\n",
      "        draw       0.82      0.42      0.56      1471\n",
      "   home_lose       0.77      0.80      0.78      2028\n",
      "    home_win       0.78      0.92      0.85      3573\n",
      "\n",
      "    accuracy                           0.78      7072\n",
      "   macro avg       0.79      0.71      0.73      7072\n",
      "weighted avg       0.79      0.78      0.77      7072\n",
      "\n"
     ]
    }
   ],
   "source": [
    "model = xgb.XGBClassifier(n_estimators=100, max_depth=7, subsample=.8, colsample_bytree=.8)\n",
    "\n",
    "model.fit(X, y)\n",
    "\n",
    "print(classification_report(y, model.predict(X)))"
   ]
  },
  {
   "cell_type": "code",
   "execution_count": null,
   "id": "1002fb18",
   "metadata": {},
   "outputs": [],
   "source": [
    "from sklearn.model_selection import GridSearchCV\n",
    "\n",
    "grid = {\n",
    "    'n_estimators' : [10, 50, 100, 200],\n",
    "    'max_depth' : [2, 5, 7, 11],\n",
    "    'subsample' : [.5, .7, .9, .95],\n",
    "    'colsample_bytree' : [.5, .7, .9, .95]\n",
    "}\n",
    "\n",
    "model = xgb.XGBClassifier()\n",
    "\n",
    "clf = GridSearchCV(model, grid, scoring='f1_weighted', cv=3)\n",
    "\n",
    "clf.fit(X, y)"
   ]
  },
  {
   "cell_type": "code",
   "execution_count": 91,
   "id": "34fcffe6",
   "metadata": {},
   "outputs": [
    {
     "data": {
      "text/plain": [
       "['FIFA2022_predictors.mdl']"
      ]
     },
     "execution_count": 91,
     "metadata": {},
     "output_type": "execute_result"
    }
   ],
   "source": [
    "model = xgb.XGBClassifier(n_estimators=50, max_depth=2)\n",
    "model.fit(X, y)\n",
    "\n",
    "import joblib\n",
    "\n",
    "joblib.dump(model, 'FIFA2022_predictors.mdl')"
   ]
  },
  {
   "cell_type": "code",
   "execution_count": 99,
   "id": "a26d97fb",
   "metadata": {},
   "outputs": [
    {
     "data": {
      "text/plain": [
       "['home_team',\n",
       " 'away_team',\n",
       " 'neutral',\n",
       " 'confederation',\n",
       " 'confederation__away',\n",
       " 'home_tier',\n",
       " 'away_tier',\n",
       " 'marginal_effect',\n",
       " 'effect_tier',\n",
       " 'match_importance']"
      ]
     },
     "execution_count": 99,
     "metadata": {},
     "output_type": "execute_result"
    }
   ],
   "source": [
    "predictors"
   ]
  },
  {
   "cell_type": "code",
   "execution_count": 140,
   "id": "6113bc06",
   "metadata": {},
   "outputs": [],
   "source": [
    "match = ['Morocco', 'Brazil', True, 'CAF', 'CONMEBOL', 'silver', 'diamond', marginal_effect, 'high', 1]"
   ]
  },
  {
   "cell_type": "code",
   "execution_count": 141,
   "id": "9b2b18a7",
   "metadata": {},
   "outputs": [
    {
     "data": {
      "text/plain": [
       "['Morocco',\n",
       " 'Brazil',\n",
       " True,\n",
       " 'CAF',\n",
       " 'CONMEBOL',\n",
       " 'silver',\n",
       " 'diamond',\n",
       " -0.15194605890419907,\n",
       " 'high',\n",
       " 1]"
      ]
     },
     "execution_count": 141,
     "metadata": {},
     "output_type": "execute_result"
    }
   ],
   "source": [
    "match"
   ]
  },
  {
   "cell_type": "code",
   "execution_count": 142,
   "id": "868f9e08",
   "metadata": {},
   "outputs": [],
   "source": [
    "d_match = pd.DataFrame([match], columns=predictors)"
   ]
  },
  {
   "cell_type": "code",
   "execution_count": 143,
   "id": "a26d0f5e",
   "metadata": {},
   "outputs": [],
   "source": [
    "x_match = pd.get_dummies(d_match[predictors])"
   ]
  },
  {
   "cell_type": "code",
   "execution_count": 144,
   "id": "fb9e6c85",
   "metadata": {},
   "outputs": [],
   "source": [
    "for col in X.columns:\n",
    "    if col not in x_match:\n",
    "        x_match[col] = 0"
   ]
  },
  {
   "cell_type": "code",
   "execution_count": 145,
   "id": "4ffd8c46",
   "metadata": {},
   "outputs": [
    {
     "data": {
      "text/plain": [
       "array([[0.22231655, 0.5696467 , 0.20803672]], dtype=float32)"
      ]
     },
     "execution_count": 145,
     "metadata": {},
     "output_type": "execute_result"
    }
   ],
   "source": [
    "model.predict_proba(x_match[X.columns])"
   ]
  },
  {
   "cell_type": "code",
   "execution_count": 148,
   "id": "b39e2e44",
   "metadata": {},
   "outputs": [
    {
     "data": {
      "text/plain": [
       "['home_team',\n",
       " 'away_team',\n",
       " 'neutral',\n",
       " 'confederation',\n",
       " 'confederation__away',\n",
       " 'home_tier',\n",
       " 'away_tier',\n",
       " 'marginal_effect',\n",
       " 'effect_tier',\n",
       " 'match_importance']"
      ]
     },
     "execution_count": 148,
     "metadata": {},
     "output_type": "execute_result"
    }
   ],
   "source": [
    "predictors"
   ]
  },
  {
   "cell_type": "code",
   "execution_count": 147,
   "id": "830b8007",
   "metadata": {},
   "outputs": [
    {
     "data": {
      "text/plain": [
       "array(['home_lose'], dtype=object)"
      ]
     },
     "execution_count": 147,
     "metadata": {},
     "output_type": "execute_result"
    }
   ],
   "source": [
    "model.predict(x_match[X.columns])"
   ]
  },
  {
   "cell_type": "code",
   "execution_count": 118,
   "id": "9f3d4dc8",
   "metadata": {},
   "outputs": [
    {
     "data": {
      "text/html": [
       "<div>\n",
       "<style scoped>\n",
       "    .dataframe tbody tr th:only-of-type {\n",
       "        vertical-align: middle;\n",
       "    }\n",
       "\n",
       "    .dataframe tbody tr th {\n",
       "        vertical-align: top;\n",
       "    }\n",
       "\n",
       "    .dataframe thead th {\n",
       "        text-align: right;\n",
       "    }\n",
       "</style>\n",
       "<table border=\"1\" class=\"dataframe\">\n",
       "  <thead>\n",
       "    <tr style=\"text-align: right;\">\n",
       "      <th></th>\n",
       "      <th>home_team</th>\n",
       "      <th>away_team</th>\n",
       "      <th>neutral</th>\n",
       "      <th>confederation</th>\n",
       "      <th>confederation__away</th>\n",
       "      <th>home_tier</th>\n",
       "      <th>away_tier</th>\n",
       "      <th>marginal_effect</th>\n",
       "      <th>effect_tier</th>\n",
       "      <th>match_importance</th>\n",
       "    </tr>\n",
       "  </thead>\n",
       "  <tbody>\n",
       "    <tr>\n",
       "      <th>0</th>\n",
       "      <td>Saudi Arabia</td>\n",
       "      <td>United Arab Emirates</td>\n",
       "      <td>True</td>\n",
       "      <td>AFC</td>\n",
       "      <td>AFC</td>\n",
       "      <td>bronze</td>\n",
       "      <td>bronze</td>\n",
       "      <td>0.0666</td>\n",
       "      <td>high</td>\n",
       "      <td>0.023518</td>\n",
       "    </tr>\n",
       "  </tbody>\n",
       "</table>\n",
       "</div>"
      ],
      "text/plain": [
       "      home_team             away_team  neutral confederation  \\\n",
       "0  Saudi Arabia  United Arab Emirates     True           AFC   \n",
       "\n",
       "  confederation__away home_tier away_tier  marginal_effect effect_tier  \\\n",
       "0                 AFC    bronze    bronze           0.0666        high   \n",
       "\n",
       "   match_importance  \n",
       "0          0.023518  "
      ]
     },
     "execution_count": 118,
     "metadata": {},
     "output_type": "execute_result"
    }
   ],
   "source": [
    "data.iloc[[0]][predictors]"
   ]
  },
  {
   "cell_type": "code",
   "execution_count": 137,
   "id": "96f790d7",
   "metadata": {},
   "outputs": [],
   "source": [
    "#Morocco 1558.35\n",
    "#Brazil 1837.56\n",
    "\n",
    "marginal_effect = (1558.35 - 1837.56) / 1837.56"
   ]
  },
  {
   "cell_type": "code",
   "execution_count": 107,
   "id": "0646112c",
   "metadata": {},
   "outputs": [
    {
     "data": {
      "text/html": [
       "<div>\n",
       "<style scoped>\n",
       "    .dataframe tbody tr th:only-of-type {\n",
       "        vertical-align: middle;\n",
       "    }\n",
       "\n",
       "    .dataframe tbody tr th {\n",
       "        vertical-align: top;\n",
       "    }\n",
       "\n",
       "    .dataframe thead th {\n",
       "        text-align: right;\n",
       "    }\n",
       "</style>\n",
       "<table border=\"1\" class=\"dataframe\">\n",
       "  <thead>\n",
       "    <tr style=\"text-align: right;\">\n",
       "      <th></th>\n",
       "      <th>date</th>\n",
       "      <th>home_team</th>\n",
       "      <th>home_tier</th>\n",
       "      <th>total_points</th>\n",
       "      <th>away_team</th>\n",
       "      <th>away_tier</th>\n",
       "      <th>total_points__away</th>\n",
       "    </tr>\n",
       "  </thead>\n",
       "  <tbody>\n",
       "    <tr>\n",
       "      <th>19860</th>\n",
       "      <td>2022-06-13</td>\n",
       "      <td>Morocco</td>\n",
       "      <td>silver</td>\n",
       "      <td>1558.35</td>\n",
       "      <td>Liberia</td>\n",
       "      <td>bronze</td>\n",
       "      <td>1051.25</td>\n",
       "    </tr>\n",
       "    <tr>\n",
       "      <th>19859</th>\n",
       "      <td>2022-06-09</td>\n",
       "      <td>Morocco</td>\n",
       "      <td>silver</td>\n",
       "      <td>1558.35</td>\n",
       "      <td>South Africa</td>\n",
       "      <td>bronze</td>\n",
       "      <td>1350.55</td>\n",
       "    </tr>\n",
       "    <tr>\n",
       "      <th>19425</th>\n",
       "      <td>2021-12-11</td>\n",
       "      <td>Morocco</td>\n",
       "      <td>silver</td>\n",
       "      <td>1558.35</td>\n",
       "      <td>Algeria</td>\n",
       "      <td>bronze</td>\n",
       "      <td>1480.59</td>\n",
       "    </tr>\n",
       "    <tr>\n",
       "      <th>19423</th>\n",
       "      <td>2021-12-07</td>\n",
       "      <td>Morocco</td>\n",
       "      <td>silver</td>\n",
       "      <td>1558.35</td>\n",
       "      <td>Saudi Arabia</td>\n",
       "      <td>bronze</td>\n",
       "      <td>1435.74</td>\n",
       "    </tr>\n",
       "    <tr>\n",
       "      <th>19451</th>\n",
       "      <td>2021-12-04</td>\n",
       "      <td>Jordan</td>\n",
       "      <td>bronze</td>\n",
       "      <td>1279.74</td>\n",
       "      <td>Morocco</td>\n",
       "      <td>silver</td>\n",
       "      <td>1558.35</td>\n",
       "    </tr>\n",
       "    <tr>\n",
       "      <th>...</th>\n",
       "      <td>...</td>\n",
       "      <td>...</td>\n",
       "      <td>...</td>\n",
       "      <td>...</td>\n",
       "      <td>...</td>\n",
       "      <td>...</td>\n",
       "      <td>...</td>\n",
       "    </tr>\n",
       "    <tr>\n",
       "      <th>195</th>\n",
       "      <td>1994-02-02</td>\n",
       "      <td>Egypt</td>\n",
       "      <td>bronze</td>\n",
       "      <td>1482.63</td>\n",
       "      <td>Morocco</td>\n",
       "      <td>silver</td>\n",
       "      <td>1558.35</td>\n",
       "    </tr>\n",
       "    <tr>\n",
       "      <th>109</th>\n",
       "      <td>1993-10-10</td>\n",
       "      <td>Morocco</td>\n",
       "      <td>silver</td>\n",
       "      <td>1558.35</td>\n",
       "      <td>Zambia</td>\n",
       "      <td>bronze</td>\n",
       "      <td>1270.80</td>\n",
       "    </tr>\n",
       "    <tr>\n",
       "      <th>107</th>\n",
       "      <td>1993-10-01</td>\n",
       "      <td>Morocco</td>\n",
       "      <td>silver</td>\n",
       "      <td>1558.35</td>\n",
       "      <td>Gabon</td>\n",
       "      <td>bronze</td>\n",
       "      <td>1301.84</td>\n",
       "    </tr>\n",
       "    <tr>\n",
       "      <th>95</th>\n",
       "      <td>1993-09-15</td>\n",
       "      <td>Morocco</td>\n",
       "      <td>silver</td>\n",
       "      <td>1558.35</td>\n",
       "      <td>Mali</td>\n",
       "      <td>bronze</td>\n",
       "      <td>1442.88</td>\n",
       "    </tr>\n",
       "    <tr>\n",
       "      <th>33</th>\n",
       "      <td>1992-12-20</td>\n",
       "      <td>Tunisia</td>\n",
       "      <td>silver</td>\n",
       "      <td>1507.86</td>\n",
       "      <td>Morocco</td>\n",
       "      <td>silver</td>\n",
       "      <td>1558.35</td>\n",
       "    </tr>\n",
       "  </tbody>\n",
       "</table>\n",
       "<p>275 rows × 7 columns</p>\n",
       "</div>"
      ],
      "text/plain": [
       "             date home_team home_tier  total_points     away_team away_tier  \\\n",
       "19860  2022-06-13   Morocco    silver       1558.35       Liberia    bronze   \n",
       "19859  2022-06-09   Morocco    silver       1558.35  South Africa    bronze   \n",
       "19425  2021-12-11   Morocco    silver       1558.35       Algeria    bronze   \n",
       "19423  2021-12-07   Morocco    silver       1558.35  Saudi Arabia    bronze   \n",
       "19451  2021-12-04    Jordan    bronze       1279.74       Morocco    silver   \n",
       "...           ...       ...       ...           ...           ...       ...   \n",
       "195    1994-02-02     Egypt    bronze       1482.63       Morocco    silver   \n",
       "109    1993-10-10   Morocco    silver       1558.35        Zambia    bronze   \n",
       "107    1993-10-01   Morocco    silver       1558.35         Gabon    bronze   \n",
       "95     1993-09-15   Morocco    silver       1558.35          Mali    bronze   \n",
       "33     1992-12-20   Tunisia    silver       1507.86       Morocco    silver   \n",
       "\n",
       "       total_points__away  \n",
       "19860             1051.25  \n",
       "19859             1350.55  \n",
       "19425             1480.59  \n",
       "19423             1435.74  \n",
       "19451             1558.35  \n",
       "...                   ...  \n",
       "195               1558.35  \n",
       "109               1270.80  \n",
       "107               1301.84  \n",
       "95                1442.88  \n",
       "33                1558.35  \n",
       "\n",
       "[275 rows x 7 columns]"
      ]
     },
     "execution_count": 107,
     "metadata": {},
     "output_type": "execute_result"
    }
   ],
   "source": [
    "data.query('home_team==\"Morocco\" or away_team==\"Morocco\"').sort_values(by='date', ascending=False)[['date', 'home_team', 'home_tier', 'total_points', 'away_team', 'away_tier', 'total_points__away']]"
   ]
  },
  {
   "cell_type": "code",
   "execution_count": 98,
   "id": "27906b4d",
   "metadata": {},
   "outputs": [
    {
     "data": {
      "text/plain": [
       "array(['home_win', 'home_win'], dtype=object)"
      ]
     },
     "execution_count": 98,
     "metadata": {},
     "output_type": "execute_result"
    }
   ],
   "source": [
    "model.predict(X.head(2))"
   ]
  },
  {
   "cell_type": "code",
   "execution_count": 78,
   "id": "52fb8e18",
   "metadata": {},
   "outputs": [
    {
     "data": {
      "text/plain": [
       "{'max_depth': 2, 'n_estimators': 50}"
      ]
     },
     "execution_count": 78,
     "metadata": {},
     "output_type": "execute_result"
    }
   ],
   "source": [
    "clf.best_params_"
   ]
  },
  {
   "cell_type": "code",
   "execution_count": 89,
   "id": "9b100585",
   "metadata": {},
   "outputs": [
    {
     "data": {
      "text/plain": [
       "Index(['neutral', 'marginal_effect', 'match_importance',\n",
       "       'home_team_Afghanistan', 'home_team_Albania', 'home_team_Algeria',\n",
       "       'home_team_American Samoa', 'home_team_Andorra', 'home_team_Angola',\n",
       "       'home_team_Anguilla',\n",
       "       ...\n",
       "       'home_tier_gold', 'home_tier_silver', 'away_tier_bronze',\n",
       "       'away_tier_diamond', 'away_tier_gold', 'away_tier_silver',\n",
       "       'effect_tier_high', 'effect_tier_low', 'effect_tier_medium',\n",
       "       'effect_tier_very_high'],\n",
       "      dtype='object', length=417)"
      ]
     },
     "execution_count": 89,
     "metadata": {},
     "output_type": "execute_result"
    }
   ],
   "source": [
    "X.columns"
   ]
  },
  {
   "cell_type": "code",
   "execution_count": 84,
   "id": "8c3551a4",
   "metadata": {},
   "outputs": [],
   "source": [
    "X_test = pd.get_dummies(data_test[predictors])"
   ]
  },
  {
   "cell_type": "code",
   "execution_count": 85,
   "id": "56087846",
   "metadata": {},
   "outputs": [],
   "source": [
    "for col in X.columns:\n",
    "    if col not in X_test.columns:\n",
    "        X_test[col] = 0"
   ]
  },
  {
   "cell_type": "code",
   "execution_count": 87,
   "id": "2ee07ace",
   "metadata": {},
   "outputs": [
    {
     "name": "stdout",
     "output_type": "stream",
     "text": [
      "              precision    recall  f1-score   support\n",
      "\n",
      "        draw       0.27      0.01      0.02       541\n",
      "   home_lose       0.62      0.69      0.66       711\n",
      "    home_win       0.64      0.89      0.74      1115\n",
      "\n",
      "    accuracy                           0.63      2367\n",
      "   macro avg       0.51      0.53      0.47      2367\n",
      "weighted avg       0.55      0.63      0.55      2367\n",
      "\n"
     ]
    }
   ],
   "source": [
    "print(classification_report(data_test['winner'], clf.best_estimator_.predict(X_test[X.columns])))"
   ]
  },
  {
   "cell_type": "code",
   "execution_count": 153,
   "id": "e31ec827",
   "metadata": {},
   "outputs": [],
   "source": [
    "d_points = fr.query('year==\"2022\" and month==\"08\"')[['rank', 'country_full', 'total_points']]"
   ]
  },
  {
   "cell_type": "code",
   "execution_count": 161,
   "id": "0e7d9619",
   "metadata": {},
   "outputs": [],
   "source": [
    "def marginal_effect(home_team, away_team):\n",
    "    home_points = d_points.loc[d_points.country_full==home_team, 'total_points'].iloc[0]\n",
    "    away_points = d_points.loc[d_points.country_full==away_team, 'total_points'].iloc[0]\n",
    "    \n",
    "    return (home_points - away_points) / away_points"
   ]
  },
  {
   "cell_type": "code",
   "execution_count": 162,
   "id": "2e987bce",
   "metadata": {},
   "outputs": [
    {
     "data": {
      "text/plain": [
       "-0.15194605890419907"
      ]
     },
     "execution_count": 162,
     "metadata": {},
     "output_type": "execute_result"
    }
   ],
   "source": [
    "marginal_effect('Morocco', 'Brazil')"
   ]
  },
  {
   "cell_type": "code",
   "execution_count": 167,
   "id": "1aed49a4",
   "metadata": {},
   "outputs": [],
   "source": [
    "d_rank = fr.query('year==\"2022\" and month==\"08\"')"
   ]
  },
  {
   "cell_type": "code",
   "execution_count": 169,
   "id": "8043c45a",
   "metadata": {},
   "outputs": [],
   "source": [
    "def confederation(team):\n",
    "    return d_rank.loc[d_rank.country_full==team, 'confederation'].iloc[0]"
   ]
  },
  {
   "cell_type": "code",
   "execution_count": 171,
   "id": "9b57b042",
   "metadata": {},
   "outputs": [
    {
     "data": {
      "text/plain": [
       "'CONMEBOL'"
      ]
     },
     "execution_count": 171,
     "metadata": {},
     "output_type": "execute_result"
    }
   ],
   "source": [
    "confederation('Brazil')"
   ]
  },
  {
   "cell_type": "code",
   "execution_count": 181,
   "id": "9366b436",
   "metadata": {},
   "outputs": [
    {
     "data": {
      "text/html": [
       "<div>\n",
       "<style scoped>\n",
       "    .dataframe tbody tr th:only-of-type {\n",
       "        vertical-align: middle;\n",
       "    }\n",
       "\n",
       "    .dataframe tbody tr th {\n",
       "        vertical-align: top;\n",
       "    }\n",
       "\n",
       "    .dataframe thead th {\n",
       "        text-align: right;\n",
       "    }\n",
       "</style>\n",
       "<table border=\"1\" class=\"dataframe\">\n",
       "  <thead>\n",
       "    <tr style=\"text-align: right;\">\n",
       "      <th></th>\n",
       "      <th>country_full</th>\n",
       "      <th>confederation</th>\n",
       "      <th>rank</th>\n",
       "    </tr>\n",
       "  </thead>\n",
       "  <tbody>\n",
       "    <tr>\n",
       "      <th>0</th>\n",
       "      <td>Afghanistan</td>\n",
       "      <td>AFC</td>\n",
       "      <td>321</td>\n",
       "    </tr>\n",
       "    <tr>\n",
       "      <th>158</th>\n",
       "      <td>Rwanda</td>\n",
       "      <td>CAF</td>\n",
       "      <td>321</td>\n",
       "    </tr>\n",
       "    <tr>\n",
       "      <th>134</th>\n",
       "      <td>Netherlands</td>\n",
       "      <td>UEFA</td>\n",
       "      <td>321</td>\n",
       "    </tr>\n",
       "    <tr>\n",
       "      <th>135</th>\n",
       "      <td>New Caledonia</td>\n",
       "      <td>OFC</td>\n",
       "      <td>321</td>\n",
       "    </tr>\n",
       "    <tr>\n",
       "      <th>136</th>\n",
       "      <td>New Zealand</td>\n",
       "      <td>OFC</td>\n",
       "      <td>321</td>\n",
       "    </tr>\n",
       "    <tr>\n",
       "      <th>...</th>\n",
       "      <td>...</td>\n",
       "      <td>...</td>\n",
       "      <td>...</td>\n",
       "    </tr>\n",
       "    <tr>\n",
       "      <th>73</th>\n",
       "      <td>Gambia</td>\n",
       "      <td>CAF</td>\n",
       "      <td>321</td>\n",
       "    </tr>\n",
       "    <tr>\n",
       "      <th>74</th>\n",
       "      <td>Georgia</td>\n",
       "      <td>UEFA</td>\n",
       "      <td>321</td>\n",
       "    </tr>\n",
       "    <tr>\n",
       "      <th>75</th>\n",
       "      <td>Germany</td>\n",
       "      <td>UEFA</td>\n",
       "      <td>321</td>\n",
       "    </tr>\n",
       "    <tr>\n",
       "      <th>76</th>\n",
       "      <td>Ghana</td>\n",
       "      <td>CAF</td>\n",
       "      <td>321</td>\n",
       "    </tr>\n",
       "    <tr>\n",
       "      <th>210</th>\n",
       "      <td>Zimbabwe</td>\n",
       "      <td>CAF</td>\n",
       "      <td>321</td>\n",
       "    </tr>\n",
       "  </tbody>\n",
       "</table>\n",
       "<p>211 rows × 3 columns</p>\n",
       "</div>"
      ],
      "text/plain": [
       "      country_full confederation  rank\n",
       "0      Afghanistan           AFC   321\n",
       "158         Rwanda           CAF   321\n",
       "134    Netherlands          UEFA   321\n",
       "135  New Caledonia           OFC   321\n",
       "136    New Zealand           OFC   321\n",
       "..             ...           ...   ...\n",
       "73          Gambia           CAF   321\n",
       "74         Georgia          UEFA   321\n",
       "75         Germany          UEFA   321\n",
       "76           Ghana           CAF   321\n",
       "210       Zimbabwe           CAF   321\n",
       "\n",
       "[211 rows x 3 columns]"
      ]
     },
     "execution_count": 181,
     "metadata": {},
     "output_type": "execute_result"
    }
   ],
   "source": [
    "fr.groupby(['country_full', 'confederation']).agg({'rank':'count'}).reset_index().sort_values(by='rank', ascending=False)"
   ]
  },
  {
   "cell_type": "code",
   "execution_count": 183,
   "id": "f34145ff",
   "metadata": {},
   "outputs": [
    {
     "data": {
      "text/plain": [
       "array(['UEFA'], dtype=object)"
      ]
     },
     "execution_count": 183,
     "metadata": {},
     "output_type": "execute_result"
    }
   ],
   "source": [
    "fr.query('country_full==\"Israel\"').confederation.unique()"
   ]
  },
  {
   "cell_type": "code",
   "execution_count": 184,
   "id": "be840ab6",
   "metadata": {},
   "outputs": [],
   "source": [
    "def get_tier(team):\n",
    "    r = d_rank.loc[d_rank.country_full==team, 'rank'].iloc[0]\n",
    "    if r <= 8:\n",
    "        return 'diamond'\n",
    "    elif r <= 16:\n",
    "        return 'gold'\n",
    "    elif r <= 32:\n",
    "        return 'silver'\n",
    "    else:\n",
    "        return 'bronze'"
   ]
  },
  {
   "cell_type": "code",
   "execution_count": 186,
   "id": "c82cb648",
   "metadata": {},
   "outputs": [
    {
     "data": {
      "text/plain": [
       "'diamond'"
      ]
     },
     "execution_count": 186,
     "metadata": {},
     "output_type": "execute_result"
    }
   ],
   "source": [
    "get_tier('Brazil')"
   ]
  },
  {
   "cell_type": "code",
   "execution_count": 190,
   "id": "11bd0a54",
   "metadata": {},
   "outputs": [
    {
     "data": {
      "text/plain": [
       "2367"
      ]
     },
     "execution_count": 190,
     "metadata": {},
     "output_type": "execute_result"
    }
   ],
   "source": [
    "len(data_test)"
   ]
  },
  {
   "cell_type": "code",
   "execution_count": 200,
   "id": "1620b121",
   "metadata": {},
   "outputs": [],
   "source": [
    "predictors_ = ['home_team',\n",
    " 'away_team',\n",
    " 'neutral',\n",
    " 'confederation',\n",
    " 'confederation__away',\n",
    " 'home_tier',\n",
    " 'away_tier',\n",
    " 'marginal_effect',\n",
    " 'effect_tier']"
   ]
  },
  {
   "cell_type": "code",
   "execution_count": 201,
   "id": "4ec2059b",
   "metadata": {},
   "outputs": [],
   "source": [
    "data_ = data.loc[data.tournament.isin(tournaments), ]\n",
    "X_ = pd.get_dummies(data_[predictors_])\n",
    "y_ = data_['winner']"
   ]
  },
  {
   "cell_type": "code",
   "execution_count": 202,
   "id": "a42be40a",
   "metadata": {},
   "outputs": [
    {
     "data": {
      "text/plain": [
       "XGBClassifier(base_score=0.5, booster='gbtree', colsample_bylevel=1,\n",
       "              colsample_bynode=1, colsample_bytree=1, gamma=0, gpu_id=-1,\n",
       "              importance_type='gain', interaction_constraints='',\n",
       "              learning_rate=0.300000012, max_delta_step=0, max_depth=2,\n",
       "              min_child_weight=1, missing=nan, monotone_constraints='()',\n",
       "              n_estimators=10, n_jobs=0, num_parallel_tree=1,\n",
       "              objective='multi:softprob', random_state=0, reg_alpha=0,\n",
       "              reg_lambda=1, scale_pos_weight=None, subsample=1,\n",
       "              tree_method='exact', validate_parameters=1, verbosity=None)"
      ]
     },
     "execution_count": 202,
     "metadata": {},
     "output_type": "execute_result"
    }
   ],
   "source": [
    "model = xgb.XGBClassifier(n_estimators=10, max_depth=2)\n",
    "\n",
    "model.fit(X_, y_, sample_weight=data_['match_importance'])"
   ]
  },
  {
   "cell_type": "code",
   "execution_count": 203,
   "id": "2ffea6ff",
   "metadata": {},
   "outputs": [
    {
     "name": "stdout",
     "output_type": "stream",
     "text": [
      "              precision    recall  f1-score   support\n",
      "\n",
      "        draw       0.67      0.00      0.01      2012\n",
      "   home_lose       0.55      0.70      0.62      2739\n",
      "    home_win       0.66      0.84      0.74      4688\n",
      "\n",
      "    accuracy                           0.62      9439\n",
      "   macro avg       0.63      0.51      0.45      9439\n",
      "weighted avg       0.63      0.62      0.55      9439\n",
      "\n"
     ]
    }
   ],
   "source": [
    "print(classification_report(y_, model.predict(X_)))"
   ]
  },
  {
   "cell_type": "code",
   "execution_count": 213,
   "id": "1fc4bcff",
   "metadata": {},
   "outputs": [
    {
     "name": "stderr",
     "output_type": "stream",
     "text": [
      "[Parallel(n_jobs=-1)]: Using backend LokyBackend with 8 concurrent workers.\n",
      "[Parallel(n_jobs=-1)]: Done   2 out of   5 | elapsed:   27.5s remaining:   41.3s\n",
      "[Parallel(n_jobs=-1)]: Done   5 out of   5 | elapsed:   27.9s finished\n"
     ]
    }
   ],
   "source": [
    "from sklearn.model_selection import cross_validate\n",
    "\n",
    "model = xgb.XGBClassifier(n_estimators=50, max_depth=2)\n",
    "cvs = cross_validate(model, X_, y_, scoring='f1_weighted', cv=5, n_jobs=-1, verbose=1)"
   ]
  },
  {
   "cell_type": "code",
   "execution_count": 214,
   "id": "b17f607f",
   "metadata": {},
   "outputs": [
    {
     "data": {
      "text/plain": [
       "{'fit_time': array([21.92778325, 21.79191351, 21.82149386, 21.5988431 , 21.79522038]),\n",
       " 'score_time': array([0.08159208, 0.14759421, 0.13226724, 0.12180495, 0.162287  ]),\n",
       " 'test_score': array([0.54888097, 0.5496175 , 0.54185782, 0.55739892, 0.57190552])}"
      ]
     },
     "execution_count": 214,
     "metadata": {},
     "output_type": "execute_result"
    }
   ],
   "source": [
    "cvs"
   ]
  },
  {
   "cell_type": "code",
   "execution_count": 243,
   "id": "12f74a39",
   "metadata": {},
   "outputs": [
    {
     "name": "stdout",
     "output_type": "stream",
     "text": [
      "Fitting 3 folds for each of 16 candidates, totalling 48 fits\n"
     ]
    },
    {
     "data": {
      "text/plain": [
       "GridSearchCV(cv=3,\n",
       "             estimator=XGBClassifier(base_score=None, booster=None,\n",
       "                                     colsample_bylevel=None,\n",
       "                                     colsample_bynode=None,\n",
       "                                     colsample_bytree=None, gamma=None,\n",
       "                                     gpu_id=None, importance_type='gain',\n",
       "                                     interaction_constraints=None,\n",
       "                                     learning_rate=None, max_delta_step=None,\n",
       "                                     max_depth=None, min_child_weight=None,\n",
       "                                     missing=nan, monotone_constraints=None,\n",
       "                                     n_estimators=100, n_jobs=None,\n",
       "                                     num_parallel_tree=None, random_state=None,\n",
       "                                     reg_alpha=None, reg_lambda=None,\n",
       "                                     scale_pos_weight=None, subsample=None,\n",
       "                                     tree_method=None, validate_parameters=None,\n",
       "                                     verbosity=None),\n",
       "             n_jobs=-1,\n",
       "             param_grid={'colsample_bytree': [0.6, 0.7, 0.9, 0.95],\n",
       "                         'max_depth': [6], 'n_estimators': [150],\n",
       "                         'subsample': [0.6, 0.7, 0.9, 0.95]},\n",
       "             scoring='f1_weighted', verbose=2)"
      ]
     },
     "execution_count": 243,
     "metadata": {},
     "output_type": "execute_result"
    }
   ],
   "source": [
    "grid = {\n",
    "    'n_estimators' : [150],\n",
    "    'max_depth' : [6],\n",
    "    'subsample' : [.6, .7, .9, .95],\n",
    "    'colsample_bytree' : [.6, .7, .9, .95]\n",
    "}\n",
    "\n",
    "model = xgb.XGBClassifier()\n",
    "\n",
    "clf = GridSearchCV(model, grid, scoring='f1_weighted', cv=3, n_jobs=-1, verbose=2)\n",
    "\n",
    "clf.fit(X_, y_)"
   ]
  },
  {
   "cell_type": "code",
   "execution_count": 244,
   "id": "fbc3e528",
   "metadata": {},
   "outputs": [
    {
     "data": {
      "text/plain": [
       "{'colsample_bytree': 0.9,\n",
       " 'max_depth': 6,\n",
       " 'n_estimators': 150,\n",
       " 'subsample': 0.6}"
      ]
     },
     "execution_count": 244,
     "metadata": {},
     "output_type": "execute_result"
    }
   ],
   "source": [
    "clf.best_params_"
   ]
  },
  {
   "cell_type": "code",
   "execution_count": 245,
   "id": "0faa109f",
   "metadata": {},
   "outputs": [
    {
     "name": "stdout",
     "output_type": "stream",
     "text": [
      "              precision    recall  f1-score   support\n",
      "\n",
      "        draw       0.63      0.31      0.41      2012\n",
      "   home_lose       0.70      0.74      0.72      2739\n",
      "    home_win       0.74      0.88      0.81      4688\n",
      "\n",
      "    accuracy                           0.72      9439\n",
      "   macro avg       0.69      0.64      0.64      9439\n",
      "weighted avg       0.71      0.72      0.70      9439\n",
      "\n"
     ]
    }
   ],
   "source": [
    "print(classification_report(y_, clf.best_estimator_.predict(X_)))"
   ]
  },
  {
   "cell_type": "code",
   "execution_count": 237,
   "id": "ca3b6754",
   "metadata": {},
   "outputs": [],
   "source": [
    "X_train_ = pd.get_dummies(data_.iloc[0:7551][predictors_])\n",
    "y_train_ = data_.iloc[0:7551]['winner']\n",
    "\n",
    "X_test_ = pd.get_dummies(data_.iloc[7551:][predictors_])\n",
    "y_test_ = data_.iloc[7551:]['winner']"
   ]
  },
  {
   "cell_type": "code",
   "execution_count": 246,
   "id": "29540293",
   "metadata": {},
   "outputs": [
    {
     "data": {
      "text/plain": [
       "XGBClassifier(base_score=0.5, booster='gbtree', colsample_bylevel=1,\n",
       "              colsample_bynode=1, colsample_bytree=0.9, gamma=0, gpu_id=-1,\n",
       "              importance_type='gain', interaction_constraints='',\n",
       "              learning_rate=0.300000012, max_delta_step=0, max_depth=6,\n",
       "              min_child_weight=1, missing=nan, monotone_constraints='()',\n",
       "              n_estimators=150, n_jobs=0, num_parallel_tree=1,\n",
       "              objective='multi:softprob', random_state=0, reg_alpha=0,\n",
       "              reg_lambda=1, scale_pos_weight=None, subsample=0.6,\n",
       "              tree_method='exact', validate_parameters=1, verbosity=None)"
      ]
     },
     "execution_count": 246,
     "metadata": {},
     "output_type": "execute_result"
    }
   ],
   "source": [
    "model = xgb.XGBClassifier(n_estimators = 150, max_depth = 6, subsample=.6, colsample_bytree=.9)\n",
    "model.fit(X_train_, y_train_)"
   ]
  },
  {
   "cell_type": "code",
   "execution_count": 247,
   "id": "ec04693a",
   "metadata": {},
   "outputs": [
    {
     "name": "stdout",
     "output_type": "stream",
     "text": [
      "              precision    recall  f1-score   support\n",
      "\n",
      "        draw       0.66      0.32      0.43      1583\n",
      "   home_lose       0.71      0.73      0.72      2158\n",
      "    home_win       0.75      0.89      0.81      3810\n",
      "\n",
      "    accuracy                           0.73      7551\n",
      "   macro avg       0.71      0.65      0.66      7551\n",
      "weighted avg       0.72      0.73      0.71      7551\n",
      "\n"
     ]
    }
   ],
   "source": [
    "print(classification_report(y_train_, model.predict(X_train_)))"
   ]
  },
  {
   "cell_type": "code",
   "execution_count": 248,
   "id": "251fb119",
   "metadata": {},
   "outputs": [
    {
     "name": "stdout",
     "output_type": "stream",
     "text": [
      "              precision    recall  f1-score   support\n",
      "\n",
      "        draw       0.32      0.15      0.21       429\n",
      "   home_lose       0.62      0.61      0.61       581\n",
      "    home_win       0.63      0.81      0.71       878\n",
      "\n",
      "    accuracy                           0.60      1888\n",
      "   macro avg       0.52      0.52      0.51      1888\n",
      "weighted avg       0.56      0.60      0.57      1888\n",
      "\n"
     ]
    }
   ],
   "source": [
    "for col in X_train_.columns:\n",
    "    if col not in X_test_.columns:\n",
    "        X_test_[col] = 0\n",
    "        \n",
    "print(classification_report(y_test_, model.predict(X_test_[X_train_.columns])))"
   ]
  },
  {
   "cell_type": "code",
   "execution_count": 249,
   "id": "b6629123",
   "metadata": {},
   "outputs": [
    {
     "data": {
      "text/plain": [
       "XGBClassifier(base_score=0.5, booster='gbtree', colsample_bylevel=1,\n",
       "              colsample_bynode=1, colsample_bytree=0.9, gamma=0, gpu_id=-1,\n",
       "              importance_type='gain', interaction_constraints='',\n",
       "              learning_rate=0.300000012, max_delta_step=0, max_depth=6,\n",
       "              min_child_weight=1, missing=nan, monotone_constraints='()',\n",
       "              n_estimators=150, n_jobs=0, num_parallel_tree=1,\n",
       "              objective='multi:softprob', random_state=0, reg_alpha=0,\n",
       "              reg_lambda=1, scale_pos_weight=None, subsample=0.6,\n",
       "              tree_method='exact', validate_parameters=1, verbosity=None)"
      ]
     },
     "execution_count": 249,
     "metadata": {},
     "output_type": "execute_result"
    }
   ],
   "source": [
    "model.fit(X_, y_)"
   ]
  },
  {
   "cell_type": "code",
   "execution_count": 250,
   "id": "8416c228",
   "metadata": {},
   "outputs": [
    {
     "name": "stdout",
     "output_type": "stream",
     "text": [
      "              precision    recall  f1-score   support\n",
      "\n",
      "        draw       0.66      0.37      0.47       429\n",
      "   home_lose       0.73      0.73      0.73       581\n",
      "    home_win       0.72      0.88      0.79       878\n",
      "\n",
      "    accuracy                           0.72      1888\n",
      "   macro avg       0.70      0.66      0.67      1888\n",
      "weighted avg       0.71      0.72      0.70      1888\n",
      "\n"
     ]
    }
   ],
   "source": [
    "print(classification_report(y_test_, model.predict(X_test_[X_train_.columns])))"
   ]
  },
  {
   "cell_type": "code",
   "execution_count": 251,
   "id": "c43e3a74",
   "metadata": {},
   "outputs": [
    {
     "data": {
      "text/plain": [
       "['../models/ODC_FIFA2022.odc']"
      ]
     },
     "execution_count": 251,
     "metadata": {},
     "output_type": "execute_result"
    }
   ],
   "source": [
    "import joblib\n",
    "\n",
    "joblib.dump(model, '../models/ODC_FIFA2022.odc')"
   ]
  },
  {
   "cell_type": "code",
   "execution_count": 289,
   "id": "7b271683",
   "metadata": {},
   "outputs": [],
   "source": [
    "meta_model = {\n",
    "    'name' : 'Machine Learning model to predict FIFA World Cup 2022',\n",
    "    'authors' : 'Team ODC Sep 2022 : @Karim @Salh @djfhjdfh ...',\n",
    "    'date' : '23/09/2022',\n",
    "    'model' : model,\n",
    "    'predictors' : preds,\n",
    "    'xcols' : X_.columns\n",
    "}"
   ]
  },
  {
   "cell_type": "code",
   "execution_count": 294,
   "id": "3dc23947",
   "metadata": {},
   "outputs": [
    {
     "data": {
      "text/plain": [
       "['../meta_ODC_FIFA2022.odc']"
      ]
     },
     "execution_count": 294,
     "metadata": {},
     "output_type": "execute_result"
    }
   ],
   "source": [
    "joblib.dump(meta_model, '../meta_ODC_FIFA2022.odc')"
   ]
  },
  {
   "cell_type": "code",
   "execution_count": 256,
   "id": "e8ad9fe0",
   "metadata": {},
   "outputs": [],
   "source": [
    "def get_confederation(team):\n",
    "    \"\"\"the confederation of the team\n",
    "\n",
    "    Arguments:\n",
    "        team {str} -- The team\n",
    "\n",
    "    Returns:\n",
    "        str -- Confederation of the team\n",
    "    \"\"\"\n",
    "    conf = fr.loc[fr.country_full==team, 'confederation'].unique()[0]\n",
    "    return conf"
   ]
  },
  {
   "cell_type": "code",
   "execution_count": 257,
   "id": "dd87827f",
   "metadata": {},
   "outputs": [
    {
     "data": {
      "text/plain": [
       "'CAF'"
      ]
     },
     "execution_count": 257,
     "metadata": {},
     "output_type": "execute_result"
    }
   ],
   "source": [
    "get_confederation('Morocco')"
   ]
  },
  {
   "cell_type": "code",
   "execution_count": 258,
   "id": "a7311ddb",
   "metadata": {},
   "outputs": [],
   "source": [
    "def get_tier(team):\n",
    "    \"\"\"_ the tier of the team\n",
    "\n",
    "    Args:\n",
    "        team (str): the team\n",
    "\n",
    "    Returns:\n",
    "        str: tier of the team\n",
    "    \"\"\"\n",
    "    r = fr.loc[(fr.country_full==team) & (fr.year==\"2022\") & (fr.month==\"08\"), 'rank'].iloc[0]\n",
    "    if r <= 8:\n",
    "        return 'diamond'\n",
    "    elif r <= 16:\n",
    "        return 'gold'\n",
    "    elif r <= 32:\n",
    "        return 'silver'\n",
    "    else:\n",
    "        return 'bronze'"
   ]
  },
  {
   "cell_type": "code",
   "execution_count": 260,
   "id": "e0ee7424",
   "metadata": {},
   "outputs": [
    {
     "data": {
      "text/plain": [
       "'diamond'"
      ]
     },
     "execution_count": 260,
     "metadata": {},
     "output_type": "execute_result"
    }
   ],
   "source": [
    "get_tier('Brazil')"
   ]
  },
  {
   "cell_type": "code",
   "execution_count": 261,
   "id": "90251519",
   "metadata": {},
   "outputs": [],
   "source": [
    "def marginal_effect(home_team, away_team):\n",
    "    \"\"\"_ marginal effect\n",
    "\n",
    "    Args:\n",
    "        home_team (str): home team\n",
    "        away_team (str): away team\n",
    "    Returns:\n",
    "        float: marginal effect \n",
    "    \"\"\"\n",
    "    home_points = fr.loc[(fr.country_full==home_team) & (fr.year==\"2022\") & (fr.month==\"08\"), 'total_points'].iloc[0]\n",
    "    away_points = fr.loc[(fr.country_full==away_team) & (fr.year==\"2022\") & (fr.month==\"08\"), 'total_points'].iloc[0]\n",
    "    \n",
    "    return (home_points - away_points) / away_points"
   ]
  },
  {
   "cell_type": "code",
   "execution_count": 262,
   "id": "7054af37",
   "metadata": {},
   "outputs": [
    {
     "data": {
      "text/plain": [
       "-0.15194605890419907"
      ]
     },
     "execution_count": 262,
     "metadata": {},
     "output_type": "execute_result"
    }
   ],
   "source": [
    "marginal_effect('Morocco', 'Brazil')"
   ]
  },
  {
   "cell_type": "code",
   "execution_count": 263,
   "id": "2a668087",
   "metadata": {},
   "outputs": [],
   "source": [
    "def effect_tier(home_team, away_team):\n",
    "    \n",
    "    \"\"\"based on marginal_effect we classify teams _very__high, high, medium, low_\n",
    "\n",
    "        Arguments:\n",
    "            home_team {str} -- The home team\n",
    "            away_team {str} -- The away team\n",
    "\n",
    "        Returns:\n",
    "            str -- effect tier \"low\" or \"medium\" or \"high\" or \"very high\"\n",
    "        \"\"\"\n",
    "\n",
    "    marginal_eff = marginal_effect(home_team, away_team)\n",
    "\n",
    "    if marginal_eff < -0.37:\n",
    "        return 'low'\n",
    "    elif marginal_eff >=-0.37 and marginal_eff < -0.20:\n",
    "        return 'medium'\n",
    "    elif marginal_eff >=-0.20 and marginal_eff < -0.25:\n",
    "        return 'high'\n",
    "    else:\n",
    "        return 'very_high'"
   ]
  },
  {
   "cell_type": "code",
   "execution_count": 264,
   "id": "f0c6176a",
   "metadata": {},
   "outputs": [
    {
     "data": {
      "text/plain": [
       "'very_high'"
      ]
     },
     "execution_count": 264,
     "metadata": {},
     "output_type": "execute_result"
    }
   ],
   "source": [
    "effect_tier('Morocco', 'Brazil')"
   ]
  },
  {
   "cell_type": "code",
   "execution_count": 265,
   "id": "93f6a06e",
   "metadata": {},
   "outputs": [],
   "source": [
    "ml = joblib.load('../models/ODC_FIFA2022.odc')"
   ]
  },
  {
   "cell_type": "code",
   "execution_count": 288,
   "id": "15d45b0e",
   "metadata": {},
   "outputs": [
    {
     "data": {
      "text/plain": [
       "['home_team',\n",
       " 'away_team',\n",
       " 'neutral',\n",
       " 'confederation',\n",
       " 'confederation__away',\n",
       " 'home_tier',\n",
       " 'away_tier',\n",
       " 'marginal_effect',\n",
       " 'effect_tier']"
      ]
     },
     "execution_count": 288,
     "metadata": {},
     "output_type": "execute_result"
    }
   ],
   "source": [
    "preds"
   ]
  },
  {
   "cell_type": "code",
   "execution_count": 272,
   "id": "63f7e738",
   "metadata": {},
   "outputs": [],
   "source": [
    "preds = ['home_team',\n",
    " 'away_team',\n",
    " 'neutral',\n",
    " 'confederation',\n",
    " 'confederation__away',\n",
    " 'home_tier',\n",
    " 'away_tier',\n",
    " 'marginal_effect',\n",
    " 'effect_tier']"
   ]
  },
  {
   "cell_type": "code",
   "execution_count": 269,
   "id": "e3922fc6",
   "metadata": {},
   "outputs": [],
   "source": [
    "def get_neutral(home_team, away_team):\n",
    "    \"\"\"this function returns if the game is neutral\n",
    "\n",
    "    Arguments:\n",
    "        home_team {str} -- home team\n",
    "        away_team {str} -- away team\n",
    "\n",
    "    Returns:\n",
    "        bool -- Yes or No the game is neutral\n",
    "    \"\"\"\n",
    "    if home_team==\"Qatar\":\n",
    "        return False\n",
    "    elif away_team==\"Qatar\":\n",
    "        return False\n",
    "    else:\n",
    "        return True"
   ]
  },
  {
   "cell_type": "code",
   "execution_count": 281,
   "id": "1eface2c",
   "metadata": {},
   "outputs": [],
   "source": [
    "def get_match(home_team, away_team, predictors, xcols):\n",
    "    #home_team\n",
    "    #away_team\n",
    "\n",
    "    neutral = get_neutral(home_team, away_team)\n",
    "    confederation = get_confederation(home_team)\n",
    "    confederation__away = get_confederation(away_team)\n",
    "    home_tier = get_tier(home_team)\n",
    "    away_tier = get_tier(away_team)\n",
    "    marginal_effect_ = marginal_effect(home_team, away_team)\n",
    "    effect_tier_ = effect_tier(home_team, away_team)\n",
    "\n",
    "    match = [home_team, away_team, neutral, confederation, confederation__away, home_tier, away_tier, marginal_effect_, effect_tier_]\n",
    "\n",
    "    d_match = pd.DataFrame([match], columns=predictors)\n",
    "\n",
    "    x_match = pd.get_dummies(d_match)\n",
    "\n",
    "    for col in xcols:\n",
    "        if col not in x_match:\n",
    "            x_match[col] = 0\n",
    "\n",
    "    return x_match[xcols]"
   ]
  },
  {
   "cell_type": "code",
   "execution_count": 295,
   "id": "d5435928",
   "metadata": {},
   "outputs": [],
   "source": [
    "x_match = get_match('Brazil', 'Brazil', preds, X_.columns)"
   ]
  },
  {
   "cell_type": "code",
   "execution_count": 283,
   "id": "e4489306",
   "metadata": {},
   "outputs": [
    {
     "data": {
      "text/plain": [
       "array(['home_lose'], dtype=object)"
      ]
     },
     "execution_count": 283,
     "metadata": {},
     "output_type": "execute_result"
    }
   ],
   "source": [
    "ml.predict(x_match)"
   ]
  },
  {
   "cell_type": "code",
   "execution_count": 296,
   "id": "eaf67da7",
   "metadata": {},
   "outputs": [
    {
     "data": {
      "text/plain": [
       "array([[0.30360758, 0.27537823, 0.42101416]], dtype=float32)"
      ]
     },
     "execution_count": 296,
     "metadata": {},
     "output_type": "execute_result"
    }
   ],
   "source": [
    "ml.predict_proba(x_match)"
   ]
  },
  {
   "cell_type": "code",
   "execution_count": 298,
   "id": "105cdd57",
   "metadata": {},
   "outputs": [
    {
     "data": {
      "text/plain": [
       "array([[0.23765671, 0.4301709 , 0.3321724 ]], dtype=float32)"
      ]
     },
     "execution_count": 298,
     "metadata": {},
     "output_type": "execute_result"
    }
   ],
   "source": [
    "ml.predict_proba(get_match('Germany', 'Germany', preds, X_.columns))"
   ]
  },
  {
   "cell_type": "code",
   "execution_count": 308,
   "id": "a881ea68",
   "metadata": {},
   "outputs": [],
   "source": [
    "def get_match_proba(home_team, away_team):\n",
    "    probs = ml.predict_proba(get_match(home_team, away_team, preds, X_.columns))\n",
    "    \n",
    "    result = {\n",
    "        home_team : '{0:.0%}'.format(probs[0][2]),\n",
    "        away_team : '{0:.0%}'.format(probs[0][1]),\n",
    "        'draw' : '{0:.0%}'.format(probs[0][0])\n",
    "    }\n",
    "    \n",
    "    return result"
   ]
  },
  {
   "cell_type": "code",
   "execution_count": 323,
   "id": "8ec6d9ef",
   "metadata": {},
   "outputs": [
    {
     "data": {
      "text/plain": [
       "{'Argentina': '75%', 'Saudi Arabia': '12%', 'draw': '13%'}"
      ]
     },
     "execution_count": 323,
     "metadata": {},
     "output_type": "execute_result"
    }
   ],
   "source": [
    "get_match_proba('Argentina', 'Saudi Arabia')"
   ]
  },
  {
   "cell_type": "code",
   "execution_count": 324,
   "id": "ce39a367",
   "metadata": {},
   "outputs": [
    {
     "data": {
      "text/plain": [
       "{'Mexico': '24%', 'Poland': '33%', 'draw': '43%'}"
      ]
     },
     "execution_count": 324,
     "metadata": {},
     "output_type": "execute_result"
    }
   ],
   "source": [
    "get_match_proba('Mexico', 'Poland')"
   ]
  },
  {
   "cell_type": "code",
   "execution_count": 325,
   "id": "123f779d",
   "metadata": {},
   "outputs": [
    {
     "data": {
      "text/plain": [
       "{'Argentina': '60%', 'Poland': '16%', 'draw': '24%'}"
      ]
     },
     "execution_count": 325,
     "metadata": {},
     "output_type": "execute_result"
    }
   ],
   "source": [
    "get_match_proba('Argentina', 'Poland')"
   ]
  },
  {
   "cell_type": "code",
   "execution_count": 326,
   "id": "14189b64",
   "metadata": {},
   "outputs": [
    {
     "data": {
      "text/plain": [
       "{'Mexico': '71%', 'Saudi Arabia': '11%', 'draw': '18%'}"
      ]
     },
     "execution_count": 326,
     "metadata": {},
     "output_type": "execute_result"
    }
   ],
   "source": [
    "get_match_proba('Mexico', 'Saudi Arabia')"
   ]
  },
  {
   "cell_type": "code",
   "execution_count": 327,
   "id": "290c1c7a",
   "metadata": {},
   "outputs": [
    {
     "data": {
      "text/plain": [
       "{'Poland': '68%', 'Saudi Arabia': '18%', 'draw': '13%'}"
      ]
     },
     "execution_count": 327,
     "metadata": {},
     "output_type": "execute_result"
    }
   ],
   "source": [
    "get_match_proba('Poland', 'Saudi Arabia')"
   ]
  },
  {
   "cell_type": "code",
   "execution_count": 328,
   "id": "e6b9ec68",
   "metadata": {},
   "outputs": [
    {
     "data": {
      "text/plain": [
       "{'Argentina': '50%', 'Mexico': '38%', 'draw': '12%'}"
      ]
     },
     "execution_count": 328,
     "metadata": {},
     "output_type": "execute_result"
    }
   ],
   "source": [
    "get_match_proba('Argentina', 'Mexico')"
   ]
  },
  {
   "cell_type": "code",
   "execution_count": 316,
   "id": "9aa11e0e",
   "metadata": {},
   "outputs": [
    {
     "data": {
      "text/plain": [
       "{'Portugal': '46%', 'Korea Republic': '8%', 'draw': '46%'}"
      ]
     },
     "execution_count": 316,
     "metadata": {},
     "output_type": "execute_result"
    }
   ],
   "source": [
    "get_match_proba('Portugal', 'Korea Republic')"
   ]
  },
  {
   "cell_type": "code",
   "execution_count": 314,
   "id": "9440aab8",
   "metadata": {},
   "outputs": [
    {
     "data": {
      "text/html": [
       "<div>\n",
       "<style scoped>\n",
       "    .dataframe tbody tr th:only-of-type {\n",
       "        vertical-align: middle;\n",
       "    }\n",
       "\n",
       "    .dataframe tbody tr th {\n",
       "        vertical-align: top;\n",
       "    }\n",
       "\n",
       "    .dataframe thead th {\n",
       "        text-align: right;\n",
       "    }\n",
       "</style>\n",
       "<table border=\"1\" class=\"dataframe\">\n",
       "  <thead>\n",
       "    <tr style=\"text-align: right;\">\n",
       "      <th></th>\n",
       "      <th>rank</th>\n",
       "      <th>country_full</th>\n",
       "      <th>country_abrv</th>\n",
       "      <th>total_points</th>\n",
       "      <th>previous_points</th>\n",
       "      <th>rank_change</th>\n",
       "      <th>confederation</th>\n",
       "      <th>rank_date</th>\n",
       "      <th>year</th>\n",
       "      <th>month</th>\n",
       "    </tr>\n",
       "  </thead>\n",
       "  <tbody>\n",
       "    <tr>\n",
       "      <th>101</th>\n",
       "      <td>28</td>\n",
       "      <td>Korea Republic</td>\n",
       "      <td>KOR</td>\n",
       "      <td>1526.02</td>\n",
       "      <td>1526.2</td>\n",
       "      <td>0</td>\n",
       "      <td>AFC</td>\n",
       "      <td>1992-12-31</td>\n",
       "      <td>1992</td>\n",
       "      <td>12</td>\n",
       "    </tr>\n",
       "    <tr>\n",
       "      <th>318</th>\n",
       "      <td>28</td>\n",
       "      <td>Korea Republic</td>\n",
       "      <td>KOR</td>\n",
       "      <td>1526.02</td>\n",
       "      <td>1526.2</td>\n",
       "      <td>0</td>\n",
       "      <td>AFC</td>\n",
       "      <td>1993-08-08</td>\n",
       "      <td>1993</td>\n",
       "      <td>08</td>\n",
       "    </tr>\n",
       "    <tr>\n",
       "      <th>539</th>\n",
       "      <td>28</td>\n",
       "      <td>Korea Republic</td>\n",
       "      <td>KOR</td>\n",
       "      <td>1526.02</td>\n",
       "      <td>1526.2</td>\n",
       "      <td>0</td>\n",
       "      <td>AFC</td>\n",
       "      <td>1993-09-23</td>\n",
       "      <td>1993</td>\n",
       "      <td>09</td>\n",
       "    </tr>\n",
       "    <tr>\n",
       "      <th>740</th>\n",
       "      <td>28</td>\n",
       "      <td>Korea Republic</td>\n",
       "      <td>KOR</td>\n",
       "      <td>1526.02</td>\n",
       "      <td>1526.2</td>\n",
       "      <td>0</td>\n",
       "      <td>AFC</td>\n",
       "      <td>1993-10-22</td>\n",
       "      <td>1993</td>\n",
       "      <td>10</td>\n",
       "    </tr>\n",
       "    <tr>\n",
       "      <th>946</th>\n",
       "      <td>28</td>\n",
       "      <td>Korea Republic</td>\n",
       "      <td>KOR</td>\n",
       "      <td>1526.02</td>\n",
       "      <td>1526.2</td>\n",
       "      <td>0</td>\n",
       "      <td>AFC</td>\n",
       "      <td>1993-11-19</td>\n",
       "      <td>1993</td>\n",
       "      <td>11</td>\n",
       "    </tr>\n",
       "    <tr>\n",
       "      <th>...</th>\n",
       "      <td>...</td>\n",
       "      <td>...</td>\n",
       "      <td>...</td>\n",
       "      <td>...</td>\n",
       "      <td>...</td>\n",
       "      <td>...</td>\n",
       "      <td>...</td>\n",
       "      <td>...</td>\n",
       "      <td>...</td>\n",
       "      <td>...</td>\n",
       "    </tr>\n",
       "    <tr>\n",
       "      <th>66807</th>\n",
       "      <td>28</td>\n",
       "      <td>Korea Republic</td>\n",
       "      <td>KOR</td>\n",
       "      <td>1526.02</td>\n",
       "      <td>1526.2</td>\n",
       "      <td>0</td>\n",
       "      <td>AFC</td>\n",
       "      <td>2021-12-23</td>\n",
       "      <td>2021</td>\n",
       "      <td>12</td>\n",
       "    </tr>\n",
       "    <tr>\n",
       "      <th>66989</th>\n",
       "      <td>28</td>\n",
       "      <td>Korea Republic</td>\n",
       "      <td>KOR</td>\n",
       "      <td>1526.02</td>\n",
       "      <td>1526.2</td>\n",
       "      <td>0</td>\n",
       "      <td>AFC</td>\n",
       "      <td>2022-02-10</td>\n",
       "      <td>2022</td>\n",
       "      <td>02</td>\n",
       "    </tr>\n",
       "    <tr>\n",
       "      <th>67227</th>\n",
       "      <td>28</td>\n",
       "      <td>Korea Republic</td>\n",
       "      <td>KOR</td>\n",
       "      <td>1526.02</td>\n",
       "      <td>1526.2</td>\n",
       "      <td>0</td>\n",
       "      <td>AFC</td>\n",
       "      <td>2022-03-31</td>\n",
       "      <td>2022</td>\n",
       "      <td>03</td>\n",
       "    </tr>\n",
       "    <tr>\n",
       "      <th>67437</th>\n",
       "      <td>28</td>\n",
       "      <td>Korea Republic</td>\n",
       "      <td>KOR</td>\n",
       "      <td>1526.02</td>\n",
       "      <td>1526.2</td>\n",
       "      <td>0</td>\n",
       "      <td>AFC</td>\n",
       "      <td>2022-06-23</td>\n",
       "      <td>2022</td>\n",
       "      <td>06</td>\n",
       "    </tr>\n",
       "    <tr>\n",
       "      <th>67649</th>\n",
       "      <td>28</td>\n",
       "      <td>Korea Republic</td>\n",
       "      <td>KOR</td>\n",
       "      <td>1526.02</td>\n",
       "      <td>1526.2</td>\n",
       "      <td>0</td>\n",
       "      <td>AFC</td>\n",
       "      <td>2022-08-25</td>\n",
       "      <td>2022</td>\n",
       "      <td>08</td>\n",
       "    </tr>\n",
       "  </tbody>\n",
       "</table>\n",
       "<p>321 rows × 10 columns</p>\n",
       "</div>"
      ],
      "text/plain": [
       "       rank    country_full country_abrv  total_points  previous_points  \\\n",
       "101      28  Korea Republic          KOR       1526.02           1526.2   \n",
       "318      28  Korea Republic          KOR       1526.02           1526.2   \n",
       "539      28  Korea Republic          KOR       1526.02           1526.2   \n",
       "740      28  Korea Republic          KOR       1526.02           1526.2   \n",
       "946      28  Korea Republic          KOR       1526.02           1526.2   \n",
       "...     ...             ...          ...           ...              ...   \n",
       "66807    28  Korea Republic          KOR       1526.02           1526.2   \n",
       "66989    28  Korea Republic          KOR       1526.02           1526.2   \n",
       "67227    28  Korea Republic          KOR       1526.02           1526.2   \n",
       "67437    28  Korea Republic          KOR       1526.02           1526.2   \n",
       "67649    28  Korea Republic          KOR       1526.02           1526.2   \n",
       "\n",
       "       rank_change confederation   rank_date  year month  \n",
       "101              0           AFC  1992-12-31  1992    12  \n",
       "318              0           AFC  1993-08-08  1993    08  \n",
       "539              0           AFC  1993-09-23  1993    09  \n",
       "740              0           AFC  1993-10-22  1993    10  \n",
       "946              0           AFC  1993-11-19  1993    11  \n",
       "...            ...           ...         ...   ...   ...  \n",
       "66807            0           AFC  2021-12-23  2021    12  \n",
       "66989            0           AFC  2022-02-10  2022    02  \n",
       "67227            0           AFC  2022-03-31  2022    03  \n",
       "67437            0           AFC  2022-06-23  2022    06  \n",
       "67649            0           AFC  2022-08-25  2022    08  \n",
       "\n",
       "[321 rows x 10 columns]"
      ]
     },
     "execution_count": 314,
     "metadata": {},
     "output_type": "execute_result"
    }
   ],
   "source": [
    "#fr.query('country_full==\"Korea Republic\"')"
   ]
  },
  {
   "cell_type": "code",
   "execution_count": 313,
   "id": "ae072307",
   "metadata": {},
   "outputs": [
    {
     "data": {
      "text/plain": [
       "array(['San Marino', 'Oman', 'Bulgaria', 'Cabo Verde', 'Congo DR',\n",
       "       'El Salvador', 'Iraq', 'United Arab Emirates', 'South Africa',\n",
       "       'Montenegro', 'Albania', 'Israel', 'Slovenia', 'Iceland',\n",
       "       'Jamaica', 'Panama', 'Ghana', 'Finland', 'Northern Ireland',\n",
       "       'Bosnia and Herzegovina', 'Venezuela', 'Burkina Faso', 'Romania',\n",
       "       'North Macedonia', 'Uzbekistan', 'China PR', 'Gabon', 'Kenya',\n",
       "       'Trinidad and Tobago', 'Lebanon', 'Congo', 'Equatorial Guinea',\n",
       "       'Vietnam', 'Belarus', 'Kyrgyz Republic', 'Palestine', 'Luxembourg',\n",
       "       'Armenia', 'Benin', 'Uganda', 'Syria', 'Haiti', 'Zambia', 'Jordan',\n",
       "       'Bahrain', 'Curaçao', 'Guinea', 'Georgia', 'Bolivia', 'Honduras',\n",
       "       'Saudi Arabia', 'New Zealand', \"Côte d'Ivoire\", 'Paraguay',\n",
       "       'IR Iran', 'Peru', 'Sweden', 'Wales', 'Senegal', 'Colombia',\n",
       "       'Switzerland', 'Croatia', 'USA', 'Uruguay', 'Morocco', 'Mexico',\n",
       "       'Denmark', 'Portugal', 'Netherlands', 'Italy', 'Spain', 'England',\n",
       "       'France', 'Argentina', 'Belgium', 'Brazil', 'Germany', 'Japan',\n",
       "       'Serbia', 'Poland', 'Greece', 'Qatar', 'Republic of Ireland',\n",
       "       'Mali', 'Scotland', 'Ecuador', 'Canada', 'Türkiye', 'Algeria',\n",
       "       'Egypt', 'Australia', 'Cameroon', 'Hungary', 'Norway', 'Russia',\n",
       "       'Costa Rica', 'Austria', 'Czech Republic', 'Nigeria', 'Tunisia',\n",
       "       'Chile', 'Korea Republic', 'Ukraine', 'Slovakia', 'India',\n",
       "       'Anguilla', 'Kosovo', 'Macau', 'Chad', 'Mauritius',\n",
       "       'St. Vincent and the Grenadines', 'Montserrat', 'Moldova', 'Nepal',\n",
       "       'Belize', 'Cambodia', 'St. Lucia', 'Laos', 'Guyana', 'Puerto Rico',\n",
       "       'Malta', 'Bermuda', 'Cuba', 'Barbados', 'South Sudan', 'Vanuatu',\n",
       "       'Fiji', 'Tahiti', 'Papua New Guinea', 'Grenada', 'Mongolia',\n",
       "       'Dominica', 'Bhutan', 'British Virgin Islands',\n",
       "       'US Virgin Islands', 'Sri Lanka', 'Turks and Caicos Islands',\n",
       "       'Guam', 'Somalia', 'Bahamas', 'Aruba', 'Eritrea', 'Gibraltar',\n",
       "       'Timor-Leste', 'Seychelles', 'Tonga', 'Cayman Islands', 'Pakistan',\n",
       "       'Liechtenstein', 'Djibouti', 'Bangladesh', 'Samoa',\n",
       "       'Brunei Darussalam', 'Cook Islands', 'American Samoa',\n",
       "       'São Tomé and Príncipe', 'New Caledonia', 'Singapore',\n",
       "       'Madagascar', 'Chinese Taipei', 'Latvia', 'Azerbaijan', 'Comoros',\n",
       "       'Togo', 'Faroe Islands', 'Gambia', 'Zimbabwe', 'Malawi', 'Libya',\n",
       "       'Myanmar', 'Niger', 'Guatemala', 'Namibia', 'Mozambique',\n",
       "       'Guinea-Bissau', 'Kazakhstan', 'Sierra Leone', 'Korea DPR',\n",
       "       'Thailand', 'Estonia', 'Tajikistan', 'Cyprus', 'Mauritania',\n",
       "       'Sudan', 'Tanzania', 'Angola', 'Central African Republic',\n",
       "       'Antigua and Barbuda', 'Maldives', 'Indonesia', 'Afghanistan',\n",
       "       'Yemen', 'Andorra', 'Dominican Republic', 'Kuwait', 'Malaysia',\n",
       "       'Hong Kong', 'Botswana', 'Liberia', 'Eswatini', 'Lesotho',\n",
       "       'Turkmenistan', 'Rwanda', 'Solomon Islands', 'Ethiopia',\n",
       "       'Philippines', 'St. Kitts and Nevis', 'Burundi', 'Lithuania',\n",
       "       'Suriname', 'Nicaragua'], dtype=object)"
      ]
     },
     "execution_count": 313,
     "metadata": {},
     "output_type": "execute_result"
    }
   ],
   "source": [
    "fr.country_full.unique()"
   ]
  },
  {
   "cell_type": "code",
   "execution_count": 318,
   "id": "b54089a6",
   "metadata": {},
   "outputs": [
    {
     "data": {
      "text/plain": [
       "'gold'"
      ]
     },
     "execution_count": 318,
     "metadata": {},
     "output_type": "execute_result"
    }
   ],
   "source": [
    "get_tier('Portugal')"
   ]
  },
  {
   "cell_type": "code",
   "execution_count": 319,
   "id": "25c57107",
   "metadata": {},
   "outputs": [
    {
     "data": {
      "text/plain": [
       "'gold'"
      ]
     },
     "execution_count": 319,
     "metadata": {},
     "output_type": "execute_result"
    }
   ],
   "source": [
    "get_tier('Uruguay')"
   ]
  },
  {
   "cell_type": "code",
   "execution_count": 321,
   "id": "274e1bc5",
   "metadata": {},
   "outputs": [
    {
     "data": {
      "text/html": [
       "<div>\n",
       "<style scoped>\n",
       "    .dataframe tbody tr th:only-of-type {\n",
       "        vertical-align: middle;\n",
       "    }\n",
       "\n",
       "    .dataframe tbody tr th {\n",
       "        vertical-align: top;\n",
       "    }\n",
       "\n",
       "    .dataframe thead th {\n",
       "        text-align: right;\n",
       "    }\n",
       "</style>\n",
       "<table border=\"1\" class=\"dataframe\">\n",
       "  <thead>\n",
       "    <tr style=\"text-align: right;\">\n",
       "      <th></th>\n",
       "      <th>rank</th>\n",
       "      <th>country_full</th>\n",
       "      <th>country_abrv</th>\n",
       "      <th>total_points</th>\n",
       "      <th>previous_points</th>\n",
       "      <th>rank_change</th>\n",
       "      <th>confederation</th>\n",
       "      <th>rank_date</th>\n",
       "      <th>year</th>\n",
       "      <th>month</th>\n",
       "    </tr>\n",
       "  </thead>\n",
       "  <tbody>\n",
       "    <tr>\n",
       "      <th>67658</th>\n",
       "      <td>9</td>\n",
       "      <td>Portugal</td>\n",
       "      <td>POR</td>\n",
       "      <td>1678.65</td>\n",
       "      <td>1678.65</td>\n",
       "      <td>0</td>\n",
       "      <td>UEFA</td>\n",
       "      <td>2022-08-25</td>\n",
       "      <td>2022</td>\n",
       "      <td>08</td>\n",
       "    </tr>\n",
       "  </tbody>\n",
       "</table>\n",
       "</div>"
      ],
      "text/plain": [
       "       rank country_full country_abrv  total_points  previous_points  \\\n",
       "67658     9     Portugal          POR       1678.65          1678.65   \n",
       "\n",
       "       rank_change confederation   rank_date  year month  \n",
       "67658            0          UEFA  2022-08-25  2022    08  "
      ]
     },
     "execution_count": 321,
     "metadata": {},
     "output_type": "execute_result"
    }
   ],
   "source": [
    "fr.query('country_full==\"Portugal\"').tail(1)"
   ]
  },
  {
   "cell_type": "code",
   "execution_count": 322,
   "id": "0d50cd50",
   "metadata": {},
   "outputs": [
    {
     "data": {
      "text/html": [
       "<div>\n",
       "<style scoped>\n",
       "    .dataframe tbody tr th:only-of-type {\n",
       "        vertical-align: middle;\n",
       "    }\n",
       "\n",
       "    .dataframe tbody tr th {\n",
       "        vertical-align: top;\n",
       "    }\n",
       "\n",
       "    .dataframe thead th {\n",
       "        text-align: right;\n",
       "    }\n",
       "</style>\n",
       "<table border=\"1\" class=\"dataframe\">\n",
       "  <thead>\n",
       "    <tr style=\"text-align: right;\">\n",
       "      <th></th>\n",
       "      <th>rank</th>\n",
       "      <th>country_full</th>\n",
       "      <th>country_abrv</th>\n",
       "      <th>total_points</th>\n",
       "      <th>previous_points</th>\n",
       "      <th>rank_change</th>\n",
       "      <th>confederation</th>\n",
       "      <th>rank_date</th>\n",
       "      <th>year</th>\n",
       "      <th>month</th>\n",
       "    </tr>\n",
       "  </thead>\n",
       "  <tbody>\n",
       "    <tr>\n",
       "      <th>67662</th>\n",
       "      <td>13</td>\n",
       "      <td>Uruguay</td>\n",
       "      <td>URU</td>\n",
       "      <td>1640.95</td>\n",
       "      <td>1643.71</td>\n",
       "      <td>0</td>\n",
       "      <td>CONMEBOL</td>\n",
       "      <td>2022-08-25</td>\n",
       "      <td>2022</td>\n",
       "      <td>08</td>\n",
       "    </tr>\n",
       "  </tbody>\n",
       "</table>\n",
       "</div>"
      ],
      "text/plain": [
       "       rank country_full country_abrv  total_points  previous_points  \\\n",
       "67662    13      Uruguay          URU       1640.95          1643.71   \n",
       "\n",
       "       rank_change confederation   rank_date  year month  \n",
       "67662            0      CONMEBOL  2022-08-25  2022    08  "
      ]
     },
     "execution_count": 322,
     "metadata": {},
     "output_type": "execute_result"
    }
   ],
   "source": [
    "fr.query('country_full==\"Uruguay\"').tail(1)"
   ]
  },
  {
   "cell_type": "code",
   "execution_count": null,
   "id": "c8db15e7",
   "metadata": {},
   "outputs": [],
   "source": []
  }
 ],
 "metadata": {
  "kernelspec": {
   "display_name": "vpmain",
   "language": "python",
   "name": "vpmain"
  },
  "language_info": {
   "codemirror_mode": {
    "name": "ipython",
    "version": 3
   },
   "file_extension": ".py",
   "mimetype": "text/x-python",
   "name": "python",
   "nbconvert_exporter": "python",
   "pygments_lexer": "ipython3",
   "version": "3.8.3"
  }
 },
 "nbformat": 4,
 "nbformat_minor": 5
}
