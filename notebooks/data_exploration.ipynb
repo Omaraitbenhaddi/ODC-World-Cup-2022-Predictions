{
 "cells": [
  {
   "cell_type": "code",
   "execution_count": 64,
   "id": "83581353",
   "metadata": {},
   "outputs": [],
   "source": [
    "import numpy as np\n",
    "import pandas as pd\n",
    "\n",
    "import warnings\n",
    "warnings.filterwarnings('ignore')"
   ]
  },
  {
   "cell_type": "code",
   "execution_count": 65,
   "id": "10bcbf7a",
   "metadata": {},
   "outputs": [],
   "source": [
    "df = pd.read_csv('D:/projet/ODC-World-Cup-2022-Predictions/data/results.csv')\n"
   ]
  },
  {
   "cell_type": "code",
   "execution_count": 66,
   "id": "74f893f8",
   "metadata": {},
   "outputs": [
    {
     "data": {
      "text/html": [
       "<div>\n",
       "<style scoped>\n",
       "    .dataframe tbody tr th:only-of-type {\n",
       "        vertical-align: middle;\n",
       "    }\n",
       "\n",
       "    .dataframe tbody tr th {\n",
       "        vertical-align: top;\n",
       "    }\n",
       "\n",
       "    .dataframe thead th {\n",
       "        text-align: right;\n",
       "    }\n",
       "</style>\n",
       "<table border=\"1\" class=\"dataframe\">\n",
       "  <thead>\n",
       "    <tr style=\"text-align: right;\">\n",
       "      <th></th>\n",
       "      <th>date</th>\n",
       "      <th>home_team</th>\n",
       "      <th>away_team</th>\n",
       "      <th>home_score</th>\n",
       "      <th>away_score</th>\n",
       "      <th>tournament</th>\n",
       "      <th>city</th>\n",
       "      <th>country</th>\n",
       "      <th>neutral</th>\n",
       "    </tr>\n",
       "  </thead>\n",
       "  <tbody>\n",
       "    <tr>\n",
       "      <th>43749</th>\n",
       "      <td>2022-06-14</td>\n",
       "      <td>Chile</td>\n",
       "      <td>Ghana</td>\n",
       "      <td>0</td>\n",
       "      <td>0</td>\n",
       "      <td>Kirin Cup</td>\n",
       "      <td>Suita</td>\n",
       "      <td>Japan</td>\n",
       "      <td>True</td>\n",
       "    </tr>\n",
       "    <tr>\n",
       "      <th>43750</th>\n",
       "      <td>2022-06-14</td>\n",
       "      <td>Japan</td>\n",
       "      <td>Tunisia</td>\n",
       "      <td>0</td>\n",
       "      <td>3</td>\n",
       "      <td>Kirin Cup</td>\n",
       "      <td>Suita</td>\n",
       "      <td>Japan</td>\n",
       "      <td>False</td>\n",
       "    </tr>\n",
       "    <tr>\n",
       "      <th>43751</th>\n",
       "      <td>2022-06-14</td>\n",
       "      <td>South Korea</td>\n",
       "      <td>Egypt</td>\n",
       "      <td>4</td>\n",
       "      <td>1</td>\n",
       "      <td>Friendly</td>\n",
       "      <td>Seoul</td>\n",
       "      <td>South Korea</td>\n",
       "      <td>False</td>\n",
       "    </tr>\n",
       "  </tbody>\n",
       "</table>\n",
       "</div>"
      ],
      "text/plain": [
       "             date    home_team away_team  home_score  away_score tournament  \\\n",
       "43749  2022-06-14        Chile     Ghana           0           0  Kirin Cup   \n",
       "43750  2022-06-14        Japan   Tunisia           0           3  Kirin Cup   \n",
       "43751  2022-06-14  South Korea     Egypt           4           1   Friendly   \n",
       "\n",
       "        city      country  neutral  \n",
       "43749  Suita        Japan     True  \n",
       "43750  Suita        Japan    False  \n",
       "43751  Seoul  South Korea    False  "
      ]
     },
     "execution_count": 66,
     "metadata": {},
     "output_type": "execute_result"
    }
   ],
   "source": [
    "df.tail(3)"
   ]
  },
  {
   "cell_type": "code",
   "execution_count": 67,
   "id": "1eea3431",
   "metadata": {},
   "outputs": [
    {
     "name": "stdout",
     "output_type": "stream",
     "text": [
      "<class 'pandas.core.frame.DataFrame'>\n",
      "RangeIndex: 43752 entries, 0 to 43751\n",
      "Data columns (total 9 columns):\n",
      " #   Column      Non-Null Count  Dtype \n",
      "---  ------      --------------  ----- \n",
      " 0   date        43752 non-null  object\n",
      " 1   home_team   43752 non-null  object\n",
      " 2   away_team   43752 non-null  object\n",
      " 3   home_score  43752 non-null  int64 \n",
      " 4   away_score  43752 non-null  int64 \n",
      " 5   tournament  43752 non-null  object\n",
      " 6   city        43752 non-null  object\n",
      " 7   country     43752 non-null  object\n",
      " 8   neutral     43752 non-null  bool  \n",
      "dtypes: bool(1), int64(2), object(6)\n",
      "memory usage: 2.7+ MB\n"
     ]
    }
   ],
   "source": [
    "df.info()"
   ]
  },
  {
   "cell_type": "code",
   "execution_count": 68,
   "id": "ed6091d2",
   "metadata": {},
   "outputs": [
    {
     "data": {
      "text/plain": [
       "'1872-11-30'"
      ]
     },
     "execution_count": 68,
     "metadata": {},
     "output_type": "execute_result"
    }
   ],
   "source": [
    "df.date.min()"
   ]
  },
  {
   "cell_type": "code",
   "execution_count": 69,
   "id": "98b60546",
   "metadata": {},
   "outputs": [
    {
     "data": {
      "text/plain": [
       "'2022-06-14'"
      ]
     },
     "execution_count": 69,
     "metadata": {},
     "output_type": "execute_result"
    }
   ],
   "source": [
    "df.date.max()"
   ]
  },
  {
   "cell_type": "code",
   "execution_count": 70,
   "id": "90c8e02a",
   "metadata": {},
   "outputs": [
    {
     "data": {
      "text/plain": [
       "array(['Scotland', 'England', 'Wales', 'Northern Ireland',\n",
       "       'United States', 'Uruguay', 'Austria', 'Hungary', 'Argentina',\n",
       "       'Belgium', 'France', 'Netherlands', 'Czechoslovakia',\n",
       "       'Switzerland', 'Sweden', 'Germany', 'Italy', 'Chile', 'Norway',\n",
       "       'Finland', 'Luxembourg', 'Russia', 'Denmark', 'Catalonia',\n",
       "       'Basque Country', 'Brazil', 'Japan', 'Paraguay', 'Canada',\n",
       "       'Estonia', 'Costa Rica', 'Guatemala', 'Spain', 'Brittany',\n",
       "       'Poland', 'Yugoslavia', 'New Zealand', 'Romania', 'Latvia',\n",
       "       'Galicia', 'Portugal', 'Andalusia', 'China PR', 'Australia',\n",
       "       'Lithuania', 'Turkey', 'Central Spain', 'Mexico', 'Aruba', 'Egypt',\n",
       "       'Haiti', 'Philippines', 'Bulgaria', 'Jamaica', 'Kenya', 'Bolivia',\n",
       "       'Peru', 'Honduras', 'Guyana', 'Uganda', 'Belarus', 'El Salvador',\n",
       "       'Barbados', 'Republic of Ireland', 'Trinidad and Tobago', 'Greece',\n",
       "       'Curaçao', 'Dominica', 'Silesia', 'Guadeloupe', 'Israel',\n",
       "       'Suriname', 'French Guiana', 'Cuba', 'Colombia', 'Ecuador',\n",
       "       'Saint Kitts and Nevis', 'Panama', 'Slovakia', 'Manchukuo',\n",
       "       'Croatia', 'Nicaragua', 'Afghanistan', 'India', 'Martinique',\n",
       "       'Zimbabwe', 'Iceland', 'Albania', 'Venezuela', 'Madagascar',\n",
       "       'Zambia', 'Mauritius', 'Tanzania', 'Iran', 'Djibouti', 'DR Congo',\n",
       "       'Vietnam', 'Macau', 'Ethiopia', 'Puerto Rico', 'Réunion',\n",
       "       'Sierra Leone', 'Zanzibar', 'South Korea', 'Ghana', 'South Africa',\n",
       "       'New Caledonia', 'Fiji', 'Nigeria', 'Myanmar', 'Sri Lanka',\n",
       "       'Tahiti', 'Gambia', 'Hong Kong', 'Singapore', 'Malaysia',\n",
       "       'Indonesia', 'Guinea-Bissau', 'German DR', 'Vanuatu', 'Kernow',\n",
       "       'Saarland', 'Cambodia', 'Lebanon', 'Pakistan', 'Vietnam Republic',\n",
       "       'North Korea', 'Togo', 'Sudan', 'Malta', 'Syria', 'Tunisia',\n",
       "       'Malawi', 'Morocco', 'Benin', 'Cameroon',\n",
       "       'Central African Republic', 'Gabon', 'Ivory Coast', 'Congo',\n",
       "       'Mali', 'North Vietnam', 'Mongolia', 'Taiwan', 'Cyprus', 'Iraq',\n",
       "       'Saint Lucia', 'Grenada', 'Thailand', 'Senegal', 'Libya', 'Guinea',\n",
       "       'Algeria', 'Kuwait', 'Jordan', 'Solomon Islands', 'Liberia',\n",
       "       'Laos', 'Saint Vincent and the Grenadines', 'Bermuda', 'Niger',\n",
       "       'Montenegro', 'Palestine', 'Bahrain', 'Papua New Guinea',\n",
       "       'Burkina Faso', 'Mauritania', 'Saudi Arabia', 'Eswatini',\n",
       "       'Western Australia', 'Somalia', 'Lesotho', 'Cook Islands', 'Qatar',\n",
       "       'Antigua and Barbuda', 'Faroe Islands', 'Bangladesh', 'Yemen',\n",
       "       'Oman', 'Yemen DPR', 'Burundi', 'Mozambique', 'Guam', 'Chad',\n",
       "       'Angola', 'Dominican Republic', 'Seychelles', 'Rwanda',\n",
       "       'São Tomé and Príncipe', 'Botswana', 'Northern Cyprus',\n",
       "       'Cape Verde', 'Kyrgyzstan', 'Georgia', 'Azerbaijan', 'Kiribati',\n",
       "       'Tonga', 'Wallis Islands and Futuna', 'United Arab Emirates',\n",
       "       'Brunei', 'Equatorial Guinea', 'Liechtenstein', 'Nepal',\n",
       "       'Greenland', 'Niue', 'Samoa', 'American Samoa', 'Belize',\n",
       "       'Anguilla', 'Cayman Islands', 'Palau', 'Sint Maarten', 'Namibia',\n",
       "       'Åland Islands', 'Ynys Môn', 'Saint Martin', 'San Marino',\n",
       "       'Slovenia', 'Jersey', 'Shetland', 'Isle of Wight', 'Moldova',\n",
       "       'Ukraine', 'Kazakhstan', 'Tajikistan', 'Uzbekistan',\n",
       "       'Turkmenistan', 'Armenia', 'Czech Republic', 'Guernsey',\n",
       "       'Gibraltar', 'Isle of Man', 'North Macedonia', 'Montserrat',\n",
       "       'Serbia', 'Canary Islands', 'Bosnia and Herzegovina', 'Maldives',\n",
       "       'Andorra', 'British Virgin Islands', 'Frøya', 'Hitra',\n",
       "       'United States Virgin Islands', 'Corsica', 'Eritrea', 'Bahamas',\n",
       "       'Gotland', 'Saare County', 'Rhodes', 'Micronesia', 'Bhutan',\n",
       "       'Orkney', 'Monaco', 'Tuvalu', 'Sark', 'Alderney', 'Mayotte',\n",
       "       'Turks and Caicos Islands', 'Timor-Leste', 'Western Isles',\n",
       "       'Falkland Islands', 'Kosovo', 'Republic of St. Pauli', 'Găgăuzia',\n",
       "       'Tibet', 'Occitania', 'Sápmi', 'Northern Mariana Islands',\n",
       "       'Menorca', 'Comoros', 'Provence', 'Arameans Suryoye', 'Padania',\n",
       "       'Iraqi Kurdistan', 'Gozo', 'Bonaire', 'Western Sahara', 'Raetia',\n",
       "       'Darfur', 'Tamil Eelam', 'South Sudan', 'Abkhazia',\n",
       "       'Saint Pierre and Miquelon', 'Artsakh', 'Madrid', 'Vatican City',\n",
       "       'Ellan Vannin', 'South Ossetia', 'County of Nice', 'Székely Land',\n",
       "       'Romani people', 'Felvidék', 'Chagos Islands',\n",
       "       'United Koreans in Japan', 'Somaliland', 'Western Armenia',\n",
       "       'Barawa', 'Kárpátalja', 'Yorkshire', 'Panjab', 'Matabeleland',\n",
       "       'Cascadia', 'Kabylia', 'Parishes of Jersey', 'Chameria',\n",
       "       'Saint Helena'], dtype=object)"
      ]
     },
     "execution_count": 70,
     "metadata": {},
     "output_type": "execute_result"
    }
   ],
   "source": [
    "df.home_team.unique()"
   ]
  },
  {
   "cell_type": "code",
   "execution_count": 71,
   "id": "a8073e1e",
   "metadata": {},
   "outputs": [
    {
     "data": {
      "text/plain": [
       "306"
      ]
     },
     "execution_count": 71,
     "metadata": {},
     "output_type": "execute_result"
    }
   ],
   "source": [
    "len(df.home_team.unique())"
   ]
  },
  {
   "cell_type": "code",
   "execution_count": 72,
   "id": "b9aacf17",
   "metadata": {},
   "outputs": [
    {
     "data": {
      "text/html": [
       "<div>\n",
       "<style scoped>\n",
       "    .dataframe tbody tr th:only-of-type {\n",
       "        vertical-align: middle;\n",
       "    }\n",
       "\n",
       "    .dataframe tbody tr th {\n",
       "        vertical-align: top;\n",
       "    }\n",
       "\n",
       "    .dataframe thead th {\n",
       "        text-align: right;\n",
       "    }\n",
       "</style>\n",
       "<table border=\"1\" class=\"dataframe\">\n",
       "  <thead>\n",
       "    <tr style=\"text-align: right;\">\n",
       "      <th></th>\n",
       "      <th>date</th>\n",
       "      <th>home_team</th>\n",
       "      <th>away_team</th>\n",
       "      <th>home_score</th>\n",
       "      <th>away_score</th>\n",
       "      <th>tournament</th>\n",
       "      <th>city</th>\n",
       "      <th>country</th>\n",
       "      <th>neutral</th>\n",
       "    </tr>\n",
       "  </thead>\n",
       "  <tbody>\n",
       "    <tr>\n",
       "      <th>4851</th>\n",
       "      <td>1960-11-13</td>\n",
       "      <td>Tunisia</td>\n",
       "      <td>Morocco</td>\n",
       "      <td>2</td>\n",
       "      <td>1</td>\n",
       "      <td>FIFA World Cup qualification</td>\n",
       "      <td>Tunis</td>\n",
       "      <td>Tunisia</td>\n",
       "      <td>False</td>\n",
       "    </tr>\n",
       "    <tr>\n",
       "      <th>4905</th>\n",
       "      <td>1961-04-02</td>\n",
       "      <td>Ghana</td>\n",
       "      <td>Morocco</td>\n",
       "      <td>0</td>\n",
       "      <td>0</td>\n",
       "      <td>FIFA World Cup qualification</td>\n",
       "      <td>Accra</td>\n",
       "      <td>Ghana</td>\n",
       "      <td>False</td>\n",
       "    </tr>\n",
       "    <tr>\n",
       "      <th>4962</th>\n",
       "      <td>1961-06-18</td>\n",
       "      <td>Yugoslavia</td>\n",
       "      <td>Morocco</td>\n",
       "      <td>3</td>\n",
       "      <td>2</td>\n",
       "      <td>Friendly</td>\n",
       "      <td>Belgrade</td>\n",
       "      <td>Yugoslavia</td>\n",
       "      <td>False</td>\n",
       "    </tr>\n",
       "    <tr>\n",
       "      <th>4964</th>\n",
       "      <td>1961-06-21</td>\n",
       "      <td>German DR</td>\n",
       "      <td>Morocco</td>\n",
       "      <td>1</td>\n",
       "      <td>2</td>\n",
       "      <td>Friendly</td>\n",
       "      <td>Erfurt</td>\n",
       "      <td>German DR</td>\n",
       "      <td>False</td>\n",
       "    </tr>\n",
       "    <tr>\n",
       "      <th>5053</th>\n",
       "      <td>1961-11-23</td>\n",
       "      <td>Spain</td>\n",
       "      <td>Morocco</td>\n",
       "      <td>3</td>\n",
       "      <td>2</td>\n",
       "      <td>FIFA World Cup qualification</td>\n",
       "      <td>Madrid</td>\n",
       "      <td>Spain</td>\n",
       "      <td>False</td>\n",
       "    </tr>\n",
       "    <tr>\n",
       "      <th>...</th>\n",
       "      <td>...</td>\n",
       "      <td>...</td>\n",
       "      <td>...</td>\n",
       "      <td>...</td>\n",
       "      <td>...</td>\n",
       "      <td>...</td>\n",
       "      <td>...</td>\n",
       "      <td>...</td>\n",
       "      <td>...</td>\n",
       "    </tr>\n",
       "    <tr>\n",
       "      <th>43132</th>\n",
       "      <td>2021-12-04</td>\n",
       "      <td>Jordan</td>\n",
       "      <td>Morocco</td>\n",
       "      <td>0</td>\n",
       "      <td>4</td>\n",
       "      <td>Arab Cup</td>\n",
       "      <td>Al Rayyan</td>\n",
       "      <td>Qatar</td>\n",
       "      <td>True</td>\n",
       "    </tr>\n",
       "    <tr>\n",
       "      <th>43198</th>\n",
       "      <td>2022-01-18</td>\n",
       "      <td>Gabon</td>\n",
       "      <td>Morocco</td>\n",
       "      <td>2</td>\n",
       "      <td>2</td>\n",
       "      <td>African Cup of Nations</td>\n",
       "      <td>Yaoundé</td>\n",
       "      <td>Cameroon</td>\n",
       "      <td>True</td>\n",
       "    </tr>\n",
       "    <tr>\n",
       "      <th>43244</th>\n",
       "      <td>2022-01-30</td>\n",
       "      <td>Egypt</td>\n",
       "      <td>Morocco</td>\n",
       "      <td>2</td>\n",
       "      <td>1</td>\n",
       "      <td>African Cup of Nations</td>\n",
       "      <td>Yaoundé</td>\n",
       "      <td>Cameroon</td>\n",
       "      <td>True</td>\n",
       "    </tr>\n",
       "    <tr>\n",
       "      <th>43327</th>\n",
       "      <td>2022-03-25</td>\n",
       "      <td>DR Congo</td>\n",
       "      <td>Morocco</td>\n",
       "      <td>1</td>\n",
       "      <td>1</td>\n",
       "      <td>FIFA World Cup qualification</td>\n",
       "      <td>Kinshasa</td>\n",
       "      <td>DR Congo</td>\n",
       "      <td>False</td>\n",
       "    </tr>\n",
       "    <tr>\n",
       "      <th>43475</th>\n",
       "      <td>2022-06-01</td>\n",
       "      <td>United States</td>\n",
       "      <td>Morocco</td>\n",
       "      <td>3</td>\n",
       "      <td>0</td>\n",
       "      <td>Friendly</td>\n",
       "      <td>Cincinnati</td>\n",
       "      <td>United States</td>\n",
       "      <td>False</td>\n",
       "    </tr>\n",
       "  </tbody>\n",
       "</table>\n",
       "<p>256 rows × 9 columns</p>\n",
       "</div>"
      ],
      "text/plain": [
       "             date      home_team away_team  home_score  away_score  \\\n",
       "4851   1960-11-13        Tunisia   Morocco           2           1   \n",
       "4905   1961-04-02          Ghana   Morocco           0           0   \n",
       "4962   1961-06-18     Yugoslavia   Morocco           3           2   \n",
       "4964   1961-06-21      German DR   Morocco           1           2   \n",
       "5053   1961-11-23          Spain   Morocco           3           2   \n",
       "...           ...            ...       ...         ...         ...   \n",
       "43132  2021-12-04         Jordan   Morocco           0           4   \n",
       "43198  2022-01-18          Gabon   Morocco           2           2   \n",
       "43244  2022-01-30          Egypt   Morocco           2           1   \n",
       "43327  2022-03-25       DR Congo   Morocco           1           1   \n",
       "43475  2022-06-01  United States   Morocco           3           0   \n",
       "\n",
       "                         tournament        city        country  neutral  \n",
       "4851   FIFA World Cup qualification       Tunis        Tunisia    False  \n",
       "4905   FIFA World Cup qualification       Accra          Ghana    False  \n",
       "4962                       Friendly    Belgrade     Yugoslavia    False  \n",
       "4964                       Friendly      Erfurt      German DR    False  \n",
       "5053   FIFA World Cup qualification      Madrid          Spain    False  \n",
       "...                             ...         ...            ...      ...  \n",
       "43132                      Arab Cup   Al Rayyan          Qatar     True  \n",
       "43198        African Cup of Nations     Yaoundé       Cameroon     True  \n",
       "43244        African Cup of Nations     Yaoundé       Cameroon     True  \n",
       "43327  FIFA World Cup qualification    Kinshasa       DR Congo    False  \n",
       "43475                      Friendly  Cincinnati  United States    False  \n",
       "\n",
       "[256 rows x 9 columns]"
      ]
     },
     "execution_count": 72,
     "metadata": {},
     "output_type": "execute_result"
    }
   ],
   "source": [
    "df.query('away_team==\"Morocco\"')"
   ]
  },
  {
   "cell_type": "code",
   "execution_count": 73,
   "id": "712024f8",
   "metadata": {},
   "outputs": [
    {
     "data": {
      "text/html": [
       "<div>\n",
       "<style scoped>\n",
       "    .dataframe tbody tr th:only-of-type {\n",
       "        vertical-align: middle;\n",
       "    }\n",
       "\n",
       "    .dataframe tbody tr th {\n",
       "        vertical-align: top;\n",
       "    }\n",
       "\n",
       "    .dataframe thead th {\n",
       "        text-align: right;\n",
       "    }\n",
       "</style>\n",
       "<table border=\"1\" class=\"dataframe\">\n",
       "  <thead>\n",
       "    <tr style=\"text-align: right;\">\n",
       "      <th></th>\n",
       "      <th>home_team</th>\n",
       "      <th>date</th>\n",
       "    </tr>\n",
       "  </thead>\n",
       "  <tbody>\n",
       "    <tr>\n",
       "      <th>35</th>\n",
       "      <td>Brazil</td>\n",
       "      <td>589</td>\n",
       "    </tr>\n",
       "    <tr>\n",
       "      <th>12</th>\n",
       "      <td>Argentina</td>\n",
       "      <td>564</td>\n",
       "    </tr>\n",
       "    <tr>\n",
       "      <th>168</th>\n",
       "      <td>Mexico</td>\n",
       "      <td>543</td>\n",
       "    </tr>\n",
       "    <tr>\n",
       "      <th>99</th>\n",
       "      <td>Germany</td>\n",
       "      <td>524</td>\n",
       "    </tr>\n",
       "    <tr>\n",
       "      <th>80</th>\n",
       "      <td>England</td>\n",
       "      <td>520</td>\n",
       "    </tr>\n",
       "    <tr>\n",
       "      <th>...</th>\n",
       "      <td>...</td>\n",
       "      <td>...</td>\n",
       "    </tr>\n",
       "    <tr>\n",
       "      <th>51</th>\n",
       "      <td>Central Spain</td>\n",
       "      <td>1</td>\n",
       "    </tr>\n",
       "    <tr>\n",
       "      <th>217</th>\n",
       "      <td>Romani people</td>\n",
       "      <td>1</td>\n",
       "    </tr>\n",
       "    <tr>\n",
       "      <th>232</th>\n",
       "      <td>Sark</td>\n",
       "      <td>1</td>\n",
       "    </tr>\n",
       "    <tr>\n",
       "      <th>54</th>\n",
       "      <td>Chameria</td>\n",
       "      <td>1</td>\n",
       "    </tr>\n",
       "    <tr>\n",
       "      <th>228</th>\n",
       "      <td>Saint Pierre and Miquelon</td>\n",
       "      <td>1</td>\n",
       "    </tr>\n",
       "  </tbody>\n",
       "</table>\n",
       "<p>306 rows × 2 columns</p>\n",
       "</div>"
      ],
      "text/plain": [
       "                     home_team  date\n",
       "35                      Brazil   589\n",
       "12                   Argentina   564\n",
       "168                     Mexico   543\n",
       "99                     Germany   524\n",
       "80                     England   520\n",
       "..                         ...   ...\n",
       "51               Central Spain     1\n",
       "217              Romani people     1\n",
       "232                       Sark     1\n",
       "54                    Chameria     1\n",
       "228  Saint Pierre and Miquelon     1\n",
       "\n",
       "[306 rows x 2 columns]"
      ]
     },
     "execution_count": 73,
     "metadata": {},
     "output_type": "execute_result"
    }
   ],
   "source": [
    "df.groupby(['home_team']).agg({'date':'count'}).reset_index().sort_values(by='date', ascending=False)"
   ]
  },
  {
   "cell_type": "code",
   "execution_count": 74,
   "id": "8ca9daf3",
   "metadata": {},
   "outputs": [
    {
     "data": {
      "text/html": [
       "<div>\n",
       "<style scoped>\n",
       "    .dataframe tbody tr th:only-of-type {\n",
       "        vertical-align: middle;\n",
       "    }\n",
       "\n",
       "    .dataframe tbody tr th {\n",
       "        vertical-align: top;\n",
       "    }\n",
       "\n",
       "    .dataframe thead th {\n",
       "        text-align: right;\n",
       "    }\n",
       "</style>\n",
       "<table border=\"1\" class=\"dataframe\">\n",
       "  <thead>\n",
       "    <tr style=\"text-align: right;\">\n",
       "      <th></th>\n",
       "      <th>away_team</th>\n",
       "      <th>date</th>\n",
       "    </tr>\n",
       "  </thead>\n",
       "  <tbody>\n",
       "    <tr>\n",
       "      <th>281</th>\n",
       "      <td>Uruguay</td>\n",
       "      <td>556</td>\n",
       "    </tr>\n",
       "    <tr>\n",
       "      <th>252</th>\n",
       "      <td>Sweden</td>\n",
       "      <td>545</td>\n",
       "    </tr>\n",
       "    <tr>\n",
       "      <th>81</th>\n",
       "      <td>England</td>\n",
       "      <td>522</td>\n",
       "    </tr>\n",
       "    <tr>\n",
       "      <th>119</th>\n",
       "      <td>Hungary</td>\n",
       "      <td>489</td>\n",
       "    </tr>\n",
       "    <tr>\n",
       "      <th>201</th>\n",
       "      <td>Paraguay</td>\n",
       "      <td>471</td>\n",
       "    </tr>\n",
       "    <tr>\n",
       "      <th>100</th>\n",
       "      <td>Germany</td>\n",
       "      <td>456</td>\n",
       "    </tr>\n",
       "    <tr>\n",
       "      <th>12</th>\n",
       "      <td>Argentina</td>\n",
       "      <td>447</td>\n",
       "    </tr>\n",
       "    <tr>\n",
       "      <th>205</th>\n",
       "      <td>Poland</td>\n",
       "      <td>445</td>\n",
       "    </tr>\n",
       "    <tr>\n",
       "      <th>299</th>\n",
       "      <td>Zambia</td>\n",
       "      <td>435</td>\n",
       "    </tr>\n",
       "    <tr>\n",
       "      <th>91</th>\n",
       "      <td>Finland</td>\n",
       "      <td>430</td>\n",
       "    </tr>\n",
       "    <tr>\n",
       "      <th>36</th>\n",
       "      <td>Brazil</td>\n",
       "      <td>425</td>\n",
       "    </tr>\n",
       "    <tr>\n",
       "      <th>191</th>\n",
       "      <td>Norway</td>\n",
       "      <td>417</td>\n",
       "    </tr>\n",
       "    <tr>\n",
       "      <th>230</th>\n",
       "      <td>Scotland</td>\n",
       "      <td>416</td>\n",
       "    </tr>\n",
       "    <tr>\n",
       "      <th>253</th>\n",
       "      <td>Switzerland</td>\n",
       "      <td>408</td>\n",
       "    </tr>\n",
       "    <tr>\n",
       "      <th>73</th>\n",
       "      <td>Denmark</td>\n",
       "      <td>406</td>\n",
       "    </tr>\n",
       "    <tr>\n",
       "      <th>215</th>\n",
       "      <td>Russia</td>\n",
       "      <td>405</td>\n",
       "    </tr>\n",
       "    <tr>\n",
       "      <th>244</th>\n",
       "      <td>South Korea</td>\n",
       "      <td>404</td>\n",
       "    </tr>\n",
       "    <tr>\n",
       "      <th>40</th>\n",
       "      <td>Bulgaria</td>\n",
       "      <td>387</td>\n",
       "    </tr>\n",
       "    <tr>\n",
       "      <th>55</th>\n",
       "      <td>Chile</td>\n",
       "      <td>386</td>\n",
       "    </tr>\n",
       "    <tr>\n",
       "      <th>18</th>\n",
       "      <td>Austria</td>\n",
       "      <td>380</td>\n",
       "    </tr>\n",
       "  </tbody>\n",
       "</table>\n",
       "</div>"
      ],
      "text/plain": [
       "       away_team  date\n",
       "281      Uruguay   556\n",
       "252       Sweden   545\n",
       "81       England   522\n",
       "119      Hungary   489\n",
       "201     Paraguay   471\n",
       "100      Germany   456\n",
       "12     Argentina   447\n",
       "205       Poland   445\n",
       "299       Zambia   435\n",
       "91       Finland   430\n",
       "36        Brazil   425\n",
       "191       Norway   417\n",
       "230     Scotland   416\n",
       "253  Switzerland   408\n",
       "73       Denmark   406\n",
       "215       Russia   405\n",
       "244  South Korea   404\n",
       "40      Bulgaria   387\n",
       "55         Chile   386\n",
       "18       Austria   380"
      ]
     },
     "execution_count": 74,
     "metadata": {},
     "output_type": "execute_result"
    }
   ],
   "source": [
    "df.groupby(['away_team']).agg({'date':'count'}).reset_index().sort_values(by='date', ascending=False).head(20)"
   ]
  },
  {
   "cell_type": "code",
   "execution_count": 75,
   "id": "b7b5284e",
   "metadata": {},
   "outputs": [
    {
     "data": {
      "text/plain": [
       "Index(['date', 'home_team', 'away_team', 'home_score', 'away_score',\n",
       "       'tournament', 'city', 'country', 'neutral'],\n",
       "      dtype='object')"
      ]
     },
     "execution_count": 75,
     "metadata": {},
     "output_type": "execute_result"
    }
   ],
   "source": [
    "df.columns"
   ]
  },
  {
   "cell_type": "code",
   "execution_count": 76,
   "id": "e33a99bb",
   "metadata": {},
   "outputs": [],
   "source": [
    "import matplotlib.pyplot as plt\n",
    "import seaborn as sns"
   ]
  },
  {
   "cell_type": "code",
   "execution_count": 77,
   "id": "fed53a79",
   "metadata": {},
   "outputs": [
    {
     "data": {
      "text/plain": [
       "<AxesSubplot:xlabel='home_score', ylabel='Count'>"
      ]
     },
     "execution_count": 77,
     "metadata": {},
     "output_type": "execute_result"
    },
    {
     "data": {
      "image/png": "[encoded data removed]",
      "text/plain": [
       "<Figure size 432x288 with 1 Axes>"
      ]
     },
     "metadata": {
      "needs_background": "light"
     },
     "output_type": "display_data"
    }
   ],
   "source": [
    "sns.histplot(x='home_score', data=df, bins=20)"
   ]
  },
  {
   "cell_type": "code",
   "execution_count": 78,
   "id": "c213b5f9",
   "metadata": {},
   "outputs": [
    {
     "data": {
      "text/plain": [
       "<AxesSubplot:xlabel='away_score', ylabel='Count'>"
      ]
     },
     "execution_count": 78,
     "metadata": {},
     "output_type": "execute_result"
    },
    {
     "data": {
      "image/png": "[encoded data removed]",
      "text/plain": [
       "<Figure size 432x288 with 1 Axes>"
      ]
     },
     "metadata": {
      "needs_background": "light"
     },
     "output_type": "display_data"
    }
   ],
   "source": [
    "sns.histplot(x='away_score', data=df, bins=20)"
   ]
  },
  {
   "cell_type": "code",
   "execution_count": 79,
   "id": "ac5e7cd6",
   "metadata": {},
   "outputs": [
    {
     "data": {
      "text/html": [
       "<div>\n",
       "<style scoped>\n",
       "    .dataframe tbody tr th:only-of-type {\n",
       "        vertical-align: middle;\n",
       "    }\n",
       "\n",
       "    .dataframe tbody tr th {\n",
       "        vertical-align: top;\n",
       "    }\n",
       "\n",
       "    .dataframe thead th {\n",
       "        text-align: right;\n",
       "    }\n",
       "</style>\n",
       "<table border=\"1\" class=\"dataframe\">\n",
       "  <thead>\n",
       "    <tr style=\"text-align: right;\">\n",
       "      <th></th>\n",
       "      <th>date</th>\n",
       "      <th>home_team</th>\n",
       "      <th>away_team</th>\n",
       "      <th>home_score</th>\n",
       "      <th>away_score</th>\n",
       "      <th>tournament</th>\n",
       "      <th>city</th>\n",
       "      <th>country</th>\n",
       "      <th>neutral</th>\n",
       "    </tr>\n",
       "  </thead>\n",
       "  <tbody>\n",
       "    <tr>\n",
       "      <th>23969</th>\n",
       "      <td>2001-04-11</td>\n",
       "      <td>Australia</td>\n",
       "      <td>American Samoa</td>\n",
       "      <td>31</td>\n",
       "      <td>0</td>\n",
       "      <td>FIFA World Cup qualification</td>\n",
       "      <td>Coffs Harbour</td>\n",
       "      <td>Australia</td>\n",
       "      <td>False</td>\n",
       "    </tr>\n",
       "    <tr>\n",
       "      <th>8010</th>\n",
       "      <td>1971-09-13</td>\n",
       "      <td>Tahiti</td>\n",
       "      <td>Cook Islands</td>\n",
       "      <td>30</td>\n",
       "      <td>0</td>\n",
       "      <td>South Pacific Games</td>\n",
       "      <td>Papeete</td>\n",
       "      <td>French Polynesia</td>\n",
       "      <td>False</td>\n",
       "    </tr>\n",
       "    <tr>\n",
       "      <th>11111</th>\n",
       "      <td>1979-08-30</td>\n",
       "      <td>Fiji</td>\n",
       "      <td>Kiribati</td>\n",
       "      <td>24</td>\n",
       "      <td>0</td>\n",
       "      <td>South Pacific Games</td>\n",
       "      <td>Nausori</td>\n",
       "      <td>Fiji</td>\n",
       "      <td>False</td>\n",
       "    </tr>\n",
       "    <tr>\n",
       "      <th>23966</th>\n",
       "      <td>2001-04-09</td>\n",
       "      <td>Australia</td>\n",
       "      <td>Tonga</td>\n",
       "      <td>22</td>\n",
       "      <td>0</td>\n",
       "      <td>FIFA World Cup qualification</td>\n",
       "      <td>Coffs Harbour</td>\n",
       "      <td>Australia</td>\n",
       "      <td>False</td>\n",
       "    </tr>\n",
       "    <tr>\n",
       "      <th>29005</th>\n",
       "      <td>2006-11-24</td>\n",
       "      <td>Sápmi</td>\n",
       "      <td>Monaco</td>\n",
       "      <td>21</td>\n",
       "      <td>1</td>\n",
       "      <td>Viva World Cup</td>\n",
       "      <td>Hyères</td>\n",
       "      <td>France</td>\n",
       "      <td>True</td>\n",
       "    </tr>\n",
       "    <tr>\n",
       "      <th>6140</th>\n",
       "      <td>1966-04-03</td>\n",
       "      <td>Libya</td>\n",
       "      <td>Oman</td>\n",
       "      <td>21</td>\n",
       "      <td>0</td>\n",
       "      <td>Arab Cup</td>\n",
       "      <td>Baghdad</td>\n",
       "      <td>Iraq</td>\n",
       "      <td>True</td>\n",
       "    </tr>\n",
       "    <tr>\n",
       "      <th>22740</th>\n",
       "      <td>2000-02-14</td>\n",
       "      <td>Kuwait</td>\n",
       "      <td>Bhutan</td>\n",
       "      <td>20</td>\n",
       "      <td>0</td>\n",
       "      <td>AFC Asian Cup qualification</td>\n",
       "      <td>Kuwait City</td>\n",
       "      <td>Kuwait</td>\n",
       "      <td>False</td>\n",
       "    </tr>\n",
       "    <tr>\n",
       "      <th>23628</th>\n",
       "      <td>2000-11-24</td>\n",
       "      <td>Iran</td>\n",
       "      <td>Guam</td>\n",
       "      <td>19</td>\n",
       "      <td>0</td>\n",
       "      <td>FIFA World Cup qualification</td>\n",
       "      <td>Tabriz</td>\n",
       "      <td>Iran</td>\n",
       "      <td>False</td>\n",
       "    </tr>\n",
       "    <tr>\n",
       "      <th>25862</th>\n",
       "      <td>2003-06-29</td>\n",
       "      <td>Gibraltar</td>\n",
       "      <td>Sark</td>\n",
       "      <td>19</td>\n",
       "      <td>0</td>\n",
       "      <td>Island Games</td>\n",
       "      <td>St. Martin</td>\n",
       "      <td>Guernsey</td>\n",
       "      <td>True</td>\n",
       "    </tr>\n",
       "    <tr>\n",
       "      <th>22653</th>\n",
       "      <td>2000-01-26</td>\n",
       "      <td>China PR</td>\n",
       "      <td>Guam</td>\n",
       "      <td>19</td>\n",
       "      <td>0</td>\n",
       "      <td>AFC Asian Cup qualification</td>\n",
       "      <td>Hanoi</td>\n",
       "      <td>Vietnam</td>\n",
       "      <td>True</td>\n",
       "    </tr>\n",
       "    <tr>\n",
       "      <th>11114</th>\n",
       "      <td>1979-08-30</td>\n",
       "      <td>Tahiti</td>\n",
       "      <td>Tuvalu</td>\n",
       "      <td>18</td>\n",
       "      <td>0</td>\n",
       "      <td>South Pacific Games</td>\n",
       "      <td>Suva</td>\n",
       "      <td>Fiji</td>\n",
       "      <td>True</td>\n",
       "    </tr>\n",
       "    <tr>\n",
       "      <th>32713</th>\n",
       "      <td>2010-10-14</td>\n",
       "      <td>Dominican Republic</td>\n",
       "      <td>British Virgin Islands</td>\n",
       "      <td>17</td>\n",
       "      <td>0</td>\n",
       "      <td>CFU Caribbean Cup qualification</td>\n",
       "      <td>San Cristóbal</td>\n",
       "      <td>Dominican Republic</td>\n",
       "      <td>False</td>\n",
       "    </tr>\n",
       "    <tr>\n",
       "      <th>23207</th>\n",
       "      <td>2000-06-19</td>\n",
       "      <td>Australia</td>\n",
       "      <td>Cook Islands</td>\n",
       "      <td>17</td>\n",
       "      <td>0</td>\n",
       "      <td>Oceania Nations Cup</td>\n",
       "      <td>Papeete</td>\n",
       "      <td>French Polynesia</td>\n",
       "      <td>True</td>\n",
       "    </tr>\n",
       "    <tr>\n",
       "      <th>25866</th>\n",
       "      <td>2003-06-30</td>\n",
       "      <td>Tahiti</td>\n",
       "      <td>Micronesia</td>\n",
       "      <td>17</td>\n",
       "      <td>0</td>\n",
       "      <td>South Pacific Games</td>\n",
       "      <td>Suva</td>\n",
       "      <td>Fiji</td>\n",
       "      <td>True</td>\n",
       "    </tr>\n",
       "    <tr>\n",
       "      <th>34517</th>\n",
       "      <td>2012-09-05</td>\n",
       "      <td>Martinique</td>\n",
       "      <td>British Virgin Islands</td>\n",
       "      <td>16</td>\n",
       "      <td>0</td>\n",
       "      <td>CFU Caribbean Cup qualification</td>\n",
       "      <td>Le Lamentin</td>\n",
       "      <td>Martinique</td>\n",
       "      <td>False</td>\n",
       "    </tr>\n",
       "    <tr>\n",
       "      <th>21738</th>\n",
       "      <td>1998-09-28</td>\n",
       "      <td>Australia</td>\n",
       "      <td>Cook Islands</td>\n",
       "      <td>16</td>\n",
       "      <td>0</td>\n",
       "      <td>Oceania Nations Cup</td>\n",
       "      <td>Brisbane</td>\n",
       "      <td>Australia</td>\n",
       "      <td>False</td>\n",
       "    </tr>\n",
       "    <tr>\n",
       "      <th>29657</th>\n",
       "      <td>2007-08-25</td>\n",
       "      <td>Fiji</td>\n",
       "      <td>Tuvalu</td>\n",
       "      <td>16</td>\n",
       "      <td>0</td>\n",
       "      <td>South Pacific Games</td>\n",
       "      <td>Apia</td>\n",
       "      <td>Samoa</td>\n",
       "      <td>True</td>\n",
       "    </tr>\n",
       "    <tr>\n",
       "      <th>25883</th>\n",
       "      <td>2003-07-01</td>\n",
       "      <td>Greenland</td>\n",
       "      <td>Sark</td>\n",
       "      <td>16</td>\n",
       "      <td>0</td>\n",
       "      <td>Island Games</td>\n",
       "      <td>St. Martin</td>\n",
       "      <td>Guernsey</td>\n",
       "      <td>True</td>\n",
       "    </tr>\n",
       "    <tr>\n",
       "      <th>26105</th>\n",
       "      <td>2003-09-29</td>\n",
       "      <td>South Korea</td>\n",
       "      <td>Nepal</td>\n",
       "      <td>16</td>\n",
       "      <td>0</td>\n",
       "      <td>AFC Asian Cup qualification</td>\n",
       "      <td>Incheon</td>\n",
       "      <td>South Korea</td>\n",
       "      <td>False</td>\n",
       "    </tr>\n",
       "    <tr>\n",
       "      <th>23631</th>\n",
       "      <td>2000-11-26</td>\n",
       "      <td>Tajikistan</td>\n",
       "      <td>Guam</td>\n",
       "      <td>16</td>\n",
       "      <td>0</td>\n",
       "      <td>FIFA World Cup qualification</td>\n",
       "      <td>Tabriz</td>\n",
       "      <td>Iran</td>\n",
       "      <td>True</td>\n",
       "    </tr>\n",
       "  </tbody>\n",
       "</table>\n",
       "</div>"
      ],
      "text/plain": [
       "             date           home_team               away_team  home_score  \\\n",
       "23969  2001-04-11           Australia          American Samoa          31   \n",
       "8010   1971-09-13              Tahiti            Cook Islands          30   \n",
       "11111  1979-08-30                Fiji                Kiribati          24   \n",
       "23966  2001-04-09           Australia                   Tonga          22   \n",
       "29005  2006-11-24               Sápmi                  Monaco          21   \n",
       "6140   1966-04-03               Libya                    Oman          21   \n",
       "22740  2000-02-14              Kuwait                  Bhutan          20   \n",
       "23628  2000-11-24                Iran                    Guam          19   \n",
       "25862  2003-06-29           Gibraltar                    Sark          19   \n",
       "22653  2000-01-26            China PR                    Guam          19   \n",
       "11114  1979-08-30              Tahiti                  Tuvalu          18   \n",
       "32713  2010-10-14  Dominican Republic  British Virgin Islands          17   \n",
       "23207  2000-06-19           Australia            Cook Islands          17   \n",
       "25866  2003-06-30              Tahiti              Micronesia          17   \n",
       "34517  2012-09-05          Martinique  British Virgin Islands          16   \n",
       "21738  1998-09-28           Australia            Cook Islands          16   \n",
       "29657  2007-08-25                Fiji                  Tuvalu          16   \n",
       "25883  2003-07-01           Greenland                    Sark          16   \n",
       "26105  2003-09-29         South Korea                   Nepal          16   \n",
       "23631  2000-11-26          Tajikistan                    Guam          16   \n",
       "\n",
       "       away_score                       tournament           city  \\\n",
       "23969           0     FIFA World Cup qualification  Coffs Harbour   \n",
       "8010            0              South Pacific Games        Papeete   \n",
       "11111           0              South Pacific Games        Nausori   \n",
       "23966           0     FIFA World Cup qualification  Coffs Harbour   \n",
       "29005           1                   Viva World Cup         Hyères   \n",
       "6140            0                         Arab Cup        Baghdad   \n",
       "22740           0      AFC Asian Cup qualification    Kuwait City   \n",
       "23628           0     FIFA World Cup qualification         Tabriz   \n",
       "25862           0                     Island Games     St. Martin   \n",
       "22653           0      AFC Asian Cup qualification          Hanoi   \n",
       "11114           0              South Pacific Games           Suva   \n",
       "32713           0  CFU Caribbean Cup qualification  San Cristóbal   \n",
       "23207           0              Oceania Nations Cup        Papeete   \n",
       "25866           0              South Pacific Games           Suva   \n",
       "34517           0  CFU Caribbean Cup qualification    Le Lamentin   \n",
       "21738           0              Oceania Nations Cup       Brisbane   \n",
       "29657           0              South Pacific Games           Apia   \n",
       "25883           0                     Island Games     St. Martin   \n",
       "26105           0      AFC Asian Cup qualification        Incheon   \n",
       "23631           0     FIFA World Cup qualification         Tabriz   \n",
       "\n",
       "                  country  neutral  \n",
       "23969           Australia    False  \n",
       "8010     French Polynesia    False  \n",
       "11111                Fiji    False  \n",
       "23966           Australia    False  \n",
       "29005              France     True  \n",
       "6140                 Iraq     True  \n",
       "22740              Kuwait    False  \n",
       "23628                Iran    False  \n",
       "25862            Guernsey     True  \n",
       "22653             Vietnam     True  \n",
       "11114                Fiji     True  \n",
       "32713  Dominican Republic    False  \n",
       "23207    French Polynesia     True  \n",
       "25866                Fiji     True  \n",
       "34517          Martinique    False  \n",
       "21738           Australia    False  \n",
       "29657               Samoa     True  \n",
       "25883            Guernsey     True  \n",
       "26105         South Korea    False  \n",
       "23631                Iran     True  "
      ]
     },
     "execution_count": 79,
     "metadata": {},
     "output_type": "execute_result"
    }
   ],
   "source": [
    "df.sort_values(by='home_score', ascending=False).head(20)"
   ]
  },
  {
   "cell_type": "code",
   "execution_count": 80,
   "id": "1c5fbfed",
   "metadata": {},
   "outputs": [
    {
     "data": {
      "text/plain": [
       "<AxesSubplot:ylabel='Density'>"
      ]
     },
     "execution_count": 80,
     "metadata": {},
     "output_type": "execute_result"
    },
    {
     "data": {
      "image/png": "[encoded data removed]",
      "text/plain": [
       "<Figure size 432x288 with 1 Axes>"
      ]
     },
     "metadata": {
      "needs_background": "light"
     },
     "output_type": "display_data"
    }
   ],
   "source": [
    "sns.distplot(x=df['home_score'])"
   ]
  },
  {
   "cell_type": "code",
   "execution_count": 81,
   "id": "2c71a242",
   "metadata": {},
   "outputs": [
    {
     "data": {
      "text/plain": [
       "<AxesSubplot:xlabel='home_score', ylabel='Density'>"
      ]
     },
     "execution_count": 81,
     "metadata": {},
     "output_type": "execute_result"
    },
    {
     "data": {
      "image/png": "[encoded data removed]",
      "text/plain": [
       "<Figure size 432x288 with 1 Axes>"
      ]
     },
     "metadata": {
      "needs_background": "light"
     },
     "output_type": "display_data"
    }
   ],
   "source": [
    "sns.kdeplot(x='home_score', data=df)"
   ]
  },
  {
   "cell_type": "code",
   "execution_count": 82,
   "id": "0a9e2b1e",
   "metadata": {},
   "outputs": [
    {
     "data": {
      "text/plain": [
       "<AxesSubplot:xlabel='home_score', ylabel='count'>"
      ]
     },
     "execution_count": 82,
     "metadata": {},
     "output_type": "execute_result"
    },
    {
     "data": {
      "image/png": "[encoded data removed]",
      "text/plain": [
       "<Figure size 432x288 with 1 Axes>"
      ]
     },
     "metadata": {
      "needs_background": "light"
     },
     "output_type": "display_data"
    }
   ],
   "source": [
    "sns.countplot(x='home_score', data=df)"
   ]
  },
  {
   "cell_type": "code",
   "execution_count": 83,
   "id": "8ca09501",
   "metadata": {},
   "outputs": [],
   "source": [
    "from scipy.stats import poisson"
   ]
  },
  {
   "cell_type": "code",
   "execution_count": 84,
   "id": "f42642ff",
   "metadata": {},
   "outputs": [
    {
     "data": {
      "text/plain": [
       "0.07384190206702398"
      ]
     },
     "execution_count": 84,
     "metadata": {},
     "output_type": "execute_result"
    }
   ],
   "source": [
    "poisson.pmf(3, 1.1)"
   ]
  },
  {
   "cell_type": "code",
   "execution_count": 85,
   "id": "1c565012",
   "metadata": {},
   "outputs": [],
   "source": [
    "def winner(home_score, away_score):\n",
    "    if home_score > away_score:\n",
    "        return 'home_win'\n",
    "    elif home_score < away_score:\n",
    "        return 'home_lose'        \n",
    "    else:\n",
    "        return 'draw'\n",
    "    \n",
    "df['winner'] = df.apply(lambda x: winner(x.home_score, x.away_score), axis=1)"
   ]
  },
  {
   "cell_type": "code",
   "execution_count": 86,
   "id": "133cc0be",
   "metadata": {},
   "outputs": [
    {
     "data": {
      "text/html": [
       "<div>\n",
       "<style scoped>\n",
       "    .dataframe tbody tr th:only-of-type {\n",
       "        vertical-align: middle;\n",
       "    }\n",
       "\n",
       "    .dataframe tbody tr th {\n",
       "        vertical-align: top;\n",
       "    }\n",
       "\n",
       "    .dataframe thead th {\n",
       "        text-align: right;\n",
       "    }\n",
       "</style>\n",
       "<table border=\"1\" class=\"dataframe\">\n",
       "  <thead>\n",
       "    <tr style=\"text-align: right;\">\n",
       "      <th></th>\n",
       "      <th>date</th>\n",
       "    </tr>\n",
       "    <tr>\n",
       "      <th>winner</th>\n",
       "      <th></th>\n",
       "    </tr>\n",
       "  </thead>\n",
       "  <tbody>\n",
       "    <tr>\n",
       "      <th>draw</th>\n",
       "      <td>10084</td>\n",
       "    </tr>\n",
       "    <tr>\n",
       "      <th>home_lose</th>\n",
       "      <td>12376</td>\n",
       "    </tr>\n",
       "    <tr>\n",
       "      <th>home_win</th>\n",
       "      <td>21292</td>\n",
       "    </tr>\n",
       "  </tbody>\n",
       "</table>\n",
       "</div>"
      ],
      "text/plain": [
       "            date\n",
       "winner          \n",
       "draw       10084\n",
       "home_lose  12376\n",
       "home_win   21292"
      ]
     },
     "execution_count": 86,
     "metadata": {},
     "output_type": "execute_result"
    }
   ],
   "source": [
    "df.groupby(['winner']).agg({'date':'count'})"
   ]
  },
  {
   "cell_type": "code",
   "execution_count": 87,
   "id": "e0cbcf7d",
   "metadata": {},
   "outputs": [],
   "source": [
    "predictors = ['home_team', 'away_team']\n",
    "\n",
    "X = pd.get_dummies(df[predictors])\n",
    "y = df['winner']"
   ]
  },
  {
   "cell_type": "code",
   "execution_count": 88,
   "id": "34019256",
   "metadata": {},
   "outputs": [
    {
     "data": {
      "text/plain": [
       "RandomForestClassifier(max_depth=7)"
      ]
     },
     "execution_count": 88,
     "metadata": {},
     "output_type": "execute_result"
    }
   ],
   "source": [
    "from sklearn.ensemble import RandomForestClassifier\n",
    "\n",
    "model = RandomForestClassifier(n_estimators=100, max_depth=7)\n",
    "\n",
    "model.fit(X, y)"
   ]
  },
  {
   "cell_type": "code",
   "execution_count": 89,
   "id": "d184758b",
   "metadata": {},
   "outputs": [
    {
     "name": "stdout",
     "output_type": "stream",
     "text": [
      "              precision    recall  f1-score   support\n",
      "\n",
      "        draw       0.00      0.00      0.00     10084\n",
      "   home_lose       0.86      0.02      0.04     12376\n",
      "    home_win       0.49      1.00      0.66     21292\n",
      "\n",
      "    accuracy                           0.49     43752\n",
      "   macro avg       0.45      0.34      0.23     43752\n",
      "weighted avg       0.48      0.49      0.33     43752\n",
      "\n"
     ]
    }
   ],
   "source": [
    "from sklearn.metrics import classification_report\n",
    "\n",
    "print(classification_report(y, model.predict(X)))"
   ]
  },
  {
   "cell_type": "code",
   "execution_count": 90,
   "id": "09342cb5",
   "metadata": {},
   "outputs": [],
   "source": [
    "precision = .81\n",
    "recall = .02"
   ]
  },
  {
   "cell_type": "code",
   "execution_count": 91,
   "id": "59e7d720",
   "metadata": {},
   "outputs": [
    {
     "data": {
      "text/plain": [
       "0.03903614457831325"
      ]
     },
     "execution_count": 91,
     "metadata": {},
     "output_type": "execute_result"
    }
   ],
   "source": [
    "1 / (((1/precision) + (1/recall))/2)"
   ]
  },
  {
   "cell_type": "code",
   "execution_count": 92,
   "id": "9566af65",
   "metadata": {},
   "outputs": [
    {
     "data": {
      "text/plain": [
       "0.03903614457831325"
      ]
     },
     "execution_count": 92,
     "metadata": {},
     "output_type": "execute_result"
    }
   ],
   "source": [
    "2 / (1/precision + 1/recall)"
   ]
  },
  {
   "cell_type": "code",
   "execution_count": 93,
   "id": "f9172c6f",
   "metadata": {},
   "outputs": [
    {
     "data": {
      "text/html": [
       "<div>\n",
       "<style scoped>\n",
       "    .dataframe tbody tr th:only-of-type {\n",
       "        vertical-align: middle;\n",
       "    }\n",
       "\n",
       "    .dataframe tbody tr th {\n",
       "        vertical-align: top;\n",
       "    }\n",
       "\n",
       "    .dataframe thead th {\n",
       "        text-align: right;\n",
       "    }\n",
       "</style>\n",
       "<table border=\"1\" class=\"dataframe\">\n",
       "  <thead>\n",
       "    <tr style=\"text-align: right;\">\n",
       "      <th></th>\n",
       "      <th>home_team_Abkhazia</th>\n",
       "      <th>home_team_Afghanistan</th>\n",
       "      <th>home_team_Albania</th>\n",
       "      <th>home_team_Alderney</th>\n",
       "      <th>home_team_Algeria</th>\n",
       "      <th>home_team_American Samoa</th>\n",
       "      <th>home_team_Andalusia</th>\n",
       "      <th>home_team_Andorra</th>\n",
       "      <th>home_team_Angola</th>\n",
       "      <th>home_team_Anguilla</th>\n",
       "      <th>...</th>\n",
       "      <th>away_team_Western Sahara</th>\n",
       "      <th>away_team_Yemen</th>\n",
       "      <th>away_team_Yemen DPR</th>\n",
       "      <th>away_team_Ynys Môn</th>\n",
       "      <th>away_team_Yorkshire</th>\n",
       "      <th>away_team_Yugoslavia</th>\n",
       "      <th>away_team_Zambia</th>\n",
       "      <th>away_team_Zanzibar</th>\n",
       "      <th>away_team_Zimbabwe</th>\n",
       "      <th>away_team_Åland Islands</th>\n",
       "    </tr>\n",
       "  </thead>\n",
       "  <tbody>\n",
       "    <tr>\n",
       "      <th>21435</th>\n",
       "      <td>0</td>\n",
       "      <td>0</td>\n",
       "      <td>0</td>\n",
       "      <td>0</td>\n",
       "      <td>0</td>\n",
       "      <td>0</td>\n",
       "      <td>0</td>\n",
       "      <td>0</td>\n",
       "      <td>0</td>\n",
       "      <td>0</td>\n",
       "      <td>...</td>\n",
       "      <td>0</td>\n",
       "      <td>0</td>\n",
       "      <td>0</td>\n",
       "      <td>0</td>\n",
       "      <td>0</td>\n",
       "      <td>0</td>\n",
       "      <td>0</td>\n",
       "      <td>0</td>\n",
       "      <td>0</td>\n",
       "      <td>0</td>\n",
       "    </tr>\n",
       "  </tbody>\n",
       "</table>\n",
       "<p>1 rows × 609 columns</p>\n",
       "</div>"
      ],
      "text/plain": [
       "       home_team_Abkhazia  home_team_Afghanistan  home_team_Albania  \\\n",
       "21435                   0                      0                  0   \n",
       "\n",
       "       home_team_Alderney  home_team_Algeria  home_team_American Samoa  \\\n",
       "21435                   0                  0                         0   \n",
       "\n",
       "       home_team_Andalusia  home_team_Andorra  home_team_Angola  \\\n",
       "21435                    0                  0                 0   \n",
       "\n",
       "       home_team_Anguilla  ...  away_team_Western Sahara  away_team_Yemen  \\\n",
       "21435                   0  ...                         0                0   \n",
       "\n",
       "       away_team_Yemen DPR  away_team_Ynys Môn  away_team_Yorkshire  \\\n",
       "21435                    0                   0                    0   \n",
       "\n",
       "       away_team_Yugoslavia  away_team_Zambia  away_team_Zanzibar  \\\n",
       "21435                     0                 0                   0   \n",
       "\n",
       "       away_team_Zimbabwe  away_team_Åland Islands  \n",
       "21435                   0                        0  \n",
       "\n",
       "[1 rows x 609 columns]"
      ]
     },
     "execution_count": 93,
     "metadata": {},
     "output_type": "execute_result"
    }
   ],
   "source": [
    "X.query('home_team_Morocco==1 and away_team_England==1')"
   ]
  },
  {
   "cell_type": "code",
   "execution_count": 94,
   "id": "a2052b3b",
   "metadata": {},
   "outputs": [
    {
     "data": {
      "text/plain": [
       "array([[0.24180804, 0.34313747, 0.41505449]])"
      ]
     },
     "execution_count": 94,
     "metadata": {},
     "output_type": "execute_result"
    }
   ],
   "source": [
    "model.predict_proba(X.iloc[[21435]])"
   ]
  },
  {
   "cell_type": "code",
   "execution_count": 95,
   "id": "0a5b5832",
   "metadata": {},
   "outputs": [
    {
     "data": {
      "text/html": [
       "<div>\n",
       "<style scoped>\n",
       "    .dataframe tbody tr th:only-of-type {\n",
       "        vertical-align: middle;\n",
       "    }\n",
       "\n",
       "    .dataframe tbody tr th {\n",
       "        vertical-align: top;\n",
       "    }\n",
       "\n",
       "    .dataframe thead th {\n",
       "        text-align: right;\n",
       "    }\n",
       "</style>\n",
       "<table border=\"1\" class=\"dataframe\">\n",
       "  <thead>\n",
       "    <tr style=\"text-align: right;\">\n",
       "      <th></th>\n",
       "      <th>home_team_Abkhazia</th>\n",
       "      <th>home_team_Afghanistan</th>\n",
       "      <th>home_team_Albania</th>\n",
       "      <th>home_team_Alderney</th>\n",
       "      <th>home_team_Algeria</th>\n",
       "      <th>home_team_American Samoa</th>\n",
       "      <th>home_team_Andalusia</th>\n",
       "      <th>home_team_Andorra</th>\n",
       "      <th>home_team_Angola</th>\n",
       "      <th>home_team_Anguilla</th>\n",
       "      <th>...</th>\n",
       "      <th>away_team_Western Sahara</th>\n",
       "      <th>away_team_Yemen</th>\n",
       "      <th>away_team_Yemen DPR</th>\n",
       "      <th>away_team_Ynys Môn</th>\n",
       "      <th>away_team_Yorkshire</th>\n",
       "      <th>away_team_Yugoslavia</th>\n",
       "      <th>away_team_Zambia</th>\n",
       "      <th>away_team_Zanzibar</th>\n",
       "      <th>away_team_Zimbabwe</th>\n",
       "      <th>away_team_Åland Islands</th>\n",
       "    </tr>\n",
       "  </thead>\n",
       "  <tbody>\n",
       "    <tr>\n",
       "      <th>14385</th>\n",
       "      <td>0</td>\n",
       "      <td>0</td>\n",
       "      <td>0</td>\n",
       "      <td>0</td>\n",
       "      <td>0</td>\n",
       "      <td>0</td>\n",
       "      <td>0</td>\n",
       "      <td>0</td>\n",
       "      <td>0</td>\n",
       "      <td>0</td>\n",
       "      <td>...</td>\n",
       "      <td>0</td>\n",
       "      <td>0</td>\n",
       "      <td>0</td>\n",
       "      <td>0</td>\n",
       "      <td>0</td>\n",
       "      <td>0</td>\n",
       "      <td>0</td>\n",
       "      <td>0</td>\n",
       "      <td>0</td>\n",
       "      <td>0</td>\n",
       "    </tr>\n",
       "  </tbody>\n",
       "</table>\n",
       "<p>1 rows × 609 columns</p>\n",
       "</div>"
      ],
      "text/plain": [
       "       home_team_Abkhazia  home_team_Afghanistan  home_team_Albania  \\\n",
       "14385                   0                      0                  0   \n",
       "\n",
       "       home_team_Alderney  home_team_Algeria  home_team_American Samoa  \\\n",
       "14385                   0                  0                         0   \n",
       "\n",
       "       home_team_Andalusia  home_team_Andorra  home_team_Angola  \\\n",
       "14385                    0                  0                 0   \n",
       "\n",
       "       home_team_Anguilla  ...  away_team_Western Sahara  away_team_Yemen  \\\n",
       "14385                   0  ...                         0                0   \n",
       "\n",
       "       away_team_Yemen DPR  away_team_Ynys Môn  away_team_Yorkshire  \\\n",
       "14385                    0                   0                    0   \n",
       "\n",
       "       away_team_Yugoslavia  away_team_Zambia  away_team_Zanzibar  \\\n",
       "14385                     0                 0                   0   \n",
       "\n",
       "       away_team_Zimbabwe  away_team_Åland Islands  \n",
       "14385                   0                        0  \n",
       "\n",
       "[1 rows x 609 columns]"
      ]
     },
     "execution_count": 95,
     "metadata": {},
     "output_type": "execute_result"
    }
   ],
   "source": [
    "X.query('away_team_Morocco==1 and home_team_England==1')"
   ]
  },
  {
   "cell_type": "code",
   "execution_count": 96,
   "id": "29a55113",
   "metadata": {},
   "outputs": [
    {
     "data": {
      "text/plain": [
       "array([[0.23082592, 0.264318  , 0.50485608]])"
      ]
     },
     "execution_count": 96,
     "metadata": {},
     "output_type": "execute_result"
    }
   ],
   "source": [
    "model.predict_proba(X.iloc[[14385]])"
   ]
  },
  {
   "cell_type": "code",
   "execution_count": 97,
   "id": "f7ab54da",
   "metadata": {},
   "outputs": [],
   "source": [
    "x_pred = pd.get_dummies(pd.DataFrame({'home_team':['Morocco'], 'away_team':['England']}))"
   ]
  },
  {
   "cell_type": "code",
   "execution_count": 98,
   "id": "1f913e69",
   "metadata": {},
   "outputs": [],
   "source": [
    "import warnings\n",
    "warnings.filterwarnings('ignore')\n",
    "\n",
    "for col in X.columns:\n",
    "    if col not in x_pred.columns:\n",
    "        x_pred[col] = 0"
   ]
  },
  {
   "cell_type": "code",
   "execution_count": 99,
   "id": "98c8772b",
   "metadata": {},
   "outputs": [
    {
     "data": {
      "text/plain": [
       "array([[0.24180804, 0.34313747, 0.41505449]])"
      ]
     },
     "execution_count": 99,
     "metadata": {},
     "output_type": "execute_result"
    }
   ],
   "source": [
    "model.predict_proba(x_pred[X.columns])"
   ]
  },
  {
   "cell_type": "code",
   "execution_count": 100,
   "id": "ee75697b",
   "metadata": {},
   "outputs": [],
   "source": [
    "fr = pd.read_csv('D:/projet/ODC-World-Cup-2022-Predictions/data/fifa_ranking.csv')"
   ]
  },
  {
   "cell_type": "code",
   "execution_count": 101,
   "id": "223c0de6",
   "metadata": {},
   "outputs": [
    {
     "data": {
      "text/plain": [
       "'2022-10-06'"
      ]
     },
     "execution_count": 101,
     "metadata": {},
     "output_type": "execute_result"
    }
   ],
   "source": [
    "fr.rank_date.max()"
   ]
  },
  {
   "cell_type": "code",
   "execution_count": 102,
   "id": "733b3a60",
   "metadata": {},
   "outputs": [
    {
     "data": {
      "text/html": [
       "<div>\n",
       "<style scoped>\n",
       "    .dataframe tbody tr th:only-of-type {\n",
       "        vertical-align: middle;\n",
       "    }\n",
       "\n",
       "    .dataframe tbody tr th {\n",
       "        vertical-align: top;\n",
       "    }\n",
       "\n",
       "    .dataframe thead th {\n",
       "        text-align: right;\n",
       "    }\n",
       "</style>\n",
       "<table border=\"1\" class=\"dataframe\">\n",
       "  <thead>\n",
       "    <tr style=\"text-align: right;\">\n",
       "      <th></th>\n",
       "      <th>date</th>\n",
       "      <th>home_team</th>\n",
       "      <th>away_team</th>\n",
       "      <th>home_score</th>\n",
       "      <th>away_score</th>\n",
       "      <th>tournament</th>\n",
       "      <th>city</th>\n",
       "      <th>country</th>\n",
       "      <th>neutral</th>\n",
       "      <th>winner</th>\n",
       "    </tr>\n",
       "  </thead>\n",
       "  <tbody>\n",
       "    <tr>\n",
       "      <th>0</th>\n",
       "      <td>1872-11-30</td>\n",
       "      <td>Scotland</td>\n",
       "      <td>England</td>\n",
       "      <td>0</td>\n",
       "      <td>0</td>\n",
       "      <td>Friendly</td>\n",
       "      <td>Glasgow</td>\n",
       "      <td>Scotland</td>\n",
       "      <td>False</td>\n",
       "      <td>draw</td>\n",
       "    </tr>\n",
       "    <tr>\n",
       "      <th>1</th>\n",
       "      <td>1873-03-08</td>\n",
       "      <td>England</td>\n",
       "      <td>Scotland</td>\n",
       "      <td>4</td>\n",
       "      <td>2</td>\n",
       "      <td>Friendly</td>\n",
       "      <td>London</td>\n",
       "      <td>England</td>\n",
       "      <td>False</td>\n",
       "      <td>home_win</td>\n",
       "    </tr>\n",
       "  </tbody>\n",
       "</table>\n",
       "</div>"
      ],
      "text/plain": [
       "         date home_team away_team  home_score  away_score tournament     city  \\\n",
       "0  1872-11-30  Scotland   England           0           0   Friendly  Glasgow   \n",
       "1  1873-03-08   England  Scotland           4           2   Friendly   London   \n",
       "\n",
       "    country  neutral    winner  \n",
       "0  Scotland    False      draw  \n",
       "1   England    False  home_win  "
      ]
     },
     "execution_count": 102,
     "metadata": {},
     "output_type": "execute_result"
    }
   ],
   "source": [
    "df.head(2)"
   ]
  },
  {
   "cell_type": "code",
   "execution_count": 103,
   "id": "8a44e022",
   "metadata": {},
   "outputs": [],
   "source": [
    "df['year'] = df.apply(lambda x: x.date[:4], axis=1)\n",
    "df['month'] = df.apply(lambda x: x.date[5:7], axis=1)"
   ]
  },
  {
   "cell_type": "code",
   "execution_count": 104,
   "id": "65ba2112",
   "metadata": {},
   "outputs": [],
   "source": [
    "fr['year'] = fr.apply(lambda x: x.rank_date[:4], axis=1)\n",
    "fr['month'] = fr.apply(lambda x: x.rank_date[5:7], axis=1)"
   ]
  },
  {
   "cell_type": "code",
   "execution_count": 105,
   "id": "e56d0e24",
   "metadata": {},
   "outputs": [
    {
     "data": {
      "text/html": [
       "<div>\n",
       "<style scoped>\n",
       "    .dataframe tbody tr th:only-of-type {\n",
       "        vertical-align: middle;\n",
       "    }\n",
       "\n",
       "    .dataframe tbody tr th {\n",
       "        vertical-align: top;\n",
       "    }\n",
       "\n",
       "    .dataframe thead tr th {\n",
       "        text-align: left;\n",
       "    }\n",
       "\n",
       "    .dataframe thead tr:last-of-type th {\n",
       "        text-align: right;\n",
       "    }\n",
       "</style>\n",
       "<table border=\"1\" class=\"dataframe\">\n",
       "  <thead>\n",
       "    <tr>\n",
       "      <th></th>\n",
       "      <th colspan=\"2\" halign=\"left\">date</th>\n",
       "    </tr>\n",
       "    <tr>\n",
       "      <th></th>\n",
       "      <th>min</th>\n",
       "      <th>max</th>\n",
       "    </tr>\n",
       "    <tr>\n",
       "      <th>month</th>\n",
       "      <th></th>\n",
       "      <th></th>\n",
       "    </tr>\n",
       "  </thead>\n",
       "  <tbody>\n",
       "    <tr>\n",
       "      <th>01</th>\n",
       "      <td>1879-01-18</td>\n",
       "      <td>2022-01-30</td>\n",
       "    </tr>\n",
       "    <tr>\n",
       "      <th>02</th>\n",
       "      <td>1881-02-26</td>\n",
       "      <td>2022-02-06</td>\n",
       "    </tr>\n",
       "    <tr>\n",
       "      <th>03</th>\n",
       "      <td>1873-03-08</td>\n",
       "      <td>2022-03-30</td>\n",
       "    </tr>\n",
       "    <tr>\n",
       "      <th>04</th>\n",
       "      <td>1879-04-05</td>\n",
       "      <td>2022-04-27</td>\n",
       "    </tr>\n",
       "    <tr>\n",
       "      <th>05</th>\n",
       "      <td>1902-05-03</td>\n",
       "      <td>2022-05-31</td>\n",
       "    </tr>\n",
       "    <tr>\n",
       "      <th>06</th>\n",
       "      <td>1903-06-11</td>\n",
       "      <td>2022-06-14</td>\n",
       "    </tr>\n",
       "    <tr>\n",
       "      <th>07</th>\n",
       "      <td>1902-07-20</td>\n",
       "      <td>2021-07-29</td>\n",
       "    </tr>\n",
       "    <tr>\n",
       "      <th>08</th>\n",
       "      <td>1905-08-15</td>\n",
       "      <td>2021-08-29</td>\n",
       "    </tr>\n",
       "    <tr>\n",
       "      <th>09</th>\n",
       "      <td>1888-09-19</td>\n",
       "      <td>2021-09-30</td>\n",
       "    </tr>\n",
       "    <tr>\n",
       "      <th>10</th>\n",
       "      <td>1902-10-12</td>\n",
       "      <td>2021-10-27</td>\n",
       "    </tr>\n",
       "    <tr>\n",
       "      <th>11</th>\n",
       "      <td>1872-11-30</td>\n",
       "      <td>2021-11-30</td>\n",
       "    </tr>\n",
       "    <tr>\n",
       "      <th>12</th>\n",
       "      <td>1911-12-17</td>\n",
       "      <td>2021-12-31</td>\n",
       "    </tr>\n",
       "  </tbody>\n",
       "</table>\n",
       "</div>"
      ],
      "text/plain": [
       "             date            \n",
       "              min         max\n",
       "month                        \n",
       "01     1879-01-18  2022-01-30\n",
       "02     1881-02-26  2022-02-06\n",
       "03     1873-03-08  2022-03-30\n",
       "04     1879-04-05  2022-04-27\n",
       "05     1902-05-03  2022-05-31\n",
       "06     1903-06-11  2022-06-14\n",
       "07     1902-07-20  2021-07-29\n",
       "08     1905-08-15  2021-08-29\n",
       "09     1888-09-19  2021-09-30\n",
       "10     1902-10-12  2021-10-27\n",
       "11     1872-11-30  2021-11-30\n",
       "12     1911-12-17  2021-12-31"
      ]
     },
     "execution_count": 105,
     "metadata": {},
     "output_type": "execute_result"
    }
   ],
   "source": [
    "df.groupby('month').agg({'date':['min', 'max']})"
   ]
  },
  {
   "cell_type": "code",
   "execution_count": 106,
   "id": "b9dbcbcf",
   "metadata": {},
   "outputs": [
    {
     "data": {
      "text/html": [
       "<div>\n",
       "<style scoped>\n",
       "    .dataframe tbody tr th:only-of-type {\n",
       "        vertical-align: middle;\n",
       "    }\n",
       "\n",
       "    .dataframe tbody tr th {\n",
       "        vertical-align: top;\n",
       "    }\n",
       "\n",
       "    .dataframe thead th {\n",
       "        text-align: right;\n",
       "    }\n",
       "</style>\n",
       "<table border=\"1\" class=\"dataframe\">\n",
       "  <thead>\n",
       "    <tr style=\"text-align: right;\">\n",
       "      <th></th>\n",
       "      <th>rank</th>\n",
       "      <th>country_full</th>\n",
       "      <th>country_abrv</th>\n",
       "      <th>total_points</th>\n",
       "      <th>previous_points</th>\n",
       "      <th>rank_change</th>\n",
       "      <th>confederation</th>\n",
       "      <th>rank_date</th>\n",
       "      <th>year</th>\n",
       "      <th>month</th>\n",
       "    </tr>\n",
       "  </thead>\n",
       "  <tbody>\n",
       "    <tr>\n",
       "      <th>135</th>\n",
       "      <td>41</td>\n",
       "      <td>Morocco</td>\n",
       "      <td>MAR</td>\n",
       "      <td>32.00</td>\n",
       "      <td>0.00</td>\n",
       "      <td>0</td>\n",
       "      <td>CAF</td>\n",
       "      <td>1992-12-31</td>\n",
       "      <td>1992</td>\n",
       "      <td>12</td>\n",
       "    </tr>\n",
       "    <tr>\n",
       "      <th>237</th>\n",
       "      <td>33</td>\n",
       "      <td>Morocco</td>\n",
       "      <td>MAR</td>\n",
       "      <td>40.00</td>\n",
       "      <td>32.00</td>\n",
       "      <td>-8</td>\n",
       "      <td>CAF</td>\n",
       "      <td>1993-08-08</td>\n",
       "      <td>1993</td>\n",
       "      <td>08</td>\n",
       "    </tr>\n",
       "    <tr>\n",
       "      <th>388</th>\n",
       "      <td>32</td>\n",
       "      <td>Morocco</td>\n",
       "      <td>MAR</td>\n",
       "      <td>42.00</td>\n",
       "      <td>40.00</td>\n",
       "      <td>-1</td>\n",
       "      <td>CAF</td>\n",
       "      <td>1993-09-23</td>\n",
       "      <td>1993</td>\n",
       "      <td>09</td>\n",
       "    </tr>\n",
       "    <tr>\n",
       "      <th>481</th>\n",
       "      <td>30</td>\n",
       "      <td>Morocco</td>\n",
       "      <td>MAR</td>\n",
       "      <td>43.00</td>\n",
       "      <td>42.00</td>\n",
       "      <td>-2</td>\n",
       "      <td>CAF</td>\n",
       "      <td>1993-10-22</td>\n",
       "      <td>1993</td>\n",
       "      <td>10</td>\n",
       "    </tr>\n",
       "    <tr>\n",
       "      <th>688</th>\n",
       "      <td>30</td>\n",
       "      <td>Morocco</td>\n",
       "      <td>MAR</td>\n",
       "      <td>44.00</td>\n",
       "      <td>43.00</td>\n",
       "      <td>0</td>\n",
       "      <td>CAF</td>\n",
       "      <td>1993-11-19</td>\n",
       "      <td>1993</td>\n",
       "      <td>11</td>\n",
       "    </tr>\n",
       "    <tr>\n",
       "      <th>...</th>\n",
       "      <td>...</td>\n",
       "      <td>...</td>\n",
       "      <td>...</td>\n",
       "      <td>...</td>\n",
       "      <td>...</td>\n",
       "      <td>...</td>\n",
       "      <td>...</td>\n",
       "      <td>...</td>\n",
       "      <td>...</td>\n",
       "      <td>...</td>\n",
       "    </tr>\n",
       "    <tr>\n",
       "      <th>62939</th>\n",
       "      <td>24</td>\n",
       "      <td>Morocco</td>\n",
       "      <td>MAR</td>\n",
       "      <td>1547.42</td>\n",
       "      <td>1529.93</td>\n",
       "      <td>-4</td>\n",
       "      <td>CAF</td>\n",
       "      <td>2022-02-10</td>\n",
       "      <td>2022</td>\n",
       "      <td>02</td>\n",
       "    </tr>\n",
       "    <tr>\n",
       "      <th>63225</th>\n",
       "      <td>24</td>\n",
       "      <td>Morocco</td>\n",
       "      <td>MAR</td>\n",
       "      <td>1551.88</td>\n",
       "      <td>1547.42</td>\n",
       "      <td>0</td>\n",
       "      <td>CAF</td>\n",
       "      <td>2022-03-31</td>\n",
       "      <td>2022</td>\n",
       "      <td>03</td>\n",
       "    </tr>\n",
       "    <tr>\n",
       "      <th>63340</th>\n",
       "      <td>22</td>\n",
       "      <td>Morocco</td>\n",
       "      <td>MAR</td>\n",
       "      <td>1558.90</td>\n",
       "      <td>1551.88</td>\n",
       "      <td>-2</td>\n",
       "      <td>CAF</td>\n",
       "      <td>2022-06-23</td>\n",
       "      <td>2022</td>\n",
       "      <td>06</td>\n",
       "    </tr>\n",
       "    <tr>\n",
       "      <th>63648</th>\n",
       "      <td>23</td>\n",
       "      <td>Morocco</td>\n",
       "      <td>MAR</td>\n",
       "      <td>1558.35</td>\n",
       "      <td>1558.90</td>\n",
       "      <td>1</td>\n",
       "      <td>CAF</td>\n",
       "      <td>2022-08-25</td>\n",
       "      <td>2022</td>\n",
       "      <td>08</td>\n",
       "    </tr>\n",
       "    <tr>\n",
       "      <th>63858</th>\n",
       "      <td>22</td>\n",
       "      <td>Morocco</td>\n",
       "      <td>MAR</td>\n",
       "      <td>1563.50</td>\n",
       "      <td>1558.35</td>\n",
       "      <td>-1</td>\n",
       "      <td>CAF</td>\n",
       "      <td>2022-10-06</td>\n",
       "      <td>2022</td>\n",
       "      <td>10</td>\n",
       "    </tr>\n",
       "  </tbody>\n",
       "</table>\n",
       "<p>322 rows × 10 columns</p>\n",
       "</div>"
      ],
      "text/plain": [
       "       rank country_full country_abrv  total_points  previous_points  \\\n",
       "135      41      Morocco          MAR         32.00             0.00   \n",
       "237      33      Morocco          MAR         40.00            32.00   \n",
       "388      32      Morocco          MAR         42.00            40.00   \n",
       "481      30      Morocco          MAR         43.00            42.00   \n",
       "688      30      Morocco          MAR         44.00            43.00   \n",
       "...     ...          ...          ...           ...              ...   \n",
       "62939    24      Morocco          MAR       1547.42          1529.93   \n",
       "63225    24      Morocco          MAR       1551.88          1547.42   \n",
       "63340    22      Morocco          MAR       1558.90          1551.88   \n",
       "63648    23      Morocco          MAR       1558.35          1558.90   \n",
       "63858    22      Morocco          MAR       1563.50          1558.35   \n",
       "\n",
       "       rank_change confederation   rank_date  year month  \n",
       "135              0           CAF  1992-12-31  1992    12  \n",
       "237             -8           CAF  1993-08-08  1993    08  \n",
       "388             -1           CAF  1993-09-23  1993    09  \n",
       "481             -2           CAF  1993-10-22  1993    10  \n",
       "688              0           CAF  1993-11-19  1993    11  \n",
       "...            ...           ...         ...   ...   ...  \n",
       "62939           -4           CAF  2022-02-10  2022    02  \n",
       "63225            0           CAF  2022-03-31  2022    03  \n",
       "63340           -2           CAF  2022-06-23  2022    06  \n",
       "63648            1           CAF  2022-08-25  2022    08  \n",
       "63858           -1           CAF  2022-10-06  2022    10  \n",
       "\n",
       "[322 rows x 10 columns]"
      ]
     },
     "execution_count": 106,
     "metadata": {},
     "output_type": "execute_result"
    }
   ],
   "source": [
    "fr.query('country_full==\"Morocco\"')"
   ]
  },
  {
   "cell_type": "code",
   "execution_count": 107,
   "id": "883ddacc",
   "metadata": {},
   "outputs": [
    {
     "data": {
      "text/plain": [
       "<AxesSubplot:xlabel='rank_date', ylabel='rank'>"
      ]
     },
     "execution_count": 107,
     "metadata": {},
     "output_type": "execute_result"
    },
    {
     "data": {
      "image/png": "[encoded data removed]",
      "text/plain": [
       "<Figure size 432x288 with 1 Axes>"
      ]
     },
     "metadata": {
      "needs_background": "light"
     },
     "output_type": "display_data"
    }
   ],
   "source": [
    "sns.lineplot(x='rank_date', y='rank', data=fr.query('country_full==\"Morocco\"'))\n"
   ]
  },
  {
   "cell_type": "code",
   "execution_count": 108,
   "id": "c96d0721",
   "metadata": {},
   "outputs": [
    {
     "data": {
      "image/png": "[encoded data removed]",
      "text/plain": [
       "<Figure size 432x360 with 1 Axes>"
      ]
     },
     "metadata": {
      "needs_background": "light"
     },
     "output_type": "display_data"
    }
   ],
   "source": [
    "plt.figure(figsize=(6, 5))\n",
    "sns.lineplot(x='year', y='rank', data=fr.query('country_full==\"Morocco\"'))\n",
    "plt.xticks(rotation=90)\n",
    "plt.show()"
   ]
  },
  {
   "cell_type": "code",
   "execution_count": 109,
   "id": "961de5e8",
   "metadata": {},
   "outputs": [
    {
     "data": {
      "text/plain": [
       "211"
      ]
     },
     "execution_count": 109,
     "metadata": {},
     "output_type": "execute_result"
    }
   ],
   "source": [
    "fr['rank'].max()"
   ]
  },
  {
   "cell_type": "code",
   "execution_count": 110,
   "id": "56dd1be7",
   "metadata": {},
   "outputs": [
    {
     "data": {
      "text/plain": [
       "Index(['rank', 'country_full', 'country_abrv', 'total_points',\n",
       "       'previous_points', 'rank_change', 'confederation', 'rank_date', 'year',\n",
       "       'month'],\n",
       "      dtype='object')"
      ]
     },
     "execution_count": 110,
     "metadata": {},
     "output_type": "execute_result"
    }
   ],
   "source": [
    "fr.columns"
   ]
  },
  {
   "cell_type": "code",
   "execution_count": 111,
   "id": "174bdb8f",
   "metadata": {},
   "outputs": [
    {
     "data": {
      "text/html": [
       "<div>\n",
       "<style scoped>\n",
       "    .dataframe tbody tr th:only-of-type {\n",
       "        vertical-align: middle;\n",
       "    }\n",
       "\n",
       "    .dataframe tbody tr th {\n",
       "        vertical-align: top;\n",
       "    }\n",
       "\n",
       "    .dataframe thead th {\n",
       "        text-align: right;\n",
       "    }\n",
       "</style>\n",
       "<table border=\"1\" class=\"dataframe\">\n",
       "  <thead>\n",
       "    <tr style=\"text-align: right;\">\n",
       "      <th></th>\n",
       "      <th>rank</th>\n",
       "      <th>country_full</th>\n",
       "      <th>country_abrv</th>\n",
       "      <th>total_points</th>\n",
       "      <th>previous_points</th>\n",
       "      <th>rank_change</th>\n",
       "      <th>confederation</th>\n",
       "      <th>rank_date</th>\n",
       "      <th>year</th>\n",
       "      <th>month</th>\n",
       "    </tr>\n",
       "  </thead>\n",
       "  <tbody>\n",
       "    <tr>\n",
       "      <th>0</th>\n",
       "      <td>1</td>\n",
       "      <td>Germany</td>\n",
       "      <td>GER</td>\n",
       "      <td>57.00</td>\n",
       "      <td>0.00</td>\n",
       "      <td>0</td>\n",
       "      <td>UEFA</td>\n",
       "      <td>1992-12-31</td>\n",
       "      <td>1992</td>\n",
       "      <td>12</td>\n",
       "    </tr>\n",
       "    <tr>\n",
       "      <th>1</th>\n",
       "      <td>96</td>\n",
       "      <td>Syria</td>\n",
       "      <td>SYR</td>\n",
       "      <td>11.00</td>\n",
       "      <td>0.00</td>\n",
       "      <td>0</td>\n",
       "      <td>AFC</td>\n",
       "      <td>1992-12-31</td>\n",
       "      <td>1992</td>\n",
       "      <td>12</td>\n",
       "    </tr>\n",
       "    <tr>\n",
       "      <th>2</th>\n",
       "      <td>97</td>\n",
       "      <td>Burkina Faso</td>\n",
       "      <td>BFA</td>\n",
       "      <td>11.00</td>\n",
       "      <td>0.00</td>\n",
       "      <td>0</td>\n",
       "      <td>CAF</td>\n",
       "      <td>1992-12-31</td>\n",
       "      <td>1992</td>\n",
       "      <td>12</td>\n",
       "    </tr>\n",
       "    <tr>\n",
       "      <th>3</th>\n",
       "      <td>99</td>\n",
       "      <td>Latvia</td>\n",
       "      <td>LVA</td>\n",
       "      <td>10.00</td>\n",
       "      <td>0.00</td>\n",
       "      <td>0</td>\n",
       "      <td>UEFA</td>\n",
       "      <td>1992-12-31</td>\n",
       "      <td>1992</td>\n",
       "      <td>12</td>\n",
       "    </tr>\n",
       "    <tr>\n",
       "      <th>4</th>\n",
       "      <td>100</td>\n",
       "      <td>Burundi</td>\n",
       "      <td>BDI</td>\n",
       "      <td>10.00</td>\n",
       "      <td>0.00</td>\n",
       "      <td>0</td>\n",
       "      <td>CAF</td>\n",
       "      <td>1992-12-31</td>\n",
       "      <td>1992</td>\n",
       "      <td>12</td>\n",
       "    </tr>\n",
       "    <tr>\n",
       "      <th>...</th>\n",
       "      <td>...</td>\n",
       "      <td>...</td>\n",
       "      <td>...</td>\n",
       "      <td>...</td>\n",
       "      <td>...</td>\n",
       "      <td>...</td>\n",
       "      <td>...</td>\n",
       "      <td>...</td>\n",
       "      <td>...</td>\n",
       "      <td>...</td>\n",
       "    </tr>\n",
       "    <tr>\n",
       "      <th>63911</th>\n",
       "      <td>74</td>\n",
       "      <td>El Salvador</td>\n",
       "      <td>SLV</td>\n",
       "      <td>1330.51</td>\n",
       "      <td>1333.48</td>\n",
       "      <td>3</td>\n",
       "      <td>CONCACAF</td>\n",
       "      <td>2022-10-06</td>\n",
       "      <td>2022</td>\n",
       "      <td>10</td>\n",
       "    </tr>\n",
       "    <tr>\n",
       "      <th>63912</th>\n",
       "      <td>75</td>\n",
       "      <td>Oman</td>\n",
       "      <td>OMA</td>\n",
       "      <td>1320.29</td>\n",
       "      <td>1323.03</td>\n",
       "      <td>0</td>\n",
       "      <td>AFC</td>\n",
       "      <td>2022-10-06</td>\n",
       "      <td>2022</td>\n",
       "      <td>10</td>\n",
       "    </tr>\n",
       "    <tr>\n",
       "      <th>63913</th>\n",
       "      <td>76</td>\n",
       "      <td>Israel</td>\n",
       "      <td>ISR</td>\n",
       "      <td>1316.55</td>\n",
       "      <td>1316.35</td>\n",
       "      <td>0</td>\n",
       "      <td>UEFA</td>\n",
       "      <td>2022-10-06</td>\n",
       "      <td>2022</td>\n",
       "      <td>10</td>\n",
       "    </tr>\n",
       "    <tr>\n",
       "      <th>63914</th>\n",
       "      <td>78</td>\n",
       "      <td>Georgia</td>\n",
       "      <td>GEO</td>\n",
       "      <td>1307.34</td>\n",
       "      <td>1296.46</td>\n",
       "      <td>-4</td>\n",
       "      <td>UEFA</td>\n",
       "      <td>2022-10-06</td>\n",
       "      <td>2022</td>\n",
       "      <td>10</td>\n",
       "    </tr>\n",
       "    <tr>\n",
       "      <th>63915</th>\n",
       "      <td>211</td>\n",
       "      <td>San Marino</td>\n",
       "      <td>SMR</td>\n",
       "      <td>762.22</td>\n",
       "      <td>763.82</td>\n",
       "      <td>0</td>\n",
       "      <td>UEFA</td>\n",
       "      <td>2022-10-06</td>\n",
       "      <td>2022</td>\n",
       "      <td>10</td>\n",
       "    </tr>\n",
       "  </tbody>\n",
       "</table>\n",
       "<p>63916 rows × 10 columns</p>\n",
       "</div>"
      ],
      "text/plain": [
       "       rank  country_full country_abrv  total_points  previous_points  \\\n",
       "0         1       Germany          GER         57.00             0.00   \n",
       "1        96         Syria          SYR         11.00             0.00   \n",
       "2        97  Burkina Faso          BFA         11.00             0.00   \n",
       "3        99        Latvia          LVA         10.00             0.00   \n",
       "4       100       Burundi          BDI         10.00             0.00   \n",
       "...     ...           ...          ...           ...              ...   \n",
       "63911    74   El Salvador          SLV       1330.51          1333.48   \n",
       "63912    75          Oman          OMA       1320.29          1323.03   \n",
       "63913    76        Israel          ISR       1316.55          1316.35   \n",
       "63914    78       Georgia          GEO       1307.34          1296.46   \n",
       "63915   211    San Marino          SMR        762.22           763.82   \n",
       "\n",
       "       rank_change confederation   rank_date  year month  \n",
       "0                0          UEFA  1992-12-31  1992    12  \n",
       "1                0           AFC  1992-12-31  1992    12  \n",
       "2                0           CAF  1992-12-31  1992    12  \n",
       "3                0          UEFA  1992-12-31  1992    12  \n",
       "4                0           CAF  1992-12-31  1992    12  \n",
       "...            ...           ...         ...   ...   ...  \n",
       "63911            3      CONCACAF  2022-10-06  2022    10  \n",
       "63912            0           AFC  2022-10-06  2022    10  \n",
       "63913            0          UEFA  2022-10-06  2022    10  \n",
       "63914           -4          UEFA  2022-10-06  2022    10  \n",
       "63915            0          UEFA  2022-10-06  2022    10  \n",
       "\n",
       "[63916 rows x 10 columns]"
      ]
     },
     "execution_count": 111,
     "metadata": {},
     "output_type": "execute_result"
    }
   ],
   "source": [
    "fr.query('total_points>0')"
   ]
  },
  {
   "cell_type": "code",
   "execution_count": 112,
   "id": "bab85d4f",
   "metadata": {},
   "outputs": [
    {
     "data": {
      "text/plain": [
       "Index(['rank', 'country_full', 'country_abrv', 'total_points',\n",
       "       'previous_points', 'rank_change', 'confederation', 'rank_date', 'year',\n",
       "       'month'],\n",
       "      dtype='object')"
      ]
     },
     "execution_count": 112,
     "metadata": {},
     "output_type": "execute_result"
    }
   ],
   "source": [
    "fr.columns"
   ]
  },
  {
   "cell_type": "code",
   "execution_count": 113,
   "id": "3607d2af",
   "metadata": {},
   "outputs": [],
   "source": [
    "data = df.merge(fr, left_on=['home_team', 'year', 'month'], \n",
    "                right_on=['country_full', 'year', 'month'], \n",
    "               suffixes=('', '__home'))"
   ]
  },
  {
   "cell_type": "code",
   "execution_count": 114,
   "id": "93369d30",
   "metadata": {},
   "outputs": [],
   "source": [
    "data = data.merge(fr, left_on=['away_team', 'year', 'month'], \n",
    "                right_on=['country_full', 'year', 'month'], \n",
    "               suffixes=('', '__away'))"
   ]
  },
  {
   "cell_type": "code",
   "execution_count": 115,
   "id": "3b898b32",
   "metadata": {},
   "outputs": [
    {
     "data": {
      "text/html": [
       "<div>\n",
       "<style scoped>\n",
       "    .dataframe tbody tr th:only-of-type {\n",
       "        vertical-align: middle;\n",
       "    }\n",
       "\n",
       "    .dataframe tbody tr th {\n",
       "        vertical-align: top;\n",
       "    }\n",
       "\n",
       "    .dataframe thead th {\n",
       "        text-align: right;\n",
       "    }\n",
       "</style>\n",
       "<table border=\"1\" class=\"dataframe\">\n",
       "  <thead>\n",
       "    <tr style=\"text-align: right;\">\n",
       "      <th></th>\n",
       "      <th>date</th>\n",
       "      <th>home_team</th>\n",
       "      <th>away_team</th>\n",
       "      <th>home_score</th>\n",
       "      <th>away_score</th>\n",
       "      <th>tournament</th>\n",
       "      <th>city</th>\n",
       "      <th>country</th>\n",
       "      <th>neutral</th>\n",
       "      <th>winner</th>\n",
       "      <th>...</th>\n",
       "      <th>confederation</th>\n",
       "      <th>rank_date</th>\n",
       "      <th>rank__away</th>\n",
       "      <th>country_full__away</th>\n",
       "      <th>country_abrv__away</th>\n",
       "      <th>total_points__away</th>\n",
       "      <th>previous_points__away</th>\n",
       "      <th>rank_change__away</th>\n",
       "      <th>confederation__away</th>\n",
       "      <th>rank_date__away</th>\n",
       "    </tr>\n",
       "  </thead>\n",
       "  <tbody>\n",
       "    <tr>\n",
       "      <th>0</th>\n",
       "      <td>1992-12-01</td>\n",
       "      <td>Saudi Arabia</td>\n",
       "      <td>United Arab Emirates</td>\n",
       "      <td>0</td>\n",
       "      <td>1</td>\n",
       "      <td>Gulf Cup</td>\n",
       "      <td>Doha</td>\n",
       "      <td>Qatar</td>\n",
       "      <td>True</td>\n",
       "      <td>home_lose</td>\n",
       "      <td>...</td>\n",
       "      <td>AFC</td>\n",
       "      <td>1992-12-31</td>\n",
       "      <td>59</td>\n",
       "      <td>United Arab Emirates</td>\n",
       "      <td>UAE</td>\n",
       "      <td>25.0</td>\n",
       "      <td>0.0</td>\n",
       "      <td>0</td>\n",
       "      <td>AFC</td>\n",
       "      <td>1992-12-31</td>\n",
       "    </tr>\n",
       "    <tr>\n",
       "      <th>1</th>\n",
       "      <td>1992-12-06</td>\n",
       "      <td>Qatar</td>\n",
       "      <td>United Arab Emirates</td>\n",
       "      <td>1</td>\n",
       "      <td>0</td>\n",
       "      <td>Gulf Cup</td>\n",
       "      <td>Doha</td>\n",
       "      <td>Qatar</td>\n",
       "      <td>False</td>\n",
       "      <td>home_win</td>\n",
       "      <td>...</td>\n",
       "      <td>AFC</td>\n",
       "      <td>1992-12-31</td>\n",
       "      <td>59</td>\n",
       "      <td>United Arab Emirates</td>\n",
       "      <td>UAE</td>\n",
       "      <td>25.0</td>\n",
       "      <td>0.0</td>\n",
       "      <td>0</td>\n",
       "      <td>AFC</td>\n",
       "      <td>1992-12-31</td>\n",
       "    </tr>\n",
       "  </tbody>\n",
       "</table>\n",
       "<p>2 rows × 28 columns</p>\n",
       "</div>"
      ],
      "text/plain": [
       "         date     home_team             away_team  home_score  away_score  \\\n",
       "0  1992-12-01  Saudi Arabia  United Arab Emirates           0           1   \n",
       "1  1992-12-06         Qatar  United Arab Emirates           1           0   \n",
       "\n",
       "  tournament  city country  neutral     winner  ... confederation   rank_date  \\\n",
       "0   Gulf Cup  Doha   Qatar     True  home_lose  ...           AFC  1992-12-31   \n",
       "1   Gulf Cup  Doha   Qatar    False   home_win  ...           AFC  1992-12-31   \n",
       "\n",
       "   rank__away    country_full__away country_abrv__away  total_points__away  \\\n",
       "0          59  United Arab Emirates                UAE                25.0   \n",
       "1          59  United Arab Emirates                UAE                25.0   \n",
       "\n",
       "   previous_points__away  rank_change__away confederation__away  \\\n",
       "0                    0.0                  0                 AFC   \n",
       "1                    0.0                  0                 AFC   \n",
       "\n",
       "  rank_date__away  \n",
       "0      1992-12-31  \n",
       "1      1992-12-31  \n",
       "\n",
       "[2 rows x 28 columns]"
      ]
     },
     "execution_count": 115,
     "metadata": {},
     "output_type": "execute_result"
    }
   ],
   "source": [
    "data.head(2)"
   ]
  },
  {
   "cell_type": "code",
   "execution_count": 116,
   "id": "8a369b81",
   "metadata": {},
   "outputs": [
    {
     "ename": "NameError",
     "evalue": "name 'data_dup' is not defined",
     "output_type": "error",
     "traceback": [
      "\u001b[1;31m---------------------------------------------------------------------------\u001b[0m",
      "\u001b[1;31mNameError\u001b[0m                                 Traceback (most recent call last)",
      "\u001b[1;32m~\\AppData\\Local\\Temp/ipykernel_15752/90501553.py\u001b[0m in \u001b[0;36m<module>\u001b[1;34m\u001b[0m\n\u001b[0;32m      2\u001b[0m \u001b[1;31m#data_dup\u001b[0m\u001b[1;33m\u001b[0m\u001b[1;33m\u001b[0m\u001b[0m\n\u001b[0;32m      3\u001b[0m \u001b[1;33m\u001b[0m\u001b[0m\n\u001b[1;32m----> 4\u001b[1;33m \u001b[0mdt\u001b[0m \u001b[1;33m=\u001b[0m \u001b[0mpd\u001b[0m\u001b[1;33m.\u001b[0m\u001b[0mconcat\u001b[0m\u001b[1;33m(\u001b[0m\u001b[1;33m[\u001b[0m\u001b[0mdata\u001b[0m\u001b[1;33m,\u001b[0m \u001b[0mdata_dup\u001b[0m\u001b[1;33m]\u001b[0m\u001b[1;33m)\u001b[0m\u001b[1;33m\u001b[0m\u001b[1;33m\u001b[0m\u001b[0m\n\u001b[0m",
      "\u001b[1;31mNameError\u001b[0m: name 'data_dup' is not defined"
     ]
    }
   ],
   "source": [
    "#data\n",
    "#data_dup\n",
    "\n",
    "dt = pd.concat([data, data_dup])"
   ]
  },
  {
   "cell_type": "code",
   "execution_count": 118,
   "id": "d453aa72",
   "metadata": {},
   "outputs": [
    {
     "data": {
      "text/html": [
       "<div>\n",
       "<style scoped>\n",
       "    .dataframe tbody tr th:only-of-type {\n",
       "        vertical-align: middle;\n",
       "    }\n",
       "\n",
       "    .dataframe tbody tr th {\n",
       "        vertical-align: top;\n",
       "    }\n",
       "\n",
       "    .dataframe thead th {\n",
       "        text-align: right;\n",
       "    }\n",
       "</style>\n",
       "<table border=\"1\" class=\"dataframe\">\n",
       "  <thead>\n",
       "    <tr style=\"text-align: right;\">\n",
       "      <th></th>\n",
       "      <th>date</th>\n",
       "      <th>home_team</th>\n",
       "      <th>away_team</th>\n",
       "      <th>home_score</th>\n",
       "      <th>away_score</th>\n",
       "      <th>tournament</th>\n",
       "      <th>city</th>\n",
       "      <th>country</th>\n",
       "      <th>neutral</th>\n",
       "      <th>winner</th>\n",
       "      <th>...</th>\n",
       "      <th>confederation</th>\n",
       "      <th>rank_date</th>\n",
       "      <th>rank__away</th>\n",
       "      <th>country_full__away</th>\n",
       "      <th>country_abrv__away</th>\n",
       "      <th>total_points__away</th>\n",
       "      <th>previous_points__away</th>\n",
       "      <th>rank_change__away</th>\n",
       "      <th>confederation__away</th>\n",
       "      <th>rank_date__away</th>\n",
       "    </tr>\n",
       "  </thead>\n",
       "  <tbody>\n",
       "    <tr>\n",
       "      <th>497</th>\n",
       "      <td>1994-11-10</td>\n",
       "      <td>Saudi Arabia</td>\n",
       "      <td>Bahrain</td>\n",
       "      <td>3</td>\n",
       "      <td>1</td>\n",
       "      <td>Gulf Cup</td>\n",
       "      <td>Abu Dhabi</td>\n",
       "      <td>United Arab Emirates</td>\n",
       "      <td>True</td>\n",
       "      <td>home_win</td>\n",
       "      <td>...</td>\n",
       "      <td>AFC</td>\n",
       "      <td>1994-11-22</td>\n",
       "      <td>71</td>\n",
       "      <td>Bahrain</td>\n",
       "      <td>BHR</td>\n",
       "      <td>26.0</td>\n",
       "      <td>21.0</td>\n",
       "      <td>-13</td>\n",
       "      <td>AFC</td>\n",
       "      <td>1994-11-22</td>\n",
       "    </tr>\n",
       "    <tr>\n",
       "      <th>498</th>\n",
       "      <td>1994-11-16</td>\n",
       "      <td>United Arab Emirates</td>\n",
       "      <td>Oman</td>\n",
       "      <td>2</td>\n",
       "      <td>0</td>\n",
       "      <td>Gulf Cup</td>\n",
       "      <td>Abu Dhabi</td>\n",
       "      <td>United Arab Emirates</td>\n",
       "      <td>False</td>\n",
       "      <td>home_win</td>\n",
       "      <td>...</td>\n",
       "      <td>AFC</td>\n",
       "      <td>1994-11-22</td>\n",
       "      <td>72</td>\n",
       "      <td>Oman</td>\n",
       "      <td>OMA</td>\n",
       "      <td>25.0</td>\n",
       "      <td>27.0</td>\n",
       "      <td>7</td>\n",
       "      <td>AFC</td>\n",
       "      <td>1994-11-22</td>\n",
       "    </tr>\n",
       "    <tr>\n",
       "      <th>499</th>\n",
       "      <td>1994-11-09</td>\n",
       "      <td>Qatar</td>\n",
       "      <td>Oman</td>\n",
       "      <td>4</td>\n",
       "      <td>2</td>\n",
       "      <td>Gulf Cup</td>\n",
       "      <td>Abu Dhabi</td>\n",
       "      <td>United Arab Emirates</td>\n",
       "      <td>True</td>\n",
       "      <td>home_win</td>\n",
       "      <td>...</td>\n",
       "      <td>AFC</td>\n",
       "      <td>1994-11-22</td>\n",
       "      <td>72</td>\n",
       "      <td>Oman</td>\n",
       "      <td>OMA</td>\n",
       "      <td>25.0</td>\n",
       "      <td>27.0</td>\n",
       "      <td>7</td>\n",
       "      <td>AFC</td>\n",
       "      <td>1994-11-22</td>\n",
       "    </tr>\n",
       "  </tbody>\n",
       "</table>\n",
       "<p>3 rows × 28 columns</p>\n",
       "</div>"
      ],
      "text/plain": [
       "           date             home_team away_team  home_score  away_score  \\\n",
       "497  1994-11-10          Saudi Arabia   Bahrain           3           1   \n",
       "498  1994-11-16  United Arab Emirates      Oman           2           0   \n",
       "499  1994-11-09                 Qatar      Oman           4           2   \n",
       "\n",
       "    tournament       city               country  neutral    winner  ...  \\\n",
       "497   Gulf Cup  Abu Dhabi  United Arab Emirates     True  home_win  ...   \n",
       "498   Gulf Cup  Abu Dhabi  United Arab Emirates    False  home_win  ...   \n",
       "499   Gulf Cup  Abu Dhabi  United Arab Emirates     True  home_win  ...   \n",
       "\n",
       "    confederation   rank_date  rank__away country_full__away  \\\n",
       "497           AFC  1994-11-22          71            Bahrain   \n",
       "498           AFC  1994-11-22          72               Oman   \n",
       "499           AFC  1994-11-22          72               Oman   \n",
       "\n",
       "    country_abrv__away  total_points__away  previous_points__away  \\\n",
       "497                BHR                26.0                   21.0   \n",
       "498                OMA                25.0                   27.0   \n",
       "499                OMA                25.0                   27.0   \n",
       "\n",
       "     rank_change__away confederation__away rank_date__away  \n",
       "497                -13                 AFC      1994-11-22  \n",
       "498                  7                 AFC      1994-11-22  \n",
       "499                  7                 AFC      1994-11-22  \n",
       "\n",
       "[3 rows x 28 columns]"
      ]
     },
     "execution_count": 118,
     "metadata": {},
     "output_type": "execute_result"
    }
   ],
   "source": [
    "data.head(500).tail(3)"
   ]
  },
  {
   "cell_type": "code",
   "execution_count": 119,
   "id": "a50aa9c7",
   "metadata": {},
   "outputs": [
    {
     "data": {
      "text/html": [
       "<div>\n",
       "<style scoped>\n",
       "    .dataframe tbody tr th:only-of-type {\n",
       "        vertical-align: middle;\n",
       "    }\n",
       "\n",
       "    .dataframe tbody tr th {\n",
       "        vertical-align: top;\n",
       "    }\n",
       "\n",
       "    .dataframe thead th {\n",
       "        text-align: right;\n",
       "    }\n",
       "</style>\n",
       "<table border=\"1\" class=\"dataframe\">\n",
       "  <thead>\n",
       "    <tr style=\"text-align: right;\">\n",
       "      <th></th>\n",
       "      <th>rank</th>\n",
       "      <th>country_full</th>\n",
       "      <th>country_abrv</th>\n",
       "      <th>total_points</th>\n",
       "      <th>previous_points</th>\n",
       "      <th>rank_change</th>\n",
       "      <th>confederation</th>\n",
       "      <th>rank_date</th>\n",
       "      <th>year</th>\n",
       "      <th>month</th>\n",
       "    </tr>\n",
       "  </thead>\n",
       "  <tbody>\n",
       "    <tr>\n",
       "      <th>63494</th>\n",
       "      <td>1</td>\n",
       "      <td>Brazil</td>\n",
       "      <td>BRA</td>\n",
       "      <td>1837.56</td>\n",
       "      <td>1837.56</td>\n",
       "      <td>0</td>\n",
       "      <td>CONMEBOL</td>\n",
       "      <td>2022-08-25</td>\n",
       "      <td>2022</td>\n",
       "      <td>08</td>\n",
       "    </tr>\n",
       "    <tr>\n",
       "      <th>63495</th>\n",
       "      <td>2</td>\n",
       "      <td>Belgium</td>\n",
       "      <td>BEL</td>\n",
       "      <td>1821.92</td>\n",
       "      <td>1821.92</td>\n",
       "      <td>0</td>\n",
       "      <td>UEFA</td>\n",
       "      <td>2022-08-25</td>\n",
       "      <td>2022</td>\n",
       "      <td>08</td>\n",
       "    </tr>\n",
       "    <tr>\n",
       "      <th>63653</th>\n",
       "      <td>3</td>\n",
       "      <td>Argentina</td>\n",
       "      <td>ARG</td>\n",
       "      <td>1770.65</td>\n",
       "      <td>1770.65</td>\n",
       "      <td>0</td>\n",
       "      <td>CONMEBOL</td>\n",
       "      <td>2022-08-25</td>\n",
       "      <td>2022</td>\n",
       "      <td>08</td>\n",
       "    </tr>\n",
       "    <tr>\n",
       "      <th>63629</th>\n",
       "      <td>4</td>\n",
       "      <td>France</td>\n",
       "      <td>FRA</td>\n",
       "      <td>1764.85</td>\n",
       "      <td>1764.85</td>\n",
       "      <td>0</td>\n",
       "      <td>UEFA</td>\n",
       "      <td>2022-08-25</td>\n",
       "      <td>2022</td>\n",
       "      <td>08</td>\n",
       "    </tr>\n",
       "    <tr>\n",
       "      <th>63630</th>\n",
       "      <td>5</td>\n",
       "      <td>England</td>\n",
       "      <td>ENG</td>\n",
       "      <td>1737.46</td>\n",
       "      <td>1737.46</td>\n",
       "      <td>0</td>\n",
       "      <td>UEFA</td>\n",
       "      <td>2022-08-25</td>\n",
       "      <td>2022</td>\n",
       "      <td>08</td>\n",
       "    </tr>\n",
       "    <tr>\n",
       "      <th>...</th>\n",
       "      <td>...</td>\n",
       "      <td>...</td>\n",
       "      <td>...</td>\n",
       "      <td>...</td>\n",
       "      <td>...</td>\n",
       "      <td>...</td>\n",
       "      <td>...</td>\n",
       "      <td>...</td>\n",
       "      <td>...</td>\n",
       "      <td>...</td>\n",
       "    </tr>\n",
       "    <tr>\n",
       "      <th>63566</th>\n",
       "      <td>207</td>\n",
       "      <td>Sri Lanka</td>\n",
       "      <td>SRI</td>\n",
       "      <td>825.25</td>\n",
       "      <td>825.25</td>\n",
       "      <td>0</td>\n",
       "      <td>AFC</td>\n",
       "      <td>2022-08-25</td>\n",
       "      <td>2022</td>\n",
       "      <td>08</td>\n",
       "    </tr>\n",
       "    <tr>\n",
       "      <th>63567</th>\n",
       "      <td>208</td>\n",
       "      <td>US Virgin Islands</td>\n",
       "      <td>VIR</td>\n",
       "      <td>823.97</td>\n",
       "      <td>823.97</td>\n",
       "      <td>0</td>\n",
       "      <td>CONCACAF</td>\n",
       "      <td>2022-08-25</td>\n",
       "      <td>2022</td>\n",
       "      <td>08</td>\n",
       "    </tr>\n",
       "    <tr>\n",
       "      <th>63568</th>\n",
       "      <td>209</td>\n",
       "      <td>British Virgin Islands</td>\n",
       "      <td>VGB</td>\n",
       "      <td>809.32</td>\n",
       "      <td>809.32</td>\n",
       "      <td>0</td>\n",
       "      <td>CONCACAF</td>\n",
       "      <td>2022-08-25</td>\n",
       "      <td>2022</td>\n",
       "      <td>08</td>\n",
       "    </tr>\n",
       "    <tr>\n",
       "      <th>63569</th>\n",
       "      <td>210</td>\n",
       "      <td>Anguilla</td>\n",
       "      <td>AIA</td>\n",
       "      <td>790.74</td>\n",
       "      <td>790.74</td>\n",
       "      <td>0</td>\n",
       "      <td>CONCACAF</td>\n",
       "      <td>2022-08-25</td>\n",
       "      <td>2022</td>\n",
       "      <td>08</td>\n",
       "    </tr>\n",
       "    <tr>\n",
       "      <th>63570</th>\n",
       "      <td>211</td>\n",
       "      <td>San Marino</td>\n",
       "      <td>SMR</td>\n",
       "      <td>763.82</td>\n",
       "      <td>763.82</td>\n",
       "      <td>0</td>\n",
       "      <td>UEFA</td>\n",
       "      <td>2022-08-25</td>\n",
       "      <td>2022</td>\n",
       "      <td>08</td>\n",
       "    </tr>\n",
       "  </tbody>\n",
       "</table>\n",
       "<p>211 rows × 10 columns</p>\n",
       "</div>"
      ],
      "text/plain": [
       "       rank            country_full country_abrv  total_points  \\\n",
       "63494     1                  Brazil          BRA       1837.56   \n",
       "63495     2                 Belgium          BEL       1821.92   \n",
       "63653     3               Argentina          ARG       1770.65   \n",
       "63629     4                  France          FRA       1764.85   \n",
       "63630     5                 England          ENG       1737.46   \n",
       "...     ...                     ...          ...           ...   \n",
       "63566   207               Sri Lanka          SRI        825.25   \n",
       "63567   208       US Virgin Islands          VIR        823.97   \n",
       "63568   209  British Virgin Islands          VGB        809.32   \n",
       "63569   210                Anguilla          AIA        790.74   \n",
       "63570   211              San Marino          SMR        763.82   \n",
       "\n",
       "       previous_points  rank_change confederation   rank_date  year month  \n",
       "63494          1837.56            0      CONMEBOL  2022-08-25  2022    08  \n",
       "63495          1821.92            0          UEFA  2022-08-25  2022    08  \n",
       "63653          1770.65            0      CONMEBOL  2022-08-25  2022    08  \n",
       "63629          1764.85            0          UEFA  2022-08-25  2022    08  \n",
       "63630          1737.46            0          UEFA  2022-08-25  2022    08  \n",
       "...                ...          ...           ...         ...   ...   ...  \n",
       "63566           825.25            0           AFC  2022-08-25  2022    08  \n",
       "63567           823.97            0      CONCACAF  2022-08-25  2022    08  \n",
       "63568           809.32            0      CONCACAF  2022-08-25  2022    08  \n",
       "63569           790.74            0      CONCACAF  2022-08-25  2022    08  \n",
       "63570           763.82            0          UEFA  2022-08-25  2022    08  \n",
       "\n",
       "[211 rows x 10 columns]"
      ]
     },
     "execution_count": 119,
     "metadata": {},
     "output_type": "execute_result"
    }
   ],
   "source": [
    "fr.query('year==\"2022\" and month==\"08\"').sort_values(by='rank', ascending=True)"
   ]
  },
  {
   "cell_type": "code",
   "execution_count": 120,
   "id": "91be0147",
   "metadata": {},
   "outputs": [
    {
     "data": {
      "text/plain": [
       "<AxesSubplot:xlabel='rank'>"
      ]
     },
     "execution_count": 120,
     "metadata": {},
     "output_type": "execute_result"
    },
    {
     "data": {
      "image/png": "[encoded data removed]",
      "text/plain": [
       "<Figure size 432x288 with 1 Axes>"
      ]
     },
     "metadata": {
      "needs_background": "light"
     },
     "output_type": "display_data"
    }
   ],
   "source": [
    "sns.boxplot(x='rank', data=fr.query('year==\"2022\" and month==\"08\"').sort_values(by='rank', ascending=True))"
   ]
  },
  {
   "cell_type": "code",
   "execution_count": 121,
   "id": "2a304868",
   "metadata": {},
   "outputs": [
    {
     "data": {
      "text/plain": [
       "<AxesSubplot:xlabel='total_points', ylabel='Count'>"
      ]
     },
     "execution_count": 121,
     "metadata": {},
     "output_type": "execute_result"
    },
    {
     "data": {
      "image/png": "[encoded data removed]",
      "text/plain": [
       "<Figure size 432x288 with 1 Axes>"
      ]
     },
     "metadata": {
      "needs_background": "light"
     },
     "output_type": "display_data"
    }
   ],
   "source": [
    "sns.histplot(x='total_points', data=fr.query('year==\"2022\" and month==\"08\"').sort_values(by='rank', ascending=True), bins=20)"
   ]
  },
  {
   "cell_type": "code",
   "execution_count": 122,
   "id": "64d116c7",
   "metadata": {},
   "outputs": [],
   "source": [
    "data['home_tier'] = ''\n",
    "data.loc[data['rank'] > 32, 'home_tier'] = 'bronze'\n",
    "data.loc[data['rank'] <= 32, 'home_tier'] = 'silver'\n",
    "data.loc[data['rank'] <= 16, 'home_tier'] = 'gold'\n",
    "data.loc[data['rank'] <= 8, 'home_tier'] = 'diamond'"
   ]
  },
  {
   "cell_type": "code",
   "execution_count": 123,
   "id": "47e7213f",
   "metadata": {},
   "outputs": [],
   "source": [
    "data['away_tier'] = ''\n",
    "data.loc[data['rank__away'] > 32, 'away_tier'] = 'bronze'\n",
    "data.loc[data['rank__away'] <= 32, 'away_tier'] = 'silver'\n",
    "data.loc[data['rank__away'] <= 16, 'away_tier'] = 'gold'\n",
    "data.loc[data['rank__away'] <= 8, 'away_tier'] = 'diamond'"
   ]
  },
  {
   "cell_type": "code",
   "execution_count": 124,
   "id": "5c26128f",
   "metadata": {},
   "outputs": [
    {
     "data": {
      "text/plain": [
       "Index(['date', 'home_team', 'away_team', 'home_score', 'away_score',\n",
       "       'tournament', 'city', 'country', 'neutral', 'winner', 'year', 'month',\n",
       "       'rank', 'country_full', 'country_abrv', 'total_points',\n",
       "       'previous_points', 'rank_change', 'confederation', 'rank_date',\n",
       "       'rank__away', 'country_full__away', 'country_abrv__away',\n",
       "       'total_points__away', 'previous_points__away', 'rank_change__away',\n",
       "       'confederation__away', 'rank_date__away', 'home_tier', 'away_tier'],\n",
       "      dtype='object')"
      ]
     },
     "execution_count": 124,
     "metadata": {},
     "output_type": "execute_result"
    }
   ],
   "source": [
    "data.columns"
   ]
  },
  {
   "cell_type": "code",
   "execution_count": 125,
   "id": "47c3fd5c",
   "metadata": {},
   "outputs": [
    {
     "data": {
      "text/html": [
       "<div>\n",
       "<style scoped>\n",
       "    .dataframe tbody tr th:only-of-type {\n",
       "        vertical-align: middle;\n",
       "    }\n",
       "\n",
       "    .dataframe tbody tr th {\n",
       "        vertical-align: top;\n",
       "    }\n",
       "\n",
       "    .dataframe thead th {\n",
       "        text-align: right;\n",
       "    }\n",
       "</style>\n",
       "<table border=\"1\" class=\"dataframe\">\n",
       "  <thead>\n",
       "    <tr style=\"text-align: right;\">\n",
       "      <th></th>\n",
       "      <th></th>\n",
       "      <th>date</th>\n",
       "    </tr>\n",
       "    <tr>\n",
       "      <th>home_tier</th>\n",
       "      <th>winner</th>\n",
       "      <th></th>\n",
       "    </tr>\n",
       "  </thead>\n",
       "  <tbody>\n",
       "    <tr>\n",
       "      <th rowspan=\"3\" valign=\"top\">bronze</th>\n",
       "      <th>draw</th>\n",
       "      <td>3624</td>\n",
       "    </tr>\n",
       "    <tr>\n",
       "      <th>home_lose</th>\n",
       "      <td>4560</td>\n",
       "    </tr>\n",
       "    <tr>\n",
       "      <th>home_win</th>\n",
       "      <td>6393</td>\n",
       "    </tr>\n",
       "    <tr>\n",
       "      <th rowspan=\"3\" valign=\"top\">diamond</th>\n",
       "      <th>draw</th>\n",
       "      <td>275</td>\n",
       "    </tr>\n",
       "    <tr>\n",
       "      <th>home_lose</th>\n",
       "      <td>188</td>\n",
       "    </tr>\n",
       "    <tr>\n",
       "      <th>home_win</th>\n",
       "      <td>922</td>\n",
       "    </tr>\n",
       "    <tr>\n",
       "      <th rowspan=\"3\" valign=\"top\">gold</th>\n",
       "      <th>draw</th>\n",
       "      <td>263</td>\n",
       "    </tr>\n",
       "    <tr>\n",
       "      <th>home_lose</th>\n",
       "      <td>206</td>\n",
       "    </tr>\n",
       "    <tr>\n",
       "      <th>home_win</th>\n",
       "      <td>702</td>\n",
       "    </tr>\n",
       "    <tr>\n",
       "      <th rowspan=\"3\" valign=\"top\">silver</th>\n",
       "      <th>draw</th>\n",
       "      <td>483</td>\n",
       "    </tr>\n",
       "    <tr>\n",
       "      <th>home_lose</th>\n",
       "      <td>425</td>\n",
       "    </tr>\n",
       "    <tr>\n",
       "      <th>home_win</th>\n",
       "      <td>1258</td>\n",
       "    </tr>\n",
       "  </tbody>\n",
       "</table>\n",
       "</div>"
      ],
      "text/plain": [
       "                     date\n",
       "home_tier winner         \n",
       "bronze    draw       3624\n",
       "          home_lose  4560\n",
       "          home_win   6393\n",
       "diamond   draw        275\n",
       "          home_lose   188\n",
       "          home_win    922\n",
       "gold      draw        263\n",
       "          home_lose   206\n",
       "          home_win    702\n",
       "silver    draw        483\n",
       "          home_lose   425\n",
       "          home_win   1258"
      ]
     },
     "execution_count": 125,
     "metadata": {},
     "output_type": "execute_result"
    }
   ],
   "source": [
    "data.groupby(['home_tier', 'winner']).agg({'date':'count'})"
   ]
  },
  {
   "cell_type": "code",
   "execution_count": 126,
   "id": "93fc33e4",
   "metadata": {},
   "outputs": [],
   "source": [
    "data['home_win'] = (data['winner'] == 'home_win').astype(int)\n"
   ]
  },
  {
   "cell_type": "code",
   "execution_count": 127,
   "id": "4f7bd603",
   "metadata": {},
   "outputs": [
    {
     "data": {
      "text/plain": [
       "<AxesSubplot:xlabel='home_tier', ylabel='home_win'>"
      ]
     },
     "execution_count": 127,
     "metadata": {},
     "output_type": "execute_result"
    },
    {
     "data": {
      "image/png": "[encoded data removed]",
      "text/plain": [
       "<Figure size 432x288 with 1 Axes>"
      ]
     },
     "metadata": {
      "needs_background": "light"
     },
     "output_type": "display_data"
    }
   ],
   "source": [
    "sns.barplot(x='home_tier', y='home_win', data=data)"
   ]
  },
  {
   "cell_type": "code",
   "execution_count": 128,
   "id": "240981d5",
   "metadata": {},
   "outputs": [],
   "source": [
    "#df.tournament.unique()\n",
    "\n",
    "tournaments = ['Copa América', 'FIFA World Cup', 'FIFA World Cup qualification', 'International Cup'\n",
    "              , 'AFC Asian Cup qualification', 'AFC Asian Cup', 'African Cup of Nations'\n",
    "              , 'UEFA Euro qualification', 'UEFA Euro', 'African Cup of Nations qualification'\n",
    "              , 'CONCACAF Championship', 'CONCACAF Championship qualification' \n",
    "              , 'CONMEBOL–UEFA Cup of Champions', 'Confederations Cup'\n",
    "              , 'Oceania Nations Cup qualification','Copa América qualification'\n",
    "              , 'UEFA Nations League', 'CONCACAF Nations League qualification'\n",
    "              , 'CONCACAF Nations League','AFF Championship qualification']"
   ]
  },
  {
   "cell_type": "code",
   "execution_count": 129,
   "id": "333e0f6f",
   "metadata": {},
   "outputs": [
    {
     "data": {
      "text/html": [
       "<div>\n",
       "<style scoped>\n",
       "    .dataframe tbody tr th:only-of-type {\n",
       "        vertical-align: middle;\n",
       "    }\n",
       "\n",
       "    .dataframe tbody tr th {\n",
       "        vertical-align: top;\n",
       "    }\n",
       "\n",
       "    .dataframe thead th {\n",
       "        text-align: right;\n",
       "    }\n",
       "</style>\n",
       "<table border=\"1\" class=\"dataframe\">\n",
       "  <thead>\n",
       "    <tr style=\"text-align: right;\">\n",
       "      <th></th>\n",
       "      <th>date</th>\n",
       "    </tr>\n",
       "    <tr>\n",
       "      <th>neutral</th>\n",
       "      <th></th>\n",
       "    </tr>\n",
       "  </thead>\n",
       "  <tbody>\n",
       "    <tr>\n",
       "      <th>False</th>\n",
       "      <td>13654</td>\n",
       "    </tr>\n",
       "    <tr>\n",
       "      <th>True</th>\n",
       "      <td>3761</td>\n",
       "    </tr>\n",
       "  </tbody>\n",
       "</table>\n",
       "</div>"
      ],
      "text/plain": [
       "          date\n",
       "neutral       \n",
       "False    13654\n",
       "True      3761"
      ]
     },
     "execution_count": 129,
     "metadata": {},
     "output_type": "execute_result"
    }
   ],
   "source": [
    "df.loc[df.tournament.isin(tournaments), ].groupby('neutral').agg({'date':'count'})"
   ]
  },
  {
   "cell_type": "code",
   "execution_count": 130,
   "id": "2855fa9d",
   "metadata": {},
   "outputs": [
    {
     "data": {
      "text/html": [
       "<div>\n",
       "<style scoped>\n",
       "    .dataframe tbody tr th:only-of-type {\n",
       "        vertical-align: middle;\n",
       "    }\n",
       "\n",
       "    .dataframe tbody tr th {\n",
       "        vertical-align: top;\n",
       "    }\n",
       "\n",
       "    .dataframe thead tr th {\n",
       "        text-align: left;\n",
       "    }\n",
       "\n",
       "    .dataframe thead tr:last-of-type th {\n",
       "        text-align: right;\n",
       "    }\n",
       "</style>\n",
       "<table border=\"1\" class=\"dataframe\">\n",
       "  <thead>\n",
       "    <tr>\n",
       "      <th></th>\n",
       "      <th></th>\n",
       "      <th colspan=\"2\" halign=\"left\">home_win</th>\n",
       "    </tr>\n",
       "    <tr>\n",
       "      <th></th>\n",
       "      <th></th>\n",
       "      <th>count</th>\n",
       "      <th>mean</th>\n",
       "    </tr>\n",
       "    <tr>\n",
       "      <th>home_tier</th>\n",
       "      <th>away_tier</th>\n",
       "      <th></th>\n",
       "      <th></th>\n",
       "    </tr>\n",
       "  </thead>\n",
       "  <tbody>\n",
       "    <tr>\n",
       "      <th rowspan=\"4\" valign=\"top\">bronze</th>\n",
       "      <th>bronze</th>\n",
       "      <td>2260</td>\n",
       "      <td>0.546903</td>\n",
       "    </tr>\n",
       "    <tr>\n",
       "      <th>diamond</th>\n",
       "      <td>65</td>\n",
       "      <td>0.076923</td>\n",
       "    </tr>\n",
       "    <tr>\n",
       "      <th>gold</th>\n",
       "      <td>48</td>\n",
       "      <td>0.104167</td>\n",
       "    </tr>\n",
       "    <tr>\n",
       "      <th>silver</th>\n",
       "      <td>181</td>\n",
       "      <td>0.303867</td>\n",
       "    </tr>\n",
       "    <tr>\n",
       "      <th rowspan=\"4\" valign=\"top\">diamond</th>\n",
       "      <th>bronze</th>\n",
       "      <td>107</td>\n",
       "      <td>0.878505</td>\n",
       "    </tr>\n",
       "    <tr>\n",
       "      <th>diamond</th>\n",
       "      <td>70</td>\n",
       "      <td>0.528571</td>\n",
       "    </tr>\n",
       "    <tr>\n",
       "      <th>gold</th>\n",
       "      <td>52</td>\n",
       "      <td>0.673077</td>\n",
       "    </tr>\n",
       "    <tr>\n",
       "      <th>silver</th>\n",
       "      <td>66</td>\n",
       "      <td>0.712121</td>\n",
       "    </tr>\n",
       "    <tr>\n",
       "      <th rowspan=\"4\" valign=\"top\">gold</th>\n",
       "      <th>bronze</th>\n",
       "      <td>80</td>\n",
       "      <td>0.812500</td>\n",
       "    </tr>\n",
       "    <tr>\n",
       "      <th>diamond</th>\n",
       "      <td>42</td>\n",
       "      <td>0.333333</td>\n",
       "    </tr>\n",
       "    <tr>\n",
       "      <th>gold</th>\n",
       "      <td>27</td>\n",
       "      <td>0.592593</td>\n",
       "    </tr>\n",
       "    <tr>\n",
       "      <th>silver</th>\n",
       "      <td>36</td>\n",
       "      <td>0.611111</td>\n",
       "    </tr>\n",
       "    <tr>\n",
       "      <th rowspan=\"4\" valign=\"top\">silver</th>\n",
       "      <th>bronze</th>\n",
       "      <td>214</td>\n",
       "      <td>0.799065</td>\n",
       "    </tr>\n",
       "    <tr>\n",
       "      <th>diamond</th>\n",
       "      <td>31</td>\n",
       "      <td>0.161290</td>\n",
       "    </tr>\n",
       "    <tr>\n",
       "      <th>gold</th>\n",
       "      <td>26</td>\n",
       "      <td>0.230769</td>\n",
       "    </tr>\n",
       "    <tr>\n",
       "      <th>silver</th>\n",
       "      <td>69</td>\n",
       "      <td>0.492754</td>\n",
       "    </tr>\n",
       "  </tbody>\n",
       "</table>\n",
       "</div>"
      ],
      "text/plain": [
       "                    home_win          \n",
       "                       count      mean\n",
       "home_tier away_tier                   \n",
       "bronze    bronze        2260  0.546903\n",
       "          diamond         65  0.076923\n",
       "          gold            48  0.104167\n",
       "          silver         181  0.303867\n",
       "diamond   bronze         107  0.878505\n",
       "          diamond         70  0.528571\n",
       "          gold            52  0.673077\n",
       "          silver          66  0.712121\n",
       "gold      bronze          80  0.812500\n",
       "          diamond         42  0.333333\n",
       "          gold            27  0.592593\n",
       "          silver          36  0.611111\n",
       "silver    bronze         214  0.799065\n",
       "          diamond         31  0.161290\n",
       "          gold            26  0.230769\n",
       "          silver          69  0.492754"
      ]
     },
     "execution_count": 130,
     "metadata": {},
     "output_type": "execute_result"
    }
   ],
   "source": [
    "data.query('winner!=\"draw\" and neutral==True').groupby(['home_tier', 'away_tier']).agg({'home_win':['count', 'mean']})"
   ]
  },
  {
   "cell_type": "code",
   "execution_count": 131,
   "id": "5cbc43c4",
   "metadata": {},
   "outputs": [],
   "source": [
    "data['marginal_effect'] = (data['total_points'] - data['total_points__away']) / data['total_points__away']"
   ]
  },
  {
   "cell_type": "code",
   "execution_count": 132,
   "id": "bf100b92",
   "metadata": {},
   "outputs": [
    {
     "data": {
      "text/plain": [
       "<AxesSubplot:xlabel='marginal_effect'>"
      ]
     },
     "execution_count": 132,
     "metadata": {},
     "output_type": "execute_result"
    },
    {
     "data": {
      "image/png": "[encoded data removed]",
      "text/plain": [
       "<Figure size 432x288 with 1 Axes>"
      ]
     },
     "metadata": {
      "needs_background": "light"
     },
     "output_type": "display_data"
    }
   ],
   "source": [
    "sns.boxplot(x='marginal_effect', data=data)"
   ]
  },
  {
   "cell_type": "code",
   "execution_count": 133,
   "id": "85e26796",
   "metadata": {},
   "outputs": [
    {
     "data": {
      "text/plain": [
       "<AxesSubplot:xlabel='winner', ylabel='marginal_effect'>"
      ]
     },
     "execution_count": 133,
     "metadata": {},
     "output_type": "execute_result"
    },
    {
     "data": {
      "image/png": "[encoded data removed]",
      "text/plain": [
       "<Figure size 432x288 with 1 Axes>"
      ]
     },
     "metadata": {
      "needs_background": "light"
     },
     "output_type": "display_data"
    }
   ],
   "source": [
    "sns.boxplot(x='winner', y='marginal_effect', data=data)"
   ]
  },
  {
   "cell_type": "code",
   "execution_count": 134,
   "id": "ced57051",
   "metadata": {},
   "outputs": [
    {
     "data": {
      "text/plain": [
       "<AxesSubplot:xlabel='marginal_effect', ylabel='Density'>"
      ]
     },
     "execution_count": 134,
     "metadata": {},
     "output_type": "execute_result"
    },
    {
     "data": {
      "image/png": "[encoded data removed]",
      "text/plain": [
       "<Figure size 432x288 with 1 Axes>"
      ]
     },
     "metadata": {
      "needs_background": "light"
     },
     "output_type": "display_data"
    }
   ],
   "source": [
    "sns.kdeplot(x='marginal_effect', hue='winner', data=data)"
   ]
  },
  {
   "cell_type": "code",
   "execution_count": 135,
   "id": "6f2071df",
   "metadata": {},
   "outputs": [],
   "source": [
    "data['effect_tier'] = ''\n",
    "data.loc[data.marginal_effect < -.37, 'effect_tier'] = 'low'\n",
    "data.loc[data.marginal_effect >= -.37, 'effect_tier'] = 'medium'\n",
    "data.loc[data.marginal_effect >= -.20, 'effect_tier'] = 'high'\n",
    "data.loc[data.marginal_effect >= .25, 'effect_tier'] = 'very_high'"
   ]
  },
  {
   "cell_type": "code",
   "execution_count": 136,
   "id": "2506a4c3",
   "metadata": {},
   "outputs": [
    {
     "data": {
      "text/html": [
       "<div>\n",
       "<style scoped>\n",
       "    .dataframe tbody tr th:only-of-type {\n",
       "        vertical-align: middle;\n",
       "    }\n",
       "\n",
       "    .dataframe tbody tr th {\n",
       "        vertical-align: top;\n",
       "    }\n",
       "\n",
       "    .dataframe thead th {\n",
       "        text-align: right;\n",
       "    }\n",
       "</style>\n",
       "<table border=\"1\" class=\"dataframe\">\n",
       "  <thead>\n",
       "    <tr style=\"text-align: right;\">\n",
       "      <th></th>\n",
       "      <th>date</th>\n",
       "      <th>home_team</th>\n",
       "      <th>away_team</th>\n",
       "      <th>home_score</th>\n",
       "      <th>away_score</th>\n",
       "      <th>tournament</th>\n",
       "      <th>city</th>\n",
       "      <th>country</th>\n",
       "      <th>neutral</th>\n",
       "      <th>winner</th>\n",
       "      <th>...</th>\n",
       "      <th>total_points__away</th>\n",
       "      <th>previous_points__away</th>\n",
       "      <th>rank_change__away</th>\n",
       "      <th>confederation__away</th>\n",
       "      <th>rank_date__away</th>\n",
       "      <th>home_tier</th>\n",
       "      <th>away_tier</th>\n",
       "      <th>home_win</th>\n",
       "      <th>marginal_effect</th>\n",
       "      <th>effect_tier</th>\n",
       "    </tr>\n",
       "  </thead>\n",
       "  <tbody>\n",
       "    <tr>\n",
       "      <th>0</th>\n",
       "      <td>1992-12-01</td>\n",
       "      <td>Saudi Arabia</td>\n",
       "      <td>United Arab Emirates</td>\n",
       "      <td>0</td>\n",
       "      <td>1</td>\n",
       "      <td>Gulf Cup</td>\n",
       "      <td>Doha</td>\n",
       "      <td>Qatar</td>\n",
       "      <td>True</td>\n",
       "      <td>home_lose</td>\n",
       "      <td>...</td>\n",
       "      <td>25.0</td>\n",
       "      <td>0.0</td>\n",
       "      <td>0</td>\n",
       "      <td>AFC</td>\n",
       "      <td>1992-12-31</td>\n",
       "      <td>bronze</td>\n",
       "      <td>bronze</td>\n",
       "      <td>0</td>\n",
       "      <td>0.120000</td>\n",
       "      <td>high</td>\n",
       "    </tr>\n",
       "    <tr>\n",
       "      <th>1</th>\n",
       "      <td>1992-12-06</td>\n",
       "      <td>Qatar</td>\n",
       "      <td>United Arab Emirates</td>\n",
       "      <td>1</td>\n",
       "      <td>0</td>\n",
       "      <td>Gulf Cup</td>\n",
       "      <td>Doha</td>\n",
       "      <td>Qatar</td>\n",
       "      <td>False</td>\n",
       "      <td>home_win</td>\n",
       "      <td>...</td>\n",
       "      <td>25.0</td>\n",
       "      <td>0.0</td>\n",
       "      <td>0</td>\n",
       "      <td>AFC</td>\n",
       "      <td>1992-12-31</td>\n",
       "      <td>bronze</td>\n",
       "      <td>bronze</td>\n",
       "      <td>1</td>\n",
       "      <td>0.080000</td>\n",
       "      <td>high</td>\n",
       "    </tr>\n",
       "    <tr>\n",
       "      <th>2</th>\n",
       "      <td>1992-12-04</td>\n",
       "      <td>Bahrain</td>\n",
       "      <td>United Arab Emirates</td>\n",
       "      <td>0</td>\n",
       "      <td>2</td>\n",
       "      <td>Gulf Cup</td>\n",
       "      <td>Doha</td>\n",
       "      <td>Qatar</td>\n",
       "      <td>True</td>\n",
       "      <td>home_lose</td>\n",
       "      <td>...</td>\n",
       "      <td>25.0</td>\n",
       "      <td>0.0</td>\n",
       "      <td>0</td>\n",
       "      <td>AFC</td>\n",
       "      <td>1992-12-31</td>\n",
       "      <td>bronze</td>\n",
       "      <td>bronze</td>\n",
       "      <td>0</td>\n",
       "      <td>-0.480000</td>\n",
       "      <td>low</td>\n",
       "    </tr>\n",
       "    <tr>\n",
       "      <th>3</th>\n",
       "      <td>1992-12-09</td>\n",
       "      <td>Oman</td>\n",
       "      <td>United Arab Emirates</td>\n",
       "      <td>0</td>\n",
       "      <td>1</td>\n",
       "      <td>Gulf Cup</td>\n",
       "      <td>Doha</td>\n",
       "      <td>Qatar</td>\n",
       "      <td>True</td>\n",
       "      <td>home_lose</td>\n",
       "      <td>...</td>\n",
       "      <td>25.0</td>\n",
       "      <td>0.0</td>\n",
       "      <td>0</td>\n",
       "      <td>AFC</td>\n",
       "      <td>1992-12-31</td>\n",
       "      <td>bronze</td>\n",
       "      <td>bronze</td>\n",
       "      <td>0</td>\n",
       "      <td>-0.760000</td>\n",
       "      <td>low</td>\n",
       "    </tr>\n",
       "    <tr>\n",
       "      <th>4</th>\n",
       "      <td>1992-12-01</td>\n",
       "      <td>Qatar</td>\n",
       "      <td>Bahrain</td>\n",
       "      <td>1</td>\n",
       "      <td>0</td>\n",
       "      <td>Gulf Cup</td>\n",
       "      <td>Doha</td>\n",
       "      <td>Qatar</td>\n",
       "      <td>False</td>\n",
       "      <td>home_win</td>\n",
       "      <td>...</td>\n",
       "      <td>13.0</td>\n",
       "      <td>0.0</td>\n",
       "      <td>0</td>\n",
       "      <td>AFC</td>\n",
       "      <td>1992-12-31</td>\n",
       "      <td>bronze</td>\n",
       "      <td>bronze</td>\n",
       "      <td>1</td>\n",
       "      <td>1.076923</td>\n",
       "      <td>very_high</td>\n",
       "    </tr>\n",
       "  </tbody>\n",
       "</table>\n",
       "<p>5 rows × 33 columns</p>\n",
       "</div>"
      ],
      "text/plain": [
       "         date     home_team             away_team  home_score  away_score  \\\n",
       "0  1992-12-01  Saudi Arabia  United Arab Emirates           0           1   \n",
       "1  1992-12-06         Qatar  United Arab Emirates           1           0   \n",
       "2  1992-12-04       Bahrain  United Arab Emirates           0           2   \n",
       "3  1992-12-09          Oman  United Arab Emirates           0           1   \n",
       "4  1992-12-01         Qatar               Bahrain           1           0   \n",
       "\n",
       "  tournament  city country  neutral     winner  ... total_points__away  \\\n",
       "0   Gulf Cup  Doha   Qatar     True  home_lose  ...               25.0   \n",
       "1   Gulf Cup  Doha   Qatar    False   home_win  ...               25.0   \n",
       "2   Gulf Cup  Doha   Qatar     True  home_lose  ...               25.0   \n",
       "3   Gulf Cup  Doha   Qatar     True  home_lose  ...               25.0   \n",
       "4   Gulf Cup  Doha   Qatar    False   home_win  ...               13.0   \n",
       "\n",
       "  previous_points__away  rank_change__away confederation__away  \\\n",
       "0                   0.0                  0                 AFC   \n",
       "1                   0.0                  0                 AFC   \n",
       "2                   0.0                  0                 AFC   \n",
       "3                   0.0                  0                 AFC   \n",
       "4                   0.0                  0                 AFC   \n",
       "\n",
       "  rank_date__away  home_tier  away_tier  home_win marginal_effect effect_tier  \n",
       "0      1992-12-31     bronze     bronze         0        0.120000        high  \n",
       "1      1992-12-31     bronze     bronze         1        0.080000        high  \n",
       "2      1992-12-31     bronze     bronze         0       -0.480000         low  \n",
       "3      1992-12-31     bronze     bronze         0       -0.760000         low  \n",
       "4      1992-12-31     bronze     bronze         1        1.076923   very_high  \n",
       "\n",
       "[5 rows x 33 columns]"
      ]
     },
     "execution_count": 136,
     "metadata": {},
     "output_type": "execute_result"
    }
   ],
   "source": [
    "data.head()"
   ]
  },
  {
   "cell_type": "code",
   "execution_count": 137,
   "id": "81cd27d3",
   "metadata": {},
   "outputs": [],
   "source": [
    "data['match_importance'] = np.exp((data['year'].astype(int) - 2022)/8)"
   ]
  },
  {
   "cell_type": "code",
   "execution_count": 138,
   "id": "d543a5b5",
   "metadata": {},
   "outputs": [
    {
     "data": {
      "text/plain": [
       "<AxesSubplot:xlabel='match_importance'>"
      ]
     },
     "execution_count": 138,
     "metadata": {},
     "output_type": "execute_result"
    },
    {
     "data": {
      "image/png": "[encoded data removed]",
      "text/plain": [
       "<Figure size 432x288 with 1 Axes>"
      ]
     },
     "metadata": {
      "needs_background": "light"
     },
     "output_type": "display_data"
    }
   ],
   "source": [
    "sns.boxplot(x='match_importance', data=data)"
   ]
  },
  {
   "cell_type": "code",
   "execution_count": 139,
   "id": "a84b32df",
   "metadata": {},
   "outputs": [
    {
     "data": {
      "text/html": [
       "<div>\n",
       "<style scoped>\n",
       "    .dataframe tbody tr th:only-of-type {\n",
       "        vertical-align: middle;\n",
       "    }\n",
       "\n",
       "    .dataframe tbody tr th {\n",
       "        vertical-align: top;\n",
       "    }\n",
       "\n",
       "    .dataframe thead th {\n",
       "        text-align: right;\n",
       "    }\n",
       "</style>\n",
       "<table border=\"1\" class=\"dataframe\">\n",
       "  <thead>\n",
       "    <tr style=\"text-align: right;\">\n",
       "      <th></th>\n",
       "      <th>date</th>\n",
       "      <th>home_team</th>\n",
       "      <th>away_team</th>\n",
       "      <th>home_score</th>\n",
       "      <th>away_score</th>\n",
       "      <th>tournament</th>\n",
       "      <th>city</th>\n",
       "      <th>country</th>\n",
       "      <th>neutral</th>\n",
       "      <th>winner</th>\n",
       "      <th>...</th>\n",
       "      <th>previous_points__away</th>\n",
       "      <th>rank_change__away</th>\n",
       "      <th>confederation__away</th>\n",
       "      <th>rank_date__away</th>\n",
       "      <th>home_tier</th>\n",
       "      <th>away_tier</th>\n",
       "      <th>home_win</th>\n",
       "      <th>marginal_effect</th>\n",
       "      <th>effect_tier</th>\n",
       "      <th>match_importance</th>\n",
       "    </tr>\n",
       "  </thead>\n",
       "  <tbody>\n",
       "    <tr>\n",
       "      <th>19298</th>\n",
       "      <td>2022-06-13</td>\n",
       "      <td>Sierra Leone</td>\n",
       "      <td>Guinea-Bissau</td>\n",
       "      <td>2</td>\n",
       "      <td>2</td>\n",
       "      <td>African Cup of Nations qualification</td>\n",
       "      <td>Conakry</td>\n",
       "      <td>Guinea</td>\n",
       "      <td>True</td>\n",
       "      <td>draw</td>\n",
       "      <td>...</td>\n",
       "      <td>1158.62</td>\n",
       "      <td>0</td>\n",
       "      <td>CAF</td>\n",
       "      <td>2022-06-23</td>\n",
       "      <td>bronze</td>\n",
       "      <td>bronze</td>\n",
       "      <td>0</td>\n",
       "      <td>0.002084</td>\n",
       "      <td>high</td>\n",
       "      <td>1.000000</td>\n",
       "    </tr>\n",
       "    <tr>\n",
       "      <th>19091</th>\n",
       "      <td>2022-06-02</td>\n",
       "      <td>Estonia</td>\n",
       "      <td>San Marino</td>\n",
       "      <td>2</td>\n",
       "      <td>0</td>\n",
       "      <td>UEFA Nations League</td>\n",
       "      <td>Tallinn</td>\n",
       "      <td>Estonia</td>\n",
       "      <td>False</td>\n",
       "      <td>home_win</td>\n",
       "      <td>...</td>\n",
       "      <td>776.97</td>\n",
       "      <td>0</td>\n",
       "      <td>UEFA</td>\n",
       "      <td>2022-06-23</td>\n",
       "      <td>bronze</td>\n",
       "      <td>bronze</td>\n",
       "      <td>1</td>\n",
       "      <td>0.541463</td>\n",
       "      <td>very_high</td>\n",
       "      <td>1.000000</td>\n",
       "    </tr>\n",
       "    <tr>\n",
       "      <th>19015</th>\n",
       "      <td>2022-03-29</td>\n",
       "      <td>Qatar</td>\n",
       "      <td>Slovenia</td>\n",
       "      <td>0</td>\n",
       "      <td>0</td>\n",
       "      <td>Friendly</td>\n",
       "      <td>Al Rayyan</td>\n",
       "      <td>Qatar</td>\n",
       "      <td>False</td>\n",
       "      <td>draw</td>\n",
       "      <td>...</td>\n",
       "      <td>1375.42</td>\n",
       "      <td>1</td>\n",
       "      <td>UEFA</td>\n",
       "      <td>2022-03-31</td>\n",
       "      <td>bronze</td>\n",
       "      <td>bronze</td>\n",
       "      <td>0</td>\n",
       "      <td>0.045841</td>\n",
       "      <td>high</td>\n",
       "      <td>1.000000</td>\n",
       "    </tr>\n",
       "    <tr>\n",
       "      <th>19016</th>\n",
       "      <td>2022-03-29</td>\n",
       "      <td>Croatia</td>\n",
       "      <td>Bulgaria</td>\n",
       "      <td>2</td>\n",
       "      <td>1</td>\n",
       "      <td>Friendly</td>\n",
       "      <td>Al Rayyan</td>\n",
       "      <td>Qatar</td>\n",
       "      <td>True</td>\n",
       "      <td>home_win</td>\n",
       "      <td>...</td>\n",
       "      <td>1345.47</td>\n",
       "      <td>2</td>\n",
       "      <td>UEFA</td>\n",
       "      <td>2022-03-31</td>\n",
       "      <td>gold</td>\n",
       "      <td>bronze</td>\n",
       "      <td>1</td>\n",
       "      <td>0.210886</td>\n",
       "      <td>high</td>\n",
       "      <td>1.000000</td>\n",
       "    </tr>\n",
       "    <tr>\n",
       "      <th>19017</th>\n",
       "      <td>2022-03-26</td>\n",
       "      <td>Qatar</td>\n",
       "      <td>Bulgaria</td>\n",
       "      <td>2</td>\n",
       "      <td>1</td>\n",
       "      <td>Friendly</td>\n",
       "      <td>Al Rayyan</td>\n",
       "      <td>Qatar</td>\n",
       "      <td>False</td>\n",
       "      <td>home_win</td>\n",
       "      <td>...</td>\n",
       "      <td>1345.47</td>\n",
       "      <td>2</td>\n",
       "      <td>UEFA</td>\n",
       "      <td>2022-03-31</td>\n",
       "      <td>bronze</td>\n",
       "      <td>bronze</td>\n",
       "      <td>1</td>\n",
       "      <td>0.076659</td>\n",
       "      <td>high</td>\n",
       "      <td>1.000000</td>\n",
       "    </tr>\n",
       "    <tr>\n",
       "      <th>...</th>\n",
       "      <td>...</td>\n",
       "      <td>...</td>\n",
       "      <td>...</td>\n",
       "      <td>...</td>\n",
       "      <td>...</td>\n",
       "      <td>...</td>\n",
       "      <td>...</td>\n",
       "      <td>...</td>\n",
       "      <td>...</td>\n",
       "      <td>...</td>\n",
       "      <td>...</td>\n",
       "      <td>...</td>\n",
       "      <td>...</td>\n",
       "      <td>...</td>\n",
       "      <td>...</td>\n",
       "      <td>...</td>\n",
       "      <td>...</td>\n",
       "      <td>...</td>\n",
       "      <td>...</td>\n",
       "      <td>...</td>\n",
       "      <td>...</td>\n",
       "    </tr>\n",
       "    <tr>\n",
       "      <th>24</th>\n",
       "      <td>1992-12-16</td>\n",
       "      <td>Spain</td>\n",
       "      <td>Latvia</td>\n",
       "      <td>5</td>\n",
       "      <td>0</td>\n",
       "      <td>FIFA World Cup qualification</td>\n",
       "      <td>Seville</td>\n",
       "      <td>Spain</td>\n",
       "      <td>False</td>\n",
       "      <td>home_win</td>\n",
       "      <td>...</td>\n",
       "      <td>0.00</td>\n",
       "      <td>0</td>\n",
       "      <td>UEFA</td>\n",
       "      <td>1992-12-31</td>\n",
       "      <td>gold</td>\n",
       "      <td>bronze</td>\n",
       "      <td>1</td>\n",
       "      <td>3.900000</td>\n",
       "      <td>very_high</td>\n",
       "      <td>0.023518</td>\n",
       "    </tr>\n",
       "    <tr>\n",
       "      <th>23</th>\n",
       "      <td>1992-12-20</td>\n",
       "      <td>Guinea</td>\n",
       "      <td>Kenya</td>\n",
       "      <td>4</td>\n",
       "      <td>0</td>\n",
       "      <td>FIFA World Cup qualification</td>\n",
       "      <td>Conakry</td>\n",
       "      <td>Guinea</td>\n",
       "      <td>False</td>\n",
       "      <td>home_win</td>\n",
       "      <td>...</td>\n",
       "      <td>0.00</td>\n",
       "      <td>0</td>\n",
       "      <td>CAF</td>\n",
       "      <td>1992-12-31</td>\n",
       "      <td>bronze</td>\n",
       "      <td>bronze</td>\n",
       "      <td>1</td>\n",
       "      <td>0.411765</td>\n",
       "      <td>very_high</td>\n",
       "      <td>0.023518</td>\n",
       "    </tr>\n",
       "    <tr>\n",
       "      <th>22</th>\n",
       "      <td>1992-12-16</td>\n",
       "      <td>Guinea</td>\n",
       "      <td>Sierra Leone</td>\n",
       "      <td>0</td>\n",
       "      <td>0</td>\n",
       "      <td>Friendly</td>\n",
       "      <td>Conakry</td>\n",
       "      <td>Guinea</td>\n",
       "      <td>False</td>\n",
       "      <td>draw</td>\n",
       "      <td>...</td>\n",
       "      <td>0.00</td>\n",
       "      <td>0</td>\n",
       "      <td>CAF</td>\n",
       "      <td>1992-12-31</td>\n",
       "      <td>bronze</td>\n",
       "      <td>bronze</td>\n",
       "      <td>0</td>\n",
       "      <td>0.500000</td>\n",
       "      <td>very_high</td>\n",
       "      <td>0.023518</td>\n",
       "    </tr>\n",
       "    <tr>\n",
       "      <th>21</th>\n",
       "      <td>1992-12-20</td>\n",
       "      <td>Uruguay</td>\n",
       "      <td>Germany</td>\n",
       "      <td>1</td>\n",
       "      <td>4</td>\n",
       "      <td>Friendly</td>\n",
       "      <td>Montevideo</td>\n",
       "      <td>Uruguay</td>\n",
       "      <td>False</td>\n",
       "      <td>home_lose</td>\n",
       "      <td>...</td>\n",
       "      <td>0.00</td>\n",
       "      <td>0</td>\n",
       "      <td>UEFA</td>\n",
       "      <td>1992-12-31</td>\n",
       "      <td>gold</td>\n",
       "      <td>diamond</td>\n",
       "      <td>0</td>\n",
       "      <td>-0.157895</td>\n",
       "      <td>high</td>\n",
       "      <td>0.023518</td>\n",
       "    </tr>\n",
       "    <tr>\n",
       "      <th>0</th>\n",
       "      <td>1992-12-01</td>\n",
       "      <td>Saudi Arabia</td>\n",
       "      <td>United Arab Emirates</td>\n",
       "      <td>0</td>\n",
       "      <td>1</td>\n",
       "      <td>Gulf Cup</td>\n",
       "      <td>Doha</td>\n",
       "      <td>Qatar</td>\n",
       "      <td>True</td>\n",
       "      <td>home_lose</td>\n",
       "      <td>...</td>\n",
       "      <td>0.00</td>\n",
       "      <td>0</td>\n",
       "      <td>AFC</td>\n",
       "      <td>1992-12-31</td>\n",
       "      <td>bronze</td>\n",
       "      <td>bronze</td>\n",
       "      <td>0</td>\n",
       "      <td>0.120000</td>\n",
       "      <td>high</td>\n",
       "      <td>0.023518</td>\n",
       "    </tr>\n",
       "  </tbody>\n",
       "</table>\n",
       "<p>19299 rows × 34 columns</p>\n",
       "</div>"
      ],
      "text/plain": [
       "             date     home_team             away_team  home_score  away_score  \\\n",
       "19298  2022-06-13  Sierra Leone         Guinea-Bissau           2           2   \n",
       "19091  2022-06-02       Estonia            San Marino           2           0   \n",
       "19015  2022-03-29         Qatar              Slovenia           0           0   \n",
       "19016  2022-03-29       Croatia              Bulgaria           2           1   \n",
       "19017  2022-03-26         Qatar              Bulgaria           2           1   \n",
       "...           ...           ...                   ...         ...         ...   \n",
       "24     1992-12-16         Spain                Latvia           5           0   \n",
       "23     1992-12-20        Guinea                 Kenya           4           0   \n",
       "22     1992-12-16        Guinea          Sierra Leone           0           0   \n",
       "21     1992-12-20       Uruguay               Germany           1           4   \n",
       "0      1992-12-01  Saudi Arabia  United Arab Emirates           0           1   \n",
       "\n",
       "                                 tournament        city  country  neutral  \\\n",
       "19298  African Cup of Nations qualification     Conakry   Guinea     True   \n",
       "19091                   UEFA Nations League     Tallinn  Estonia    False   \n",
       "19015                              Friendly   Al Rayyan    Qatar    False   \n",
       "19016                              Friendly   Al Rayyan    Qatar     True   \n",
       "19017                              Friendly   Al Rayyan    Qatar    False   \n",
       "...                                     ...         ...      ...      ...   \n",
       "24             FIFA World Cup qualification     Seville    Spain    False   \n",
       "23             FIFA World Cup qualification     Conakry   Guinea    False   \n",
       "22                                 Friendly     Conakry   Guinea    False   \n",
       "21                                 Friendly  Montevideo  Uruguay    False   \n",
       "0                                  Gulf Cup        Doha    Qatar     True   \n",
       "\n",
       "          winner  ... previous_points__away rank_change__away  \\\n",
       "19298       draw  ...               1158.62                 0   \n",
       "19091   home_win  ...                776.97                 0   \n",
       "19015       draw  ...               1375.42                 1   \n",
       "19016   home_win  ...               1345.47                 2   \n",
       "19017   home_win  ...               1345.47                 2   \n",
       "...          ...  ...                   ...               ...   \n",
       "24      home_win  ...                  0.00                 0   \n",
       "23      home_win  ...                  0.00                 0   \n",
       "22          draw  ...                  0.00                 0   \n",
       "21     home_lose  ...                  0.00                 0   \n",
       "0      home_lose  ...                  0.00                 0   \n",
       "\n",
       "       confederation__away rank_date__away home_tier  away_tier  home_win  \\\n",
       "19298                  CAF      2022-06-23    bronze     bronze         0   \n",
       "19091                 UEFA      2022-06-23    bronze     bronze         1   \n",
       "19015                 UEFA      2022-03-31    bronze     bronze         0   \n",
       "19016                 UEFA      2022-03-31      gold     bronze         1   \n",
       "19017                 UEFA      2022-03-31    bronze     bronze         1   \n",
       "...                    ...             ...       ...        ...       ...   \n",
       "24                    UEFA      1992-12-31      gold     bronze         1   \n",
       "23                     CAF      1992-12-31    bronze     bronze         1   \n",
       "22                     CAF      1992-12-31    bronze     bronze         0   \n",
       "21                    UEFA      1992-12-31      gold    diamond         0   \n",
       "0                      AFC      1992-12-31    bronze     bronze         0   \n",
       "\n",
       "       marginal_effect effect_tier match_importance  \n",
       "19298         0.002084        high         1.000000  \n",
       "19091         0.541463   very_high         1.000000  \n",
       "19015         0.045841        high         1.000000  \n",
       "19016         0.210886        high         1.000000  \n",
       "19017         0.076659        high         1.000000  \n",
       "...                ...         ...              ...  \n",
       "24            3.900000   very_high         0.023518  \n",
       "23            0.411765   very_high         0.023518  \n",
       "22            0.500000   very_high         0.023518  \n",
       "21           -0.157895        high         0.023518  \n",
       "0             0.120000        high         0.023518  \n",
       "\n",
       "[19299 rows x 34 columns]"
      ]
     },
     "execution_count": 139,
     "metadata": {},
     "output_type": "execute_result"
    }
   ],
   "source": [
    "data.sort_values(by='match_importance', ascending=False)"
   ]
  },
  {
   "cell_type": "code",
   "execution_count": 140,
   "id": "c8672fad",
   "metadata": {},
   "outputs": [
    {
     "data": {
      "text/plain": [
       "<AxesSubplot:xlabel='month', ylabel='home_win'>"
      ]
     },
     "execution_count": 140,
     "metadata": {},
     "output_type": "execute_result"
    },
    {
     "data": {
      "image/png": "[encoded data removed]",
      "text/plain": [
       "<Figure size 432x288 with 1 Axes>"
      ]
     },
     "metadata": {
      "needs_background": "light"
     },
     "output_type": "display_data"
    }
   ],
   "source": [
    "sns.barplot(x='month', y='home_win', data=data)"
   ]
  },
  {
   "cell_type": "code",
   "execution_count": 141,
   "id": "a5c6c2b5",
   "metadata": {},
   "outputs": [
    {
     "data": {
      "text/html": [
       "<div>\n",
       "<style scoped>\n",
       "    .dataframe tbody tr th:only-of-type {\n",
       "        vertical-align: middle;\n",
       "    }\n",
       "\n",
       "    .dataframe tbody tr th {\n",
       "        vertical-align: top;\n",
       "    }\n",
       "\n",
       "    .dataframe thead th {\n",
       "        text-align: right;\n",
       "    }\n",
       "</style>\n",
       "<table border=\"1\" class=\"dataframe\">\n",
       "  <thead>\n",
       "    <tr style=\"text-align: right;\">\n",
       "      <th></th>\n",
       "      <th>date</th>\n",
       "      <th>home_team</th>\n",
       "      <th>away_team</th>\n",
       "      <th>home_score</th>\n",
       "      <th>away_score</th>\n",
       "      <th>tournament</th>\n",
       "      <th>city</th>\n",
       "      <th>country</th>\n",
       "      <th>neutral</th>\n",
       "      <th>winner</th>\n",
       "      <th>...</th>\n",
       "      <th>previous_points__away</th>\n",
       "      <th>rank_change__away</th>\n",
       "      <th>confederation__away</th>\n",
       "      <th>rank_date__away</th>\n",
       "      <th>home_tier</th>\n",
       "      <th>away_tier</th>\n",
       "      <th>home_win</th>\n",
       "      <th>marginal_effect</th>\n",
       "      <th>effect_tier</th>\n",
       "      <th>match_importance</th>\n",
       "    </tr>\n",
       "  </thead>\n",
       "  <tbody>\n",
       "    <tr>\n",
       "      <th>0</th>\n",
       "      <td>1992-12-01</td>\n",
       "      <td>Saudi Arabia</td>\n",
       "      <td>United Arab Emirates</td>\n",
       "      <td>0</td>\n",
       "      <td>1</td>\n",
       "      <td>Gulf Cup</td>\n",
       "      <td>Doha</td>\n",
       "      <td>Qatar</td>\n",
       "      <td>True</td>\n",
       "      <td>home_lose</td>\n",
       "      <td>...</td>\n",
       "      <td>0.0</td>\n",
       "      <td>0</td>\n",
       "      <td>AFC</td>\n",
       "      <td>1992-12-31</td>\n",
       "      <td>bronze</td>\n",
       "      <td>bronze</td>\n",
       "      <td>0</td>\n",
       "      <td>0.12</td>\n",
       "      <td>high</td>\n",
       "      <td>0.023518</td>\n",
       "    </tr>\n",
       "    <tr>\n",
       "      <th>1</th>\n",
       "      <td>1992-12-06</td>\n",
       "      <td>Qatar</td>\n",
       "      <td>United Arab Emirates</td>\n",
       "      <td>1</td>\n",
       "      <td>0</td>\n",
       "      <td>Gulf Cup</td>\n",
       "      <td>Doha</td>\n",
       "      <td>Qatar</td>\n",
       "      <td>False</td>\n",
       "      <td>home_win</td>\n",
       "      <td>...</td>\n",
       "      <td>0.0</td>\n",
       "      <td>0</td>\n",
       "      <td>AFC</td>\n",
       "      <td>1992-12-31</td>\n",
       "      <td>bronze</td>\n",
       "      <td>bronze</td>\n",
       "      <td>1</td>\n",
       "      <td>0.08</td>\n",
       "      <td>high</td>\n",
       "      <td>0.023518</td>\n",
       "    </tr>\n",
       "    <tr>\n",
       "      <th>2</th>\n",
       "      <td>1992-12-04</td>\n",
       "      <td>Bahrain</td>\n",
       "      <td>United Arab Emirates</td>\n",
       "      <td>0</td>\n",
       "      <td>2</td>\n",
       "      <td>Gulf Cup</td>\n",
       "      <td>Doha</td>\n",
       "      <td>Qatar</td>\n",
       "      <td>True</td>\n",
       "      <td>home_lose</td>\n",
       "      <td>...</td>\n",
       "      <td>0.0</td>\n",
       "      <td>0</td>\n",
       "      <td>AFC</td>\n",
       "      <td>1992-12-31</td>\n",
       "      <td>bronze</td>\n",
       "      <td>bronze</td>\n",
       "      <td>0</td>\n",
       "      <td>-0.48</td>\n",
       "      <td>low</td>\n",
       "      <td>0.023518</td>\n",
       "    </tr>\n",
       "  </tbody>\n",
       "</table>\n",
       "<p>3 rows × 34 columns</p>\n",
       "</div>"
      ],
      "text/plain": [
       "         date     home_team             away_team  home_score  away_score  \\\n",
       "0  1992-12-01  Saudi Arabia  United Arab Emirates           0           1   \n",
       "1  1992-12-06         Qatar  United Arab Emirates           1           0   \n",
       "2  1992-12-04       Bahrain  United Arab Emirates           0           2   \n",
       "\n",
       "  tournament  city country  neutral     winner  ... previous_points__away  \\\n",
       "0   Gulf Cup  Doha   Qatar     True  home_lose  ...                   0.0   \n",
       "1   Gulf Cup  Doha   Qatar    False   home_win  ...                   0.0   \n",
       "2   Gulf Cup  Doha   Qatar     True  home_lose  ...                   0.0   \n",
       "\n",
       "  rank_change__away  confederation__away rank_date__away home_tier  away_tier  \\\n",
       "0                 0                  AFC      1992-12-31    bronze     bronze   \n",
       "1                 0                  AFC      1992-12-31    bronze     bronze   \n",
       "2                 0                  AFC      1992-12-31    bronze     bronze   \n",
       "\n",
       "   home_win  marginal_effect effect_tier match_importance  \n",
       "0         0             0.12        high         0.023518  \n",
       "1         1             0.08        high         0.023518  \n",
       "2         0            -0.48         low         0.023518  \n",
       "\n",
       "[3 rows x 34 columns]"
      ]
     },
     "execution_count": 141,
     "metadata": {},
     "output_type": "execute_result"
    }
   ],
   "source": [
    "data.head(3)"
   ]
  },
  {
   "cell_type": "code",
   "execution_count": null,
   "id": "2d312f8b",
   "metadata": {},
   "outputs": [],
   "source": []
  },
  {
   "cell_type": "code",
   "execution_count": 142,
   "id": "f9f28c91",
   "metadata": {},
   "outputs": [],
   "source": [
    "predictors = ['home_team', 'away_team', 'neutral', 'confederation', 'confederation__away'\n",
    "              , 'home_tier', 'away_tier', 'marginal_effect', 'effect_tier', 'match_importance']\n",
    "\n"
   ]
  },
  {
   "cell_type": "code",
   "execution_count": 143,
   "id": "63852147",
   "metadata": {},
   "outputs": [],
   "source": [
    "data['year_int'] = data['year'].astype(int)"
   ]
  },
  {
   "cell_type": "code",
   "execution_count": 144,
   "id": "0f39c335",
   "metadata": {},
   "outputs": [],
   "source": [
    "data_train = data.loc[data.tournament.isin(tournaments) & (data.year_int < 2016), ] \n",
    "data_test = data.loc[data.tournament.isin(tournaments) & (data.year_int >= 2016), ]"
   ]
  },
  {
   "cell_type": "code",
   "execution_count": 145,
   "id": "778a3293",
   "metadata": {},
   "outputs": [],
   "source": [
    "X = pd.get_dummies(data_train[predictors])\n",
    "y = data_train['winner']"
   ]
  },
  {
   "cell_type": "code",
   "execution_count": 146,
   "id": "cd7fb750",
   "metadata": {},
   "outputs": [],
   "source": [
    "# equilibrer le model\n",
    "\n",
    "from imblearn.over_sampling import SMOTE\n",
    "sm=SMOTE(random_state=0)\n",
    "X, y = sm.fit_sample(X, y)\n"
   ]
  },
  {
   "cell_type": "code",
   "execution_count": 147,
   "id": "8ac05fa2",
   "metadata": {},
   "outputs": [],
   "source": [
    "import xgboost as xgb"
   ]
  },
  {
   "cell_type": "code",
   "execution_count": 168,
   "id": "76053bec",
   "metadata": {},
   "outputs": [
    {
     "name": "stdout",
     "output_type": "stream",
     "text": [
      "[20:08:30] WARNING: C:\\Windows\\Temp\\abs_557yfx631l\\croots\\recipe\\xgboost-split_1659548953302\\work\\src\\learner.cc:1115: Starting in XGBoost 1.3.0, the default evaluation metric used with the objective 'multi:softprob' was changed from 'merror' to 'mlogloss'. Explicitly set eval_metric if you'd like to restore the old behavior.\n"
     ]
    },
    {
     "data": {
      "text/plain": [
       "XGBClassifier(base_score=0.5, booster='gbtree', colsample_bylevel=1,\n",
       "              colsample_bynode=1, colsample_bytree=1, enable_categorical=False,\n",
       "              gamma=0, gpu_id=-1, importance_type=None,\n",
       "              interaction_constraints='', learning_rate=0.300000012,\n",
       "              max_delta_step=0, max_depth=6, min_child_weight=1, missing=nan,\n",
       "              monotone_constraints='()', n_estimators=100, n_jobs=4,\n",
       "              num_parallel_tree=1, objective='multi:softprob', predictor='auto',\n",
       "              random_state=0, reg_alpha=0, reg_lambda=1, scale_pos_weight=None,\n",
       "              subsample=1, tree_method='exact', validate_parameters=1,\n",
       "              verbosity=None)"
      ]
     },
     "execution_count": 168,
     "metadata": {},
     "output_type": "execute_result"
    }
   ],
   "source": [
    "model = xgb.XGBClassifier()\n",
    "model.fit(X, y)\n"
   ]
  },
  {
   "cell_type": "code",
   "execution_count": 169,
   "id": "1fc0c4d2",
   "metadata": {},
   "outputs": [
    {
     "name": "stdout",
     "output_type": "stream",
     "text": [
      "              precision    recall  f1-score   support\n",
      "\n",
      "        draw       0.74      0.77      0.76      3453\n",
      "   home_lose       0.79      0.75      0.77      3453\n",
      "    home_win       0.82      0.82      0.82      3453\n",
      "\n",
      "    accuracy                           0.78     10359\n",
      "   macro avg       0.78      0.78      0.78     10359\n",
      "weighted avg       0.78      0.78      0.78     10359\n",
      "\n"
     ]
    }
   ],
   "source": [
    "\n",
    "print(classification_report(y, model.predict(X)))"
   ]
  },
  {
   "cell_type": "code",
   "execution_count": 170,
   "id": "1402fecd",
   "metadata": {},
   "outputs": [
    {
     "data": {
      "text/plain": [
       "<bound method XGBModel.get_params of XGBClassifier(base_score=0.5, booster='gbtree', colsample_bylevel=1,\n",
       "              colsample_bynode=1, colsample_bytree=1, enable_categorical=False,\n",
       "              gamma=0, gpu_id=-1, importance_type=None,\n",
       "              interaction_constraints='', learning_rate=0.300000012,\n",
       "              max_delta_step=0, max_depth=6, min_child_weight=1, missing=nan,\n",
       "              monotone_constraints='()', n_estimators=100, n_jobs=4,\n",
       "              num_parallel_tree=1, objective='multi:softprob', predictor='auto',\n",
       "              random_state=0, reg_alpha=0, reg_lambda=1, scale_pos_weight=None,\n",
       "              subsample=1, tree_method='exact', validate_parameters=1,\n",
       "              verbosity=None)>"
      ]
     },
     "execution_count": 170,
     "metadata": {},
     "output_type": "execute_result"
    }
   ],
   "source": [
    "model.get_params"
   ]
  },
  {
   "cell_type": "code",
   "execution_count": 171,
   "id": "db2d2bd5",
   "metadata": {},
   "outputs": [
    {
     "name": "stdout",
     "output_type": "stream",
     "text": [
      "[20:09:09] WARNING: C:\\Windows\\Temp\\abs_557yfx631l\\croots\\recipe\\xgboost-split_1659548953302\\work\\src\\learner.cc:1115: Starting in XGBoost 1.3.0, the default evaluation metric used with the objective 'multi:softprob' was changed from 'merror' to 'mlogloss'. Explicitly set eval_metric if you'd like to restore the old behavior.\n",
      "              precision    recall  f1-score   support\n",
      "\n",
      "        draw       0.74      0.77      0.76      3453\n",
      "   home_lose       0.79      0.75      0.77      3453\n",
      "    home_win       0.82      0.82      0.82      3453\n",
      "\n",
      "    accuracy                           0.78     10359\n",
      "   macro avg       0.78      0.78      0.78     10359\n",
      "weighted avg       0.78      0.78      0.78     10359\n",
      "\n"
     ]
    }
   ],
   "source": [
    "model = xgb.XGBClassifier(n_estimators=100, max_depth=None, subsample=1, colsample_bytree=1,random_state=0)\n",
    "\n",
    "model.fit(X, y)\n",
    "\n",
    "print(classification_report(y, model.predict(X)))"
   ]
  },
  {
   "cell_type": "code",
   "execution_count": 172,
   "id": "820307ca",
   "metadata": {},
   "outputs": [
    {
     "name": "stdout",
     "output_type": "stream",
     "text": [
      "[20:09:42] WARNING: C:\\Windows\\Temp\\abs_557yfx631l\\croots\\recipe\\xgboost-split_1659548953302\\work\\src\\learner.cc:1115: Starting in XGBoost 1.3.0, the default evaluation metric used with the objective 'multi:softprob' was changed from 'merror' to 'mlogloss'. Explicitly set eval_metric if you'd like to restore the old behavior.\n",
      "[20:09:44] WARNING: C:\\Windows\\Temp\\abs_557yfx631l\\croots\\recipe\\xgboost-split_1659548953302\\work\\src\\learner.cc:1115: Starting in XGBoost 1.3.0, the default evaluation metric used with the objective 'multi:softprob' was changed from 'merror' to 'mlogloss'. Explicitly set eval_metric if you'd like to restore the old behavior.\n",
      "[20:09:46] WARNING: C:\\Windows\\Temp\\abs_557yfx631l\\croots\\recipe\\xgboost-split_1659548953302\\work\\src\\learner.cc:1115: Starting in XGBoost 1.3.0, the default evaluation metric used with the objective 'multi:softprob' was changed from 'merror' to 'mlogloss'. Explicitly set eval_metric if you'd like to restore the old behavior.\n",
      "[20:09:48] WARNING: C:\\Windows\\Temp\\abs_557yfx631l\\croots\\recipe\\xgboost-split_1659548953302\\work\\src\\learner.cc:1115: Starting in XGBoost 1.3.0, the default evaluation metric used with the objective 'multi:softprob' was changed from 'merror' to 'mlogloss'. Explicitly set eval_metric if you'd like to restore the old behavior.\n",
      "[20:09:50] WARNING: C:\\Windows\\Temp\\abs_557yfx631l\\croots\\recipe\\xgboost-split_1659548953302\\work\\src\\learner.cc:1115: Starting in XGBoost 1.3.0, the default evaluation metric used with the objective 'multi:softprob' was changed from 'merror' to 'mlogloss'. Explicitly set eval_metric if you'd like to restore the old behavior.\n",
      "[20:09:52] WARNING: C:\\Windows\\Temp\\abs_557yfx631l\\croots\\recipe\\xgboost-split_1659548953302\\work\\src\\learner.cc:1115: Starting in XGBoost 1.3.0, the default evaluation metric used with the objective 'multi:softprob' was changed from 'merror' to 'mlogloss'. Explicitly set eval_metric if you'd like to restore the old behavior.\n"
     ]
    },
    {
     "data": {
      "text/plain": [
       "GridSearchCV(estimator=XGBClassifier(base_score=None, booster=None,\n",
       "                                     colsample_bylevel=None,\n",
       "                                     colsample_bynode=None,\n",
       "                                     colsample_bytree=None,\n",
       "                                     enable_categorical=False, gamma=None,\n",
       "                                     gpu_id=None, importance_type=None,\n",
       "                                     interaction_constraints=None,\n",
       "                                     learning_rate=None, max_delta_step=None,\n",
       "                                     max_depth=None, min_child_weight=None,\n",
       "                                     missing=nan, monotone_constraints=None,\n",
       "                                     n_estimators=100, n_jobs=None,\n",
       "                                     num_parallel_tree=None, predictor=None,\n",
       "                                     random_state=0, reg_alpha=None,\n",
       "                                     reg_lambda=None, scale_pos_weight=None,\n",
       "                                     subsample=None, tree_method=None,\n",
       "                                     validate_parameters=None, verbosity=None),\n",
       "             param_grid={'colsample_bytree': [1], 'max_depth': [None],\n",
       "                         'n_estimators': [6], 'subsample': [0.3]},\n",
       "             scoring='accuracy')"
      ]
     },
     "execution_count": 172,
     "metadata": {},
     "output_type": "execute_result"
    }
   ],
   "source": [
    "from sklearn.model_selection import GridSearchCV\n",
    "\n",
    "grid = {\n",
    "    'n_estimators' : [6],\n",
    "    'max_depth' : [None],\n",
    "    'subsample' : [.3],\n",
    "    'colsample_bytree' : [1]\n",
    "}\n",
    "\n",
    "model = xgb.XGBClassifier(random_state=0)\n",
    "\n",
    "clf = GridSearchCV(model, grid, scoring='accuracy')\n",
    "\n",
    "clf.fit(X, y)"
   ]
  },
  {
   "cell_type": "code",
   "execution_count": 173,
   "id": "0d6950b2",
   "metadata": {},
   "outputs": [
    {
     "data": {
      "text/plain": [
       "{'colsample_bytree': 1, 'max_depth': None, 'n_estimators': 6, 'subsample': 0.3}"
      ]
     },
     "execution_count": 173,
     "metadata": {},
     "output_type": "execute_result"
    }
   ],
   "source": [
    "clf.best_params_\n"
   ]
  },
  {
   "cell_type": "code",
   "execution_count": 174,
   "id": "75b60ed6",
   "metadata": {},
   "outputs": [
    {
     "name": "stdout",
     "output_type": "stream",
     "text": [
      "avec optimization \n",
      "               precision    recall  f1-score   support\n",
      "\n",
      "        draw       0.54      0.51      0.52      3453\n",
      "   home_lose       0.66      0.67      0.66      3453\n",
      "    home_win       0.68      0.71      0.69      3453\n",
      "\n",
      "    accuracy                           0.63     10359\n",
      "   macro avg       0.63      0.63      0.63     10359\n",
      "weighted avg       0.63      0.63      0.63     10359\n",
      "\n"
     ]
    }
   ],
   "source": [
    "print('avec optimization \\n',classification_report(y, clf.best_estimator_.predict(X)))\n",
    "\n"
   ]
  },
  {
   "cell_type": "code",
   "execution_count": 175,
   "id": "122293e2",
   "metadata": {},
   "outputs": [
    {
     "data": {
      "text/plain": [
       "['FIFA2022_predictors.mdl']"
      ]
     },
     "execution_count": 175,
     "metadata": {},
     "output_type": "execute_result"
    }
   ],
   "source": [
    "model = clf.best_estimator_\n",
    "\n",
    "import joblib\n",
    "\n",
    "joblib.dump(model, 'FIFA2022_predictors.mdl')"
   ]
  },
  {
   "cell_type": "code",
   "execution_count": 176,
   "id": "86d72f5b",
   "metadata": {},
   "outputs": [
    {
     "data": {
      "text/plain": [
       "['home_team',\n",
       " 'away_team',\n",
       " 'neutral',\n",
       " 'confederation',\n",
       " 'confederation__away',\n",
       " 'home_tier',\n",
       " 'away_tier',\n",
       " 'marginal_effect',\n",
       " 'effect_tier',\n",
       " 'match_importance']"
      ]
     },
     "execution_count": 176,
     "metadata": {},
     "output_type": "execute_result"
    }
   ],
   "source": [
    "predictors"
   ]
  },
  {
   "cell_type": "code",
   "execution_count": 177,
   "id": "7d7d73c7",
   "metadata": {},
   "outputs": [],
   "source": [
    "#Morocco 1558.35\n",
    "#Brazil 1837.56\n",
    "\n",
    "marginal_effect = (1558.35 - 1837.56) / 1837.56"
   ]
  },
  {
   "cell_type": "code",
   "execution_count": 178,
   "id": "cdf13dad",
   "metadata": {},
   "outputs": [],
   "source": [
    "match = ['Morocco', 'Brazil', True, 'CAF', 'CONMEBOL', 'silver', 'diamond', marginal_effect, 'high', 1]"
   ]
  },
  {
   "cell_type": "code",
   "execution_count": 179,
   "id": "ed864b2d",
   "metadata": {},
   "outputs": [
    {
     "data": {
      "text/plain": [
       "['Morocco',\n",
       " 'Brazil',\n",
       " True,\n",
       " 'CAF',\n",
       " 'CONMEBOL',\n",
       " 'silver',\n",
       " 'diamond',\n",
       " -0.15194605890419907,\n",
       " 'high',\n",
       " 1]"
      ]
     },
     "execution_count": 179,
     "metadata": {},
     "output_type": "execute_result"
    }
   ],
   "source": [
    "match"
   ]
  },
  {
   "cell_type": "code",
   "execution_count": 180,
   "id": "13b12326",
   "metadata": {},
   "outputs": [
    {
     "data": {
      "text/html": [
       "<div>\n",
       "<style scoped>\n",
       "    .dataframe tbody tr th:only-of-type {\n",
       "        vertical-align: middle;\n",
       "    }\n",
       "\n",
       "    .dataframe tbody tr th {\n",
       "        vertical-align: top;\n",
       "    }\n",
       "\n",
       "    .dataframe thead th {\n",
       "        text-align: right;\n",
       "    }\n",
       "</style>\n",
       "<table border=\"1\" class=\"dataframe\">\n",
       "  <thead>\n",
       "    <tr style=\"text-align: right;\">\n",
       "      <th></th>\n",
       "      <th>home_team</th>\n",
       "      <th>away_team</th>\n",
       "      <th>neutral</th>\n",
       "      <th>confederation</th>\n",
       "      <th>confederation__away</th>\n",
       "      <th>home_tier</th>\n",
       "      <th>away_tier</th>\n",
       "      <th>marginal_effect</th>\n",
       "      <th>effect_tier</th>\n",
       "      <th>match_importance</th>\n",
       "    </tr>\n",
       "  </thead>\n",
       "  <tbody>\n",
       "    <tr>\n",
       "      <th>0</th>\n",
       "      <td>Morocco</td>\n",
       "      <td>Brazil</td>\n",
       "      <td>True</td>\n",
       "      <td>CAF</td>\n",
       "      <td>CONMEBOL</td>\n",
       "      <td>silver</td>\n",
       "      <td>diamond</td>\n",
       "      <td>-0.151946</td>\n",
       "      <td>high</td>\n",
       "      <td>1</td>\n",
       "    </tr>\n",
       "  </tbody>\n",
       "</table>\n",
       "</div>"
      ],
      "text/plain": [
       "  home_team away_team  neutral confederation confederation__away home_tier  \\\n",
       "0   Morocco    Brazil     True           CAF            CONMEBOL    silver   \n",
       "\n",
       "  away_tier  marginal_effect effect_tier  match_importance  \n",
       "0   diamond        -0.151946        high                 1  "
      ]
     },
     "execution_count": 180,
     "metadata": {},
     "output_type": "execute_result"
    }
   ],
   "source": [
    "d_match = pd.DataFrame([match], columns=predictors)\n",
    "d_match"
   ]
  },
  {
   "cell_type": "code",
   "execution_count": 181,
   "id": "d4d5265c",
   "metadata": {},
   "outputs": [],
   "source": [
    "x_match = pd.get_dummies(d_match[predictors])"
   ]
  },
  {
   "cell_type": "code",
   "execution_count": 182,
   "id": "5f079a71",
   "metadata": {},
   "outputs": [],
   "source": [
    "for col in X.columns:\n",
    "    if col not in x_match:\n",
    "        x_match[col] = 0"
   ]
  },
  {
   "cell_type": "code",
   "execution_count": 183,
   "id": "0e190bbe",
   "metadata": {},
   "outputs": [
    {
     "data": {
      "text/plain": [
       "array([[0.2812338 , 0.44319665, 0.2755695 ]], dtype=float32)"
      ]
     },
     "execution_count": 183,
     "metadata": {},
     "output_type": "execute_result"
    }
   ],
   "source": [
    "model.predict_proba(x_match[X.columns])"
   ]
  },
  {
   "cell_type": "code",
   "execution_count": 184,
   "id": "e8d4c14b",
   "metadata": {},
   "outputs": [
    {
     "data": {
      "text/plain": [
       "['home_team',\n",
       " 'away_team',\n",
       " 'neutral',\n",
       " 'confederation',\n",
       " 'confederation__away',\n",
       " 'home_tier',\n",
       " 'away_tier',\n",
       " 'marginal_effect',\n",
       " 'effect_tier',\n",
       " 'match_importance']"
      ]
     },
     "execution_count": 184,
     "metadata": {},
     "output_type": "execute_result"
    }
   ],
   "source": [
    "predictors"
   ]
  },
  {
   "cell_type": "code",
   "execution_count": 185,
   "id": "04adcdf7",
   "metadata": {},
   "outputs": [
    {
     "data": {
      "text/plain": [
       "array(['home_lose'], dtype=object)"
      ]
     },
     "execution_count": 185,
     "metadata": {},
     "output_type": "execute_result"
    }
   ],
   "source": [
    "model.predict(x_match[X.columns])"
   ]
  },
  {
   "cell_type": "code",
   "execution_count": 186,
   "id": "175cad6a",
   "metadata": {},
   "outputs": [
    {
     "data": {
      "text/html": [
       "<div>\n",
       "<style scoped>\n",
       "    .dataframe tbody tr th:only-of-type {\n",
       "        vertical-align: middle;\n",
       "    }\n",
       "\n",
       "    .dataframe tbody tr th {\n",
       "        vertical-align: top;\n",
       "    }\n",
       "\n",
       "    .dataframe thead th {\n",
       "        text-align: right;\n",
       "    }\n",
       "</style>\n",
       "<table border=\"1\" class=\"dataframe\">\n",
       "  <thead>\n",
       "    <tr style=\"text-align: right;\">\n",
       "      <th></th>\n",
       "      <th>home_team</th>\n",
       "      <th>away_team</th>\n",
       "      <th>neutral</th>\n",
       "      <th>confederation</th>\n",
       "      <th>confederation__away</th>\n",
       "      <th>home_tier</th>\n",
       "      <th>away_tier</th>\n",
       "      <th>marginal_effect</th>\n",
       "      <th>effect_tier</th>\n",
       "      <th>match_importance</th>\n",
       "    </tr>\n",
       "  </thead>\n",
       "  <tbody>\n",
       "    <tr>\n",
       "      <th>0</th>\n",
       "      <td>Saudi Arabia</td>\n",
       "      <td>United Arab Emirates</td>\n",
       "      <td>True</td>\n",
       "      <td>AFC</td>\n",
       "      <td>AFC</td>\n",
       "      <td>bronze</td>\n",
       "      <td>bronze</td>\n",
       "      <td>0.12</td>\n",
       "      <td>high</td>\n",
       "      <td>0.023518</td>\n",
       "    </tr>\n",
       "  </tbody>\n",
       "</table>\n",
       "</div>"
      ],
      "text/plain": [
       "      home_team             away_team  neutral confederation  \\\n",
       "0  Saudi Arabia  United Arab Emirates     True           AFC   \n",
       "\n",
       "  confederation__away home_tier away_tier  marginal_effect effect_tier  \\\n",
       "0                 AFC    bronze    bronze             0.12        high   \n",
       "\n",
       "   match_importance  \n",
       "0          0.023518  "
      ]
     },
     "execution_count": 186,
     "metadata": {},
     "output_type": "execute_result"
    }
   ],
   "source": [
    "data.iloc[[0]][predictors]"
   ]
  },
  {
   "cell_type": "code",
   "execution_count": 187,
   "id": "7793894a",
   "metadata": {},
   "outputs": [],
   "source": [
    "#Morocco 1558.35\n",
    "#Brazil 1837.56\n",
    "\n",
    "marginal_effect = (1558.35 - 1837.56) / 1837.56"
   ]
  },
  {
   "cell_type": "code",
   "execution_count": 188,
   "id": "bc2f1e76",
   "metadata": {},
   "outputs": [
    {
     "data": {
      "text/html": [
       "<div>\n",
       "<style scoped>\n",
       "    .dataframe tbody tr th:only-of-type {\n",
       "        vertical-align: middle;\n",
       "    }\n",
       "\n",
       "    .dataframe tbody tr th {\n",
       "        vertical-align: top;\n",
       "    }\n",
       "\n",
       "    .dataframe thead th {\n",
       "        text-align: right;\n",
       "    }\n",
       "</style>\n",
       "<table border=\"1\" class=\"dataframe\">\n",
       "  <thead>\n",
       "    <tr style=\"text-align: right;\">\n",
       "      <th></th>\n",
       "      <th>date</th>\n",
       "      <th>home_team</th>\n",
       "      <th>home_tier</th>\n",
       "      <th>total_points</th>\n",
       "      <th>away_team</th>\n",
       "      <th>away_tier</th>\n",
       "      <th>total_points__away</th>\n",
       "    </tr>\n",
       "  </thead>\n",
       "  <tbody>\n",
       "    <tr>\n",
       "      <th>19295</th>\n",
       "      <td>2022-06-13</td>\n",
       "      <td>Morocco</td>\n",
       "      <td>silver</td>\n",
       "      <td>1558.90</td>\n",
       "      <td>Liberia</td>\n",
       "      <td>bronze</td>\n",
       "      <td>1047.36</td>\n",
       "    </tr>\n",
       "    <tr>\n",
       "      <th>19294</th>\n",
       "      <td>2022-06-09</td>\n",
       "      <td>Morocco</td>\n",
       "      <td>silver</td>\n",
       "      <td>1558.90</td>\n",
       "      <td>South Africa</td>\n",
       "      <td>bronze</td>\n",
       "      <td>1347.91</td>\n",
       "    </tr>\n",
       "    <tr>\n",
       "      <th>18853</th>\n",
       "      <td>2021-12-11</td>\n",
       "      <td>Morocco</td>\n",
       "      <td>silver</td>\n",
       "      <td>1529.93</td>\n",
       "      <td>Algeria</td>\n",
       "      <td>silver</td>\n",
       "      <td>1516.51</td>\n",
       "    </tr>\n",
       "    <tr>\n",
       "      <th>18851</th>\n",
       "      <td>2021-12-07</td>\n",
       "      <td>Morocco</td>\n",
       "      <td>silver</td>\n",
       "      <td>1529.93</td>\n",
       "      <td>Saudi Arabia</td>\n",
       "      <td>bronze</td>\n",
       "      <td>1434.71</td>\n",
       "    </tr>\n",
       "    <tr>\n",
       "      <th>18879</th>\n",
       "      <td>2021-12-04</td>\n",
       "      <td>Jordan</td>\n",
       "      <td>bronze</td>\n",
       "      <td>1255.69</td>\n",
       "      <td>Morocco</td>\n",
       "      <td>silver</td>\n",
       "      <td>1529.93</td>\n",
       "    </tr>\n",
       "    <tr>\n",
       "      <th>...</th>\n",
       "      <td>...</td>\n",
       "      <td>...</td>\n",
       "      <td>...</td>\n",
       "      <td>...</td>\n",
       "      <td>...</td>\n",
       "      <td>...</td>\n",
       "      <td>...</td>\n",
       "    </tr>\n",
       "    <tr>\n",
       "      <th>187</th>\n",
       "      <td>1994-02-02</td>\n",
       "      <td>Egypt</td>\n",
       "      <td>silver</td>\n",
       "      <td>46.00</td>\n",
       "      <td>Morocco</td>\n",
       "      <td>silver</td>\n",
       "      <td>44.00</td>\n",
       "    </tr>\n",
       "    <tr>\n",
       "      <th>107</th>\n",
       "      <td>1993-10-10</td>\n",
       "      <td>Morocco</td>\n",
       "      <td>silver</td>\n",
       "      <td>43.00</td>\n",
       "      <td>Zambia</td>\n",
       "      <td>silver</td>\n",
       "      <td>45.00</td>\n",
       "    </tr>\n",
       "    <tr>\n",
       "      <th>105</th>\n",
       "      <td>1993-10-01</td>\n",
       "      <td>Morocco</td>\n",
       "      <td>silver</td>\n",
       "      <td>43.00</td>\n",
       "      <td>Gabon</td>\n",
       "      <td>bronze</td>\n",
       "      <td>32.00</td>\n",
       "    </tr>\n",
       "    <tr>\n",
       "      <th>93</th>\n",
       "      <td>1993-09-15</td>\n",
       "      <td>Morocco</td>\n",
       "      <td>silver</td>\n",
       "      <td>42.00</td>\n",
       "      <td>Mali</td>\n",
       "      <td>bronze</td>\n",
       "      <td>27.00</td>\n",
       "    </tr>\n",
       "    <tr>\n",
       "      <th>33</th>\n",
       "      <td>1992-12-20</td>\n",
       "      <td>Tunisia</td>\n",
       "      <td>bronze</td>\n",
       "      <td>35.00</td>\n",
       "      <td>Morocco</td>\n",
       "      <td>bronze</td>\n",
       "      <td>32.00</td>\n",
       "    </tr>\n",
       "  </tbody>\n",
       "</table>\n",
       "<p>274 rows × 7 columns</p>\n",
       "</div>"
      ],
      "text/plain": [
       "             date home_team home_tier  total_points     away_team away_tier  \\\n",
       "19295  2022-06-13   Morocco    silver       1558.90       Liberia    bronze   \n",
       "19294  2022-06-09   Morocco    silver       1558.90  South Africa    bronze   \n",
       "18853  2021-12-11   Morocco    silver       1529.93       Algeria    silver   \n",
       "18851  2021-12-07   Morocco    silver       1529.93  Saudi Arabia    bronze   \n",
       "18879  2021-12-04    Jordan    bronze       1255.69       Morocco    silver   \n",
       "...           ...       ...       ...           ...           ...       ...   \n",
       "187    1994-02-02     Egypt    silver         46.00       Morocco    silver   \n",
       "107    1993-10-10   Morocco    silver         43.00        Zambia    silver   \n",
       "105    1993-10-01   Morocco    silver         43.00         Gabon    bronze   \n",
       "93     1993-09-15   Morocco    silver         42.00          Mali    bronze   \n",
       "33     1992-12-20   Tunisia    bronze         35.00       Morocco    bronze   \n",
       "\n",
       "       total_points__away  \n",
       "19295             1047.36  \n",
       "19294             1347.91  \n",
       "18853             1516.51  \n",
       "18851             1434.71  \n",
       "18879             1529.93  \n",
       "...                   ...  \n",
       "187                 44.00  \n",
       "107                 45.00  \n",
       "105                 32.00  \n",
       "93                  27.00  \n",
       "33                  32.00  \n",
       "\n",
       "[274 rows x 7 columns]"
      ]
     },
     "execution_count": 188,
     "metadata": {},
     "output_type": "execute_result"
    }
   ],
   "source": [
    "data.query('home_team==\"Morocco\" or away_team==\"Morocco\"').sort_values(by='date', ascending=False)[['date', 'home_team', 'home_tier', 'total_points', 'away_team', 'away_tier', 'total_points__away']]"
   ]
  },
  {
   "cell_type": "code",
   "execution_count": 189,
   "id": "68da76a7",
   "metadata": {},
   "outputs": [
    {
     "data": {
      "text/plain": [
       "array(['home_win', 'home_lose'], dtype=object)"
      ]
     },
     "execution_count": 189,
     "metadata": {},
     "output_type": "execute_result"
    }
   ],
   "source": [
    "model.predict(X.head(2))"
   ]
  },
  {
   "cell_type": "code",
   "execution_count": 190,
   "id": "d5a8dcea",
   "metadata": {},
   "outputs": [
    {
     "data": {
      "text/plain": [
       "{'colsample_bytree': 1, 'max_depth': None, 'n_estimators': 6, 'subsample': 0.3}"
      ]
     },
     "execution_count": 190,
     "metadata": {},
     "output_type": "execute_result"
    }
   ],
   "source": [
    "clf.best_params_"
   ]
  },
  {
   "cell_type": "code",
   "execution_count": 191,
   "id": "3367b4dd",
   "metadata": {},
   "outputs": [
    {
     "data": {
      "text/plain": [
       "Index(['neutral', 'marginal_effect', 'match_importance',\n",
       "       'home_team_Afghanistan', 'home_team_Albania', 'home_team_Algeria',\n",
       "       'home_team_American Samoa', 'home_team_Andorra', 'home_team_Angola',\n",
       "       'home_team_Anguilla',\n",
       "       ...\n",
       "       'home_tier_gold', 'home_tier_silver', 'away_tier_bronze',\n",
       "       'away_tier_diamond', 'away_tier_gold', 'away_tier_silver',\n",
       "       'effect_tier_high', 'effect_tier_low', 'effect_tier_medium',\n",
       "       'effect_tier_very_high'],\n",
       "      dtype='object', length=411)"
      ]
     },
     "execution_count": 191,
     "metadata": {},
     "output_type": "execute_result"
    }
   ],
   "source": [
    "X.columns"
   ]
  },
  {
   "cell_type": "code",
   "execution_count": 192,
   "id": "11995129",
   "metadata": {},
   "outputs": [],
   "source": [
    "X_test = pd.get_dummies(data_test[predictors])"
   ]
  },
  {
   "cell_type": "code",
   "execution_count": 193,
   "id": "459017e4",
   "metadata": {},
   "outputs": [],
   "source": [
    "for col in X.columns:\n",
    "    if col not in X_test.columns:\n",
    "        X_test[col] = 0"
   ]
  },
  {
   "cell_type": "code",
   "execution_count": 194,
   "id": "9c803e29",
   "metadata": {},
   "outputs": [
    {
     "name": "stdout",
     "output_type": "stream",
     "text": [
      "              precision    recall  f1-score   support\n",
      "\n",
      "        draw       0.28      0.07      0.11       545\n",
      "   home_lose       0.58      0.49      0.53       708\n",
      "    home_win       0.58      0.85      0.69      1108\n",
      "\n",
      "    accuracy                           0.56      2361\n",
      "   macro avg       0.48      0.47      0.44      2361\n",
      "weighted avg       0.51      0.56      0.51      2361\n",
      "\n"
     ]
    }
   ],
   "source": [
    "print(classification_report(data_test['winner'], clf.best_estimator_.predict(X_test[X.columns])))"
   ]
  },
  {
   "cell_type": "code",
   "execution_count": 195,
   "id": "60c77c77",
   "metadata": {},
   "outputs": [],
   "source": [
    "d_points = fr.query('year==\"2022\" and month==\"08\"')[['rank', 'country_full', 'total_points']]"
   ]
  },
  {
   "cell_type": "code",
   "execution_count": 196,
   "id": "ead354a8",
   "metadata": {},
   "outputs": [],
   "source": [
    "def marginal_effect(home_team, away_team):\n",
    "    home_points = d_points.loc[d_points.country_full==home_team, 'total_points'].iloc[0]\n",
    "    away_points = d_points.loc[d_points.country_full==away_team, 'total_points'].iloc[0]\n",
    "    \n",
    "    return (home_points - away_points) / away_points"
   ]
  },
  {
   "cell_type": "code",
   "execution_count": 197,
   "id": "295b57f5",
   "metadata": {},
   "outputs": [
    {
     "data": {
      "text/plain": [
       "-0.15194605890419907"
      ]
     },
     "execution_count": 197,
     "metadata": {},
     "output_type": "execute_result"
    }
   ],
   "source": [
    "marginal_effect('Morocco', 'Brazil')"
   ]
  },
  {
   "cell_type": "code",
   "execution_count": 198,
   "id": "d58f23aa",
   "metadata": {},
   "outputs": [],
   "source": [
    "d_rank = fr.query('year==\"2022\" and month==\"08\"')"
   ]
  },
  {
   "cell_type": "code",
   "execution_count": 199,
   "id": "cff7c666",
   "metadata": {},
   "outputs": [],
   "source": [
    "def confederation(team):\n",
    "    return d_rank.loc[d_rank.country_full==team, 'confederation'].iloc[0]"
   ]
  },
  {
   "cell_type": "code",
   "execution_count": 200,
   "id": "3e1da1d6",
   "metadata": {},
   "outputs": [
    {
     "data": {
      "text/plain": [
       "'CONMEBOL'"
      ]
     },
     "execution_count": 200,
     "metadata": {},
     "output_type": "execute_result"
    }
   ],
   "source": [
    "confederation('Brazil')"
   ]
  },
  {
   "cell_type": "code",
   "execution_count": 201,
   "id": "dff731db",
   "metadata": {},
   "outputs": [
    {
     "data": {
      "text/html": [
       "<div>\n",
       "<style scoped>\n",
       "    .dataframe tbody tr th:only-of-type {\n",
       "        vertical-align: middle;\n",
       "    }\n",
       "\n",
       "    .dataframe tbody tr th {\n",
       "        vertical-align: top;\n",
       "    }\n",
       "\n",
       "    .dataframe thead th {\n",
       "        text-align: right;\n",
       "    }\n",
       "</style>\n",
       "<table border=\"1\" class=\"dataframe\">\n",
       "  <thead>\n",
       "    <tr style=\"text-align: right;\">\n",
       "      <th></th>\n",
       "      <th>country_full</th>\n",
       "      <th>confederation</th>\n",
       "      <th>rank</th>\n",
       "    </tr>\n",
       "  </thead>\n",
       "  <tbody>\n",
       "    <tr>\n",
       "      <th>223</th>\n",
       "      <td>Zimbabwe</td>\n",
       "      <td>CAF</td>\n",
       "      <td>322</td>\n",
       "    </tr>\n",
       "    <tr>\n",
       "      <th>157</th>\n",
       "      <td>Portugal</td>\n",
       "      <td>UEFA</td>\n",
       "      <td>322</td>\n",
       "    </tr>\n",
       "    <tr>\n",
       "      <th>98</th>\n",
       "      <td>Israel</td>\n",
       "      <td>UEFA</td>\n",
       "      <td>322</td>\n",
       "    </tr>\n",
       "    <tr>\n",
       "      <th>97</th>\n",
       "      <td>Iraq</td>\n",
       "      <td>AFC</td>\n",
       "      <td>322</td>\n",
       "    </tr>\n",
       "    <tr>\n",
       "      <th>96</th>\n",
       "      <td>Indonesia</td>\n",
       "      <td>AFC</td>\n",
       "      <td>322</td>\n",
       "    </tr>\n",
       "    <tr>\n",
       "      <th>...</th>\n",
       "      <td>...</td>\n",
       "      <td>...</td>\n",
       "      <td>...</td>\n",
       "    </tr>\n",
       "    <tr>\n",
       "      <th>193</th>\n",
       "      <td>São Tomé and Príncipe</td>\n",
       "      <td>CAF</td>\n",
       "      <td>23</td>\n",
       "    </tr>\n",
       "    <tr>\n",
       "      <th>33</th>\n",
       "      <td>Cabo Verde</td>\n",
       "      <td>CAF</td>\n",
       "      <td>23</td>\n",
       "    </tr>\n",
       "    <tr>\n",
       "      <th>56</th>\n",
       "      <td>Czechoslovakia</td>\n",
       "      <td>UEFA</td>\n",
       "      <td>6</td>\n",
       "    </tr>\n",
       "    <tr>\n",
       "      <th>207</th>\n",
       "      <td>Türkiye</td>\n",
       "      <td>UEFA</td>\n",
       "      <td>2</td>\n",
       "    </tr>\n",
       "    <tr>\n",
       "      <th>194</th>\n",
       "      <td>São Tomé e Príncipe</td>\n",
       "      <td>CAF</td>\n",
       "      <td>1</td>\n",
       "    </tr>\n",
       "  </tbody>\n",
       "</table>\n",
       "<p>224 rows × 3 columns</p>\n",
       "</div>"
      ],
      "text/plain": [
       "              country_full confederation  rank\n",
       "223               Zimbabwe           CAF   322\n",
       "157               Portugal          UEFA   322\n",
       "98                  Israel          UEFA   322\n",
       "97                    Iraq           AFC   322\n",
       "96               Indonesia           AFC   322\n",
       "..                     ...           ...   ...\n",
       "193  São Tomé and Príncipe           CAF    23\n",
       "33              Cabo Verde           CAF    23\n",
       "56          Czechoslovakia          UEFA     6\n",
       "207                Türkiye          UEFA     2\n",
       "194    São Tomé e Príncipe           CAF     1\n",
       "\n",
       "[224 rows x 3 columns]"
      ]
     },
     "execution_count": 201,
     "metadata": {},
     "output_type": "execute_result"
    }
   ],
   "source": [
    "fr.groupby(['country_full', 'confederation']).agg({'rank':'count'}).reset_index().sort_values(by='rank', ascending=False)"
   ]
  },
  {
   "cell_type": "code",
   "execution_count": 202,
   "id": "c3f351e9",
   "metadata": {},
   "outputs": [
    {
     "data": {
      "text/plain": [
       "array(['UEFA'], dtype=object)"
      ]
     },
     "execution_count": 202,
     "metadata": {},
     "output_type": "execute_result"
    }
   ],
   "source": [
    "fr.query('country_full==\"Israel\"').confederation.unique()"
   ]
  },
  {
   "cell_type": "code",
   "execution_count": 203,
   "id": "3d072d01",
   "metadata": {},
   "outputs": [],
   "source": [
    "def get_tier(team):\n",
    "    r = d_rank.loc[d_rank.country_full==team, 'rank'].iloc[0]\n",
    "    if r <= 8:\n",
    "        return 'diamond'\n",
    "    elif r <= 16:\n",
    "        return 'gold'\n",
    "    elif r <= 32:\n",
    "        return 'silver'\n",
    "    else:\n",
    "        return 'bronze'"
   ]
  },
  {
   "cell_type": "code",
   "execution_count": 204,
   "id": "a8fab8e0",
   "metadata": {},
   "outputs": [
    {
     "data": {
      "text/plain": [
       "'diamond'"
      ]
     },
     "execution_count": 204,
     "metadata": {},
     "output_type": "execute_result"
    }
   ],
   "source": [
    "get_tier('Brazil')"
   ]
  },
  {
   "cell_type": "code",
   "execution_count": 205,
   "id": "dc306713",
   "metadata": {},
   "outputs": [],
   "source": [
    "def get_neutral(home_team, away_team):\n",
    "    \"\"\"this function returns if the game is neutral\n",
    "\n",
    "    Arguments:\n",
    "        home_team {str} -- home team\n",
    "        away_team {str} -- away team\n",
    "\n",
    "    Returns:\n",
    "        bool -- Yes or No the game is neutral\n",
    "    \"\"\"\n",
    "    if home_team==\"Qatar\":\n",
    "        return False\n",
    "    elif away_team==\"Qatar\":\n",
    "        return False\n",
    "    else:\n",
    "        return True\n",
    "\n",
    "#--------------------------------------------------------------------------------------------\n",
    "\n",
    "\n",
    "def get_confederation(team):\n",
    "    \"\"\"the confederation of the team\n",
    "\n",
    "    Arguments:\n",
    "        team {str} -- The team\n",
    "\n",
    "    Returns:\n",
    "        str -- Confederation of the team\n",
    "    \"\"\"\n",
    "    conf = fr.loc[fr.country_full==team, 'confederation'].unique()[0]\n",
    "    return conf\n",
    "\n",
    "\n",
    "\n",
    "#-------------------------------------------------------------------------------------------\n",
    "\n",
    "\n",
    "\n",
    "def get_tier(team):\n",
    "    \"\"\"_ the tier of the team\n",
    "\n",
    "    Args:\n",
    "        team (str): the team\n",
    "\n",
    "    Returns:\n",
    "        str: tier of the team\n",
    "    \"\"\"\n",
    "    r = fr.loc[(fr.country_full==team) & (fr.year==\"2022\") & (fr.month==\"08\"), 'rank'].iloc[0]\n",
    "    if r <= 8:\n",
    "        return 'diamond'\n",
    "    elif r <= 16:\n",
    "        return 'gold'\n",
    "    elif r <= 32:\n",
    "        return 'silver'\n",
    "    else:\n",
    "        return 'bronze'\n",
    "    \n",
    "    \n",
    "    \n",
    "#--------------------------------------------------------------------------------------------\n",
    "\n",
    "\n",
    "def marginal_effect(home_team, away_team):\n",
    "    \"\"\"_ marginal effect\n",
    "\n",
    "    Args:\n",
    "        home_team (str): home team\n",
    "        away_team (str): away team\n",
    "    Returns:\n",
    "        float: marginal effect \n",
    "    \"\"\"\n",
    "    home_points = fr.loc[(fr.country_full==home_team) & (fr.year==\"2022\") & (fr.month==\"08\"), 'total_points'].iloc[0]\n",
    "    away_points = fr.loc[(fr.country_full==away_team) & (fr.year==\"2022\") & (fr.month==\"08\"), 'total_points'].iloc[0]\n",
    "    \n",
    "    return (home_points - away_points) / away_points\n",
    "\n",
    "\n",
    "#--------------------------------------------------------------------------------------------\n",
    "\n",
    "\n",
    "\n",
    "def effect_tier(home_team, away_team):\n",
    "    \n",
    "    \"\"\"based on marginal_effect we classify teams _very__high, high, medium, low_\n",
    "\n",
    "        Arguments:\n",
    "            home_team {str} -- The home team\n",
    "            away_team {str} -- The away team\n",
    "\n",
    "        Returns:\n",
    "            str -- effect tier \"low\" or \"medium\" or \"high\" or \"very high\"\n",
    "        \"\"\"\n",
    "\n",
    "    marginal_eff = marginal_effect(home_team, away_team)\n",
    "\n",
    "    if marginal_eff < -0.37:\n",
    "        return 'low'\n",
    "    elif marginal_eff >=-0.37 and marginal_eff < -0.20:\n",
    "        return 'medium'\n",
    "    elif marginal_eff >=-0.20 and marginal_eff < -0.25:\n",
    "        return 'high'\n",
    "    else:\n",
    "        return 'very_high'\n",
    "\n",
    "\n",
    "def get_match(home_team, away_team, predictors, xcols):\n",
    "    #home_team\n",
    "    #away_team\n",
    "\n",
    "    neutral = get_neutral(home_team, away_team)\n",
    "    confederation = get_confederation(home_team)\n",
    "    confederation__away = get_confederation(away_team)\n",
    "    home_tier = get_tier(home_team)\n",
    "    away_tier = get_tier(away_team)\n",
    "    marginal_effect_ = marginal_effect(home_team, away_team)\n",
    "    effect_tier_ = effect_tier(home_team, away_team)\n",
    "    match_importance=1\n",
    "\n",
    "    match = [home_team, away_team, neutral, confederation, confederation__away, home_tier, away_tier, marginal_effect_, effect_tier_,match_importance]\n",
    "    d_match = pd.DataFrame([match], columns=predictors)\n",
    "\n",
    "    x_match = pd.get_dummies(d_match)\n",
    "\n",
    "    for col in xcols:\n",
    "        if col not in x_match:\n",
    "            x_match[col] = 0\n",
    "\n",
    "    return x_match[xcols]\n",
    "\n"
   ]
  },
  {
   "cell_type": "code",
   "execution_count": 206,
   "id": "f6f9520e",
   "metadata": {},
   "outputs": [],
   "source": [
    "X_ = pd.get_dummies(data[predictors])"
   ]
  },
  {
   "cell_type": "code",
   "execution_count": 207,
   "id": "29967ec1",
   "metadata": {},
   "outputs": [
    {
     "data": {
      "text/plain": [
       "['home_team',\n",
       " 'away_team',\n",
       " 'neutral',\n",
       " 'confederation',\n",
       " 'confederation__away',\n",
       " 'home_tier',\n",
       " 'away_tier',\n",
       " 'marginal_effect',\n",
       " 'effect_tier',\n",
       " 'match_importance']"
      ]
     },
     "execution_count": 207,
     "metadata": {},
     "output_type": "execute_result"
    }
   ],
   "source": [
    "predictors"
   ]
  },
  {
   "cell_type": "code",
   "execution_count": 208,
   "id": "cf09aaa3",
   "metadata": {},
   "outputs": [],
   "source": [
    "match=get_match('Morocco', 'Brazil', predictors, X.columns)"
   ]
  },
  {
   "cell_type": "code",
   "execution_count": 209,
   "id": "8fbb706c",
   "metadata": {},
   "outputs": [
    {
     "data": {
      "text/html": [
       "<div>\n",
       "<style scoped>\n",
       "    .dataframe tbody tr th:only-of-type {\n",
       "        vertical-align: middle;\n",
       "    }\n",
       "\n",
       "    .dataframe tbody tr th {\n",
       "        vertical-align: top;\n",
       "    }\n",
       "\n",
       "    .dataframe thead th {\n",
       "        text-align: right;\n",
       "    }\n",
       "</style>\n",
       "<table border=\"1\" class=\"dataframe\">\n",
       "  <thead>\n",
       "    <tr style=\"text-align: right;\">\n",
       "      <th></th>\n",
       "      <th>neutral</th>\n",
       "      <th>marginal_effect</th>\n",
       "      <th>match_importance</th>\n",
       "      <th>home_team_Afghanistan</th>\n",
       "      <th>home_team_Albania</th>\n",
       "      <th>home_team_Algeria</th>\n",
       "      <th>home_team_American Samoa</th>\n",
       "      <th>home_team_Andorra</th>\n",
       "      <th>home_team_Angola</th>\n",
       "      <th>home_team_Anguilla</th>\n",
       "      <th>...</th>\n",
       "      <th>home_tier_gold</th>\n",
       "      <th>home_tier_silver</th>\n",
       "      <th>away_tier_bronze</th>\n",
       "      <th>away_tier_diamond</th>\n",
       "      <th>away_tier_gold</th>\n",
       "      <th>away_tier_silver</th>\n",
       "      <th>effect_tier_high</th>\n",
       "      <th>effect_tier_low</th>\n",
       "      <th>effect_tier_medium</th>\n",
       "      <th>effect_tier_very_high</th>\n",
       "    </tr>\n",
       "  </thead>\n",
       "  <tbody>\n",
       "    <tr>\n",
       "      <th>0</th>\n",
       "      <td>True</td>\n",
       "      <td>-0.151946</td>\n",
       "      <td>1</td>\n",
       "      <td>0</td>\n",
       "      <td>0</td>\n",
       "      <td>0</td>\n",
       "      <td>0</td>\n",
       "      <td>0</td>\n",
       "      <td>0</td>\n",
       "      <td>0</td>\n",
       "      <td>...</td>\n",
       "      <td>0</td>\n",
       "      <td>1</td>\n",
       "      <td>0</td>\n",
       "      <td>1</td>\n",
       "      <td>0</td>\n",
       "      <td>0</td>\n",
       "      <td>0</td>\n",
       "      <td>0</td>\n",
       "      <td>0</td>\n",
       "      <td>1</td>\n",
       "    </tr>\n",
       "  </tbody>\n",
       "</table>\n",
       "<p>1 rows × 411 columns</p>\n",
       "</div>"
      ],
      "text/plain": [
       "   neutral  marginal_effect  match_importance  home_team_Afghanistan  \\\n",
       "0     True        -0.151946                 1                      0   \n",
       "\n",
       "   home_team_Albania  home_team_Algeria  home_team_American Samoa  \\\n",
       "0                  0                  0                         0   \n",
       "\n",
       "   home_team_Andorra  home_team_Angola  home_team_Anguilla  ...  \\\n",
       "0                  0                 0                   0  ...   \n",
       "\n",
       "   home_tier_gold  home_tier_silver  away_tier_bronze  away_tier_diamond  \\\n",
       "0               0                 1                 0                  1   \n",
       "\n",
       "   away_tier_gold  away_tier_silver  effect_tier_high  effect_tier_low  \\\n",
       "0               0                 0                 0                0   \n",
       "\n",
       "   effect_tier_medium  effect_tier_very_high  \n",
       "0                   0                      1  \n",
       "\n",
       "[1 rows x 411 columns]"
      ]
     },
     "execution_count": 209,
     "metadata": {},
     "output_type": "execute_result"
    }
   ],
   "source": [
    "match"
   ]
  },
  {
   "cell_type": "code",
   "execution_count": 210,
   "id": "c4f8c3f6",
   "metadata": {},
   "outputs": [
    {
     "data": {
      "text/plain": [
       "array(['home_lose'], dtype=object)"
      ]
     },
     "execution_count": 210,
     "metadata": {},
     "output_type": "execute_result"
    }
   ],
   "source": [
    "clf.best_estimator_.predict(match)"
   ]
  },
  {
   "cell_type": "code",
   "execution_count": 211,
   "id": "26d8db65",
   "metadata": {},
   "outputs": [
    {
     "data": {
      "text/plain": [
       "['MetaModelFifa_predictors.mdl']"
      ]
     },
     "execution_count": 211,
     "metadata": {},
     "output_type": "execute_result"
    }
   ],
   "source": [
    "predictors = ['home_team', 'away_team', 'neutral', 'confederation', 'confederation__away'\n",
    "              , 'home_tier', 'away_tier', 'marginal_effect', 'effect_tier', 'match_importance']\n",
    "\n",
    "meta_model = {\n",
    "    'name' : 'Machine Learning model to predict FIFA World Cup 2022',\n",
    "    'authors' : 'Team ODC Sep 2022 : @Karim @Salh @OMAR ...',\n",
    "    'date' : '23/09/2022',\n",
    "    'model' : clf.best_estimator_,\n",
    "    'predictors' : predictors,\n",
    "    'xcols' : X.columns\n",
    "}\n",
    "joblib.dump(meta_model, 'MetaModelFifa_predictors.mdl')\n"
   ]
  },
  {
   "cell_type": "code",
   "execution_count": 212,
   "id": "77507ff3",
   "metadata": {},
   "outputs": [],
   "source": [
    "meta = joblib.load('MetaModelFifa_predictors.mdl')"
   ]
  },
  {
   "cell_type": "code",
   "execution_count": 213,
   "id": "5f2a78bf",
   "metadata": {},
   "outputs": [
    {
     "name": "stdout",
     "output_type": "stream",
     "text": [
      "411\n"
     ]
    }
   ],
   "source": [
    "print(len(X.columns))"
   ]
  },
  {
   "cell_type": "code",
   "execution_count": 214,
   "id": "b94f0a15",
   "metadata": {},
   "outputs": [
    {
     "data": {
      "text/plain": [
       "'home_lose'"
      ]
     },
     "execution_count": 214,
     "metadata": {},
     "output_type": "execute_result"
    }
   ],
   "source": [
    "meta['model'].predict(match)[0]"
   ]
  },
  {
   "cell_type": "code",
   "execution_count": 215,
   "id": "5b4d64f5",
   "metadata": {},
   "outputs": [
    {
     "data": {
      "text/plain": [
       "neutral                     False\n",
       "marginal_effect          0.272727\n",
       "match_importance         0.023518\n",
       "home_team_Afghanistan           0\n",
       "home_team_Albania               0\n",
       "                           ...   \n",
       "away_tier_silver                0\n",
       "effect_tier_high                0\n",
       "effect_tier_low                 0\n",
       "effect_tier_medium              0\n",
       "effect_tier_very_high           1\n",
       "Name: 0, Length: 411, dtype: object"
      ]
     },
     "execution_count": 215,
     "metadata": {},
     "output_type": "execute_result"
    }
   ],
   "source": [
    "X.iloc[0]"
   ]
  },
  {
   "cell_type": "code",
   "execution_count": null,
   "id": "ffb21b5a",
   "metadata": {},
   "outputs": [],
   "source": []
  },
  {
   "cell_type": "code",
   "execution_count": 216,
   "id": "a6a2d495",
   "metadata": {},
   "outputs": [
    {
     "name": "stdout",
     "output_type": "stream",
     "text": [
      "home_team_Curaçao\n",
      "home_team_Gibraltar\n",
      "home_team_Kosovo\n",
      "home_team_North Macedonia\n",
      "home_team_São Tomé and Príncipe\n",
      "away_team_Curaçao\n",
      "away_team_Gibraltar\n",
      "away_team_Kosovo\n",
      "away_team_North Macedonia\n",
      "away_team_São Tomé and Príncipe\n"
     ]
    }
   ],
   "source": [
    "for i in X_.columns:\n",
    "    if i not in X.columns:\n",
    "        print(i)"
   ]
  },
  {
   "cell_type": "code",
   "execution_count": 217,
   "id": "7f767a88",
   "metadata": {},
   "outputs": [],
   "source": [
    "l=[]\n",
    "for i in list(fr['country_full'].unique()):\n",
    "    c=0\n",
    "    for j in X.columns:\n",
    "        if i in j:\n",
    "          if c!=1:  \n",
    "            l.append(i)\n",
    "            c=1"
   ]
  },
  {
   "cell_type": "code",
   "execution_count": 218,
   "id": "419bc960",
   "metadata": {},
   "outputs": [],
   "source": [
    "l.sort()"
   ]
  },
  {
   "cell_type": "code",
   "execution_count": 219,
   "id": "ac80d71a",
   "metadata": {},
   "outputs": [
    {
     "data": {
      "text/plain": [
       "['MetaModelFifa_predictors.mdl']"
      ]
     },
     "execution_count": 219,
     "metadata": {},
     "output_type": "execute_result"
    }
   ],
   "source": [
    "meta_model = {\n",
    "    'name' : 'Machine Learning model to predict FIFA World Cup 2022',\n",
    "    'authors' : 'Team ODC Sep 2022 : @Karim @Salh @OMAR ...',\n",
    "    'date' : '23/09/2022',\n",
    "    'model' : clf.best_estimator_,\n",
    "    'predictors' : predictors,\n",
    "    'xcols' : X.columns,\n",
    "    'country':l\n",
    "}\n",
    "joblib.dump(meta_model, 'MetaModelFifa_predictors.mdl')\n"
   ]
  },
  {
   "cell_type": "code",
   "execution_count": null,
   "id": "39580a65",
   "metadata": {},
   "outputs": [],
   "source": []
  },
  {
   "cell_type": "code",
   "execution_count": 220,
   "id": "62a004b0",
   "metadata": {},
   "outputs": [
    {
     "data": {
      "text/plain": [
       "array([[0.28484955, 0.24900362, 0.4661469 ]], dtype=float32)"
      ]
     },
     "execution_count": 220,
     "metadata": {},
     "output_type": "execute_result"
    }
   ],
   "source": [
    "meta['model'].predict_proba(get_match('Brazil','Morocco',predictors,X.columns))"
   ]
  },
  {
   "cell_type": "code",
   "execution_count": 221,
   "id": "16a85b73",
   "metadata": {},
   "outputs": [
    {
     "data": {
      "text/plain": [
       "array(['home_win'], dtype=object)"
      ]
     },
     "execution_count": 221,
     "metadata": {},
     "output_type": "execute_result"
    }
   ],
   "source": [
    "meta['model'].predict(get_match('Brazil','Morocco',predictors,X.columns))"
   ]
  },
  {
   "cell_type": "code",
   "execution_count": 222,
   "id": "aaad028a",
   "metadata": {},
   "outputs": [
    {
     "data": {
      "text/plain": [
       "array([[0.3152904 , 0.34972337, 0.33498627]], dtype=float32)"
      ]
     },
     "execution_count": 222,
     "metadata": {},
     "output_type": "execute_result"
    }
   ],
   "source": [
    "meta['model'].predict_proba(get_match('Morocco','Brazil',predictors,X.columns))"
   ]
  },
  {
   "cell_type": "code",
   "execution_count": 223,
   "id": "784a7b8d",
   "metadata": {},
   "outputs": [],
   "source": [
    "def get_match_proba(home_team,away_team,model,predictors,xcols):\n",
    "    pred={\n",
    "        'draw':None,\n",
    "        home_team:None,\n",
    "        away_team:None\n",
    "    }\n",
    "    pred1=model.predict_proba(get_match(home_team,away_team,predictors,xcols))\n",
    "    pred2=model.predict_proba(get_match(away_team,home_team,predictors,xcols))\n",
    "    pred['draw']=(pred1[0][0]+pred2[0][0])/2\n",
    "    pred[home_team]=(pred1[0][2]+pred2[0][1])/2\n",
    "    pred[away_team]=(pred1[0][1]+pred2[0][2])/2\n",
    "    return pred\n",
    "    \n",
    "def get_winner(home_team,away_team,model,predictors,xcols):\n",
    "    dict=get_match_proba(home_team,away_team,model,predictors,xcols)\n",
    "    max_prob=0\n",
    "    for key,value in zip(dict.keys(),dict.values()):\n",
    "        if(value>max_prob):\n",
    "            win=key\n",
    "            max_prob=value\n",
    "    return win\n",
    "\n"
   ]
  },
  {
   "cell_type": "code",
   "execution_count": 224,
   "id": "f65c43e8",
   "metadata": {},
   "outputs": [
    {
     "data": {
      "text/plain": [
       "array([[0.3152904 , 0.34972337, 0.33498627]], dtype=float32)"
      ]
     },
     "execution_count": 224,
     "metadata": {},
     "output_type": "execute_result"
    }
   ],
   "source": [
    "meta['model'].predict_proba(get_match('Morocco','Brazil',predictors,X.columns))"
   ]
  },
  {
   "cell_type": "code",
   "execution_count": 225,
   "id": "11b624cc",
   "metadata": {},
   "outputs": [
    {
     "data": {
      "text/plain": [
       "array([[0.28484955, 0.24900362, 0.4661469 ]], dtype=float32)"
      ]
     },
     "execution_count": 225,
     "metadata": {},
     "output_type": "execute_result"
    }
   ],
   "source": [
    "meta['model'].predict_proba(get_match('Brazil','Morocco',predictors,X.columns))"
   ]
  },
  {
   "cell_type": "code",
   "execution_count": 226,
   "id": "83c0d3e2",
   "metadata": {},
   "outputs": [
    {
     "data": {
      "text/plain": [
       "{'draw': 0.2562130093574524,\n",
       " 'Uganda': 0.31174492835998535,\n",
       " 'Germany': 0.43204206228256226}"
      ]
     },
     "execution_count": 226,
     "metadata": {},
     "output_type": "execute_result"
    }
   ],
   "source": [
    "get_match_proba('Uganda','Germany',meta['model'],predictors,X.columns)\n"
   ]
  },
  {
   "cell_type": "code",
   "execution_count": 227,
   "id": "22d70f90",
   "metadata": {},
   "outputs": [
    {
     "data": {
      "text/plain": [
       "'France'"
      ]
     },
     "execution_count": 227,
     "metadata": {},
     "output_type": "execute_result"
    }
   ],
   "source": [
    "get_winner('France','Brazil',meta['model'],predictors,X.columns)"
   ]
  },
  {
   "cell_type": "code",
   "execution_count": 228,
   "id": "5731b6bd",
   "metadata": {},
   "outputs": [
    {
     "data": {
      "text/plain": [
       "{'draw': 0.30006998777389526,\n",
       " 'Morocco': 0.29199492931365967,\n",
       " 'Brazil': 0.40793514251708984}"
      ]
     },
     "execution_count": 228,
     "metadata": {},
     "output_type": "execute_result"
    }
   ],
   "source": [
    "get_match_proba('Morocco','Brazil',meta['model'],predictors,X.columns)\n"
   ]
  },
  {
   "cell_type": "code",
   "execution_count": 229,
   "id": "8386a73f",
   "metadata": {},
   "outputs": [],
   "source": [
    "# https://www.kaggle.com/code/stpeteishii/qatar-2022-football-world-cup-schedule/data\n",
    "\n",
    "teams = pd.read_csv('D:/projet/ODC-World-Cup-2022-Predictions/data/Qatar2022-teams.csv',sep=';')\n"
   ]
  },
  {
   "cell_type": "code",
   "execution_count": 230,
   "id": "2f4b62a2",
   "metadata": {},
   "outputs": [
    {
     "data": {
      "text/plain": [
       "['MetaModelFifa_predictors.mdl']"
      ]
     },
     "execution_count": 230,
     "metadata": {},
     "output_type": "execute_result"
    }
   ],
   "source": [
    "meta_model = {\n",
    "    'name' : 'Machine Learning model to predict FIFA World Cup 2022',\n",
    "    'authors' : 'Team ODC Sep 2022 : @Karim @Salh @OMAR ...',\n",
    "    'date' : '23/09/2022',\n",
    "    'model' : clf.best_estimator_,\n",
    "    'predictors' : predictors,\n",
    "    'xcols' : X.columns,\n",
    "    'country':list(teams['Team'])\n",
    "}\n",
    "joblib.dump(meta_model, 'MetaModelFifa_predictors.mdl')\n"
   ]
  }
 ],
 "metadata": {
  "kernelspec": {
   "display_name": "Python 3 (ipykernel)",
   "language": "python",
   "name": "python3"
  },
  "language_info": {
   "codemirror_mode": {
    "name": "ipython",
    "version": 3
   },
   "file_extension": ".py",
   "mimetype": "text/x-python",
   "name": "python",
   "nbconvert_exporter": "python",
   "pygments_lexer": "ipython3",
   "version": "3.9.7"
  },
  "vscode": {
   "interpreter": {
    "hash": "33c99ce92ae57a37c90157b7c35934b668ba43f0729fdf7df53b30c6721ba8f2"
   }
  }
 },
 "nbformat": 4,
 "nbformat_minor": 5
}
