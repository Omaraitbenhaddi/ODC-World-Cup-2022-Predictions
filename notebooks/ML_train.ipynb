{
 "cells": [
  {
   "cell_type": "code",
   "execution_count": 43,
   "id": "b5a34cf3",
   "metadata": {},
   "outputs": [],
   "source": [
    "import numpy as np\n",
    "import pandas as pd\n",
    "\n",
    "\n",
    "pd.set_option(\"display.max_columns\", None)\n",
    "\n",
    "import xgboost as xgb\n",
    "\n",
    "import joblib\n",
    "\n",
    "import warnings\n",
    "warnings.filterwarnings('ignore')"
   ]
  },
  {
   "cell_type": "code",
   "execution_count": 4,
   "id": "53a690e6",
   "metadata": {},
   "outputs": [],
   "source": [
    "df = pd.read_csv('../data/results.csv')\n",
    "fr = pd.read_csv('../data/fifa_ranking.csv')"
   ]
  },
  {
   "cell_type": "code",
   "execution_count": 10,
   "id": "c0818189",
   "metadata": {},
   "outputs": [],
   "source": [
    "country_sys = {\n",
    "    'Cape Verde' : 'Cabo Verde',\n",
    "    'DR Congo' : 'Congo DR',\n",
    "    'Kyrgyzstan' : 'Kyrgyz Republic',\n",
    "    'Ivory Coast' : \"Côte d'Ivoire\",\n",
    "    'Iran' : 'IR Iran',\n",
    "    'United States' : 'USA',\n",
    "    'Turkey' : 'Türkiye',\n",
    "    'South Korea' : 'Korea Republic',\n",
    "    'Saint Vincent and the Grenadines' : 'St. Vincent and the Grenadines',\n",
    "    'Saint Lucia' : 'St. Lucia',\n",
    "    'United States Virgin Islands':'US Virgin Islands',\n",
    "    'Brunei' : 'Brunei Darussalam',\n",
    "    'North Korea' : 'Korea DPR',\n",
    "    'Saint Kitts and Nevis' : 'St. Kitts and Nevis'\n",
    "}"
   ]
  },
  {
   "cell_type": "code",
   "execution_count": 14,
   "id": "740d7897",
   "metadata": {},
   "outputs": [],
   "source": [
    "df['home_team'] = df['home_team'].replace(country_sys)\n",
    "df['away_team'] = df['away_team'].replace(country_sys)"
   ]
  },
  {
   "cell_type": "code",
   "execution_count": 17,
   "id": "240d415c",
   "metadata": {},
   "outputs": [],
   "source": [
    "df_dup = df.copy()\n",
    "\n",
    "df_dup['home_team'] = df['away_team']\n",
    "df_dup['away_team'] = df['home_team']\n",
    "df_dup['home_score'] = df['away_score']\n",
    "df_dup['away_score'] = df['home_score']"
   ]
  },
  {
   "cell_type": "code",
   "execution_count": 18,
   "id": "052399b5",
   "metadata": {},
   "outputs": [],
   "source": [
    "dt = pd.concat([df, df_dup])"
   ]
  },
  {
   "cell_type": "code",
   "execution_count": 20,
   "id": "637041cf",
   "metadata": {},
   "outputs": [],
   "source": [
    "dt['year'] = dt.apply(lambda x: x.date[:4], axis=1)\n",
    "dt['month'] = dt.apply(lambda x: x.date[5:7], axis=1)\n",
    "\n",
    "fr['year'] = fr.apply(lambda x: x.rank_date[:4], axis=1)\n",
    "fr['month'] = fr.apply(lambda x: x.rank_date[5:7], axis=1)"
   ]
  },
  {
   "cell_type": "code",
   "execution_count": 21,
   "id": "6cbabd0b",
   "metadata": {},
   "outputs": [],
   "source": [
    "data = dt.merge(fr, left_on=['home_team', 'year', 'month'], \n",
    "                right_on=['country_full', 'year', 'month'], \n",
    "               suffixes=('', '__home'))"
   ]
  },
  {
   "cell_type": "code",
   "execution_count": 22,
   "id": "64a99720",
   "metadata": {},
   "outputs": [],
   "source": [
    "data = data.merge(fr, left_on=['away_team', 'year', 'month'], \n",
    "                right_on=['country_full', 'year', 'month'], \n",
    "               suffixes=('', '__away'))"
   ]
  },
  {
   "cell_type": "code",
   "execution_count": 30,
   "id": "b857c097",
   "metadata": {},
   "outputs": [],
   "source": [
    "data['home_tier'] = ''\n",
    "data.loc[data['rank'] > 32, 'home_tier'] = 'bronze'\n",
    "data.loc[data['rank'] <= 32, 'home_tier'] = 'silver'\n",
    "data.loc[data['rank'] <= 16, 'home_tier'] = 'gold'\n",
    "data.loc[data['rank'] <= 8, 'home_tier'] = 'diamond'"
   ]
  },
  {
   "cell_type": "code",
   "execution_count": 31,
   "id": "8be4738e",
   "metadata": {},
   "outputs": [],
   "source": [
    "data['away_tier'] = ''\n",
    "data.loc[data['rank__away'] > 32, 'away_tier'] = 'bronze'\n",
    "data.loc[data['rank__away'] <= 32, 'away_tier'] = 'silver'\n",
    "data.loc[data['rank__away'] <= 16, 'away_tier'] = 'gold'\n",
    "data.loc[data['rank__away'] <= 8, 'away_tier'] = 'diamond'"
   ]
  },
  {
   "cell_type": "code",
   "execution_count": 32,
   "id": "7c3c43fa",
   "metadata": {},
   "outputs": [],
   "source": [
    "def winner(home_score, away_score):\n",
    "    if home_score > away_score:\n",
    "        return 'home_win'\n",
    "    elif home_score < away_score:\n",
    "        return 'home_lose'        \n",
    "    else:\n",
    "        return 'draw'\n",
    "    \n",
    "data['winner'] = data.apply(lambda x: winner(x.home_score, x.away_score), axis=1)"
   ]
  },
  {
   "cell_type": "code",
   "execution_count": 33,
   "id": "e905d722",
   "metadata": {},
   "outputs": [],
   "source": [
    "tournaments = ['Copa América', 'FIFA World Cup', 'FIFA World Cup qualification', 'International Cup'\n",
    "              , 'AFC Asian Cup qualification', 'AFC Asian Cup', 'African Cup of Nations'\n",
    "              , 'UEFA Euro qualification', 'UEFA Euro', 'African Cup of Nations qualification'\n",
    "              , 'CONCACAF Championship', 'CONCACAF Championship qualification' \n",
    "              , 'CONMEBOL–UEFA Cup of Champions', 'Confederations Cup'\n",
    "              , 'Oceania Nations Cup qualification','Copa América qualification'\n",
    "              , 'UEFA Nations League', 'CONCACAF Nations League qualification'\n",
    "              , 'CONCACAF Nations League','AFF Championship qualification']"
   ]
  },
  {
   "cell_type": "code",
   "execution_count": 35,
   "id": "0b9a8c2c",
   "metadata": {},
   "outputs": [],
   "source": [
    "data['marginal_effect'] = (data['total_points'] - data['total_points__away']) / data['total_points__away']"
   ]
  },
  {
   "cell_type": "code",
   "execution_count": 36,
   "id": "0f011549",
   "metadata": {},
   "outputs": [],
   "source": [
    "data['effect_tier'] = ''\n",
    "data.loc[data.marginal_effect < -.37, 'effect_tier'] = 'low'\n",
    "data.loc[data.marginal_effect >= -.37, 'effect_tier'] = 'medium'\n",
    "data.loc[data.marginal_effect >= -.20, 'effect_tier'] = 'high'\n",
    "data.loc[data.marginal_effect >= .25, 'effect_tier'] = 'very_high'"
   ]
  },
  {
   "cell_type": "code",
   "execution_count": 37,
   "id": "d5a8336a",
   "metadata": {},
   "outputs": [],
   "source": [
    "predictors_ = ['home_team',\n",
    " 'away_team',\n",
    " 'confederation',\n",
    " 'confederation__away',\n",
    " 'home_tier',\n",
    " 'away_tier',\n",
    " 'marginal_effect',\n",
    " 'effect_tier']"
   ]
  },
  {
   "cell_type": "code",
   "execution_count": 38,
   "id": "44749855",
   "metadata": {},
   "outputs": [],
   "source": [
    "data_ = data.loc[data.tournament.isin(tournaments), ]\n",
    "X_ = pd.get_dummies(data_[predictors_])\n",
    "y_ = data_['winner']"
   ]
  },
  {
   "cell_type": "code",
   "execution_count": 39,
   "id": "3d14d6ea",
   "metadata": {},
   "outputs": [
    {
     "data": {
      "text/plain": [
       "XGBClassifier(base_score=0.5, booster='gbtree', colsample_bylevel=1,\n",
       "              colsample_bynode=1, colsample_bytree=0.9, gamma=0, gpu_id=-1,\n",
       "              importance_type='gain', interaction_constraints='',\n",
       "              learning_rate=0.300000012, max_delta_step=0, max_depth=6,\n",
       "              min_child_weight=1, missing=nan, monotone_constraints='()',\n",
       "              n_estimators=150, n_jobs=0, num_parallel_tree=1,\n",
       "              objective='multi:softprob', random_state=0, reg_alpha=0,\n",
       "              reg_lambda=1, scale_pos_weight=None, subsample=0.6,\n",
       "              tree_method='exact', validate_parameters=1, verbosity=None)"
      ]
     },
     "execution_count": 39,
     "metadata": {},
     "output_type": "execute_result"
    }
   ],
   "source": [
    "model = xgb.XGBClassifier(n_estimators=150, max_depth=6, colsample_bytree=.9, subsample=.6)\n",
    "\n",
    "model.fit(X_, y_)"
   ]
  },
  {
   "cell_type": "code",
   "execution_count": 44,
   "id": "91067e0e",
   "metadata": {},
   "outputs": [
    {
     "data": {
      "text/plain": [
       "['../models/meta_ODC_FIFA2022__prod.odc']"
      ]
     },
     "execution_count": 44,
     "metadata": {},
     "output_type": "execute_result"
    }
   ],
   "source": [
    "meta_model = {\n",
    "    'name' : 'Machine Learning model to predict FIFA World Cup 2022',\n",
    "    'authors' : 'Data Science ML ODC Sep 2022 : Promo',\n",
    "    'date' : '23/09/2022',\n",
    "    'model' : model,\n",
    "    'predictors' : predictors_,\n",
    "    'xcols' : X_.columns\n",
    "}\n",
    "\n",
    "joblib.dump(meta_model, '../models/meta_ODC_FIFA2022__prod.odc')"
   ]
  }
 ],
 "metadata": {
  "kernelspec": {
   "display_name": "vpmain",
   "language": "python",
   "name": "vpmain"
  },
  "language_info": {
   "codemirror_mode": {
    "name": "ipython",
    "version": 3
   },
   "file_extension": ".py",
   "mimetype": "text/x-python",
   "name": "python",
   "nbconvert_exporter": "python",
   "pygments_lexer": "ipython3",
   "version": "3.8.3"
  }
 },
 "nbformat": 4,
 "nbformat_minor": 5
}
